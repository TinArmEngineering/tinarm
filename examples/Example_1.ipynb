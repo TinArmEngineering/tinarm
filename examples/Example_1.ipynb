{
 "cells": [
  {
   "cell_type": "code",
   "execution_count": null,
   "metadata": {},
   "outputs": [],
   "source": [
    "!pip install -r requirements.txt\n",
    "!pip uninstall -y tinarm\n",
    "!pip install -e ../."
   ]
  },
  {
   "cell_type": "code",
   "execution_count": 1,
   "metadata": {},
   "outputs": [],
   "source": [
    "import matplotlib.pyplot as plt\n",
    "import pint\n",
    "# from tinarm import NameQuantityPair\n",
    "# from tinarm import Quantity \n",
    "from tinarm import Job\n",
    "from tinarm import Machine\n",
    "from tinarm.api import JOB_STATUS\n",
    "from tinarm import Api\n",
    "\n",
    "import logging\n",
    "import time\n",
    "import requests\n",
    "import uuid\n",
    "import random\n",
    "import yaml\n",
    "import pandas as pd\n",
    "import pint_pandas\n",
    "import numpy as np\n"
   ]
  },
  {
   "cell_type": "code",
   "execution_count": 2,
   "metadata": {},
   "outputs": [],
   "source": [
    "\n",
    "LOGGING_LEVEL = logging.INFO\n",
    "STATUS_JOB = {value:key for key,value in JOB_STATUS.items()}"
   ]
  },
  {
   "cell_type": "code",
   "execution_count": 3,
   "metadata": {},
   "outputs": [
    {
     "name": "stdout",
     "output_type": "stream",
     "text": [
      "2024-03-20 12:27:29,993 - NoJobId - INFO - Martins-MacBook-Air.local - 138153749.py-><module>() - pint_pandas version 0.5\n"
     ]
    }
   ],
   "source": [
    "\n",
    "### Configure Logging\n",
    "logger = logging.getLogger()\n",
    "logger.setLevel(LOGGING_LEVEL)\n",
    "#logger.info(f\"tinarm version {tinarm.__version__}\")\n",
    "logger.info(f\"pint_pandas version {pint_pandas.__version__}\")\n",
    "\n",
    "q = pint_pandas.PintType.ureg\n",
    "q.setup_matplotlib()"
   ]
  },
  {
   "cell_type": "markdown",
   "metadata": {},
   "source": [
    "Log in to Tin Arm Engineering's machine solver, and under profile, retrieve your API key. \n",
    "Do not commit your API key to a repository, and consider it like a password.  A good way to keep it out of this code base is to use a configuation file, or environment variable. We will want other things cofigured too, so let's use a yaml file for convenience. \n",
    "\n",
    "create a `configurations.yaml` file in this directory with the content.\n",
    "```yaml\n",
    "api_key: 668952058c490d0a296da0abb966****\n",
    "root_url: http://server-go:4300\n",
    "```\n",
    "But of course replace the number with your api key\n",
    "\n",
    "You can then add that file to your `.gitignore` file by executing ```echo 'configurations.yaml' >> .gitignore```"
   ]
  },
  {
   "cell_type": "markdown",
   "metadata": {},
   "source": [
    "```\n",
    "!echo 'configurations.yaml' >> .gitignore\n",
    "```"
   ]
  },
  {
   "cell_type": "code",
   "execution_count": 4,
   "metadata": {},
   "outputs": [],
   "source": [
    "with open(\"configurations.yaml\", \"r\") as f:\n",
    "    config = yaml.safe_load(f)"
   ]
  },
  {
   "cell_type": "markdown",
   "metadata": {},
   "source": [
    "# Stator"
   ]
  },
  {
   "cell_type": "code",
   "execution_count": 5,
   "metadata": {},
   "outputs": [],
   "source": [
    "stator_parameters = {\n",
    "    \"slot_liner_thikness\": 300 * q.um,\n",
    "    \"stator_bore\": 8.20 * q.cm,\n",
    "    \"tooth_tip_depth\": 1.0 * q.mm,\n",
    "    \"slot_opening\": 1.5 * q.mm,\n",
    "    \"tooth_width\": 9.8 * q.mm,\n",
    "    \"stator_outer_diameter\": 0.136 * q.m,\n",
    "    \"back_iron_thickness\": 5.5 * q.mm,\n",
    "    \"stator_internal_radius\": 500 * q.um,\n",
    "    \"number_slots\": 12 * q.count,\n",
    "    \"tooth_tip_angle\": 70 * q.degrees\n",
    "    }\n",
    "\n",
    "air_gap_length = 1 * q.mm"
   ]
  },
  {
   "cell_type": "markdown",
   "metadata": {},
   "source": [
    "## Rotor\n",
    "Surface mounted Breadloaf magnets"
   ]
  },
  {
   "cell_type": "code",
   "execution_count": null,
   "metadata": {},
   "outputs": [],
   "source": [
    "rotor_parameters = {\n",
    "    \"rotor_od\": stator_parameters[\"stator_bore\"] - 2 * air_gap_length,\n",
    "    \"rotor_bore\": 40 * q.mm,\n",
    "    \"banding_thickness\": 0.5 * q.mm,\n",
    "    \"number_poles\": 10 * q.count,\n",
    "    \"magnet_thickness\": 4.5 * q.millimeter,\n",
    "    \"magnet_pole_arc\": 150 * q.degrees,\n",
    "    \"magnet_inset\": 0.25 * q.millimeter\n",
    "    }"
   ]
  },
  {
   "cell_type": "markdown",
   "metadata": {},
   "source": [
    "## Simulation Parameters"
   ]
  },
  {
   "cell_type": "code",
   "execution_count": null,
   "metadata": {},
   "outputs": [],
   "source": [
    "simulation_parameters = {\n",
    "       \"samples_per_electrical_period\": 180 * q.count/q.turn,\n",
    "        \"timestep_intervals\": 180 * q.count,\n",
    "        \"active_length\": 65 * q.mm * 0.97}\n"
   ]
  },
  {
   "cell_type": "code",
   "execution_count": null,
   "metadata": {},
   "outputs": [],
   "source": [
    "winding_parameters = {\n",
    "    \"symmetry\": 2 * q.count,\n",
    "    \"number_phases\": 3 * q.count,\n",
    "    \"number_layers\": 2 * q.count,\n",
    "    \"coil_span\": 1 * q.count,\n",
    "    \"turns_per_coil\": 43 * q.count,\n",
    "    \"empty_slots\": 0 * q.count,\n",
    "    \"fill_factor\": 42 * q.percent\n",
    "    }"
   ]
  },
  {
   "cell_type": "markdown",
   "metadata": {},
   "source": [
    "## Operating Point"
   ]
  },
  {
   "cell_type": "code",
   "execution_count": null,
   "metadata": {},
   "outputs": [],
   "source": [
    "op_open_cct = {\n",
    "    \"simulated_speed\": 2060 * q.rpm,\n",
    "    \"current_density\": 0 * q.A / q.mm ** 2,\n",
    "    \"current_angle\": 0 * q.degrees\n",
    "    }\n",
    "\n",
    "op_nominal = {\n",
    "    'current_density': 6.23 * q.A * q.mm**-2,\n",
    "    'current_angle': 255 * q.degrees,\n",
    "    \"simulated_speed\": 2060 * q.rpm\n",
    "    }"
   ]
  },
  {
   "cell_type": "code",
   "execution_count": null,
   "metadata": {},
   "outputs": [],
   "source": [
    "api = Api(config[\"root_url\"], config[\"api_key\"], config[\"org_id\"])"
   ]
  },
  {
   "cell_type": "code",
   "execution_count": null,
   "metadata": {},
   "outputs": [],
   "source": [
    "m1 = Machine(stator_parameters, rotor_parameters, winding_parameters)\n",
    "\n",
    "j1 = Job(m1, op_open_cct, simulation_parameters)\n",
    "j1_result = api.create_job(j1)\n",
    "\n"
   ]
  },
  {
   "cell_type": "code",
   "execution_count": null,
   "metadata": {},
   "outputs": [],
   "source": [
    "\n",
    "j2 = Job(m1, op_nominal, simulation_parameters)\n",
    "j2_result = api.create_job(j2)"
   ]
  },
  {
   "cell_type": "code",
   "execution_count": null,
   "metadata": {},
   "outputs": [],
   "source": [
    "assert j1.id != j2.id\n"
   ]
  },
  {
   "cell_type": "code",
   "execution_count": null,
   "metadata": {},
   "outputs": [],
   "source": [
    "j1_result = api.update_job_status(j1.id, JOB_STATUS['QueuedForMeshing'])\n",
    "j2_result = api.update_job_status(j2.id, JOB_STATUS['QueuedForMeshing'])\n",
    "\n",
    "while STATUS_JOB[api.get_job(j1.id)['status']] != 'Complete' or STATUS_JOB[api.get_job(j2.id)['status']] != 'Complete':\n",
    "    print(\"job 1 {0} \\t job 2 {1}\".format(STATUS_JOB[api.get_job(j1.id)['status']], STATUS_JOB[api.get_job(j2.id)['status']] ))\n",
    "    time.sleep(10)\n",
    "time.sleep(1)"
   ]
  },
  {
   "cell_type": "code",
   "execution_count": null,
   "metadata": {},
   "outputs": [],
   "source": [
    "j1_result = api.get_job(j1.id)\n",
    "for artifact in j1_result['artifacts']:\n",
    "    print(artifact['type'], artifact['url'], artifact['id'])"
   ]
  },
  {
   "cell_type": "code",
   "execution_count": null,
   "metadata": {},
   "outputs": [],
   "source": [
    "j1_result_data = [art for art in j1_result['artifacts'] if art['type']=='RESULT_DATA'][0]\n",
    "j1_df = pd.read_csv(j1_result_data['url'], header=[0, 1], index_col=[0, 1]).pint.quantify(level=-1)"
   ]
  },
  {
   "cell_type": "code",
   "execution_count": null,
   "metadata": {},
   "outputs": [],
   "source": [
    "!ls M1/Nominal_24Nm_2060rpm/BackEmf.csv"
   ]
  },
  {
   "cell_type": "code",
   "execution_count": null,
   "metadata": {},
   "outputs": [],
   "source": [
    "#load M1 results for the nominal operation point\n",
    "m1_op1_results = pd.read_csv(\"M1/Nominal_24Nm_2060rpm/BackEmf.csv\", header=[0, 1])\n",
    "\n"
   ]
  },
  {
   "cell_type": "code",
   "execution_count": null,
   "metadata": {},
   "outputs": [],
   "source": [
    "offset = np.pi - np.deg2rad(2.5)\n"
   ]
  },
  {
   "cell_type": "code",
   "execution_count": null,
   "metadata": {},
   "outputs": [],
   "source": [
    "np.rad2deg(j1_df['angles'])"
   ]
  },
  {
   "cell_type": "code",
   "execution_count": null,
   "metadata": {},
   "outputs": [],
   "source": [
    "fig = plt.figure()\n",
    "ax = fig.add_subplot(111)\n",
    "ax.plot(j1_df['angles'], j1_df['Back_EMF_0'], label='Back_EMF_0')\n",
    "ax.plot(j1_df['angles'], j1_df['Back_EMF_1'], label='Back_EMF_1')\n",
    "ax.plot(j1_df['angles'], j1_df['Back_EMF_2'], label='Back_EMF_2')\n",
    "ax.plot((np.deg2rad(m1_op1_results['EMFa']['X'])*5 + offset) % (2*np.pi), m1_op1_results['EMFa']['Y'], label='BackEMF_A')\n",
    "ax.plot((np.deg2rad(m1_op1_results['EMFb']['X'])*5 + offset) % (2*np.pi), m1_op1_results['EMFb']['Y'], label='BackEMF_B')\n",
    "ax.plot((np.deg2rad(m1_op1_results['EMFc']['X'])*5 + offset) % (2*np.pi), m1_op1_results['EMFc']['Y'], label='BackEMF_C')\n",
    "ax.legend()"
   ]
  },
  {
   "cell_type": "code",
   "execution_count": null,
   "metadata": {},
   "outputs": [],
   "source": [
    "# find the anqular offset between the two datasets\n",
    "# convolution of \n"
   ]
  },
  {
   "cell_type": "code",
   "execution_count": null,
   "metadata": {},
   "outputs": [],
   "source": [
    "j2_result = api.get_job(j2.id)\n",
    "for artifact in j2_result['artifacts']:\n",
    "    print(artifact['type'], artifact['url'], artifact['id'])\n",
    "time.sleep(1)    "
   ]
  },
  {
   "cell_type": "code",
   "execution_count": null,
   "metadata": {},
   "outputs": [],
   "source": [
    "j2_result_data = [art for art in j2_result['artifacts'] if art['type']=='RESULT_DATA'][0]\n",
    "j2_df = pd.read_csv(j2_result_data['url'], header=[0, 1], index_col=[0, 1]).pint.quantify(level=-1)\n",
    "\n",
    "#load M1 results for the nominal operation point\n",
    "#load M1 results for the nominal operation point\n",
    "m1_op1_pv = pd.read_csv(\"M1/Nominal_24Nm_2060rpm/PhaseVoltage.csv\", header=[0, 1])"
   ]
  },
  {
   "cell_type": "code",
   "execution_count": null,
   "metadata": {},
   "outputs": [],
   "source": [
    "offset = np.pi *0.94\n",
    "fig = plt.figure()\n",
    "ax = fig.add_subplot(111)\n",
    "l1, = ax.plot((np.deg2rad(m1_op1_pv['Va']['X'])*5 + offset) % (2*np.pi), m1_op1_pv['Va']['Y'], label='Va', \n",
    "              linewidth=3, linestyle='--', alpha=0.5)\n",
    "l2, = ax.plot((np.deg2rad(m1_op1_pv['Vb']['X'])*5 + offset) % (2*np.pi), m1_op1_pv['Vb']['Y'], label='Vb',\n",
    "              linewidth=3, linestyle='--', alpha=0.5)\n",
    "l3, = ax.plot((np.deg2rad(m1_op1_pv['Vc']['X'])*5 + offset) % (2*np.pi), m1_op1_pv['Vc']['Y'], label='Vc',\n",
    "              linewidth=3, linestyle='--', alpha=0.5)\n",
    "ax.plot(j2_df['angles'], j2_df['Back_EMF_0'], label='Va Sim', color=l1.get_color())\n",
    "ax.plot(j2_df['angles'], j2_df['Back_EMF_1'], label='Vb Sim', color=l2.get_color())\n",
    "ax.plot(j2_df['angles'], j2_df['Back_EMF_2'], label='Vc Sim', color=l3.get_color())\n",
    "ax.legend()"
   ]
  },
  {
   "cell_type": "code",
   "execution_count": null,
   "metadata": {},
   "outputs": [],
   "source": [
    "fig = plt.figure()\n",
    "ax = fig.add_subplot(111)\n",
    "\n",
    "ax.plot(j1_df['angles'], j1_df['Back_EMF_1'], label='Back_EMF_1')\n",
    "ax.plot(j2_df['angles'], j2_df['Back_EMF_1'], label='Back_EMF_1')"
   ]
  },
  {
   "cell_type": "code",
   "execution_count": null,
   "metadata": {},
   "outputs": [],
   "source": [
    "j2_df"
   ]
  },
  {
   "cell_type": "code",
   "execution_count": null,
   "metadata": {},
   "outputs": [],
   "source": [
    "\n",
    "fig = plt.figure(2)\n",
    "ax = fig.add_subplot(111)\n",
    "l1, = ax.plot((np.deg2rad(m1_op1_tq['Torque']['X'])*5 + offset) % (2*np.pi), m1_op1_tq['Torque']['Y'], label='nominal Torque', \n",
    "              linewidth=3, linestyle='--', alpha=0.5)\n",
    "l2, = ax.plot(j2_df['angles'], j2_df['Scaled Torque'], label='nominal Scaled Torque')\n",
    "mean_torque = j2_df['Scaled Torque'].mean()\n",
    "ax.axhline( mean_torque, label=f'Scaled Torque {mean_torque:2.4~P}', linestyle='--')\n",
    "target_torque = 24.26 * q.N * q.m\n",
    "ax.axhline( target_torque, label=f'Target {target_torque:2.4~P}', color='k', linestyle='--')\n",
    "\n",
    "ax.legend()"
   ]
  },
  {
   "cell_type": "code",
   "execution_count": null,
   "metadata": {},
   "outputs": [],
   "source": [
    "m1_df = pd.read_csv(\"Machine_Back_emfs_Machine_1.csv\", skiprows=1, header=[0, 1], index_col=[0]).pint.quantify(level=-1)\n",
    "m1_df.head()\n"
   ]
  },
  {
   "cell_type": "code",
   "execution_count": null,
   "metadata": {},
   "outputs": [],
   "source": [
    "m1_df['Angles electrical'] = pint_pandas.PintArray(m1_df.index * m1.rotor['number_poles'] / 2, dtype=\"pint[degree]\")\n",
    "m1_df.dtypes"
   ]
  },
  {
   "cell_type": "code",
   "execution_count": null,
   "metadata": {},
   "outputs": [],
   "source": [
    "fig = plt.figure(3)\n",
    "ax = fig.add_subplot(111)\n",
    "l1, = ax.plot(j1_df['angles'], -j1_df['Back_EMF_0'], label='Back_EMF_0', linestyle='--')\n",
    "l2, = ax.plot(j1_df['angles'], -j1_df['Back_EMF_1'], label='Back_EMF_1', linestyle='--',)\n",
    "l3, = ax.plot(j1_df['angles'], -j1_df['Back_EMF_2'], label='Back_EMF_2', linestyle='--')\n",
    "ax.plot(m1_df['Angles electrical'].pint.to(\"radians\"), m1_df['Phase A'], label='Phase A', color=l1.get_color())\n",
    "ax.plot(m1_df['Angles electrical'].pint.to(\"radians\"), m1_df['Phase B'], label='Phase B', color=l2.get_color())\n",
    "ax.plot(m1_df['Angles electrical'].pint.to(\"radians\"), m1_df['Phase C'], label='Phase C', color=l3.get_color())\n"
   ]
  },
  {
   "cell_type": "code",
   "execution_count": null,
   "metadata": {},
   "outputs": [],
   "source": [
    "df_m1_phvol = pd.read_csv(\"m1_phase_voltage_nominal.csv\",  header=[0, 1])\n",
    "df_m1_phvol.head()"
   ]
  },
  {
   "cell_type": "code",
   "execution_count": null,
   "metadata": {},
   "outputs": [],
   "source": [
    "from numpy import pi\n",
    "fig = plt.figure()\n",
    "ax = fig.add_subplot(111)\n",
    "l1, =ax.plot(df_m1_phvol[\"Va\"][\"X\"]*pi*5/180, -df_m1_phvol[\"Va\"][\"Y\"],linestyle='--')\n",
    "l2, =ax.plot(df_m1_phvol[\"Vb\"][\"X\"]*pi*5/180, -df_m1_phvol[\"Vb\"][\"Y\"],linestyle='--')\n",
    "l3, =ax.plot(df_m1_phvol[\"Vc\"][\"X\"]*pi*5/180, -df_m1_phvol[\"Vc\"][\"Y\"],linestyle='--')\n",
    "ax.plot(j2_df['angles'], j2_df['Back_EMF_0'], label='nominal Back_EMF_0', color=l1.get_color())\n",
    "ax.plot(j2_df['angles'], j2_df['Back_EMF_1'], label='nominal Back_EMF_1', color=l2.get_color())\n",
    "ax.plot(j2_df['angles'], j2_df['Back_EMF_2'], label='nominal Back_EMF_2', color=l3.get_color())\n",
    "ax.legend()"
   ]
  },
  {
   "cell_type": "code",
   "execution_count": null,
   "metadata": {},
   "outputs": [],
   "source": [
    "df_m1_phvol[\"Va\"][\"X\"]*(pi*5/180)"
   ]
  },
  {
   "cell_type": "code",
   "execution_count": null,
   "metadata": {},
   "outputs": [],
   "source": [
    "df_m1_torque = pd.read_csv(\"M1AverageTorqueNominal.csv\", names=[\"Angles\", \"Torque\"], header=0)\n",
    "df_m1_torque.head()"
   ]
  },
  {
   "cell_type": "code",
   "execution_count": null,
   "metadata": {},
   "outputs": [],
   "source": [
    "fig = plt.figure(2)\n",
    "ax = fig.add_subplot(111)\n",
    "l1, = ax.plot(j1_df['angles'], j1_df['Scaled Torque'], label='open cct Scaled Torque')\n",
    "l2, = ax.plot(j2_df['angles'], j2_df['Scaled Torque'], label='nominal Scaled Torque')\n",
    "mean_torque = j2_df['Scaled Torque'].mean()\n",
    "ax.axhline( mean_torque, label=f'Scaled Torque {mean_torque:2.4~P}', linestyle='--')\n",
    "target_torque = 24.26 * q.N * q.m\n",
    "ax.axhline( target_torque, label=f'Target {target_torque:2.4~P}', color='k', linestyle='--')\n",
    "ax.plot(df_m1_torque[\"Angles\"]*pi*5/180, df_m1_torque[\"Torque\"], label='nominal Torque')\n",
    "ax.legend()"
   ]
  },
  {
   "cell_type": "code",
   "execution_count": null,
   "metadata": {},
   "outputs": [],
   "source": []
  }
 ],
 "metadata": {
  "kernelspec": {
   "display_name": "ltc_test_py311",
   "language": "python",
   "name": "python3"
  },
  "language_info": {
   "codemirror_mode": {
    "name": "ipython",
    "version": 3
   },
   "file_extension": ".py",
   "mimetype": "text/x-python",
   "name": "python",
   "nbconvert_exporter": "python",
   "pygments_lexer": "ipython3",
   "version": "3.12.0"
  }
 },
 "nbformat": 4,
 "nbformat_minor": 2
}

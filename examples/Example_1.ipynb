{
 "cells": [
  {
   "cell_type": "code",
   "execution_count": 1,
   "metadata": {},
   "outputs": [
    {
     "name": "stdout",
     "output_type": "stream",
     "text": [
      "Collecting git+https://github.com/TinArmEngineering/tinarm.git@0.1.81 (from -r requirements.txt (line 1))\n",
      "  Cloning https://github.com/TinArmEngineering/tinarm.git (to revision 0.1.81) to /private/var/folders/s5/09ndf2214qb_308ln1n6gfm40000gn/T/pip-req-build-120yjgyd\n",
      "  Running command git clone --filter=blob:none --quiet https://github.com/TinArmEngineering/tinarm.git /private/var/folders/s5/09ndf2214qb_308ln1n6gfm40000gn/T/pip-req-build-120yjgyd\n",
      "  Running command git checkout -q 95326bba5f50040358d1e4c697986c1457bd751f\n",
      "  Resolved https://github.com/TinArmEngineering/tinarm.git to commit 95326bba5f50040358d1e4c697986c1457bd751f\n",
      "  Preparing metadata (setup.py) ... \u001b[?25ldone\n",
      "\u001b[?25hRequirement already satisfied: pint in /Users/martinwest/Repositories/Lonely-Tool-Cult/.conda/lib/python3.12/site-packages (from -r requirements.txt (line 2)) (0.23)\n",
      "Requirement already satisfied: pandas in /Users/martinwest/Repositories/Lonely-Tool-Cult/.conda/lib/python3.12/site-packages (from -r requirements.txt (line 3)) (2.1.4)\n",
      "Requirement already satisfied: pint-pandas in /Users/martinwest/Repositories/Lonely-Tool-Cult/.conda/lib/python3.12/site-packages (from -r requirements.txt (line 4)) (0.5)\n",
      "Requirement already satisfied: matplotlib in /Users/martinwest/Repositories/Lonely-Tool-Cult/.conda/lib/python3.12/site-packages (from -r requirements.txt (line 5)) (3.8.2)\n",
      "Requirement already satisfied: pyyaml in /Users/martinwest/Repositories/Lonely-Tool-Cult/.conda/lib/python3.12/site-packages (from -r requirements.txt (line 6)) (6.0.1)\n",
      "Requirement already satisfied: pika in /Users/martinwest/Repositories/Lonely-Tool-Cult/.conda/lib/python3.12/site-packages (from tinarm==0.1->-r requirements.txt (line 1)) (1.3.2)\n",
      "Requirement already satisfied: python_logging_rabbitmq in /Users/martinwest/Repositories/Lonely-Tool-Cult/.conda/lib/python3.12/site-packages (from tinarm==0.1->-r requirements.txt (line 1)) (2.3.0)\n",
      "Requirement already satisfied: requests in /Users/martinwest/Repositories/Lonely-Tool-Cult/.conda/lib/python3.12/site-packages (from tinarm==0.1->-r requirements.txt (line 1)) (2.31.0)\n",
      "Requirement already satisfied: typing-extensions in /Users/martinwest/Repositories/Lonely-Tool-Cult/.conda/lib/python3.12/site-packages (from pint->-r requirements.txt (line 2)) (4.9.0)\n",
      "Requirement already satisfied: numpy<2,>=1.26.0 in /Users/martinwest/Repositories/Lonely-Tool-Cult/.conda/lib/python3.12/site-packages (from pandas->-r requirements.txt (line 3)) (1.26.3)\n",
      "Requirement already satisfied: python-dateutil>=2.8.2 in /Users/martinwest/Repositories/Lonely-Tool-Cult/.conda/lib/python3.12/site-packages (from pandas->-r requirements.txt (line 3)) (2.8.2)\n",
      "Requirement already satisfied: pytz>=2020.1 in /Users/martinwest/Repositories/Lonely-Tool-Cult/.conda/lib/python3.12/site-packages (from pandas->-r requirements.txt (line 3)) (2023.3.post1)\n",
      "Requirement already satisfied: tzdata>=2022.1 in /Users/martinwest/Repositories/Lonely-Tool-Cult/.conda/lib/python3.12/site-packages (from pandas->-r requirements.txt (line 3)) (2023.4)\n",
      "Requirement already satisfied: contourpy>=1.0.1 in /Users/martinwest/Repositories/Lonely-Tool-Cult/.conda/lib/python3.12/site-packages (from matplotlib->-r requirements.txt (line 5)) (1.2.0)\n",
      "Requirement already satisfied: cycler>=0.10 in /Users/martinwest/Repositories/Lonely-Tool-Cult/.conda/lib/python3.12/site-packages (from matplotlib->-r requirements.txt (line 5)) (0.12.1)\n",
      "Requirement already satisfied: fonttools>=4.22.0 in /Users/martinwest/Repositories/Lonely-Tool-Cult/.conda/lib/python3.12/site-packages (from matplotlib->-r requirements.txt (line 5)) (4.47.2)\n",
      "Requirement already satisfied: kiwisolver>=1.3.1 in /Users/martinwest/Repositories/Lonely-Tool-Cult/.conda/lib/python3.12/site-packages (from matplotlib->-r requirements.txt (line 5)) (1.4.5)\n",
      "Requirement already satisfied: packaging>=20.0 in /Users/martinwest/Repositories/Lonely-Tool-Cult/.conda/lib/python3.12/site-packages (from matplotlib->-r requirements.txt (line 5)) (23.2)\n",
      "Requirement already satisfied: pillow>=8 in /Users/martinwest/Repositories/Lonely-Tool-Cult/.conda/lib/python3.12/site-packages (from matplotlib->-r requirements.txt (line 5)) (10.2.0)\n",
      "Requirement already satisfied: pyparsing>=2.3.1 in /Users/martinwest/Repositories/Lonely-Tool-Cult/.conda/lib/python3.12/site-packages (from matplotlib->-r requirements.txt (line 5)) (3.1.1)\n",
      "Requirement already satisfied: six>=1.5 in /Users/martinwest/Repositories/Lonely-Tool-Cult/.conda/lib/python3.12/site-packages (from python-dateutil>=2.8.2->pandas->-r requirements.txt (line 3)) (1.16.0)\n",
      "Requirement already satisfied: charset-normalizer<4,>=2 in /Users/martinwest/Repositories/Lonely-Tool-Cult/.conda/lib/python3.12/site-packages (from requests->tinarm==0.1->-r requirements.txt (line 1)) (3.3.2)\n",
      "Requirement already satisfied: idna<4,>=2.5 in /Users/martinwest/Repositories/Lonely-Tool-Cult/.conda/lib/python3.12/site-packages (from requests->tinarm==0.1->-r requirements.txt (line 1)) (3.6)\n",
      "Requirement already satisfied: urllib3<3,>=1.21.1 in /Users/martinwest/Repositories/Lonely-Tool-Cult/.conda/lib/python3.12/site-packages (from requests->tinarm==0.1->-r requirements.txt (line 1)) (2.1.0)\n",
      "Requirement already satisfied: certifi>=2017.4.17 in /Users/martinwest/Repositories/Lonely-Tool-Cult/.conda/lib/python3.12/site-packages (from requests->tinarm==0.1->-r requirements.txt (line 1)) (2023.11.17)\n",
      "Building wheels for collected packages: tinarm\n",
      "  Building wheel for tinarm (setup.py) ... \u001b[?25ldone\n",
      "\u001b[?25h  Created wheel for tinarm: filename=tinarm-0.1-py3-none-any.whl size=7253 sha256=61b4658d8a9059004efcceff2eb4ca6865fb765dd08affd1bf0667e15de0a7e7\n",
      "  Stored in directory: /private/var/folders/s5/09ndf2214qb_308ln1n6gfm40000gn/T/pip-ephem-wheel-cache-9lze4osi/wheels/b5/3e/f1/78975b6840059f1f22cfabad54abc26bd24ff9224d419ec7e4\n",
      "Successfully built tinarm\n",
      "Installing collected packages: tinarm\n",
      "  Attempting uninstall: tinarm\n",
      "    Found existing installation: tinarm 0.1\n",
      "    Uninstalling tinarm-0.1:\n",
      "      Successfully uninstalled tinarm-0.1\n",
      "Successfully installed tinarm-0.1\n",
      "Found existing installation: tinarm 0.1\n",
      "Uninstalling tinarm-0.1:\n",
      "  Successfully uninstalled tinarm-0.1\n",
      "Obtaining file:///Users/martinwest/Repositories/Lonely-Tool-Cult/tinarm\n",
      "  Preparing metadata (setup.py) ... \u001b[?25ldone\n",
      "\u001b[?25hRequirement already satisfied: pika in /Users/martinwest/Repositories/Lonely-Tool-Cult/.conda/lib/python3.12/site-packages (from tinarm==0.1) (1.3.2)\n",
      "Requirement already satisfied: python_logging_rabbitmq in /Users/martinwest/Repositories/Lonely-Tool-Cult/.conda/lib/python3.12/site-packages (from tinarm==0.1) (2.3.0)\n",
      "Requirement already satisfied: requests in /Users/martinwest/Repositories/Lonely-Tool-Cult/.conda/lib/python3.12/site-packages (from tinarm==0.1) (2.31.0)\n",
      "Requirement already satisfied: charset-normalizer<4,>=2 in /Users/martinwest/Repositories/Lonely-Tool-Cult/.conda/lib/python3.12/site-packages (from requests->tinarm==0.1) (3.3.2)\n",
      "Requirement already satisfied: idna<4,>=2.5 in /Users/martinwest/Repositories/Lonely-Tool-Cult/.conda/lib/python3.12/site-packages (from requests->tinarm==0.1) (3.6)\n",
      "Requirement already satisfied: urllib3<3,>=1.21.1 in /Users/martinwest/Repositories/Lonely-Tool-Cult/.conda/lib/python3.12/site-packages (from requests->tinarm==0.1) (2.1.0)\n",
      "Requirement already satisfied: certifi>=2017.4.17 in /Users/martinwest/Repositories/Lonely-Tool-Cult/.conda/lib/python3.12/site-packages (from requests->tinarm==0.1) (2023.11.17)\n",
      "Installing collected packages: tinarm\n",
      "  Running setup.py develop for tinarm\n",
      "Successfully installed tinarm-0.1\n"
     ]
    }
   ],
   "source": [
    "!pip install -r requirements.txt\n",
    "!pip uninstall -y tinarm\n",
    "!pip install -e ../."
   ]
  },
  {
   "cell_type": "code",
   "execution_count": 2,
   "metadata": {},
   "outputs": [],
   "source": [
    "import matplotlib.pyplot as plt\n",
    "import pint\n",
    "# from tinarm import NameQuantityPair\n",
    "# from tinarm import Quantity \n",
    "from tinarm import Job\n",
    "from tinarm import Machine\n",
    "from tinarm.api import JOB_STATUS\n",
    "from tinarm import Api\n",
    "\n",
    "import logging\n",
    "import time\n",
    "import requests\n",
    "import uuid\n",
    "import random\n",
    "import yaml\n",
    "import pandas as pd\n",
    "import pint_pandas\n"
   ]
  },
  {
   "cell_type": "code",
   "execution_count": 3,
   "metadata": {},
   "outputs": [],
   "source": [
    "\n",
    "LOGGING_LEVEL = logging.INFO\n",
    "STATUS_JOB = {value:key for key,value in JOB_STATUS.items()}"
   ]
  },
  {
   "cell_type": "code",
   "execution_count": 4,
   "metadata": {},
   "outputs": [
    {
     "name": "stdout",
     "output_type": "stream",
     "text": [
      "2024-03-11 11:20:16,573 - NoJobId - INFO - Martins-MacBook-Air.local - 1683099798.py-><module>() - tinarm version 0.1\n",
      "2024-03-11 11:20:16,573 - NoJobId - INFO - Martins-MacBook-Air.local - 1683099798.py-><module>() - pint_pandas version 0.5\n"
     ]
    }
   ],
   "source": [
    "\n",
    "### Configure Logging\n",
    "logger = logging.getLogger()\n",
    "logger.setLevel(LOGGING_LEVEL)\n",
    "logger.info(f\"tinarm version {tinarm.__version__}\")\n",
    "logger.info(f\"pint_pandas version {pint_pandas.__version__}\")\n",
    "\n",
    "q = pint_pandas.PintType.ureg\n",
    "q.setup_matplotlib()"
   ]
  },
  {
   "cell_type": "markdown",
   "metadata": {},
   "source": [
    "Log in to Tin Arm Engineering's machine solver, and under profile, retrieve your API key. \n",
    "Do not commit your API key to a repository, and consider it like a password.  A good way to keep it out of this code base is to use a configuation file, or environment variable. We will want other things cofigured too, so let's use a yaml file for convenience. \n",
    "\n",
    "create a `configurations.yaml` file in this directory with the content.\n",
    "```yaml\n",
    "api_key: 668952058c490d0a296da0abb966****\n",
    "root_url: http://server-go:4300\n",
    "```\n",
    "But of course replace the number with your api key\n",
    "\n",
    "You can then add that file to your `.gitignore` file by executing ```echo 'configurations.yaml' >> .gitignore```"
   ]
  },
  {
   "cell_type": "markdown",
   "metadata": {},
   "source": [
    "```\n",
    "!echo 'configurations.yaml' >> .gitignore\n",
    "```"
   ]
  },
  {
   "cell_type": "code",
   "execution_count": 14,
   "metadata": {},
   "outputs": [],
   "source": [
    "with open(\"configurations.yaml\", \"r\") as f:\n",
    "    config = yaml.safe_load(f)"
   ]
  },
  {
   "cell_type": "markdown",
   "metadata": {},
   "source": [
    "# Stator"
   ]
  },
  {
   "cell_type": "code",
   "execution_count": 15,
   "metadata": {},
   "outputs": [],
   "source": [
    "stator_parameters = {\n",
    "    \"slot_liner_thikness\": 300 * q.um,\n",
    "    \"stator_bore\": 8.20 * q.cm,\n",
    "    \"tooth_tip_depth\": 1.5 * q.mm,\n",
    "    \"slot_opening\": 1.5 * q.mm,\n",
    "    \"tooth_width\": 9.8 * q.mm,\n",
    "    \"stator_outer_diameter\": 0.136 * q.m,\n",
    "    \"back_iron_thickness\": 5.5 * q.mm,\n",
    "    \"stator_internal_radius\": 500 * q.um,\n",
    "    \"number_slots\": 12 * q.count,\n",
    "    \"tooth_tip_angle\": 70 * q.degrees\n",
    "    }\n",
    "\n",
    "air_gap_length = 1 * q.mm"
   ]
  },
  {
   "cell_type": "markdown",
   "metadata": {},
   "source": [
    "## Rotor\n",
    "Surface mounted Breadloaf magnets"
   ]
  },
  {
   "cell_type": "code",
   "execution_count": 16,
   "metadata": {},
   "outputs": [],
   "source": [
    "rotor_parameters = {\n",
    "    \"rotor_od\": stator_parameters[\"stator_bore\"] - 2 * air_gap_length,\n",
    "    \"rotor_bore\": 40 * q.mm,\n",
    "    \"banding_thickness\": 0.5 * q.mm,\n",
    "    \"number_poles\": 10 * q.count,\n",
    "    \"magnet_thickness\": 4.5 * q.millimeter,\n",
    "    \"magnet_pole_arc\": 150 * q.degrees,\n",
    "    \"magnet_inset\": 0.25 * q.millimeter\n",
    "    }"
   ]
  },
  {
   "cell_type": "markdown",
   "metadata": {},
   "source": [
    "## Simulation Parameters"
   ]
  },
  {
   "cell_type": "code",
   "execution_count": 17,
   "metadata": {},
   "outputs": [],
   "source": [
    "simulation_parameters = {\n",
    "       \"samples_per_electrical_period\": 180 * q.count/q.turn,\n",
    "        \"timestep_intervals\": 180 * q.count,\n",
    "        \"active_length\": 65 * q.mm}\n"
   ]
  },
  {
   "cell_type": "code",
   "execution_count": 18,
   "metadata": {},
   "outputs": [],
   "source": [
    "winding_parameters = {\n",
    "    \"symmetry\": 2 * q.count,\n",
    "    \"number_phases\": 3 * q.count,\n",
    "    \"number_layers\": 2 * q.count,\n",
    "    \"coil_span\": 1 * q.count,\n",
    "    \"turns_per_coil\": 43 * q.count,\n",
    "    \"empty_slots\": 0 * q.count,\n",
    "    \"fill_factor\": 42 * q.percent\n",
    "    }"
   ]
  },
  {
   "cell_type": "markdown",
   "metadata": {},
   "source": [
    "## Operating Point"
   ]
  },
  {
   "cell_type": "code",
   "execution_count": 19,
   "metadata": {},
   "outputs": [],
   "source": [
    "op_open_cct = {\n",
    "    \"simulated_speed\": 2060 * q.rpm,\n",
    "    \"current_density\": 0 * q.A / q.mm ** 2,\n",
    "    \"current_angle\": 0 * q.degrees\n",
    "    }\n",
    "\n",
    "op_nominal = {\n",
    "    'current_density': 6.23 * q.A * q.mm**-2,\n",
    "    'current_angle': 255 * q.degrees,\n",
    "    \"simulated_speed\": 2060 * q.rpm\n",
    "    }"
   ]
  },
  {
   "cell_type": "code",
   "execution_count": 20,
   "metadata": {},
   "outputs": [],
   "source": [
    "# class Api:\n",
    "#     \"\"\"\n",
    "#     The TAE User API\n",
    "#     \"\"\"\n",
    "\n",
    "#     def __init__(self, root_url, api_key, org_id=None):\n",
    "#         \"\"\"\n",
    "#         Initialize the API\n",
    "#         \"\"\"\n",
    "#         self._root_url = root_url\n",
    "#         self._api_key = api_key\n",
    "#         self._org_id = org_id\n",
    "#         self._node_id = None\n",
    "\n",
    "#         logger.info(f\"root_url: {self._root_url}\")\n",
    "\n",
    "#     def get_job(self, job_id):\n",
    "#         \"\"\"\n",
    "#         Get a job from the TAE API\n",
    "#         \"\"\"\n",
    "#         response = requests.get(\n",
    "#             url=f\"{self._root_url}/jobs/{job_id}?apikey={self._api_key}\",\n",
    "#         )\n",
    "#         response.raise_for_status()\n",
    "#         return response.json()\n",
    "    \n",
    "#     def create_job(self, job):\n",
    "#         \"\"\"\n",
    "#         Create a job for the TAE API\n",
    "#         \"\"\"\n",
    "#         response = requests.post(\n",
    "#             url=f\"{self._root_url}/jobs/?apikey={self._api_key}&org_id={self._org_id}\",\n",
    "#             json=job.to_api()\n",
    "#         )\n",
    "#         response.raise_for_status()\n",
    "#         if response.status_code == 200:\n",
    "#             job.id = response.json()[\"id\"]\n",
    "#         return response.json()\n",
    "    \n",
    "#     def update_job_status(self, job_id, status):\n",
    "#         \"\"\"\n",
    "#         Update a job status\n",
    "#         \"\"\"\n",
    "#         url = f\"{self._root_url}/jobs/{job_id}/status/{status}?node_id={self._node_id}&apikey={self._api_key}\"\n",
    "#         logger.info(f\"Updating job status: {url}\")\n",
    "\n",
    "#         response = requests.put(url=url)\n",
    "#         return response.json()\n",
    "    \n",
    "    "
   ]
  },
  {
   "cell_type": "code",
   "execution_count": 21,
   "metadata": {},
   "outputs": [
    {
     "name": "stdout",
     "output_type": "stream",
     "text": [
      "2024-03-11 11:26:42,261 - NoJobId - INFO - Martins-MacBook-Air.local - 3503141280.py->__init__() - root_url: https://api.build.tinarmengineering.com\n"
     ]
    }
   ],
   "source": [
    "api = Api(config[\"root_url\"], config[\"api_key\"], config[\"org_id\"])"
   ]
  },
  {
   "cell_type": "code",
   "execution_count": 22,
   "metadata": {},
   "outputs": [],
   "source": [
    "m1 = Machine(stator_parameters, rotor_parameters, winding_parameters)\n",
    "\n",
    "j1 = Job(m1, op_open_cct, simulation_parameters)\n",
    "j1_result = api.create_job(j1)\n",
    "\n"
   ]
  },
  {
   "cell_type": "code",
   "execution_count": 23,
   "metadata": {},
   "outputs": [],
   "source": [
    "\n",
    "j2 = Job(m1, op_nominal, simulation_parameters)\n",
    "j2_result = api.create_job(j2)"
   ]
  },
  {
   "cell_type": "code",
   "execution_count": 24,
   "metadata": {},
   "outputs": [],
   "source": [
    "assert j1.id != j2.id\n"
   ]
  },
  {
   "cell_type": "code",
   "execution_count": 25,
   "metadata": {},
   "outputs": [
    {
     "name": "stdout",
     "output_type": "stream",
     "text": [
      "2024-03-11 11:26:58,538 - NoJobId - INFO - Martins-MacBook-Air.local - 3503141280.py->update_job_status() - Updating job status: https://api.build.tinarmengineering.com/jobs/65eedc64d0dc835ca46bf759/status/10?node_id=None&apikey=f3655d31edd9a0a90fd00d5064c8bfb2\n",
      "2024-03-11 11:26:58,834 - NoJobId - INFO - Martins-MacBook-Air.local - 3503141280.py->update_job_status() - Updating job status: https://api.build.tinarmengineering.com/jobs/65eedc6fd0dc835ca46bf75a/status/10?node_id=None&apikey=f3655d31edd9a0a90fd00d5064c8bfb2\n",
      "job 1 Meshing \t job 2 Meshing\n",
      "job 1 Solving \t job 2 Solving\n",
      "job 1 Solving \t job 2 Solving\n",
      "job 1 Solving \t job 2 Solving\n",
      "job 1 Solving \t job 2 Solving\n",
      "job 1 Solving \t job 2 Solving\n",
      "job 1 Solving \t job 2 Solving\n",
      "job 1 Solving \t job 2 Solving\n",
      "job 1 Solving \t job 2 Solving\n",
      "job 1 Solving \t job 2 Solving\n",
      "job 1 Solving \t job 2 Solving\n",
      "job 1 Solving \t job 2 Solving\n",
      "job 1 Solving \t job 2 Solving\n",
      "job 1 Solving \t job 2 Solving\n",
      "job 1 Solving \t job 2 Solving\n",
      "job 1 Solving \t job 2 Solving\n",
      "job 1 Solving \t job 2 Solving\n",
      "job 1 Solving \t job 2 Solving\n",
      "job 1 PostProcess \t job 2 Solving\n",
      "job 1 PostProcess \t job 2 Solving\n",
      "job 1 PostProcess \t job 2 Solving\n",
      "job 1 PostProcess \t job 2 PostProcess\n",
      "job 1 PostProcess \t job 2 PostProcess\n",
      "job 1 PostProcess \t job 2 PostProcess\n",
      "job 1 PostProcess \t job 2 PostProcess\n",
      "job 1 Complete \t job 2 PostProcess\n",
      "job 1 Complete \t job 2 PostProcess\n"
     ]
    }
   ],
   "source": [
    "j1_result = api.update_job_status(j1.id, JOB_STATUS['QueuedForMeshing'])\n",
    "j2_result = api.update_job_status(j2.id, JOB_STATUS['QueuedForMeshing'])\n",
    "\n",
    "while STATUS_JOB[api.get_job(j1.id)['status']] != 'Complete' or STATUS_JOB[api.get_job(j2.id)['status']] != 'Complete':\n",
    "    print(\"job 1 {0} \\t job 2 {1}\".format(STATUS_JOB[api.get_job(j1.id)['status']], STATUS_JOB[api.get_job(j2.id)['status']] ))\n",
    "    time.sleep(10)\n",
    "time.sleep(1)"
   ]
  },
  {
   "cell_type": "code",
   "execution_count": null,
   "metadata": {},
   "outputs": [],
   "source": [
    "j1_result = api.get_job(j1.id)\n",
    "for artifact in j1_result['artifacts']:\n",
    "    print(artifact['type'], artifact['url'], artifact['id'])"
   ]
  },
  {
   "cell_type": "code",
   "execution_count": null,
   "metadata": {},
   "outputs": [],
   "source": [
    "j1_result_data = [art for art in j1_result['artifacts'] if art['type']=='RESULT_DATA'][0]\n",
    "j1_df = pd.read_csv(j1_result_data['url'], header=[0, 1], index_col=[0, 1]).pint.quantify(level=-1)"
   ]
  },
  {
   "cell_type": "code",
   "execution_count": null,
   "metadata": {},
   "outputs": [],
   "source": [
    "fig = plt.figure()\n",
    "ax = fig.add_subplot(111)\n",
    "ax.plot(j1_df['angles'], j1_df['Back_EMF_0'], label='Back_EMF_0')\n",
    "ax.plot(j1_df['angles'], j1_df['Back_EMF_1'], label='Back_EMF_1')\n",
    "ax.plot(j1_df['angles'], j1_df['Back_EMF_2'], label='Back_EMF_2')"
   ]
  },
  {
   "cell_type": "code",
   "execution_count": null,
   "metadata": {},
   "outputs": [],
   "source": [
    "j2_result = api.get_job(j2.id)\n",
    "for artifact in j2_result['artifacts']:\n",
    "    print(artifact['type'], artifact['url'], artifact['id'])\n",
    "time.sleep(1)    "
   ]
  },
  {
   "cell_type": "code",
   "execution_count": null,
   "metadata": {},
   "outputs": [],
   "source": [
    "j2_result_data = [art for art in j2_result['artifacts'] if art['type']=='RESULT_DATA'][0]\n",
    "j2_df = pd.read_csv(j2_result_data['url'], header=[0, 1], index_col=[0, 1]).pint.quantify(level=-1)"
   ]
  },
  {
   "cell_type": "code",
   "execution_count": null,
   "metadata": {},
   "outputs": [],
   "source": [
    "fig = plt.figure()\n",
    "ax = fig.add_subplot(111)\n",
    "l1, = ax.plot(j1_df['angles'], j1_df['Back_EMF_0'], label='Back_EMF_0', linestyle='--')\n",
    "l2, = ax.plot(j1_df['angles'], j1_df['Back_EMF_1'], label='Back_EMF_1', linestyle='--',)\n",
    "l3, = ax.plot(j1_df['angles'], j1_df['Back_EMF_2'], label='Back_EMF_2', linestyle='--')\n",
    "ax.plot(j2_df['angles'], j2_df['Back_EMF_0'], label='nominal Back_EMF_0', color=l1.get_color())\n",
    "ax.plot(j2_df['angles'], j2_df['Back_EMF_1'], label='nominal Back_EMF_1', color=l2.get_color())\n",
    "ax.plot(j2_df['angles'], j2_df['Back_EMF_2'], label='nominal Back_EMF_2', color=l3.get_color())\n",
    "ax.legend()"
   ]
  },
  {
   "cell_type": "code",
   "execution_count": null,
   "metadata": {},
   "outputs": [],
   "source": [
    "\n",
    "fig = plt.figure(2)\n",
    "ax = fig.add_subplot(111)\n",
    "l1, = ax.plot(j1_df['angles'], j1_df['Scaled Torque'], label='open cct Scaled Torque')\n",
    "l2, = ax.plot(j2_df['angles'], j2_df['Scaled Torque'], label='nominal Scaled Torque')\n",
    "mean_torque = j2_df['Scaled Torque'].mean()\n",
    "ax.axhline( mean_torque, label=f'Scaled Torque {mean_torque:2.4~P}', linestyle='--')\n",
    "target_torque = 24.26 * q.N * q.m\n",
    "ax.axhline( target_torque, label=f'Target {target_torque:2.4~P}', color='k', linestyle='--')\n",
    "\n",
    "ax.legend()"
   ]
  },
  {
   "cell_type": "code",
   "execution_count": null,
   "metadata": {},
   "outputs": [],
   "source": [
    "m1_df = pd.read_csv(\"Machine_Back_emfs_Machine_1.csv\", skiprows=1, header=[0, 1], index_col=[0]).pint.quantify(level=-1)\n",
    "m1_df.head()\n"
   ]
  },
  {
   "cell_type": "code",
   "execution_count": null,
   "metadata": {},
   "outputs": [],
   "source": [
    "m1_df['Angles electrical'] = pint_pandas.PintArray(m1_df.index * m1.rotor['number_poles'] / 2, dtype=\"pint[degree]\")\n",
    "m1_df.dtypes"
   ]
  },
  {
   "cell_type": "code",
   "execution_count": null,
   "metadata": {},
   "outputs": [],
   "source": [
    "fig = plt.figure(3)\n",
    "ax = fig.add_subplot(111)\n",
    "l1, = ax.plot(j1_df['angles'], -j1_df['Back_EMF_0'], label='Back_EMF_0', linestyle='--')\n",
    "l2, = ax.plot(j1_df['angles'], -j1_df['Back_EMF_1'], label='Back_EMF_1', linestyle='--',)\n",
    "l3, = ax.plot(j1_df['angles'], -j1_df['Back_EMF_2'], label='Back_EMF_2', linestyle='--')\n",
    "ax.plot(m1_df['Angles electrical'].pint.to(\"radians\"), m1_df['Phase A'], label='Phase A', color=l1.get_color())\n",
    "ax.plot(m1_df['Angles electrical'].pint.to(\"radians\"), m1_df['Phase B'], label='Phase B', color=l2.get_color())\n",
    "ax.plot(m1_df['Angles electrical'].pint.to(\"radians\"), m1_df['Phase C'], label='Phase C', color=l3.get_color())\n"
   ]
  },
  {
   "cell_type": "code",
   "execution_count": null,
   "metadata": {},
   "outputs": [],
   "source": [
    "df_m1_phvol = pd.read_csv(\"m1_phase_voltage_nominal.csv\",  header=[0, 1])\n",
    "df_m1_phvol.head()"
   ]
  },
  {
   "cell_type": "code",
   "execution_count": null,
   "metadata": {},
   "outputs": [],
   "source": [
    "from numpy import pi\n",
    "fig = plt.figure()\n",
    "ax = fig.add_subplot(111)\n",
    "l1, =ax.plot(df_m1_phvol[\"Va\"][\"X\"]*pi*5/180, -df_m1_phvol[\"Va\"][\"Y\"],linestyle='--')\n",
    "l2, =ax.plot(df_m1_phvol[\"Vb\"][\"X\"]*pi*5/180, -df_m1_phvol[\"Vb\"][\"Y\"],linestyle='--')\n",
    "l3, =ax.plot(df_m1_phvol[\"Vc\"][\"X\"]*pi*5/180, -df_m1_phvol[\"Vc\"][\"Y\"],linestyle='--')\n",
    "ax.plot(j2_df['angles'], j2_df['Back_EMF_0'], label='nominal Back_EMF_0', color=l1.get_color())\n",
    "ax.plot(j2_df['angles'], j2_df['Back_EMF_1'], label='nominal Back_EMF_1', color=l2.get_color())\n",
    "ax.plot(j2_df['angles'], j2_df['Back_EMF_2'], label='nominal Back_EMF_2', color=l3.get_color())\n",
    "ax.legend()"
   ]
  },
  {
   "cell_type": "code",
   "execution_count": null,
   "metadata": {},
   "outputs": [],
   "source": [
    "df_m1_phvol[\"Va\"][\"X\"]*(pi*5/180)"
   ]
  },
  {
   "cell_type": "code",
   "execution_count": null,
   "metadata": {},
   "outputs": [],
   "source": [
    "df_m1_torque = pd.read_csv(\"M1AverageTorqueNominal.csv\", names=[\"Angles\", \"Torque\"], header=0)\n",
    "df_m1_torque.head()"
   ]
  },
  {
   "cell_type": "code",
   "execution_count": null,
   "metadata": {},
   "outputs": [],
   "source": [
    "fig = plt.figure(2)\n",
    "ax = fig.add_subplot(111)\n",
    "l1, = ax.plot(j1_df['angles'], j1_df['Scaled Torque'], label='open cct Scaled Torque')\n",
    "l2, = ax.plot(j2_df['angles'], j2_df['Scaled Torque'], label='nominal Scaled Torque')\n",
    "mean_torque = j2_df['Scaled Torque'].mean()\n",
    "ax.axhline( mean_torque, label=f'Scaled Torque {mean_torque:2.4~P}', linestyle='--')\n",
    "target_torque = 24.26 * q.N * q.m\n",
    "ax.axhline( target_torque, label=f'Target {target_torque:2.4~P}', color='k', linestyle='--')\n",
    "ax.plot(df_m1_torque[\"Angles\"]*pi*5/180, df_m1_torque[\"Torque\"], label='nominal Torque')\n",
    "ax.legend()"
   ]
  },
  {
   "cell_type": "code",
   "execution_count": null,
   "metadata": {},
   "outputs": [],
   "source": []
  }
 ],
 "metadata": {
  "kernelspec": {
   "display_name": "ltc_test_py311",
   "language": "python",
   "name": "python3"
  },
  "language_info": {
   "codemirror_mode": {
    "name": "ipython",
    "version": 3
   },
   "file_extension": ".py",
   "mimetype": "text/x-python",
   "name": "python",
   "nbconvert_exporter": "python",
   "pygments_lexer": "ipython3",
   "version": "3.12.0"
  }
 },
 "nbformat": 4,
 "nbformat_minor": 2
}

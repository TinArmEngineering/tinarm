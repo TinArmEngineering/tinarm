{
 "cells": [
  {
   "cell_type": "code",
   "execution_count": null,
   "metadata": {},
   "outputs": [],
   "source": [
    "!pip install -r requirements.txt"
   ]
  },
  {
   "cell_type": "code",
   "execution_count": null,
   "metadata": {},
   "outputs": [],
   "source": [
    "import matplotlib.pyplot as plt\n",
    "import pint\n",
    "from tinarm import NameQuantityPair\n",
    "from tinarm import Quantity \n",
    "from tinarm.api import JOB_STATUS\n",
    "\n",
    "import tinarm\n",
    "import logging\n",
    "import time\n",
    "import requests\n",
    "import uuid\n",
    "import random\n",
    "import yaml\n",
    "import pandas as pd\n",
    "import pint_pandas\n"
   ]
  },
  {
   "cell_type": "code",
   "execution_count": null,
   "metadata": {},
   "outputs": [],
   "source": [
    "\n",
    "LOGGING_LEVEL = logging.INFO\n",
    "STATUS_JOB = {value:key for key,value in JOB_STATUS.items()}"
   ]
  },
  {
   "cell_type": "code",
   "execution_count": null,
   "metadata": {},
   "outputs": [],
   "source": [
    "\n",
    "### Configure Logging\n",
    "logger = logging.getLogger()\n",
    "logger.setLevel(LOGGING_LEVEL)\n",
    "logger.info(f\"tinarm version {tinarm.__version__}\")\n",
    "logger.info(f\"pint_pandas version {pint_pandas.__version__}\")\n",
    "\n",
    "q = pint_pandas.PintType.ureg\n",
    "q.setup_matplotlib()"
   ]
  },
  {
   "cell_type": "markdown",
   "metadata": {},
   "source": [
    "Log in to Tin Arm Engineering's machine solver, and under profile, retrieve your API key. \n",
    "Do not commit your API key to a repository, and consider it like a password.  A good way to keep it out of this code base is to use a configuation file, or environment variable. We will want other things cofigured too, so let's use a yaml file for convenience. \n",
    "\n",
    "create a `configurations.yaml` file in this directory with the content.\n",
    "```yaml\n",
    "api_key: 668952058c490d0a296da0abb966****\n",
    "root_url: http://server-go:4300\n",
    "```\n",
    "But of course replace the number with your api key\n",
    "\n",
    "You can then add that file to your `.gitignore` file by executing ```echo 'configurations.yaml' >> .gitignore```"
   ]
  },
  {
   "cell_type": "markdown",
   "metadata": {},
   "source": [
    "```\n",
    "!echo 'configurations.yaml' >> .gitignore\n",
    "```"
   ]
  },
  {
   "cell_type": "code",
   "execution_count": null,
   "metadata": {},
   "outputs": [],
   "source": [
    "with open(\"configurations.yaml\", \"r\") as f:\n",
    "    config = yaml.safe_load(f)"
   ]
  },
  {
   "cell_type": "markdown",
   "metadata": {},
   "source": [
    "# Stator"
   ]
  },
  {
   "cell_type": "code",
   "execution_count": null,
   "metadata": {},
   "outputs": [],
   "source": [
    "stator_parameters = {\n",
    "    \"slot_liner_thikness\": 300 * q.um,\n",
    "    \"stator_bore\": 8.20 * q.cm,\n",
    "    \"tooth_tip_depth\": 1.5 * q.mm,\n",
    "    \"slot_opening\": 1.5 * q.mm,\n",
    "    \"tooth_width\": 9.8 * q.mm,\n",
    "    \"stator_outer_diameter\": 0.136 * q.m,\n",
    "    \"back_iron_thickness\": 5.5 * q.mm,\n",
    "    \"stator_internal_radius\": 500 * q.um,\n",
    "    \"number_slots\": 12 * q.count,\n",
    "    \"tooth_tip_angle\": 70 * q.degrees\n",
    "    }\n",
    "\n",
    "air_gap_length = 1 * q.mm"
   ]
  },
  {
   "cell_type": "markdown",
   "metadata": {},
   "source": [
    "## Rotor\n",
    "Surface mounted Breadloaf magnets"
   ]
  },
  {
   "cell_type": "code",
   "execution_count": null,
   "metadata": {},
   "outputs": [],
   "source": [
    "rotor_parameters = {\n",
    "    \"rotor_od\": stator_parameters[\"stator_bore\"] - 2 * air_gap_length,\n",
    "    \"rotor_bore\": 40 * q.mm,\n",
    "    \"banding_thickness\": 0.5 * q.mm,\n",
    "    \"number_poles\": 10 * q.count,\n",
    "    \"magnet_thickness\": 4.5 * q.millimeter,\n",
    "    \"magnet_pole_arc\": 150 * q.degrees,\n",
    "    \"magnet_inset\": 0.25 * q.millimeter\n",
    "    }"
   ]
  },
  {
   "cell_type": "markdown",
   "metadata": {},
   "source": [
    "## Simulation Parameters"
   ]
  },
  {
   "cell_type": "code",
   "execution_count": null,
   "metadata": {},
   "outputs": [],
   "source": [
    "simulation_parameters = {\n",
    "       \"samples_per_electrical_period\": 180 * q.count/q.turn,\n",
    "        \"timestep_intervals\": 180 * q.count,\n",
    "        \"active_length\": 65 * q.mm}\n"
   ]
  },
  {
   "cell_type": "code",
   "execution_count": null,
   "metadata": {},
   "outputs": [],
   "source": [
    "winding_parameters = {\n",
    "    \"symmetry\": 2 * q.count,\n",
    "    \"number_phases\": 3 * q.count,\n",
    "    \"number_layers\": 2 * q.count,\n",
    "    \"coil_span\": 1 * q.count,\n",
    "    \"turns_per_coil\": 43 * q.count,\n",
    "    \"empty_slots\": 0 * q.count,\n",
    "    \"fill_factor\": 42 * q.percent\n",
    "    }"
   ]
  },
  {
   "cell_type": "markdown",
   "metadata": {},
   "source": [
    "## Operating Point"
   ]
  },
  {
   "cell_type": "code",
   "execution_count": null,
   "metadata": {},
   "outputs": [],
   "source": [
    "op_open_cct = {\n",
    "    \"simulated_speed\": 2060 * q.rpm,\n",
    "    \"current_density\": 0 * q.A / q.mm ** 2,\n",
    "    \"current_angle\": 0 * q.degrees\n",
    "    }\n",
    "\n",
    "op_nominal = {\n",
    "    'current_density': 6.23 * q.A * q.mm**-2,\n",
    "    'current_angle': 255 * q.degrees,\n",
    "    \"simulated_speed\": 2060 * q.rpm\n",
    "    }"
   ]
  },
  {
   "cell_type": "code",
   "execution_count": null,
   "metadata": {},
   "outputs": [],
   "source": [
    "class Machine(object):\n",
    "    def __init__(self, stator, rotor, winding):\n",
    "\n",
    "        self.stator = stator\n",
    "        self.rotor = rotor\n",
    "        self.winding = winding\n",
    "\n",
    "    def __repr__(self) -> str:\n",
    "        return f\"Machine({self.stator}, {self.rotor}, {self.winding})\"\n",
    "    \n",
    "    def to_api(self):\n",
    "        stator_api = [NameQuantityPair(\"stator\",\n",
    "                                        k,\n",
    "                                        Quantity(*self.stator[k].to_tuple())) for k in  self.stator]\n",
    "        rotor_api = [NameQuantityPair(\"rotor\",\n",
    "                                        k,\n",
    "                                        Quantity(*self.rotor[k].to_tuple())) for k in  self.rotor]\n",
    "        winding_api = [NameQuantityPair(\"winding\",\n",
    "                                        k,\n",
    "                                        Quantity(*self.winding[k].to_tuple())) for k in  self.winding]\n",
    "        data = []\n",
    "        data.extend(list(x.to_dict() for x in stator_api))\n",
    "        data.extend(list(x.to_dict() for x in rotor_api))\n",
    "        data.extend(list(x.to_dict() for x in winding_api))\n",
    "        return data\n",
    "        \n",
    "    \n",
    "class Job(object):\n",
    "    def __init__(self, machine: Machine, operating_point, simulation, title=None):\n",
    "        if title is None:\n",
    "            self.title = self.generate_title()\n",
    "        else:\n",
    "            self.title = title\n",
    "        self.type = \"electromagnetic_spmbrl_fscwseg\"\n",
    "        self.status = 0\n",
    "        self.machine = machine\n",
    "        self.operating_point = operating_point\n",
    "        self.simulation = simulation\n",
    "        \n",
    "    def __repr__(self) -> str:\n",
    "        return f\"Job({self.machine}, {self.operating_point}, {self.simulation})\"\n",
    "    \n",
    "    def generate_title(self):\n",
    "        \"gets a random title from the wordlists\"\n",
    "        random_offset = random.randint(500, 286797)\n",
    "        response = requests.get(\"https://github.com/taikuukaits/SimpleWordlists/raw/master/Wordlist-Adjectives-All.txt\",\n",
    "                                headers={'Range': 'bytes={1}-{0}'.format(random_offset, random_offset-500), 'accept-encoding': 'identity'})\n",
    "        adjective = random.choice(response.text.splitlines()[1:-1])\n",
    "        random_offset = random.randint(500, 871742)\n",
    "        response = requests.get(\"https://github.com/taikuukaits/SimpleWordlists/raw/master/Wordlist-Nouns-All.txt\",\n",
    "                                headers={'Range': 'bytes={1}-{0}'.format(random_offset, random_offset-500), 'accept-encoding': 'identity'})\n",
    "        noun = random.choice(response.text.splitlines()[1:-1])\n",
    "        title = f\"{adjective}-{noun}\"\n",
    "        return title \n",
    "\n",
    "    def to_api(self):\n",
    "        job =  {\"status\": 0,\n",
    "                \"title\": self.title,\n",
    "                \"type\": self.type,\n",
    "                \"tasks\": 11,\n",
    "                \"data\": []}\n",
    "        \n",
    "        operating_point_api = [NameQuantityPair(\"operating_point\",\n",
    "                                        k,\n",
    "                                        Quantity(*self.operating_point[k].to_tuple())) for k in  self.operating_point]\n",
    "        \n",
    "        simulation_api = [NameQuantityPair(\"simulation\",\n",
    "                                        k,\n",
    "                                        Quantity(*self.simulation[k].to_tuple())) for k in  self.simulation]\n",
    "        job[\"data\"].extend(list(x.to_dict() for x in operating_point_api))\n",
    "        job[\"data\"].extend(list(x.to_dict() for x in simulation_api))\n",
    "        job[\"data\"].extend(self.machine.to_api())\n",
    "        return job\n",
    "    \n",
    "    def run(self):\n",
    "        pass"
   ]
  },
  {
   "cell_type": "code",
   "execution_count": null,
   "metadata": {},
   "outputs": [],
   "source": [
    "class Api:\n",
    "    \"\"\"\n",
    "    The TAE User API\n",
    "    \"\"\"\n",
    "\n",
    "    def __init__(self, root_url, api_key, org_id=None):\n",
    "        \"\"\"\n",
    "        Initialize the API\n",
    "        \"\"\"\n",
    "        self._root_url = root_url\n",
    "        self._api_key = api_key\n",
    "        self._org_id = org_id\n",
    "        self._node_id = None\n",
    "\n",
    "        logger.info(f\"root_url: {self._root_url}\")\n",
    "\n",
    "    def get_job(self, job_id):\n",
    "        \"\"\"\n",
    "        Get a job from the TAE API\n",
    "        \"\"\"\n",
    "        response = requests.get(\n",
    "            url=f\"{self._root_url}/jobs/{job_id}?apikey={self._api_key}\",\n",
    "        )\n",
    "        response.raise_for_status()\n",
    "        return response.json()\n",
    "    \n",
    "    def create_job(self, job):\n",
    "        \"\"\"\n",
    "        Create a job for the TAE API\n",
    "        \"\"\"\n",
    "        response = requests.post(\n",
    "            url=f\"{self._root_url}/jobs/?apikey={self._api_key}&org_id={self._org_id}\",\n",
    "            json=job.to_api()\n",
    "        )\n",
    "        response.raise_for_status()\n",
    "        if response.status_code == 200:\n",
    "            job.id = response.json()[\"id\"]\n",
    "        return response.json()\n",
    "    \n",
    "    def update_job_status(self, job_id, status):\n",
    "        \"\"\"\n",
    "        Update a job status\n",
    "        \"\"\"\n",
    "        url = f\"{self._root_url}/jobs/{job_id}/status/{status}?node_id={self._node_id}&apikey={self._api_key}\"\n",
    "        logger.info(f\"Updating job status: {url}\")\n",
    "\n",
    "        response = requests.put(url=url)\n",
    "        return response.json()\n",
    "    \n",
    "    "
   ]
  },
  {
   "cell_type": "code",
   "execution_count": null,
   "metadata": {},
   "outputs": [],
   "source": [
    "api = Api(config[\"root_url\"], config[\"api_key\"], config[\"org_id\"])"
   ]
  },
  {
   "cell_type": "code",
   "execution_count": null,
   "metadata": {},
   "outputs": [],
   "source": [
    "m1 = Machine(stator_parameters, rotor_parameters, winding_parameters)\n",
    "\n",
    "j1 = Job(m1, op_open_cct, simulation_parameters)\n",
    "j1_result = api.create_job(j1)\n",
    "\n"
   ]
  },
  {
   "cell_type": "code",
   "execution_count": null,
   "metadata": {},
   "outputs": [],
   "source": [
    "\n",
    "j2 = Job(m1, op_nominal, simulation_parameters)\n",
    "j2_result = api.create_job(j2)"
   ]
  },
  {
   "cell_type": "code",
   "execution_count": null,
   "metadata": {},
   "outputs": [],
   "source": [
    "assert j1.id != j2.id\n"
   ]
  },
  {
   "cell_type": "code",
   "execution_count": null,
   "metadata": {},
   "outputs": [],
   "source": [
    "j1_result = api.update_job_status(j1.id, JOB_STATUS['QueuedForMeshing'])\n",
    "j2_result = api.update_job_status(j2.id, JOB_STATUS['QueuedForMeshing'])\n",
    "\n",
    "while STATUS_JOB[api.get_job(j1.id)['status']] != 'Complete' or STATUS_JOB[api.get_job(j2.id)['status']] != 'Complete':\n",
    "    print(\"job 1 {0} \\t job 2 {1}\".format(STATUS_JOB[api.get_job(j1.id)['status']], STATUS_JOB[api.get_job(j2.id)['status']] ))\n",
    "    time.sleep(10)\n",
    "time.sleep(1)"
   ]
  },
  {
   "cell_type": "code",
   "execution_count": null,
   "metadata": {},
   "outputs": [],
   "source": [
    "j1_result = api.get_job(j1.id)\n",
    "for artifact in j1_result['artifacts']:\n",
    "    print(artifact['type'], artifact['url'], artifact['id'])"
   ]
  },
  {
   "cell_type": "code",
   "execution_count": null,
   "metadata": {},
   "outputs": [],
   "source": [
    "j1_result_data = [art for art in j1_result['artifacts'] if art['type']=='RESULT_DATA'][0]\n",
    "j1_df = pd.read_csv(j1_result_data['url'], header=[0, 1], index_col=[0, 1]).pint.quantify(level=-1)"
   ]
  },
  {
   "cell_type": "code",
   "execution_count": null,
   "metadata": {},
   "outputs": [],
   "source": [
    "fig = plt.figure()\n",
    "ax = fig.add_subplot(111)\n",
    "ax.plot(j1_df['angles'], j1_df['Back_EMF_0'], label='Back_EMF_0')\n",
    "ax.plot(j1_df['angles'], j1_df['Back_EMF_1'], label='Back_EMF_1')\n",
    "ax.plot(j1_df['angles'], j1_df['Back_EMF_2'], label='Back_EMF_2')"
   ]
  },
  {
   "cell_type": "code",
   "execution_count": null,
   "metadata": {},
   "outputs": [],
   "source": [
    "j2_result = api.get_job(j2.id)\n",
    "for artifact in j2_result['artifacts']:\n",
    "    print(artifact['type'], artifact['url'], artifact['id'])\n",
    "time.sleep(1)    "
   ]
  },
  {
   "cell_type": "code",
   "execution_count": null,
   "metadata": {},
   "outputs": [],
   "source": [
    "j2_result_data = [art for art in j2_result['artifacts'] if art['type']=='RESULT_DATA'][0]\n",
    "j2_df = pd.read_csv(j2_result_data['url'], header=[0, 1], index_col=[0, 1]).pint.quantify(level=-1)"
   ]
  },
  {
   "cell_type": "code",
   "execution_count": null,
   "metadata": {},
   "outputs": [],
   "source": [
    "fig = plt.figure()\n",
    "ax = fig.add_subplot(111)\n",
    "l1, = ax.plot(j1_df['angles'], j1_df['Back_EMF_0'], label='Back_EMF_0', linestyle='--')\n",
    "l2, = ax.plot(j1_df['angles'], j1_df['Back_EMF_1'], label='Back_EMF_1', linestyle='--',)\n",
    "l3, = ax.plot(j1_df['angles'], j1_df['Back_EMF_2'], label='Back_EMF_2', linestyle='--')\n",
    "ax.plot(j2_df['angles'], j2_df['Back_EMF_0'], label='nominal Back_EMF_0', color=l1.get_color())\n",
    "ax.plot(j2_df['angles'], j2_df['Back_EMF_1'], label='nominal Back_EMF_1', color=l2.get_color())\n",
    "ax.plot(j2_df['angles'], j2_df['Back_EMF_2'], label='nominal Back_EMF_2', color=l3.get_color())\n",
    "ax.legend()"
   ]
  },
  {
   "cell_type": "code",
   "execution_count": null,
   "metadata": {},
   "outputs": [],
   "source": [
    "\n",
    "fig = plt.figure(2)\n",
    "ax = fig.add_subplot(111)\n",
    "l1, = ax.plot(j1_df['angles'], j1_df['Scaled Torque'], label='open cct Scaled Torque')\n",
    "l2, = ax.plot(j2_df['angles'], j2_df['Scaled Torque'], label='nominal Scaled Torque')\n",
    "mean_torque = j2_df['Scaled Torque'].mean()\n",
    "ax.axhline( mean_torque, label=f'Scaled Torque {mean_torque:2.4~P}', linestyle='--')\n",
    "target_torque = 24.26 * q.N * q.m\n",
    "ax.axhline( target_torque, label=f'Target {target_torque:2.4~P}', color='k', linestyle='--')\n",
    "\n",
    "ax.legend()"
   ]
  },
  {
   "cell_type": "code",
   "execution_count": null,
   "metadata": {},
   "outputs": [],
   "source": [
    "m1_df = pd.read_csv(\"Machine_Back_emfs_Machine_1.csv\", skiprows=1, header=[0, 1], index_col=[0]).pint.quantify(level=-1)\n",
    "m1_df.head()\n"
   ]
  },
  {
   "cell_type": "code",
   "execution_count": null,
   "metadata": {},
   "outputs": [],
   "source": [
    "m1_df['Angles electrical'] = pint_pandas.PintArray(m1_df.index * m1.rotor['number_poles'] / 2, dtype=\"pint[degree]\")\n",
    "m1_df.dtypes"
   ]
  },
  {
   "cell_type": "code",
   "execution_count": null,
   "metadata": {},
   "outputs": [],
   "source": [
    "fig = plt.figure(3)\n",
    "ax = fig.add_subplot(111)\n",
    "l1, = ax.plot(j1_df['angles'], -j1_df['Back_EMF_0'], label='Back_EMF_0', linestyle='--')\n",
    "l2, = ax.plot(j1_df['angles'], -j1_df['Back_EMF_1'], label='Back_EMF_1', linestyle='--',)\n",
    "l3, = ax.plot(j1_df['angles'], -j1_df['Back_EMF_2'], label='Back_EMF_2', linestyle='--')\n",
    "ax.plot(m1_df['Angles electrical'].pint.to(\"radians\"), m1_df['Phase A'], label='Phase A', color=l1.get_color())\n",
    "ax.plot(m1_df['Angles electrical'].pint.to(\"radians\"), m1_df['Phase B'], label='Phase B', color=l2.get_color())\n",
    "ax.plot(m1_df['Angles electrical'].pint.to(\"radians\"), m1_df['Phase C'], label='Phase C', color=l3.get_color())\n"
   ]
  },
  {
   "cell_type": "code",
   "execution_count": null,
   "metadata": {},
   "outputs": [],
   "source": [
    "df_m1_phvol = pd.read_csv(\"m1_phase_voltage_nominal.csv\",  header=[0, 1])\n",
    "df_m1_phvol.head()"
   ]
  },
  {
   "cell_type": "code",
   "execution_count": null,
   "metadata": {},
   "outputs": [],
   "source": [
    "from numpy import pi\n",
    "fig = plt.figure()\n",
    "ax = fig.add_subplot(111)\n",
    "l1, =ax.plot(df_m1_phvol[\"Va\"][\"X\"]*pi*5/180, -df_m1_phvol[\"Va\"][\"Y\"],linestyle='--')\n",
    "l2, =ax.plot(df_m1_phvol[\"Vb\"][\"X\"]*pi*5/180, -df_m1_phvol[\"Vb\"][\"Y\"],linestyle='--')\n",
    "l3, =ax.plot(df_m1_phvol[\"Vc\"][\"X\"]*pi*5/180, -df_m1_phvol[\"Vc\"][\"Y\"],linestyle='--')\n",
    "ax.plot(j2_df['angles'], j2_df['Back_EMF_0'], label='nominal Back_EMF_0', color=l1.get_color())\n",
    "ax.plot(j2_df['angles'], j2_df['Back_EMF_1'], label='nominal Back_EMF_1', color=l2.get_color())\n",
    "ax.plot(j2_df['angles'], j2_df['Back_EMF_2'], label='nominal Back_EMF_2', color=l3.get_color())\n",
    "ax.legend()"
   ]
  },
  {
   "cell_type": "code",
   "execution_count": null,
   "metadata": {},
   "outputs": [],
   "source": [
    "df_m1_phvol[\"Va\"][\"X\"]*(pi*5/180)"
   ]
  },
  {
   "cell_type": "code",
   "execution_count": null,
   "metadata": {},
   "outputs": [],
   "source": [
    "df_m1_torque = pd.read_csv(\"M1AverageTorqueNominal.csv\", names=[\"Angles\", \"Torque\"], header=0)\n",
    "df_m1_torque.head()"
   ]
  },
  {
   "cell_type": "code",
   "execution_count": null,
   "metadata": {},
   "outputs": [],
   "source": [
    "fig = plt.figure(2)\n",
    "ax = fig.add_subplot(111)\n",
    "l1, = ax.plot(j1_df['angles'], j1_df['Scaled Torque'], label='open cct Scaled Torque')\n",
    "l2, = ax.plot(j2_df['angles'], j2_df['Scaled Torque'], label='nominal Scaled Torque')\n",
    "mean_torque = j2_df['Scaled Torque'].mean()\n",
    "ax.axhline( mean_torque, label=f'Scaled Torque {mean_torque:2.4~P}', linestyle='--')\n",
    "target_torque = 24.26 * q.N * q.m\n",
    "ax.axhline( target_torque, label=f'Target {target_torque:2.4~P}', color='k', linestyle='--')\n",
    "ax.plot(df_m1_torque[\"Angles\"]*pi*5/180, df_m1_torque[\"Torque\"], label='nominal Torque')\n",
    "ax.legend()"
   ]
  },
  {
   "cell_type": "code",
   "execution_count": null,
   "metadata": {},
   "outputs": [],
   "source": []
  }
 ],
 "metadata": {
  "kernelspec": {
   "display_name": "ltc_test_py311",
   "language": "python",
   "name": "python3"
  },
  "language_info": {
   "codemirror_mode": {
    "name": "ipython",
    "version": 3
   },
   "file_extension": ".py",
   "mimetype": "text/x-python",
   "name": "python",
   "nbconvert_exporter": "python",
   "pygments_lexer": "ipython3",
   "version": "3.12.0"
  }
 },
 "nbformat": 4,
 "nbformat_minor": 2
}

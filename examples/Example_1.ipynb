{
 "cells": [
  {
   "cell_type": "code",
   "execution_count": 36,
   "metadata": {},
   "outputs": [
    {
     "name": "stdout",
     "output_type": "stream",
     "text": [
      "2024-01-18 12:44:20,281 - NoJobId - INFO - Martins-MacBook-Air.local - 800482112.py-><module>() - tinarm version 0.1\n"
     ]
    }
   ],
   "source": [
    "import pint\n",
    "from tinarm import NameQuantityPair\n",
    "from tinarm import Quantity as OldQuantity\n",
    "from tinarm import Unit as OldUnit\n",
    "import tinarm\n",
    "import logging\n",
    "import time\n",
    "import requests\n",
    "import uuid\n",
    "import random\n",
    "\n",
    "LOGGING_LEVEL = logging.INFO\n",
    "\n",
    "\n",
    "### Configure Logging\n",
    "logger = logging.getLogger()\n",
    "logger.setLevel(LOGGING_LEVEL)\n",
    "logger.info(f\"tinarm version {tinarm.__version__}\")\n",
    "q = pint.UnitRegistry()\n"
   ]
  },
  {
   "cell_type": "markdown",
   "metadata": {},
   "source": [
    "Log in to Tin Arm Engineering's machine solver, and under profile, retrieve your API key. \n",
    "Do not commit your API key to a repository, and consider it like a password.  A good way to keep it out of this code base is to use a configuation file, or environment variable. We will want other things cofigured too, so let's use a yaml file for convenience. \n",
    "\n",
    "create a `configurations.yaml` file in this directory with the content.\n",
    "```yaml\n",
    "api_key: 668952058c490d0a296da0abb966****\n",
    "root_url: http://server-go:4300\n",
    "```\n",
    "But of course replace the number with your api key\n",
    "\n",
    "You can then add that file to your `.gitignore` file by executing ```echo 'configurations.yaml' >> .gitignore```"
   ]
  },
  {
   "cell_type": "markdown",
   "metadata": {},
   "source": [
    "```\n",
    "!echo 'configurations.yaml' >> .gitignore\n",
    "```"
   ]
  },
  {
   "cell_type": "code",
   "execution_count": 37,
   "metadata": {},
   "outputs": [],
   "source": [
    "import yaml\n",
    "\n",
    "with open(\"configurations.yaml\", \"r\") as f:\n",
    "    config = yaml.safe_load(f)"
   ]
  },
  {
   "cell_type": "markdown",
   "metadata": {},
   "source": [
    "# Stator"
   ]
  },
  {
   "cell_type": "code",
   "execution_count": 51,
   "metadata": {},
   "outputs": [],
   "source": [
    "stator_parameters = {\n",
    "    \"slot_liner_thikness\": 200 *q.um,\n",
    "    \"stator_bore\": 8.20 * q.cm,\n",
    "    \"tooth_tip_depth\": 1.5 * q.mm,\n",
    "    \"slot_opening\": 4 * q.mm,\n",
    "    \"tooth_width\": 9.8 * q.mm,\n",
    "    \"stator_outer_diameter\": 136 * q.mm,\n",
    "    \"back_iron_thickness\": 5.5 * q.mm,\n",
    "    \"stator_internal_radius\": 1 * q.mm,\n",
    "    \"number_slots\": 12 * q.count,\n",
    "    \"tooth_tip_angle\": 70 * q.degrees\n",
    "    }\n",
    "\n",
    "air_gap_length = 1 * q.mm"
   ]
  },
  {
   "cell_type": "markdown",
   "metadata": {},
   "source": [
    "## Rotor\n",
    "Surface mounted Breadloaf magnets"
   ]
  },
  {
   "cell_type": "code",
   "execution_count": 49,
   "metadata": {},
   "outputs": [],
   "source": [
    "rotor_parameters = {\n",
    "    \"rotor_od\": stator_parameters[\"stator_bore\"] - 2 * air_gap_length,\n",
    "    \"rotor_bore\": 40 * q.mm,\n",
    "    \"banding_thickness\": 0.5 * q.mm,\n",
    "    \"number_poles\": 10 * q.count,\n",
    "    \"magnet_thickness\": 4.5 * q.millimeter,\n",
    "    \"magnet_pole_arc\": 150 * q.degrees,\n",
    "    \"magnet_inset\": 250 * q.micrometer,\n",
    "    }"
   ]
  },
  {
   "cell_type": "markdown",
   "metadata": {},
   "source": [
    "## Simulation Parameters"
   ]
  },
  {
   "cell_type": "code",
   "execution_count": 40,
   "metadata": {},
   "outputs": [],
   "source": [
    "simulation_parameters = {\n",
    "       \"samples_per_electrical_period\": 180 * q.count/q.turn,\n",
    "        \"timestep_intervals\": 180 * q.count,\n",
    "        \"active_length\": 65 * q.mm}\n"
   ]
  },
  {
   "cell_type": "code",
   "execution_count": 41,
   "metadata": {},
   "outputs": [],
   "source": [
    "winding_parameters = {\n",
    "    \"symmetry\": 2 * q.count,\n",
    "    \"number_phases\": 3 * q.count,\n",
    "    \"number_layers\": 2 * q.count,\n",
    "    \"coil_span\": 1 * q.count,\n",
    "    \"turns_per_coil\": 43 * q.count,\n",
    "    \"empty_slots\": 0 * q.count,\n",
    "    \"fill_factor\": 42 * q.percent\n",
    "    }"
   ]
  },
  {
   "cell_type": "markdown",
   "metadata": {},
   "source": [
    "## Operating Point"
   ]
  },
  {
   "cell_type": "code",
   "execution_count": 42,
   "metadata": {},
   "outputs": [],
   "source": [
    "op_parameters = {\n",
    "    \"simulated_speed\": 2060 * q.rpm,\n",
    "    \"current_density\": 0 * q.A / q.mm ** 2,\n",
    "    \"current_angle\": 0 * q.degrees\n",
    "    }"
   ]
  },
  {
   "cell_type": "code",
   "execution_count": 43,
   "metadata": {},
   "outputs": [],
   "source": [
    "class Unit:\n",
    "    def __init__(self, name: str, exponent: int):\n",
    "        self.name = name\n",
    "        self.exponent = int(exponent)\n",
    "\n",
    "    def to_dict(self):\n",
    "        return {\n",
    "            \"name\": self.name,\n",
    "            \"exponent\": self.exponent,\n",
    "        }\n",
    "    \n",
    "class Quantity:\n",
    "    def __init__(self, magnitude, units: list[Unit]):\n",
    "        self.magnitude = magnitude\n",
    "        self.units = [Unit(*u) if type(u) != Unit else u for u in units]\n",
    "\n",
    "    def to_dict(self):\n",
    "        return {\n",
    "            \"magnitude\": self.magnitude,\n",
    "            \"units\": [u.to_dict() for u in self.units],\n",
    "        }"
   ]
  },
  {
   "cell_type": "code",
   "execution_count": 44,
   "metadata": {},
   "outputs": [
    {
     "data": {
      "text/plain": [
       "<tinarm.api.Quantity at 0x10e5cdbd0>"
      ]
     },
     "execution_count": 44,
     "metadata": {},
     "output_type": "execute_result"
    }
   ],
   "source": [
    "OldQuantity(4242, [Unit(\"millimeter\", 2), Unit(\"second\", -1)])\n"
   ]
  },
  {
   "cell_type": "code",
   "execution_count": 45,
   "metadata": {},
   "outputs": [],
   "source": [
    "class Machine(object):\n",
    "    def __init__(self, stator, rotor, winding):\n",
    "\n",
    "        self.stator = stator\n",
    "        self.rotor = rotor\n",
    "        self.winding = winding\n",
    "\n",
    "    def __repr__(self) -> str:\n",
    "        return f\"Machine({self.stator_parameters}, {self.rotor_parameters}, {self.winding_parameters})\"\n",
    "    \n",
    "    def to_api(self):\n",
    "        stator_api = [NameQuantityPair(\"stator\",\n",
    "                                        k,\n",
    "                                        Quantity(*self.stator[k].to_tuple())) for k in  self.stator]\n",
    "        rotor_api = [NameQuantityPair(\"rotor\",\n",
    "                                        k,\n",
    "                                        Quantity(*self.rotor[k].to_tuple())) for k in  self.rotor]\n",
    "        winding_api = [NameQuantityPair(\"winding\",\n",
    "                                        k,\n",
    "                                        Quantity(*self.winding[k].to_tuple())) for k in  self.winding]\n",
    "        data = []\n",
    "        data.extend(list(x.to_dict() for x in stator_api))\n",
    "        data.extend(list(x.to_dict() for x in rotor_api))\n",
    "        data.extend(list(x.to_dict() for x in winding_api))\n",
    "        return data\n",
    "        \n",
    "    \n",
    "class Job(object):\n",
    "    def __init__(self, machine: Machine, operating_point, simulation, title=None):\n",
    "        if title is None:\n",
    "            self.title = self.generate_title()\n",
    "        else:\n",
    "            self.title = title\n",
    "        self.type = \"electromagnetic_spmbrl_fscwseg\"\n",
    "        self.status = 0\n",
    "        self.machine = machine\n",
    "        self.operating_point = operating_point\n",
    "        self.simulation = simulation\n",
    "        \n",
    "    def __repr__(self) -> str:\n",
    "        return f\"Job({self.machine}, {self.operating_point}, {self.simulation})\"\n",
    "    \n",
    "    def generate_title(self):\n",
    "        \"gets a random title from the wordlists\"\n",
    "        random_offset = random.randint(500, 286797)\n",
    "        response = requests.get(\"https://github.com/taikuukaits/SimpleWordlists/raw/master/Wordlist-Adjectives-All.txt\",\n",
    "                                headers={'Range': 'bytes={1}-{0}'.format(random_offset, random_offset-500), 'accept-encoding': 'identity'})\n",
    "        adjective = random.choice(response.text.splitlines()[1:-1])\n",
    "        random_offset = random.randint(500, 871742)\n",
    "        response = requests.get(\"https://github.com/taikuukaits/SimpleWordlists/raw/master/Wordlist-Nouns-All.txt\",\n",
    "                                headers={'Range': 'bytes={1}-{0}'.format(random_offset, random_offset-500), 'accept-encoding': 'identity'})\n",
    "        noun = random.choice(response.text.splitlines()[1:-1])\n",
    "        title = f\"{adjective}-{noun}\"\n",
    "        return title \n",
    "\n",
    "    def to_api(self):\n",
    "        job =  {\"status\": 0,\n",
    "                \"title\": self.title,\n",
    "                \"type\": self.type,\n",
    "                \"tasks\": 11,\n",
    "                \"data\": []}\n",
    "        \n",
    "        operating_point_api = [NameQuantityPair(\"operating_point\",\n",
    "                                        k,\n",
    "                                        Quantity(*op_parameters[k].to_tuple())) for k in  op_parameters]\n",
    "        \n",
    "        simulation_api = [NameQuantityPair(\"simulation\",\n",
    "                                        k,\n",
    "                                        Quantity(*simulation_parameters[k].to_tuple())) for k in  simulation_parameters]\n",
    "        job[\"data\"].extend(list(x.to_dict() for x in operating_point_api))\n",
    "        job[\"data\"].extend(list(x.to_dict() for x in simulation_api))\n",
    "        job[\"data\"].extend(self.machine.to_api())\n",
    "        return job\n",
    "    \n",
    "    def run(self):\n",
    "        pass"
   ]
  },
  {
   "cell_type": "code",
   "execution_count": 46,
   "metadata": {},
   "outputs": [],
   "source": [
    "class Api:\n",
    "    \"\"\"\n",
    "    The TAE User API\n",
    "    \"\"\"\n",
    "\n",
    "    def __init__(self, root_url, api_key):\n",
    "        \"\"\"\n",
    "        Initialize the API\n",
    "        \"\"\"\n",
    "        self._root_url = root_url\n",
    "        self._api_key = api_key\n",
    "        self._org_id = \"\"#\"659bf5a7b7135efed48311ba\"\n",
    "\n",
    "        logger.info(f\"root_url: {self._root_url}\")\n",
    "\n",
    "    def get_job(self, job_id):\n",
    "        \"\"\"\n",
    "        Get a job from the TAE API\n",
    "        \"\"\"\n",
    "        response = requests.get(\n",
    "            url=f\"{self._root_url}/jobs/{job_id}?apikey={self._api_key}\",\n",
    "        )\n",
    "        response.raise_for_status()\n",
    "        return response.json()\n",
    "    \n",
    "    def create_job(self, job):\n",
    "        \"\"\"\n",
    "        Create a job for the TAE API\n",
    "        \"\"\"\n",
    "        response = requests.post(\n",
    "            url=f\"{self._root_url}/jobs/?apikey={self._api_key}&org_id={self._org_id}\",\n",
    "            json=job.to_api()\n",
    "        )\n",
    "        response.raise_for_status()\n",
    "        return response.json()\n",
    "    "
   ]
  },
  {
   "cell_type": "code",
   "execution_count": 47,
   "metadata": {},
   "outputs": [
    {
     "name": "stdout",
     "output_type": "stream",
     "text": [
      "2024-01-18 12:44:20,677 - NoJobId - INFO - Martins-MacBook-Air.local - 1293051725.py->__init__() - root_url: http://localhost:4301\n"
     ]
    }
   ],
   "source": [
    "api = Api(config[\"root_url\"], config[\"api_key\"])"
   ]
  },
  {
   "cell_type": "code",
   "execution_count": 48,
   "metadata": {},
   "outputs": [
    {
     "data": {
      "text/plain": [
       "{'id': '65a90f15b0696af2d6bf98be',\n",
       " 'owner_user_id': '65a6502069420b5a7777bf26',\n",
       " 'creation_date': '2024-01-18T11:44:21Z',\n",
       " 'status': 0,\n",
       " 'title': 'costive-craniology',\n",
       " 'type': 'electromagnetic_spmbrl_fscwseg',\n",
       " 'data': [{'section': 'operating_point',\n",
       "   'name': 'simulated_speed',\n",
       "   'value': {'magnitude': 2060,\n",
       "    'units': [{'name': 'revolutions_per_minute', 'exponent': 1}]}},\n",
       "  {'section': 'operating_point',\n",
       "   'name': 'current_density',\n",
       "   'value': {'magnitude': 0,\n",
       "    'units': [{'name': 'ampere', 'exponent': 1},\n",
       "     {'name': 'millimeter', 'exponent': -2}]}},\n",
       "  {'section': 'operating_point',\n",
       "   'name': 'current_angle',\n",
       "   'value': {'magnitude': 0, 'units': [{'name': 'degree', 'exponent': 1}]}},\n",
       "  {'section': 'simulation',\n",
       "   'name': 'samples_per_electrical_period',\n",
       "   'value': {'magnitude': 180,\n",
       "    'units': [{'name': 'count', 'exponent': 1},\n",
       "     {'name': 'turn', 'exponent': -1}]}},\n",
       "  {'section': 'simulation',\n",
       "   'name': 'timestep_intervals',\n",
       "   'value': {'magnitude': 180, 'units': [{'name': 'count', 'exponent': 1}]}},\n",
       "  {'section': 'simulation',\n",
       "   'name': 'active_length',\n",
       "   'value': {'magnitude': 65,\n",
       "    'units': [{'name': 'millimeter', 'exponent': 1}]}},\n",
       "  {'section': 'stator',\n",
       "   'name': 'slot_liner_thikness',\n",
       "   'value': {'magnitude': 0.2,\n",
       "    'units': [{'name': 'millimeter', 'exponent': 1}]}},\n",
       "  {'section': 'stator',\n",
       "   'name': 'stator_bore',\n",
       "   'value': {'magnitude': 82,\n",
       "    'units': [{'name': 'millimeter', 'exponent': 1}]}},\n",
       "  {'section': 'stator',\n",
       "   'name': 'tooth_tip_depth',\n",
       "   'value': {'magnitude': 1.5,\n",
       "    'units': [{'name': 'millimeter', 'exponent': 1}]}},\n",
       "  {'section': 'stator',\n",
       "   'name': 'slot_opening',\n",
       "   'value': {'magnitude': 4,\n",
       "    'units': [{'name': 'millimeter', 'exponent': 1}]}},\n",
       "  {'section': 'stator',\n",
       "   'name': 'tooth_width',\n",
       "   'value': {'magnitude': 9.8,\n",
       "    'units': [{'name': 'millimeter', 'exponent': 1}]}},\n",
       "  {'section': 'stator',\n",
       "   'name': 'stator_outer_diameter',\n",
       "   'value': {'magnitude': 136,\n",
       "    'units': [{'name': 'millimeter', 'exponent': 1}]}},\n",
       "  {'section': 'stator',\n",
       "   'name': 'back_iron_thickness',\n",
       "   'value': {'magnitude': 5.5,\n",
       "    'units': [{'name': 'millimeter', 'exponent': 1}]}},\n",
       "  {'section': 'stator',\n",
       "   'name': 'stator_internal_radius',\n",
       "   'value': {'magnitude': 1,\n",
       "    'units': [{'name': 'millimeter', 'exponent': 1}]}},\n",
       "  {'section': 'stator',\n",
       "   'name': 'number_slots',\n",
       "   'value': {'magnitude': 12, 'units': [{'name': 'count', 'exponent': 1}]}},\n",
       "  {'section': 'stator',\n",
       "   'name': 'tooth_tip_angle',\n",
       "   'value': {'magnitude': 70, 'units': [{'name': 'degree', 'exponent': 1}]}},\n",
       "  {'section': 'rotor',\n",
       "   'name': 'rotor_od',\n",
       "   'value': {'magnitude': 80,\n",
       "    'units': [{'name': 'millimeter', 'exponent': 1}]}},\n",
       "  {'section': 'rotor',\n",
       "   'name': 'rotor_bore',\n",
       "   'value': {'magnitude': 40,\n",
       "    'units': [{'name': 'millimeter', 'exponent': 1}]}},\n",
       "  {'section': 'rotor',\n",
       "   'name': 'banding_thickness',\n",
       "   'value': {'magnitude': 0.5,\n",
       "    'units': [{'name': 'millimeter', 'exponent': 1}]}},\n",
       "  {'section': 'rotor',\n",
       "   'name': 'number_poles',\n",
       "   'value': {'magnitude': 10, 'units': [{'name': 'count', 'exponent': 1}]}},\n",
       "  {'section': 'rotor',\n",
       "   'name': 'magnet_thickness',\n",
       "   'value': {'magnitude': 4.5,\n",
       "    'units': [{'name': 'millimeter', 'exponent': 1}]}},\n",
       "  {'section': 'rotor',\n",
       "   'name': 'magnet_pole_arc',\n",
       "   'value': {'magnitude': 150, 'units': [{'name': 'degree', 'exponent': 1}]}},\n",
       "  {'section': 'rotor',\n",
       "   'name': 'magnet_inset',\n",
       "   'value': {'magnitude': 0.25,\n",
       "    'units': [{'name': 'millimeter', 'exponent': 1}]}},\n",
       "  {'section': 'winding',\n",
       "   'name': 'symmetry',\n",
       "   'value': {'magnitude': 2, 'units': [{'name': 'count', 'exponent': 1}]}},\n",
       "  {'section': 'winding',\n",
       "   'name': 'number_phases',\n",
       "   'value': {'magnitude': 3, 'units': [{'name': 'count', 'exponent': 1}]}},\n",
       "  {'section': 'winding',\n",
       "   'name': 'number_layers',\n",
       "   'value': {'magnitude': 2, 'units': [{'name': 'count', 'exponent': 1}]}},\n",
       "  {'section': 'winding',\n",
       "   'name': 'coil_span',\n",
       "   'value': {'magnitude': 1, 'units': [{'name': 'count', 'exponent': 1}]}},\n",
       "  {'section': 'winding',\n",
       "   'name': 'turns_per_coil',\n",
       "   'value': {'magnitude': 43, 'units': [{'name': 'count', 'exponent': 1}]}},\n",
       "  {'section': 'winding',\n",
       "   'name': 'empty_slots',\n",
       "   'value': {'magnitude': 0, 'units': [{'name': 'count', 'exponent': 1}]}},\n",
       "  {'section': 'winding',\n",
       "   'name': 'fill_factor',\n",
       "   'value': {'magnitude': 42, 'units': [{'name': 'percent', 'exponent': 1}]}}]}"
      ]
     },
     "execution_count": 48,
     "metadata": {},
     "output_type": "execute_result"
    }
   ],
   "source": [
    "m1 = Machine(stator_parameters, rotor_parameters, winding_parameters)\n",
    "\n",
    "j1 = Job(m1, op_parameters, simulation_parameters)\n",
    "\n",
    "api.create_job(j1)\n"
   ]
  },
  {
   "cell_type": "code",
   "execution_count": null,
   "metadata": {},
   "outputs": [],
   "source": []
  },
  {
   "cell_type": "code",
   "execution_count": null,
   "metadata": {},
   "outputs": [],
   "source": []
  }
 ],
 "metadata": {
  "kernelspec": {
   "display_name": "ltc_test_py311",
   "language": "python",
   "name": "python3"
  },
  "language_info": {
   "codemirror_mode": {
    "name": "ipython",
    "version": 3
   },
   "file_extension": ".py",
   "mimetype": "text/x-python",
   "name": "python",
   "nbconvert_exporter": "python",
   "pygments_lexer": "ipython3",
   "version": "3.11.3"
  }
 },
 "nbformat": 4,
 "nbformat_minor": 2
}

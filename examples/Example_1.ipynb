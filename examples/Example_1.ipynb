{
 "cells": [
  {
   "cell_type": "code",
   "execution_count": 1,
   "metadata": {},
   "outputs": [],
   "source": [
    "import pint\n",
    "from tinarm import NameQuantityPair\n",
    "from tinarm import Quantity as OldQuantity\n",
    "from tinarm import Unit as OldUnit\n",
    "import logging\n",
    "import time\n",
    "import requests\n",
    "import uuid\n",
    "import random\n",
    "\n",
    "LOGGING_LEVEL = logging.INFO\n",
    "\n",
    "\n",
    "### Configure Logging\n",
    "logger = logging.getLogger()\n",
    "logger.setLevel(LOGGING_LEVEL)\n",
    "\n",
    "q = pint.UnitRegistry()\n"
   ]
  },
  {
   "cell_type": "markdown",
   "metadata": {},
   "source": [
    "Log in to Tin Arm Engineering's machine solver, and under profile, retrieve your API key. \n",
    "Do not commit your API key to a repository, and consider it like a password.  A good way to keep it out of this code base is to use a configuation file, or environment variable. We will want other things cofigured too, so let's use a yaml file for convenience. \n",
    "\n",
    "create a `configurations.yaml` file in this directory with the content.\n",
    "```yaml\n",
    "api_key: 668952058c490d0a296da0abb966****\n",
    "root_url: http://server-go:4300\n",
    "```\n",
    "But of course replace the number with your api key\n",
    "\n",
    "You can then add that file to your `.gitignore` file by executing ```echo 'configurations.yaml' >> .gitignore```"
   ]
  },
  {
   "cell_type": "markdown",
   "metadata": {},
   "source": [
    "```\n",
    "!echo 'configurations.yaml' >> .gitignore\n",
    "```"
   ]
  },
  {
   "cell_type": "code",
   "execution_count": 2,
   "metadata": {},
   "outputs": [],
   "source": [
    "import yaml\n",
    "\n",
    "with open(\"configurations.yaml\", \"r\") as f:\n",
    "    config = yaml.safe_load(f)\n",
    "\n"
   ]
  },
  {
   "cell_type": "markdown",
   "metadata": {},
   "source": [
    "# Stator"
   ]
  },
  {
   "cell_type": "code",
   "execution_count": 3,
   "metadata": {},
   "outputs": [],
   "source": [
    "stator_parameters = {\n",
    "    \"slot_liner_thikness\": 0.2 * q.mm,\n",
    "    \"stator_bore\": 82.0 * q.mm,\n",
    "    \"tooth_tip_depth\": 1.5 * q.mm,\n",
    "    \"slot_opening\": 4 * q.mm,\n",
    "    \"tooth_width\": 9.8 * q.mm,\n",
    "    \"stator_outer_diameter\": 136 * q.mm,\n",
    "    \"back_iron_thickness\": 5.5 * q.mm,\n",
    "    \"stator_internal_radius\": 1 * q.mm,\n",
    "    \"number_slots\": 12 * q.count,\n",
    "    \"tooth_tip_angle\": 70 * q.degrees\n",
    "    }\n",
    "\n",
    "air_gap_length = 1 * q.mm"
   ]
  },
  {
   "cell_type": "markdown",
   "metadata": {},
   "source": [
    "## Rotor\n",
    "Surface mounted Breadloaf magnets"
   ]
  },
  {
   "cell_type": "code",
   "execution_count": 4,
   "metadata": {},
   "outputs": [],
   "source": [
    "rotor_parameters = {\n",
    "    \"rotor_od\": stator_parameters[\"stator_bore\"] - 2 * air_gap_length,\n",
    "    \"rotor_bore\": 40 * q.mm,\n",
    "    \"banding_thickness\": 0.5 * q.mm,\n",
    "    \"number_poles\": 10 * q.count,\n",
    "    \"magnet_thickness\": 4.5 * q.millimeter,\n",
    "    \"magnet_pole_arc\": 150 * q.degrees,\n",
    "    \"magnet_inset\": 0.25 * q.millimeter\n",
    "    }"
   ]
  },
  {
   "cell_type": "markdown",
   "metadata": {},
   "source": [
    "## Simulation Parameters"
   ]
  },
  {
   "cell_type": "code",
   "execution_count": 5,
   "metadata": {},
   "outputs": [],
   "source": [
    "simulation_parameters = {\n",
    "       \"samples_per_electrical_period\": 180 * q.count,\n",
    "        \"timestep_intervals\": 180 * q.count,\n",
    "        \"active_length\": 65 * q.mm}\n"
   ]
  },
  {
   "cell_type": "code",
   "execution_count": 6,
   "metadata": {},
   "outputs": [],
   "source": [
    "winding_parameters = {\n",
    "    \"symmetry\": 2 * q.count,\n",
    "    \"number_phases\": 3 * q.count,\n",
    "    \"number_layers\": 2 * q.count,\n",
    "    \"coil_span\": 1 * q.count,\n",
    "    \"turns_per_coil\": 43 * q.count,\n",
    "    \"empty_slots\": 0 * q.count,\n",
    "    \"fill_factor\": 42 * q.percent\n",
    "    }"
   ]
  },
  {
   "cell_type": "markdown",
   "metadata": {},
   "source": [
    "## Operating Point"
   ]
  },
  {
   "cell_type": "code",
   "execution_count": 7,
   "metadata": {},
   "outputs": [],
   "source": [
    "op_parameters = {\n",
    "    \"simulated_speed\": 2060 * q.rpm,\n",
    "    \"current_density\": 0 * q.A / q.mm ** 2,\n",
    "    \"current_angle\": 0 * q.degrees\n",
    "    }\n"
   ]
  },
  {
   "cell_type": "code",
   "execution_count": 8,
   "metadata": {},
   "outputs": [],
   "source": [
    "class Unit:\n",
    "    def __init__(self, name: str, exponent: int):\n",
    "        self.name = name\n",
    "        self.exponent = int(exponent)\n",
    "\n",
    "    def to_dict(self):\n",
    "        return {\n",
    "            \"name\": self.name,\n",
    "            \"exponent\": self.exponent,\n",
    "        }\n",
    "    \n",
    "class Quantity:\n",
    "    def __init__(self, magnitude, units: list[Unit]):\n",
    "        self.magnitude = magnitude\n",
    "        self.units = [Unit(*u) for u in units]\n",
    "\n",
    "    def to_dict(self):\n",
    "        return {\n",
    "            \"magnitude\": self.magnitude,\n",
    "            \"units\": [u.to_dict() for u in self.units],\n",
    "        }\n",
    "    \n"
   ]
  },
  {
   "cell_type": "code",
   "execution_count": 9,
   "metadata": {},
   "outputs": [
    {
     "data": {
      "text/plain": [
       "[(0.0002, (('meter', 1.0),)),\n",
       " (0.082, (('meter', 1.0),)),\n",
       " (0.0015, (('meter', 1.0),)),\n",
       " (0.004, (('meter', 1.0),)),\n",
       " (0.009800000000000001, (('meter', 1.0),)),\n",
       " (0.136, (('meter', 1.0),)),\n",
       " (0.0055, (('meter', 1.0),)),\n",
       " (0.001, (('meter', 1.0),)),\n",
       " (12, (('count', 1),)),\n",
       " (1.2217304763960306, (('radian', 1),))]"
      ]
     },
     "execution_count": 9,
     "metadata": {},
     "output_type": "execute_result"
    }
   ],
   "source": [
    "[stator_parameters[k].to_base_units().to_tuple() for k in  stator_parameters]"
   ]
  },
  {
   "cell_type": "code",
   "execution_count": 10,
   "metadata": {},
   "outputs": [
    {
     "data": {
      "text/plain": [
       "[(0.2, (('millimeter', 1),)),\n",
       " (82.0, (('millimeter', 1),)),\n",
       " (1.5, (('millimeter', 1),)),\n",
       " (4, (('millimeter', 1),)),\n",
       " (9.8, (('millimeter', 1),)),\n",
       " (136, (('millimeter', 1),)),\n",
       " (5.5, (('millimeter', 1),)),\n",
       " (1, (('millimeter', 1),)),\n",
       " (12, (('count', 1),)),\n",
       " (70, (('degree', 1),))]"
      ]
     },
     "execution_count": 10,
     "metadata": {},
     "output_type": "execute_result"
    }
   ],
   "source": [
    "[stator_parameters[k].to_tuple() for k in  stator_parameters]"
   ]
  },
  {
   "cell_type": "code",
   "execution_count": 11,
   "metadata": {},
   "outputs": [],
   "source": [
    "class Machine(object):\n",
    "    def __init__(self, stator_parameters, rotor_parameters, winding_parameters):\n",
    "        self._stator_api = [NameQuantityPair(\"stator\",\n",
    "                                        k,\n",
    "                                        Quantity(*stator_parameters[k].to_tuple())) for k in  stator_parameters]\n",
    "        self.stator = stator_parameters\n",
    "\n",
    "        self._rotor_api = [NameQuantityPair(\"rotor\",\n",
    "                                        k,\n",
    "                                        Quantity(*rotor_parameters[k].to_tuple())) for k in  rotor_parameters]\n",
    "        self.rotor = rotor_parameters\n",
    "        self._winding_api = [NameQuantityPair(\"winding\",\n",
    "                                        k,\n",
    "                                        Quantity(*winding_parameters[k].to_tuple())) for k in  winding_parameters]\n",
    "        self.winding = winding_parameters\n",
    "    def __repr__(self) -> str:\n",
    "        return f\"Machine({self.stator_parameters}, {self.rotor_parameters}, {self.winding_parameters})\"\n",
    "    def to_dict(self):\n",
    "        data = []\n",
    "        data.extend(list(x.to_dict() for x in self._stator_api))\n",
    "        data.extend(list(x.to_dict() for x in self._rotor_api))\n",
    "        data.extend(list(x.to_dict() for x in self._winding_api))\n",
    "        return data\n",
    "        \n",
    "    \n",
    "class Job(object):\n",
    "    def __init__(self, machine: Machine, op_parameters, simulation_parameters, title=None):\n",
    "        if title is None:\n",
    "            self.title = self.generate_title()\n",
    "        else:\n",
    "            self.title = title\n",
    "        self.type = \"electromagnetic_spmbrl_fscwseg\"\n",
    "        self.status = 0\n",
    "        self.machine = machine\n",
    "\n",
    "        self.operating_point = op_parameters\n",
    "        self._operating_point_api = [NameQuantityPair(\"operating_point\",\n",
    "                                        k,\n",
    "                                        Quantity(*op_parameters[k].to_tuple())) for k in  op_parameters]\n",
    "        \n",
    "        self.simulation = simulation_parameters\n",
    "        self._simulation_api = [NameQuantityPair(\"simulation\",\n",
    "                                        k,\n",
    "                                        Quantity(*simulation_parameters[k].to_tuple())) for k in  simulation_parameters]\n",
    "    def __repr__(self) -> str:\n",
    "        return f\"Job({self.machine}, {self.operating_point}, {self.simulation})\"\n",
    "    \n",
    "    def generate_title(self):\n",
    "        \"gets a random title from the wordlists\"\n",
    "        random_offset = random.randint(500, 286797)\n",
    "        response = requests.get(\"https://github.com/taikuukaits/SimpleWordlists/raw/master/Wordlist-Adjectives-All.txt\",\n",
    "                                headers={'Range': 'bytes={1}-{0}'.format(random_offset, random_offset-500), 'accept-encoding': 'identity'})\n",
    "        adjective = random.choice(response.text.splitlines()[1:-1])\n",
    "        random_offset = random.randint(500, 871742)\n",
    "        response = requests.get(\"https://github.com/taikuukaits/SimpleWordlists/raw/master/Wordlist-Nouns-All.txt\",\n",
    "                                headers={'Range': 'bytes={1}-{0}'.format(random_offset, random_offset-500), 'accept-encoding': 'identity'})\n",
    "        noun = random.choice(response.text.splitlines()[1:-1])\n",
    "        title = f\"{adjective}-{noun}\"\n",
    "        return title \n",
    "\n",
    "    def to_dict(self):\n",
    "        job =  {\"status\": 0,\n",
    "                \"title\": self.title,\n",
    "                \"type\": self.type,\n",
    "                \"tasks\": 11,\n",
    "                \"data\": []}\n",
    "        \n",
    "        job[\"data\"].extend(list(x.to_dict() for x in self._operating_point_api))\n",
    "        job[\"data\"].extend(list(x.to_dict() for x in self._simulation_api))\n",
    "        job[\"data\"].extend(self.machine.to_dict())\n",
    "        return job\n",
    "    \n",
    "    def run(self):\n",
    "        pass"
   ]
  },
  {
   "cell_type": "code",
   "execution_count": 12,
   "metadata": {},
   "outputs": [],
   "source": [
    "m1 = Machine(stator_parameters, rotor_parameters, winding_parameters)\n",
    "\n",
    "j1 = Job(m1, op_parameters, simulation_parameters)\n"
   ]
  },
  {
   "cell_type": "code",
   "execution_count": 13,
   "metadata": {},
   "outputs": [],
   "source": [
    "class Api:\n",
    "    \"\"\"\n",
    "    The TAE User API\n",
    "    \"\"\"\n",
    "\n",
    "    def __init__(self, root_url, api_key):\n",
    "        \"\"\"\n",
    "        Initialize the API\n",
    "        \"\"\"\n",
    "        self._root_url = root_url\n",
    "        self._api_key = api_key\n",
    "        self._org_id = \"659bf5a7b7135efed48311ba\"\n",
    "\n",
    "        logger.info(f\"root_url: {self._root_url}\")\n",
    "\n",
    "    def get_job(self, job_id):\n",
    "        \"\"\"\n",
    "        Get a job from the TAE API\n",
    "        \"\"\"\n",
    "        response = requests.get(\n",
    "            url=f\"{self._root_url}/jobs/{job_id}?apikey={self._api_key}\",\n",
    "        )\n",
    "        response.raise_for_status()\n",
    "        return response.json()\n",
    "    \n",
    "    def create_job(self, job):\n",
    "        \"\"\"\n",
    "        Create a job for the TAE API\n",
    "        \"\"\"\n",
    "        response = requests.post(\n",
    "            url=f\"{self._root_url}/jobs/?apikey={self._api_key}&org_id={self._org_id}\",\n",
    "            json=job.to_dict()\n",
    "        )\n",
    "        response.raise_for_status()\n",
    "        return response.json()\n",
    "    "
   ]
  },
  {
   "cell_type": "code",
   "execution_count": 14,
   "metadata": {},
   "outputs": [
    {
     "name": "stdout",
     "output_type": "stream",
     "text": [
      "2024-01-17 19:59:46,705 - NoJobId - INFO - Martins-MacBook-Air.local - 3557394831.py->__init__() - root_url: https://api.build.tinarmengineering.com\n"
     ]
    }
   ],
   "source": [
    "api = Api(config[\"root_url\"], config[\"api_key\"])"
   ]
  },
  {
   "cell_type": "code",
   "execution_count": 15,
   "metadata": {},
   "outputs": [
    {
     "data": {
      "text/plain": [
       "{'id': '65a823a33ef353f6703a580b',\n",
       " 'owner_org_id': '659bf5a7b7135efed48311ba',\n",
       " 'owner_user_id': '659bf5a7b7135efed48311bd',\n",
       " 'creation_date': '2024-01-17T18:59:47Z',\n",
       " 'status': 0,\n",
       " 'title': 'uncontested-yaws',\n",
       " 'type': 'electromagnetic_spmbrl_fscwseg',\n",
       " 'data': [{'section': 'operating_point',\n",
       "   'name': 'simulated_speed',\n",
       "   'value': {'magnitude': 215.72269554649912,\n",
       "    'units': [{'name': 'radian', 'exponent': 1},\n",
       "     {'name': 'second', 'exponent': -1}]}},\n",
       "  {'section': 'operating_point',\n",
       "   'name': 'current_density',\n",
       "   'value': {'magnitude': 0,\n",
       "    'units': [{'name': 'ampere', 'exponent': 1},\n",
       "     {'name': 'meter', 'exponent': -2}]}},\n",
       "  {'section': 'operating_point',\n",
       "   'name': 'current_angle',\n",
       "   'value': {'magnitude': 0, 'units': [{'name': 'radian', 'exponent': 1}]}},\n",
       "  {'section': 'simulation',\n",
       "   'name': 'samples_per_electrical_period',\n",
       "   'value': {'magnitude': 180, 'units': [{'name': 'count', 'exponent': 1}]}},\n",
       "  {'section': 'simulation',\n",
       "   'name': 'timestep_intervals',\n",
       "   'value': {'magnitude': 180, 'units': [{'name': 'count', 'exponent': 1}]}},\n",
       "  {'section': 'simulation',\n",
       "   'name': 'active_length',\n",
       "   'value': {'magnitude': 0.065, 'units': [{'name': 'meter', 'exponent': 1}]}},\n",
       "  {'section': 'stator',\n",
       "   'name': 'slot_liner_thikness',\n",
       "   'value': {'magnitude': 0.0002,\n",
       "    'units': [{'name': 'meter', 'exponent': 1}]}},\n",
       "  {'section': 'stator',\n",
       "   'name': 'stator_bore',\n",
       "   'value': {'magnitude': 0.082, 'units': [{'name': 'meter', 'exponent': 1}]}},\n",
       "  {'section': 'stator',\n",
       "   'name': 'tooth_tip_depth',\n",
       "   'value': {'magnitude': 0.0015,\n",
       "    'units': [{'name': 'meter', 'exponent': 1}]}},\n",
       "  {'section': 'stator',\n",
       "   'name': 'slot_opening',\n",
       "   'value': {'magnitude': 0.004, 'units': [{'name': 'meter', 'exponent': 1}]}},\n",
       "  {'section': 'stator',\n",
       "   'name': 'tooth_width',\n",
       "   'value': {'magnitude': 0.009800000000000001,\n",
       "    'units': [{'name': 'meter', 'exponent': 1}]}},\n",
       "  {'section': 'stator',\n",
       "   'name': 'stator_outer_diameter',\n",
       "   'value': {'magnitude': 0.136, 'units': [{'name': 'meter', 'exponent': 1}]}},\n",
       "  {'section': 'stator',\n",
       "   'name': 'back_iron_thickness',\n",
       "   'value': {'magnitude': 0.0055,\n",
       "    'units': [{'name': 'meter', 'exponent': 1}]}},\n",
       "  {'section': 'stator',\n",
       "   'name': 'stator_internal_radius',\n",
       "   'value': {'magnitude': 0.001, 'units': [{'name': 'meter', 'exponent': 1}]}},\n",
       "  {'section': 'stator',\n",
       "   'name': 'number_slots',\n",
       "   'value': {'magnitude': 12, 'units': [{'name': 'count', 'exponent': 1}]}},\n",
       "  {'section': 'stator',\n",
       "   'name': 'tooth_tip_angle',\n",
       "   'value': {'magnitude': 1.2217304763960306,\n",
       "    'units': [{'name': 'radian', 'exponent': 1}]}},\n",
       "  {'section': 'rotor',\n",
       "   'name': 'rotor_od',\n",
       "   'value': {'magnitude': 0.08, 'units': [{'name': 'meter', 'exponent': 1}]}},\n",
       "  {'section': 'rotor',\n",
       "   'name': 'rotor_bore',\n",
       "   'value': {'magnitude': 0.04, 'units': [{'name': 'meter', 'exponent': 1}]}},\n",
       "  {'section': 'rotor',\n",
       "   'name': 'banding_thickness',\n",
       "   'value': {'magnitude': 0.0005,\n",
       "    'units': [{'name': 'meter', 'exponent': 1}]}},\n",
       "  {'section': 'rotor',\n",
       "   'name': 'number_poles',\n",
       "   'value': {'magnitude': 10, 'units': [{'name': 'count', 'exponent': 1}]}},\n",
       "  {'section': 'rotor',\n",
       "   'name': 'magnet_thickness',\n",
       "   'value': {'magnitude': 0.0045000000000000005,\n",
       "    'units': [{'name': 'meter', 'exponent': 1}]}},\n",
       "  {'section': 'rotor',\n",
       "   'name': 'magnet_pole_arc',\n",
       "   'value': {'magnitude': 2.6179938779914944,\n",
       "    'units': [{'name': 'radian', 'exponent': 1}]}},\n",
       "  {'section': 'rotor',\n",
       "   'name': 'magnet_inset',\n",
       "   'value': {'magnitude': 0.00025,\n",
       "    'units': [{'name': 'meter', 'exponent': 1}]}},\n",
       "  {'section': 'winding',\n",
       "   'name': 'symmetry',\n",
       "   'value': {'magnitude': 2, 'units': [{'name': 'count', 'exponent': 1}]}},\n",
       "  {'section': 'winding',\n",
       "   'name': 'number_phases',\n",
       "   'value': {'magnitude': 3, 'units': [{'name': 'count', 'exponent': 1}]}},\n",
       "  {'section': 'winding',\n",
       "   'name': 'number_layers',\n",
       "   'value': {'magnitude': 2, 'units': [{'name': 'count', 'exponent': 1}]}},\n",
       "  {'section': 'winding',\n",
       "   'name': 'coil_span',\n",
       "   'value': {'magnitude': 1, 'units': [{'name': 'count', 'exponent': 1}]}},\n",
       "  {'section': 'winding',\n",
       "   'name': 'turns_per_coil',\n",
       "   'value': {'magnitude': 43, 'units': [{'name': 'count', 'exponent': 1}]}},\n",
       "  {'section': 'winding',\n",
       "   'name': 'empty_slots',\n",
       "   'value': {'magnitude': 0, 'units': [{'name': 'count', 'exponent': 1}]}},\n",
       "  {'section': 'winding', 'name': 'fill_factor', 'value': {'magnitude': 0.42}}]}"
      ]
     },
     "execution_count": 15,
     "metadata": {},
     "output_type": "execute_result"
    }
   ],
   "source": [
    "api.create_job(j1)"
   ]
  },
  {
   "cell_type": "code",
   "execution_count": null,
   "metadata": {},
   "outputs": [],
   "source": []
  }
 ],
 "metadata": {
  "kernelspec": {
   "display_name": "ltc_test_py311",
   "language": "python",
   "name": "python3"
  },
  "language_info": {
   "codemirror_mode": {
    "name": "ipython",
    "version": 3
   },
   "file_extension": ".py",
   "mimetype": "text/x-python",
   "name": "python",
   "nbconvert_exporter": "python",
   "pygments_lexer": "ipython3",
   "version": "3.11.3"
  }
 },
 "nbformat": 4,
 "nbformat_minor": 2
}

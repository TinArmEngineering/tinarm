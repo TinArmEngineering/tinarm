{
 "cells": [
  {
   "cell_type": "code",
   "execution_count": 1,
   "metadata": {},
   "outputs": [
    {
     "name": "stdout",
     "output_type": "stream",
     "text": [
      "Collecting git+https://github.com/TinArmEngineering/tinarm.git@0.1.49 (from -r requirements.txt (line 1))\n",
      "  Cloning https://github.com/TinArmEngineering/tinarm.git (to revision 0.1.49) to /private/var/folders/s5/09ndf2214qb_308ln1n6gfm40000gn/T/pip-req-build-vofw6d_h\n",
      "  Running command git clone --filter=blob:none --quiet https://github.com/TinArmEngineering/tinarm.git /private/var/folders/s5/09ndf2214qb_308ln1n6gfm40000gn/T/pip-req-build-vofw6d_h\n",
      "  Running command git checkout -q a2fdc7ce19efad177874d9b06fdab31b85f00681\n",
      "  Resolved https://github.com/TinArmEngineering/tinarm.git to commit a2fdc7ce19efad177874d9b06fdab31b85f00681\n",
      "  Preparing metadata (setup.py) ... \u001b[?25ldone\n",
      "\u001b[?25hRequirement already satisfied: pint in /Users/martinwest/Repositories/Lonely-Tool-Cult/.conda/lib/python3.12/site-packages (from -r requirements.txt (line 2)) (0.23)\n",
      "Requirement already satisfied: pandas in /Users/martinwest/Repositories/Lonely-Tool-Cult/.conda/lib/python3.12/site-packages (from -r requirements.txt (line 3)) (2.1.4)\n",
      "Requirement already satisfied: pint-pandas in /Users/martinwest/Repositories/Lonely-Tool-Cult/.conda/lib/python3.12/site-packages (from -r requirements.txt (line 4)) (0.5)\n",
      "Requirement already satisfied: matplotlib in /Users/martinwest/Repositories/Lonely-Tool-Cult/.conda/lib/python3.12/site-packages (from -r requirements.txt (line 5)) (3.8.2)\n",
      "Requirement already satisfied: pyyaml in /Users/martinwest/Repositories/Lonely-Tool-Cult/.conda/lib/python3.12/site-packages (from -r requirements.txt (line 6)) (6.0.1)\n",
      "Requirement already satisfied: pika in /Users/martinwest/Repositories/Lonely-Tool-Cult/.conda/lib/python3.12/site-packages (from tinarm==0.1->-r requirements.txt (line 1)) (1.3.2)\n",
      "Requirement already satisfied: python_logging_rabbitmq in /Users/martinwest/Repositories/Lonely-Tool-Cult/.conda/lib/python3.12/site-packages (from tinarm==0.1->-r requirements.txt (line 1)) (2.3.0)\n",
      "Requirement already satisfied: requests in /Users/martinwest/Repositories/Lonely-Tool-Cult/.conda/lib/python3.12/site-packages (from tinarm==0.1->-r requirements.txt (line 1)) (2.31.0)\n",
      "Requirement already satisfied: typing-extensions in /Users/martinwest/Repositories/Lonely-Tool-Cult/.conda/lib/python3.12/site-packages (from pint->-r requirements.txt (line 2)) (4.9.0)\n",
      "Requirement already satisfied: numpy<2,>=1.26.0 in /Users/martinwest/Repositories/Lonely-Tool-Cult/.conda/lib/python3.12/site-packages (from pandas->-r requirements.txt (line 3)) (1.26.3)\n",
      "Requirement already satisfied: python-dateutil>=2.8.2 in /Users/martinwest/Repositories/Lonely-Tool-Cult/.conda/lib/python3.12/site-packages (from pandas->-r requirements.txt (line 3)) (2.8.2)\n",
      "Requirement already satisfied: pytz>=2020.1 in /Users/martinwest/Repositories/Lonely-Tool-Cult/.conda/lib/python3.12/site-packages (from pandas->-r requirements.txt (line 3)) (2023.3.post1)\n",
      "Requirement already satisfied: tzdata>=2022.1 in /Users/martinwest/Repositories/Lonely-Tool-Cult/.conda/lib/python3.12/site-packages (from pandas->-r requirements.txt (line 3)) (2023.4)\n",
      "Requirement already satisfied: contourpy>=1.0.1 in /Users/martinwest/Repositories/Lonely-Tool-Cult/.conda/lib/python3.12/site-packages (from matplotlib->-r requirements.txt (line 5)) (1.2.0)\n",
      "Requirement already satisfied: cycler>=0.10 in /Users/martinwest/Repositories/Lonely-Tool-Cult/.conda/lib/python3.12/site-packages (from matplotlib->-r requirements.txt (line 5)) (0.12.1)\n",
      "Requirement already satisfied: fonttools>=4.22.0 in /Users/martinwest/Repositories/Lonely-Tool-Cult/.conda/lib/python3.12/site-packages (from matplotlib->-r requirements.txt (line 5)) (4.47.2)\n",
      "Requirement already satisfied: kiwisolver>=1.3.1 in /Users/martinwest/Repositories/Lonely-Tool-Cult/.conda/lib/python3.12/site-packages (from matplotlib->-r requirements.txt (line 5)) (1.4.5)\n",
      "Requirement already satisfied: packaging>=20.0 in /Users/martinwest/Repositories/Lonely-Tool-Cult/.conda/lib/python3.12/site-packages (from matplotlib->-r requirements.txt (line 5)) (23.2)\n",
      "Requirement already satisfied: pillow>=8 in /Users/martinwest/Repositories/Lonely-Tool-Cult/.conda/lib/python3.12/site-packages (from matplotlib->-r requirements.txt (line 5)) (10.2.0)\n",
      "Requirement already satisfied: pyparsing>=2.3.1 in /Users/martinwest/Repositories/Lonely-Tool-Cult/.conda/lib/python3.12/site-packages (from matplotlib->-r requirements.txt (line 5)) (3.1.1)\n",
      "Requirement already satisfied: six>=1.5 in /Users/martinwest/Repositories/Lonely-Tool-Cult/.conda/lib/python3.12/site-packages (from python-dateutil>=2.8.2->pandas->-r requirements.txt (line 3)) (1.16.0)\n",
      "Requirement already satisfied: charset-normalizer<4,>=2 in /Users/martinwest/Repositories/Lonely-Tool-Cult/.conda/lib/python3.12/site-packages (from requests->tinarm==0.1->-r requirements.txt (line 1)) (3.3.2)\n",
      "Requirement already satisfied: idna<4,>=2.5 in /Users/martinwest/Repositories/Lonely-Tool-Cult/.conda/lib/python3.12/site-packages (from requests->tinarm==0.1->-r requirements.txt (line 1)) (3.6)\n",
      "Requirement already satisfied: urllib3<3,>=1.21.1 in /Users/martinwest/Repositories/Lonely-Tool-Cult/.conda/lib/python3.12/site-packages (from requests->tinarm==0.1->-r requirements.txt (line 1)) (2.1.0)\n",
      "Requirement already satisfied: certifi>=2017.4.17 in /Users/martinwest/Repositories/Lonely-Tool-Cult/.conda/lib/python3.12/site-packages (from requests->tinarm==0.1->-r requirements.txt (line 1)) (2023.11.17)\n"
     ]
    }
   ],
   "source": [
    "!pip install -r requirements.txt"
   ]
  },
  {
   "cell_type": "code",
   "execution_count": 2,
   "metadata": {},
   "outputs": [],
   "source": [
    "import matplotlib.pyplot as plt\n",
    "import pint\n",
    "from tinarm import NameQuantityPair\n",
    "from tinarm import Quantity \n",
    "from tinarm.api import JOB_STATUS\n",
    "\n",
    "import tinarm\n",
    "import logging\n",
    "import time\n",
    "import requests\n",
    "import uuid\n",
    "import random\n",
    "import yaml\n",
    "import pandas as pd\n",
    "import pint_pandas\n",
    "import numpy as np"
   ]
  },
  {
   "cell_type": "code",
   "execution_count": 3,
   "metadata": {},
   "outputs": [],
   "source": [
    "\n",
    "LOGGING_LEVEL = logging.INFO\n",
    "STATUS_JOB = {value:key for key,value in JOB_STATUS.items()}"
   ]
  },
  {
   "cell_type": "code",
   "execution_count": 4,
   "metadata": {},
   "outputs": [
    {
     "name": "stdout",
     "output_type": "stream",
     "text": [
      "2024-01-25 11:34:01,098 - NoJobId - INFO - Martins-MacBook-Air.local - 1683099798.py-><module>() - tinarm version 0.1\n",
      "2024-01-25 11:34:01,099 - NoJobId - INFO - Martins-MacBook-Air.local - 1683099798.py-><module>() - pint_pandas version 0.5\n"
     ]
    }
   ],
   "source": [
    "\n",
    "### Configure Logging\n",
    "logger = logging.getLogger()\n",
    "logger.setLevel(LOGGING_LEVEL)\n",
    "logger.info(f\"tinarm version {tinarm.__version__}\")\n",
    "logger.info(f\"pint_pandas version {pint_pandas.__version__}\")\n",
    "\n",
    "q = pint_pandas.PintType.ureg\n",
    "q.setup_matplotlib()"
   ]
  },
  {
   "cell_type": "markdown",
   "metadata": {},
   "source": [
    "Log in to Tin Arm Engineering's machine solver, and under profile, retrieve your API key. \n",
    "Do not commit your API key to a repository, and consider it like a password.  A good way to keep it out of this code base is to use a configuation file, or environment variable. We will want other things cofigured too, so let's use a yaml file for convenience. \n",
    "\n",
    "create a `configurations.yaml` file in this directory with the content.\n",
    "```yaml\n",
    "api_key: 668952058c490d0a296da0abb966****\n",
    "root_url: http://server-go:4300\n",
    "```\n",
    "But of course replace the number with your api key\n",
    "\n",
    "You can then add that file to your `.gitignore` file by executing ```echo 'configurations.yaml' >> .gitignore```"
   ]
  },
  {
   "cell_type": "markdown",
   "metadata": {},
   "source": [
    "```\n",
    "!echo 'configurations.yaml' >> .gitignore\n",
    "```"
   ]
  },
  {
   "cell_type": "code",
   "execution_count": 5,
   "metadata": {},
   "outputs": [],
   "source": [
    "with open(\"configurations.yaml\", \"r\") as f:\n",
    "    config = yaml.safe_load(f)"
   ]
  },
  {
   "cell_type": "markdown",
   "metadata": {},
   "source": [
    "# Stator"
   ]
  },
  {
   "cell_type": "code",
   "execution_count": 6,
   "metadata": {},
   "outputs": [],
   "source": [
    "stator_parameters = {\n",
    "    \"slot_liner_thikness\": 300 * q.um,\n",
    "    \"stator_bore\": 8.20 * q.cm,\n",
    "    \"tooth_tip_depth\": 1.5 * q.mm,\n",
    "    \"slot_opening\": 1.5 * q.mm,\n",
    "    \"tooth_width\": 9.8 * q.mm,\n",
    "    \"stator_outer_diameter\": 0.136 * q.m,\n",
    "    \"back_iron_thickness\": 5.5 * q.mm,\n",
    "    \"stator_internal_radius\": 500 * q.um,\n",
    "    \"number_slots\": 12 * q.count,\n",
    "    \"tooth_tip_angle\": 70 * q.degrees\n",
    "    }\n",
    "\n",
    "air_gap_length = 1 * q.mm"
   ]
  },
  {
   "cell_type": "markdown",
   "metadata": {},
   "source": [
    "## Rotor\n",
    "Surface mounted Breadloaf magnets"
   ]
  },
  {
   "cell_type": "code",
   "execution_count": 7,
   "metadata": {},
   "outputs": [],
   "source": [
    "rotor_parameters = {\n",
    "    \"rotor_od\": stator_parameters[\"stator_bore\"] - 2 * air_gap_length,\n",
    "    \"rotor_bore\": 40 * q.mm,\n",
    "    \"banding_thickness\": 0.5 * q.mm,\n",
    "    \"number_poles\": 10 * q.count,\n",
    "    \"magnet_thickness\": 4.5 * q.millimeter,\n",
    "    \"magnet_pole_arc\": 150 * q.degrees,\n",
    "    \"magnet_inset\": 0.25 * q.millimeter\n",
    "    }"
   ]
  },
  {
   "cell_type": "markdown",
   "metadata": {},
   "source": [
    "## Simulation Parameters"
   ]
  },
  {
   "cell_type": "code",
   "execution_count": 8,
   "metadata": {},
   "outputs": [],
   "source": [
    "simulation_parameters = {\n",
    "       \"samples_per_electrical_period\": 180 * q.count/q.turn,\n",
    "        \"timestep_intervals\": 180 * q.count,\n",
    "        \"active_length\": 65 * q.mm}\n"
   ]
  },
  {
   "cell_type": "code",
   "execution_count": 9,
   "metadata": {},
   "outputs": [],
   "source": [
    "winding_parameters = {\n",
    "    \"symmetry\": 2 * q.count,\n",
    "    \"number_phases\": 3 * q.count,\n",
    "    \"number_layers\": 2 * q.count,\n",
    "    \"coil_span\": 1 * q.count,\n",
    "    \"turns_per_coil\": 43 * q.count,\n",
    "    \"empty_slots\": 0 * q.count,\n",
    "    \"fill_factor\": 42 * q.percent\n",
    "    }"
   ]
  },
  {
   "cell_type": "markdown",
   "metadata": {},
   "source": [
    "## Operating Point"
   ]
  },
  {
   "cell_type": "code",
   "execution_count": 10,
   "metadata": {},
   "outputs": [
    {
     "data": {
      "text/plain": [
       "(array([ 0. ,  2.5,  5. ,  7.5, 10. ,  0. ,  2.5,  5. ,  7.5, 10. ,  0. ,\n",
       "         2.5,  5. ,  7.5, 10. ,  0. ,  2.5,  5. ,  7.5, 10. ,  0. ,  2.5,\n",
       "         5. ,  7.5, 10. ]) <Unit('ampere / millimeter ** 2')>,\n",
       " array([  10. ,   10. ,   10. ,   10. ,   10. ,  757.5,  757.5,  757.5,\n",
       "         757.5,  757.5, 1505. , 1505. , 1505. , 1505. , 1505. , 2252.5,\n",
       "        2252.5, 2252.5, 2252.5, 2252.5, 3000. , 3000. , 3000. , 3000. ,\n",
       "        3000. ]) <Unit('revolutions_per_minute')>)"
      ]
     },
     "execution_count": 10,
     "metadata": {},
     "output_type": "execute_result"
    }
   ],
   "source": [
    "\n",
    "\n",
    "current_density_grid, speed_grid = np.meshgrid(np.linspace(0, 10, 5) * q.A/q.mm**2, np.linspace(10, 3000, 5) * q.rpm)\n",
    "current_density_grid.reshape(-1), speed_grid.reshape(-1)"
   ]
  },
  {
   "cell_type": "code",
   "execution_count": 11,
   "metadata": {},
   "outputs": [],
   "source": [
    "operating_points = [{\n",
    "    'current_density': cd,\n",
    "    'current_angle': 255 * q.degrees,\n",
    "    \"simulated_speed\": sp\n",
    "    } for cd, sp in zip(current_density_grid.reshape(-1), speed_grid.reshape(-1))]\n",
    "\n"
   ]
  },
  {
   "cell_type": "code",
   "execution_count": 12,
   "metadata": {},
   "outputs": [],
   "source": [
    "class Machine(object):\n",
    "    def __init__(self, stator, rotor, winding):\n",
    "\n",
    "        self.stator = stator\n",
    "        self.rotor = rotor\n",
    "        self.winding = winding\n",
    "\n",
    "    def __repr__(self) -> str:\n",
    "        return f\"Machine({self.stator}, {self.rotor}, {self.winding})\"\n",
    "    \n",
    "    def to_api(self):\n",
    "        stator_api = [NameQuantityPair(\"stator\",\n",
    "                                        k,\n",
    "                                        Quantity(*self.stator[k].to_tuple())) for k in  self.stator]\n",
    "        rotor_api = [NameQuantityPair(\"rotor\",\n",
    "                                        k,\n",
    "                                        Quantity(*self.rotor[k].to_tuple())) for k in  self.rotor]\n",
    "        winding_api = [NameQuantityPair(\"winding\",\n",
    "                                        k,\n",
    "                                        Quantity(*self.winding[k].to_tuple())) for k in  self.winding]\n",
    "        data = []\n",
    "        data.extend(list(x.to_dict() for x in stator_api))\n",
    "        data.extend(list(x.to_dict() for x in rotor_api))\n",
    "        data.extend(list(x.to_dict() for x in winding_api))\n",
    "        return data\n",
    "        \n",
    "    \n",
    "class Job(object):\n",
    "    def __init__(self, machine: Machine, operating_point, simulation, title=None):\n",
    "        if title is None:\n",
    "            self.title = self.generate_title()\n",
    "        else:\n",
    "            self.title = title\n",
    "        self.type = \"electromagnetic_spmbrl_fscwseg\"\n",
    "        self.status = 0\n",
    "        self.machine = machine\n",
    "        self.operating_point = operating_point\n",
    "        self.simulation = simulation\n",
    "        \n",
    "    def __repr__(self) -> str:\n",
    "        return f\"Job({self.machine}, {self.operating_point}, {self.simulation})\"\n",
    "    \n",
    "    def generate_title(self):\n",
    "        \"gets a random title from the wordlists\"\n",
    "        random_offset = random.randint(500, 286797)\n",
    "        response = requests.get(\"https://github.com/taikuukaits/SimpleWordlists/raw/master/Wordlist-Adjectives-All.txt\",\n",
    "                                headers={'Range': 'bytes={1}-{0}'.format(random_offset, random_offset-500), 'accept-encoding': 'identity'})\n",
    "        adjective = random.choice(response.text.splitlines()[1:-1])\n",
    "        random_offset = random.randint(500, 871742)\n",
    "        response = requests.get(\"https://github.com/taikuukaits/SimpleWordlists/raw/master/Wordlist-Nouns-All.txt\",\n",
    "                                headers={'Range': 'bytes={1}-{0}'.format(random_offset, random_offset-500), 'accept-encoding': 'identity'})\n",
    "        noun = random.choice(response.text.splitlines()[1:-1])\n",
    "        title = f\"{adjective}-{noun}\"\n",
    "        return title \n",
    "\n",
    "    def to_api(self):\n",
    "        job =  {\"status\": 0,\n",
    "                \"title\": self.title,\n",
    "                \"type\": self.type,\n",
    "                \"tasks\": 11,\n",
    "                \"data\": []}\n",
    "        \n",
    "        operating_point_api = [NameQuantityPair(\"operating_point\",\n",
    "                                        k,\n",
    "                                        Quantity(*self.operating_point[k].to_tuple())) for k in  self.operating_point]\n",
    "        \n",
    "        simulation_api = [NameQuantityPair(\"simulation\",\n",
    "                                        k,\n",
    "                                        Quantity(*self.simulation[k].to_tuple())) for k in  self.simulation]\n",
    "        job[\"data\"].extend(list(x.to_dict() for x in operating_point_api))\n",
    "        job[\"data\"].extend(list(x.to_dict() for x in simulation_api))\n",
    "        job[\"data\"].extend(self.machine.to_api())\n",
    "        return job\n",
    "    \n",
    "    def run(self):\n",
    "        pass"
   ]
  },
  {
   "cell_type": "code",
   "execution_count": 13,
   "metadata": {},
   "outputs": [],
   "source": [
    "class Api:\n",
    "    \"\"\"\n",
    "    The TAE User API\n",
    "    \"\"\"\n",
    "\n",
    "    def __init__(self, root_url, api_key, org_id=None):\n",
    "        \"\"\"\n",
    "        Initialize the API\n",
    "        \"\"\"\n",
    "        self._root_url = root_url\n",
    "        self._api_key = api_key\n",
    "        self._org_id = org_id\n",
    "        self._node_id = None\n",
    "\n",
    "        logger.info(f\"root_url: {self._root_url}\")\n",
    "\n",
    "    def get_job(self, job_id):\n",
    "        \"\"\"\n",
    "        Get a job from the TAE API\n",
    "        \"\"\"\n",
    "        response = requests.get(\n",
    "            url=f\"{self._root_url}/jobs/{job_id}?apikey={self._api_key}\",\n",
    "        )\n",
    "        response.raise_for_status()\n",
    "        return response.json()\n",
    "    \n",
    "    def create_job(self, job):\n",
    "        \"\"\"\n",
    "        Create a job for the TAE API\n",
    "        \"\"\"\n",
    "        response = requests.post(\n",
    "            url=f\"{self._root_url}/jobs/?apikey={self._api_key}&org_id={self._org_id}\",\n",
    "            json=job.to_api()\n",
    "        )\n",
    "        response.raise_for_status()\n",
    "        if response.status_code == 200:\n",
    "            job.id = response.json()[\"id\"]\n",
    "        return response.json()\n",
    "    \n",
    "    def update_job_status(self, job_id, status):\n",
    "        \"\"\"\n",
    "        Update a job status\n",
    "        \"\"\"\n",
    "        url = f\"{self._root_url}/jobs/{job_id}/status/{status}?node_id={self._node_id}&apikey={self._api_key}\"\n",
    "        logger.info(f\"Updating job status: {url}\")\n",
    "\n",
    "        response = requests.put(url=url)\n",
    "        return response.json()\n",
    "    \n",
    "    "
   ]
  },
  {
   "cell_type": "code",
   "execution_count": 14,
   "metadata": {},
   "outputs": [
    {
     "name": "stdout",
     "output_type": "stream",
     "text": [
      "2024-01-25 11:34:10,025 - NoJobId - INFO - Martins-MacBook-Air.local - 3503141280.py->__init__() - root_url: https://api.build.tinarmengineering.com\n"
     ]
    }
   ],
   "source": [
    "api = Api(config[\"root_url\"], config[\"api_key\"], config[\"org_id\"])"
   ]
  },
  {
   "cell_type": "code",
   "execution_count": 15,
   "metadata": {},
   "outputs": [
    {
     "name": "stdout",
     "output_type": "stream",
     "text": [
      "amazing (0.0 A/mm², 10.0 rpm)\n"
     ]
    }
   ],
   "source": [
    "print('amazing ({current_density:2.4~P}, {simulated_speed:2.4~P})'.format(**operating_points[0]))"
   ]
  },
  {
   "cell_type": "code",
   "execution_count": 16,
   "metadata": {},
   "outputs": [],
   "source": [
    "m1 = Machine(stator_parameters, rotor_parameters, winding_parameters)\n",
    "\n",
    "\n",
    "\n",
    "jobs = [Job(m1, op, simulation_parameters, title='amazing ({current_density:2.4~P}, {simulated_speed:2.4~P})'.format(**op)) for op in operating_points]\n",
    "\n",
    "\n",
    "\n",
    "jobs_mapping = map(lambda x: api.create_job(x), jobs)\n",
    "jobs_result = list(jobs_mapping)"
   ]
  },
  {
   "cell_type": "code",
   "execution_count": 17,
   "metadata": {},
   "outputs": [],
   "source": [
    "status = [STATUS_JOB[api.get_job(j['id'])['status']] for j in jobs_result]\n",
    "print(status)\n"
   ]
  },
  {
   "cell_type": "code",
   "execution_count": 19,
   "metadata": {},
   "outputs": [
    {
     "name": "stdout",
     "output_type": "stream",
     "text": [
      "2024-01-25 11:34:58,834 - NoJobId - INFO - Martins-MacBook-Air.local - 3503141280.py->update_job_status() - Updating job status: https://api.build.tinarmengineering.com/jobs/65b2392a481c1394ee4e82d9/status/10?node_id=None&apikey=668952058c490d0a296da0abb9660534\n",
      "{'id': '65b2392a481c1394ee4e82d9', 'owner_org_id': '65a9291658b95253163001ab', 'owner_user_id': '659bf5a7b7135efed48311bd', 'creation_date': '2024-01-25T10:34:18Z', 'status': 10, 'title': 'amazing (0.0 A/mm², 10.0 rpm)', 'type': 'electromagnetic_spmbrl_fscwseg', 'node_id': 'None', 'data': [{'section': 'operating_point', 'name': 'current_density', 'value': {'magnitude': 0, 'units': [{'name': 'ampere', 'exponent': 1}, {'name': 'millimeter', 'exponent': -2}]}}, {'section': 'operating_point', 'name': 'current_angle', 'value': {'magnitude': 255, 'units': [{'name': 'degree', 'exponent': 1}]}}, {'section': 'operating_point', 'name': 'simulated_speed', 'value': {'magnitude': 10, 'units': [{'name': 'revolutions_per_minute', 'exponent': 1}]}}, {'section': 'simulation', 'name': 'samples_per_electrical_period', 'value': {'magnitude': 180, 'units': [{'name': 'count', 'exponent': 1}, {'name': 'turn', 'exponent': -1}]}}, {'section': 'simulation', 'name': 'timestep_intervals', 'value': {'magnitude': 180, 'units': [{'name': 'count', 'exponent': 1}]}}, {'section': 'simulation', 'name': 'active_length', 'value': {'magnitude': 65, 'units': [{'name': 'millimeter', 'exponent': 1}]}}, {'section': 'stator', 'name': 'slot_liner_thikness', 'value': {'magnitude': 300, 'units': [{'name': 'micrometer', 'exponent': 1}]}}, {'section': 'stator', 'name': 'stator_bore', 'value': {'magnitude': 8.2, 'units': [{'name': 'centimeter', 'exponent': 1}]}}, {'section': 'stator', 'name': 'tooth_tip_depth', 'value': {'magnitude': 1.5, 'units': [{'name': 'millimeter', 'exponent': 1}]}}, {'section': 'stator', 'name': 'slot_opening', 'value': {'magnitude': 1.5, 'units': [{'name': 'millimeter', 'exponent': 1}]}}, {'section': 'stator', 'name': 'tooth_width', 'value': {'magnitude': 9.8, 'units': [{'name': 'millimeter', 'exponent': 1}]}}, {'section': 'stator', 'name': 'stator_outer_diameter', 'value': {'magnitude': 0.136, 'units': [{'name': 'meter', 'exponent': 1}]}}, {'section': 'stator', 'name': 'back_iron_thickness', 'value': {'magnitude': 5.5, 'units': [{'name': 'millimeter', 'exponent': 1}]}}, {'section': 'stator', 'name': 'stator_internal_radius', 'value': {'magnitude': 500, 'units': [{'name': 'micrometer', 'exponent': 1}]}}, {'section': 'stator', 'name': 'number_slots', 'value': {'magnitude': 12, 'units': [{'name': 'count', 'exponent': 1}]}}, {'section': 'stator', 'name': 'tooth_tip_angle', 'value': {'magnitude': 70, 'units': [{'name': 'degree', 'exponent': 1}]}}, {'section': 'rotor', 'name': 'rotor_od', 'value': {'magnitude': 7.999999999999999, 'units': [{'name': 'centimeter', 'exponent': 1}]}}, {'section': 'rotor', 'name': 'rotor_bore', 'value': {'magnitude': 40, 'units': [{'name': 'millimeter', 'exponent': 1}]}}, {'section': 'rotor', 'name': 'banding_thickness', 'value': {'magnitude': 0.5, 'units': [{'name': 'millimeter', 'exponent': 1}]}}, {'section': 'rotor', 'name': 'number_poles', 'value': {'magnitude': 10, 'units': [{'name': 'count', 'exponent': 1}]}}, {'section': 'rotor', 'name': 'magnet_thickness', 'value': {'magnitude': 4.5, 'units': [{'name': 'millimeter', 'exponent': 1}]}}, {'section': 'rotor', 'name': 'magnet_pole_arc', 'value': {'magnitude': 150, 'units': [{'name': 'degree', 'exponent': 1}]}}, {'section': 'rotor', 'name': 'magnet_inset', 'value': {'magnitude': 0.25, 'units': [{'name': 'millimeter', 'exponent': 1}]}}, {'section': 'winding', 'name': 'symmetry', 'value': {'magnitude': 2, 'units': [{'name': 'count', 'exponent': 1}]}}, {'section': 'winding', 'name': 'number_phases', 'value': {'magnitude': 3, 'units': [{'name': 'count', 'exponent': 1}]}}, {'section': 'winding', 'name': 'number_layers', 'value': {'magnitude': 2, 'units': [{'name': 'count', 'exponent': 1}]}}, {'section': 'winding', 'name': 'coil_span', 'value': {'magnitude': 1, 'units': [{'name': 'count', 'exponent': 1}]}}, {'section': 'winding', 'name': 'turns_per_coil', 'value': {'magnitude': 43, 'units': [{'name': 'count', 'exponent': 1}]}}, {'section': 'winding', 'name': 'empty_slots', 'value': {'magnitude': 0, 'units': [{'name': 'count', 'exponent': 1}]}}, {'section': 'winding', 'name': 'fill_factor', 'value': {'magnitude': 42, 'units': [{'name': 'percent', 'exponent': 1}]}}]}\n",
      "2024-01-25 11:34:59,586 - NoJobId - INFO - Martins-MacBook-Air.local - 3503141280.py->update_job_status() - Updating job status: https://api.build.tinarmengineering.com/jobs/65b2392b481c1394ee4e82da/status/10?node_id=None&apikey=668952058c490d0a296da0abb9660534\n",
      "{'id': '65b2392b481c1394ee4e82da', 'owner_org_id': '65a9291658b95253163001ab', 'owner_user_id': '659bf5a7b7135efed48311bd', 'creation_date': '2024-01-25T10:34:19Z', 'status': 10, 'title': 'amazing (2.5 A/mm², 10.0 rpm)', 'type': 'electromagnetic_spmbrl_fscwseg', 'node_id': 'None', 'data': [{'section': 'operating_point', 'name': 'current_density', 'value': {'magnitude': 2.5, 'units': [{'name': 'ampere', 'exponent': 1}, {'name': 'millimeter', 'exponent': -2}]}}, {'section': 'operating_point', 'name': 'current_angle', 'value': {'magnitude': 255, 'units': [{'name': 'degree', 'exponent': 1}]}}, {'section': 'operating_point', 'name': 'simulated_speed', 'value': {'magnitude': 10, 'units': [{'name': 'revolutions_per_minute', 'exponent': 1}]}}, {'section': 'simulation', 'name': 'samples_per_electrical_period', 'value': {'magnitude': 180, 'units': [{'name': 'count', 'exponent': 1}, {'name': 'turn', 'exponent': -1}]}}, {'section': 'simulation', 'name': 'timestep_intervals', 'value': {'magnitude': 180, 'units': [{'name': 'count', 'exponent': 1}]}}, {'section': 'simulation', 'name': 'active_length', 'value': {'magnitude': 65, 'units': [{'name': 'millimeter', 'exponent': 1}]}}, {'section': 'stator', 'name': 'slot_liner_thikness', 'value': {'magnitude': 300, 'units': [{'name': 'micrometer', 'exponent': 1}]}}, {'section': 'stator', 'name': 'stator_bore', 'value': {'magnitude': 8.2, 'units': [{'name': 'centimeter', 'exponent': 1}]}}, {'section': 'stator', 'name': 'tooth_tip_depth', 'value': {'magnitude': 1.5, 'units': [{'name': 'millimeter', 'exponent': 1}]}}, {'section': 'stator', 'name': 'slot_opening', 'value': {'magnitude': 1.5, 'units': [{'name': 'millimeter', 'exponent': 1}]}}, {'section': 'stator', 'name': 'tooth_width', 'value': {'magnitude': 9.8, 'units': [{'name': 'millimeter', 'exponent': 1}]}}, {'section': 'stator', 'name': 'stator_outer_diameter', 'value': {'magnitude': 0.136, 'units': [{'name': 'meter', 'exponent': 1}]}}, {'section': 'stator', 'name': 'back_iron_thickness', 'value': {'magnitude': 5.5, 'units': [{'name': 'millimeter', 'exponent': 1}]}}, {'section': 'stator', 'name': 'stator_internal_radius', 'value': {'magnitude': 500, 'units': [{'name': 'micrometer', 'exponent': 1}]}}, {'section': 'stator', 'name': 'number_slots', 'value': {'magnitude': 12, 'units': [{'name': 'count', 'exponent': 1}]}}, {'section': 'stator', 'name': 'tooth_tip_angle', 'value': {'magnitude': 70, 'units': [{'name': 'degree', 'exponent': 1}]}}, {'section': 'rotor', 'name': 'rotor_od', 'value': {'magnitude': 7.999999999999999, 'units': [{'name': 'centimeter', 'exponent': 1}]}}, {'section': 'rotor', 'name': 'rotor_bore', 'value': {'magnitude': 40, 'units': [{'name': 'millimeter', 'exponent': 1}]}}, {'section': 'rotor', 'name': 'banding_thickness', 'value': {'magnitude': 0.5, 'units': [{'name': 'millimeter', 'exponent': 1}]}}, {'section': 'rotor', 'name': 'number_poles', 'value': {'magnitude': 10, 'units': [{'name': 'count', 'exponent': 1}]}}, {'section': 'rotor', 'name': 'magnet_thickness', 'value': {'magnitude': 4.5, 'units': [{'name': 'millimeter', 'exponent': 1}]}}, {'section': 'rotor', 'name': 'magnet_pole_arc', 'value': {'magnitude': 150, 'units': [{'name': 'degree', 'exponent': 1}]}}, {'section': 'rotor', 'name': 'magnet_inset', 'value': {'magnitude': 0.25, 'units': [{'name': 'millimeter', 'exponent': 1}]}}, {'section': 'winding', 'name': 'symmetry', 'value': {'magnitude': 2, 'units': [{'name': 'count', 'exponent': 1}]}}, {'section': 'winding', 'name': 'number_phases', 'value': {'magnitude': 3, 'units': [{'name': 'count', 'exponent': 1}]}}, {'section': 'winding', 'name': 'number_layers', 'value': {'magnitude': 2, 'units': [{'name': 'count', 'exponent': 1}]}}, {'section': 'winding', 'name': 'coil_span', 'value': {'magnitude': 1, 'units': [{'name': 'count', 'exponent': 1}]}}, {'section': 'winding', 'name': 'turns_per_coil', 'value': {'magnitude': 43, 'units': [{'name': 'count', 'exponent': 1}]}}, {'section': 'winding', 'name': 'empty_slots', 'value': {'magnitude': 0, 'units': [{'name': 'count', 'exponent': 1}]}}, {'section': 'winding', 'name': 'fill_factor', 'value': {'magnitude': 42, 'units': [{'name': 'percent', 'exponent': 1}]}}]}\n",
      "2024-01-25 11:35:00,420 - NoJobId - INFO - Martins-MacBook-Air.local - 3503141280.py->update_job_status() - Updating job status: https://api.build.tinarmengineering.com/jobs/65b2392b481c1394ee4e82db/status/10?node_id=None&apikey=668952058c490d0a296da0abb9660534\n",
      "{'id': '65b2392b481c1394ee4e82db', 'owner_org_id': '65a9291658b95253163001ab', 'owner_user_id': '659bf5a7b7135efed48311bd', 'creation_date': '2024-01-25T10:34:19Z', 'status': 10, 'title': 'amazing (5.0 A/mm², 10.0 rpm)', 'type': 'electromagnetic_spmbrl_fscwseg', 'node_id': 'None', 'data': [{'section': 'operating_point', 'name': 'current_density', 'value': {'magnitude': 5, 'units': [{'name': 'ampere', 'exponent': 1}, {'name': 'millimeter', 'exponent': -2}]}}, {'section': 'operating_point', 'name': 'current_angle', 'value': {'magnitude': 255, 'units': [{'name': 'degree', 'exponent': 1}]}}, {'section': 'operating_point', 'name': 'simulated_speed', 'value': {'magnitude': 10, 'units': [{'name': 'revolutions_per_minute', 'exponent': 1}]}}, {'section': 'simulation', 'name': 'samples_per_electrical_period', 'value': {'magnitude': 180, 'units': [{'name': 'count', 'exponent': 1}, {'name': 'turn', 'exponent': -1}]}}, {'section': 'simulation', 'name': 'timestep_intervals', 'value': {'magnitude': 180, 'units': [{'name': 'count', 'exponent': 1}]}}, {'section': 'simulation', 'name': 'active_length', 'value': {'magnitude': 65, 'units': [{'name': 'millimeter', 'exponent': 1}]}}, {'section': 'stator', 'name': 'slot_liner_thikness', 'value': {'magnitude': 300, 'units': [{'name': 'micrometer', 'exponent': 1}]}}, {'section': 'stator', 'name': 'stator_bore', 'value': {'magnitude': 8.2, 'units': [{'name': 'centimeter', 'exponent': 1}]}}, {'section': 'stator', 'name': 'tooth_tip_depth', 'value': {'magnitude': 1.5, 'units': [{'name': 'millimeter', 'exponent': 1}]}}, {'section': 'stator', 'name': 'slot_opening', 'value': {'magnitude': 1.5, 'units': [{'name': 'millimeter', 'exponent': 1}]}}, {'section': 'stator', 'name': 'tooth_width', 'value': {'magnitude': 9.8, 'units': [{'name': 'millimeter', 'exponent': 1}]}}, {'section': 'stator', 'name': 'stator_outer_diameter', 'value': {'magnitude': 0.136, 'units': [{'name': 'meter', 'exponent': 1}]}}, {'section': 'stator', 'name': 'back_iron_thickness', 'value': {'magnitude': 5.5, 'units': [{'name': 'millimeter', 'exponent': 1}]}}, {'section': 'stator', 'name': 'stator_internal_radius', 'value': {'magnitude': 500, 'units': [{'name': 'micrometer', 'exponent': 1}]}}, {'section': 'stator', 'name': 'number_slots', 'value': {'magnitude': 12, 'units': [{'name': 'count', 'exponent': 1}]}}, {'section': 'stator', 'name': 'tooth_tip_angle', 'value': {'magnitude': 70, 'units': [{'name': 'degree', 'exponent': 1}]}}, {'section': 'rotor', 'name': 'rotor_od', 'value': {'magnitude': 7.999999999999999, 'units': [{'name': 'centimeter', 'exponent': 1}]}}, {'section': 'rotor', 'name': 'rotor_bore', 'value': {'magnitude': 40, 'units': [{'name': 'millimeter', 'exponent': 1}]}}, {'section': 'rotor', 'name': 'banding_thickness', 'value': {'magnitude': 0.5, 'units': [{'name': 'millimeter', 'exponent': 1}]}}, {'section': 'rotor', 'name': 'number_poles', 'value': {'magnitude': 10, 'units': [{'name': 'count', 'exponent': 1}]}}, {'section': 'rotor', 'name': 'magnet_thickness', 'value': {'magnitude': 4.5, 'units': [{'name': 'millimeter', 'exponent': 1}]}}, {'section': 'rotor', 'name': 'magnet_pole_arc', 'value': {'magnitude': 150, 'units': [{'name': 'degree', 'exponent': 1}]}}, {'section': 'rotor', 'name': 'magnet_inset', 'value': {'magnitude': 0.25, 'units': [{'name': 'millimeter', 'exponent': 1}]}}, {'section': 'winding', 'name': 'symmetry', 'value': {'magnitude': 2, 'units': [{'name': 'count', 'exponent': 1}]}}, {'section': 'winding', 'name': 'number_phases', 'value': {'magnitude': 3, 'units': [{'name': 'count', 'exponent': 1}]}}, {'section': 'winding', 'name': 'number_layers', 'value': {'magnitude': 2, 'units': [{'name': 'count', 'exponent': 1}]}}, {'section': 'winding', 'name': 'coil_span', 'value': {'magnitude': 1, 'units': [{'name': 'count', 'exponent': 1}]}}, {'section': 'winding', 'name': 'turns_per_coil', 'value': {'magnitude': 43, 'units': [{'name': 'count', 'exponent': 1}]}}, {'section': 'winding', 'name': 'empty_slots', 'value': {'magnitude': 0, 'units': [{'name': 'count', 'exponent': 1}]}}, {'section': 'winding', 'name': 'fill_factor', 'value': {'magnitude': 42, 'units': [{'name': 'percent', 'exponent': 1}]}}]}\n",
      "2024-01-25 11:35:01,969 - NoJobId - INFO - Martins-MacBook-Air.local - 3503141280.py->update_job_status() - Updating job status: https://api.build.tinarmengineering.com/jobs/65b2392b481c1394ee4e82dc/status/10?node_id=None&apikey=668952058c490d0a296da0abb9660534\n",
      "{'id': '65b2392b481c1394ee4e82dc', 'owner_org_id': '65a9291658b95253163001ab', 'owner_user_id': '659bf5a7b7135efed48311bd', 'creation_date': '2024-01-25T10:34:19Z', 'status': 10, 'title': 'amazing (7.5 A/mm², 10.0 rpm)', 'type': 'electromagnetic_spmbrl_fscwseg', 'node_id': 'None', 'data': [{'section': 'operating_point', 'name': 'current_density', 'value': {'magnitude': 7.5, 'units': [{'name': 'ampere', 'exponent': 1}, {'name': 'millimeter', 'exponent': -2}]}}, {'section': 'operating_point', 'name': 'current_angle', 'value': {'magnitude': 255, 'units': [{'name': 'degree', 'exponent': 1}]}}, {'section': 'operating_point', 'name': 'simulated_speed', 'value': {'magnitude': 10, 'units': [{'name': 'revolutions_per_minute', 'exponent': 1}]}}, {'section': 'simulation', 'name': 'samples_per_electrical_period', 'value': {'magnitude': 180, 'units': [{'name': 'count', 'exponent': 1}, {'name': 'turn', 'exponent': -1}]}}, {'section': 'simulation', 'name': 'timestep_intervals', 'value': {'magnitude': 180, 'units': [{'name': 'count', 'exponent': 1}]}}, {'section': 'simulation', 'name': 'active_length', 'value': {'magnitude': 65, 'units': [{'name': 'millimeter', 'exponent': 1}]}}, {'section': 'stator', 'name': 'slot_liner_thikness', 'value': {'magnitude': 300, 'units': [{'name': 'micrometer', 'exponent': 1}]}}, {'section': 'stator', 'name': 'stator_bore', 'value': {'magnitude': 8.2, 'units': [{'name': 'centimeter', 'exponent': 1}]}}, {'section': 'stator', 'name': 'tooth_tip_depth', 'value': {'magnitude': 1.5, 'units': [{'name': 'millimeter', 'exponent': 1}]}}, {'section': 'stator', 'name': 'slot_opening', 'value': {'magnitude': 1.5, 'units': [{'name': 'millimeter', 'exponent': 1}]}}, {'section': 'stator', 'name': 'tooth_width', 'value': {'magnitude': 9.8, 'units': [{'name': 'millimeter', 'exponent': 1}]}}, {'section': 'stator', 'name': 'stator_outer_diameter', 'value': {'magnitude': 0.136, 'units': [{'name': 'meter', 'exponent': 1}]}}, {'section': 'stator', 'name': 'back_iron_thickness', 'value': {'magnitude': 5.5, 'units': [{'name': 'millimeter', 'exponent': 1}]}}, {'section': 'stator', 'name': 'stator_internal_radius', 'value': {'magnitude': 500, 'units': [{'name': 'micrometer', 'exponent': 1}]}}, {'section': 'stator', 'name': 'number_slots', 'value': {'magnitude': 12, 'units': [{'name': 'count', 'exponent': 1}]}}, {'section': 'stator', 'name': 'tooth_tip_angle', 'value': {'magnitude': 70, 'units': [{'name': 'degree', 'exponent': 1}]}}, {'section': 'rotor', 'name': 'rotor_od', 'value': {'magnitude': 7.999999999999999, 'units': [{'name': 'centimeter', 'exponent': 1}]}}, {'section': 'rotor', 'name': 'rotor_bore', 'value': {'magnitude': 40, 'units': [{'name': 'millimeter', 'exponent': 1}]}}, {'section': 'rotor', 'name': 'banding_thickness', 'value': {'magnitude': 0.5, 'units': [{'name': 'millimeter', 'exponent': 1}]}}, {'section': 'rotor', 'name': 'number_poles', 'value': {'magnitude': 10, 'units': [{'name': 'count', 'exponent': 1}]}}, {'section': 'rotor', 'name': 'magnet_thickness', 'value': {'magnitude': 4.5, 'units': [{'name': 'millimeter', 'exponent': 1}]}}, {'section': 'rotor', 'name': 'magnet_pole_arc', 'value': {'magnitude': 150, 'units': [{'name': 'degree', 'exponent': 1}]}}, {'section': 'rotor', 'name': 'magnet_inset', 'value': {'magnitude': 0.25, 'units': [{'name': 'millimeter', 'exponent': 1}]}}, {'section': 'winding', 'name': 'symmetry', 'value': {'magnitude': 2, 'units': [{'name': 'count', 'exponent': 1}]}}, {'section': 'winding', 'name': 'number_phases', 'value': {'magnitude': 3, 'units': [{'name': 'count', 'exponent': 1}]}}, {'section': 'winding', 'name': 'number_layers', 'value': {'magnitude': 2, 'units': [{'name': 'count', 'exponent': 1}]}}, {'section': 'winding', 'name': 'coil_span', 'value': {'magnitude': 1, 'units': [{'name': 'count', 'exponent': 1}]}}, {'section': 'winding', 'name': 'turns_per_coil', 'value': {'magnitude': 43, 'units': [{'name': 'count', 'exponent': 1}]}}, {'section': 'winding', 'name': 'empty_slots', 'value': {'magnitude': 0, 'units': [{'name': 'count', 'exponent': 1}]}}, {'section': 'winding', 'name': 'fill_factor', 'value': {'magnitude': 42, 'units': [{'name': 'percent', 'exponent': 1}]}}]}\n",
      "2024-01-25 11:35:02,976 - NoJobId - INFO - Martins-MacBook-Air.local - 3503141280.py->update_job_status() - Updating job status: https://api.build.tinarmengineering.com/jobs/65b2392c481c1394ee4e82dd/status/10?node_id=None&apikey=668952058c490d0a296da0abb9660534\n",
      "{'id': '65b2392c481c1394ee4e82dd', 'owner_org_id': '65a9291658b95253163001ab', 'owner_user_id': '659bf5a7b7135efed48311bd', 'creation_date': '2024-01-25T10:34:20Z', 'status': 10, 'title': 'amazing (10.0 A/mm², 10.0 rpm)', 'type': 'electromagnetic_spmbrl_fscwseg', 'node_id': 'None', 'data': [{'section': 'operating_point', 'name': 'current_density', 'value': {'magnitude': 10, 'units': [{'name': 'ampere', 'exponent': 1}, {'name': 'millimeter', 'exponent': -2}]}}, {'section': 'operating_point', 'name': 'current_angle', 'value': {'magnitude': 255, 'units': [{'name': 'degree', 'exponent': 1}]}}, {'section': 'operating_point', 'name': 'simulated_speed', 'value': {'magnitude': 10, 'units': [{'name': 'revolutions_per_minute', 'exponent': 1}]}}, {'section': 'simulation', 'name': 'samples_per_electrical_period', 'value': {'magnitude': 180, 'units': [{'name': 'count', 'exponent': 1}, {'name': 'turn', 'exponent': -1}]}}, {'section': 'simulation', 'name': 'timestep_intervals', 'value': {'magnitude': 180, 'units': [{'name': 'count', 'exponent': 1}]}}, {'section': 'simulation', 'name': 'active_length', 'value': {'magnitude': 65, 'units': [{'name': 'millimeter', 'exponent': 1}]}}, {'section': 'stator', 'name': 'slot_liner_thikness', 'value': {'magnitude': 300, 'units': [{'name': 'micrometer', 'exponent': 1}]}}, {'section': 'stator', 'name': 'stator_bore', 'value': {'magnitude': 8.2, 'units': [{'name': 'centimeter', 'exponent': 1}]}}, {'section': 'stator', 'name': 'tooth_tip_depth', 'value': {'magnitude': 1.5, 'units': [{'name': 'millimeter', 'exponent': 1}]}}, {'section': 'stator', 'name': 'slot_opening', 'value': {'magnitude': 1.5, 'units': [{'name': 'millimeter', 'exponent': 1}]}}, {'section': 'stator', 'name': 'tooth_width', 'value': {'magnitude': 9.8, 'units': [{'name': 'millimeter', 'exponent': 1}]}}, {'section': 'stator', 'name': 'stator_outer_diameter', 'value': {'magnitude': 0.136, 'units': [{'name': 'meter', 'exponent': 1}]}}, {'section': 'stator', 'name': 'back_iron_thickness', 'value': {'magnitude': 5.5, 'units': [{'name': 'millimeter', 'exponent': 1}]}}, {'section': 'stator', 'name': 'stator_internal_radius', 'value': {'magnitude': 500, 'units': [{'name': 'micrometer', 'exponent': 1}]}}, {'section': 'stator', 'name': 'number_slots', 'value': {'magnitude': 12, 'units': [{'name': 'count', 'exponent': 1}]}}, {'section': 'stator', 'name': 'tooth_tip_angle', 'value': {'magnitude': 70, 'units': [{'name': 'degree', 'exponent': 1}]}}, {'section': 'rotor', 'name': 'rotor_od', 'value': {'magnitude': 7.999999999999999, 'units': [{'name': 'centimeter', 'exponent': 1}]}}, {'section': 'rotor', 'name': 'rotor_bore', 'value': {'magnitude': 40, 'units': [{'name': 'millimeter', 'exponent': 1}]}}, {'section': 'rotor', 'name': 'banding_thickness', 'value': {'magnitude': 0.5, 'units': [{'name': 'millimeter', 'exponent': 1}]}}, {'section': 'rotor', 'name': 'number_poles', 'value': {'magnitude': 10, 'units': [{'name': 'count', 'exponent': 1}]}}, {'section': 'rotor', 'name': 'magnet_thickness', 'value': {'magnitude': 4.5, 'units': [{'name': 'millimeter', 'exponent': 1}]}}, {'section': 'rotor', 'name': 'magnet_pole_arc', 'value': {'magnitude': 150, 'units': [{'name': 'degree', 'exponent': 1}]}}, {'section': 'rotor', 'name': 'magnet_inset', 'value': {'magnitude': 0.25, 'units': [{'name': 'millimeter', 'exponent': 1}]}}, {'section': 'winding', 'name': 'symmetry', 'value': {'magnitude': 2, 'units': [{'name': 'count', 'exponent': 1}]}}, {'section': 'winding', 'name': 'number_phases', 'value': {'magnitude': 3, 'units': [{'name': 'count', 'exponent': 1}]}}, {'section': 'winding', 'name': 'number_layers', 'value': {'magnitude': 2, 'units': [{'name': 'count', 'exponent': 1}]}}, {'section': 'winding', 'name': 'coil_span', 'value': {'magnitude': 1, 'units': [{'name': 'count', 'exponent': 1}]}}, {'section': 'winding', 'name': 'turns_per_coil', 'value': {'magnitude': 43, 'units': [{'name': 'count', 'exponent': 1}]}}, {'section': 'winding', 'name': 'empty_slots', 'value': {'magnitude': 0, 'units': [{'name': 'count', 'exponent': 1}]}}, {'section': 'winding', 'name': 'fill_factor', 'value': {'magnitude': 42, 'units': [{'name': 'percent', 'exponent': 1}]}}]}\n",
      "2024-01-25 11:35:03,799 - NoJobId - INFO - Martins-MacBook-Air.local - 3503141280.py->update_job_status() - Updating job status: https://api.build.tinarmengineering.com/jobs/65b2392c481c1394ee4e82de/status/10?node_id=None&apikey=668952058c490d0a296da0abb9660534\n",
      "{'id': '65b2392c481c1394ee4e82de', 'owner_org_id': '65a9291658b95253163001ab', 'owner_user_id': '659bf5a7b7135efed48311bd', 'creation_date': '2024-01-25T10:34:20Z', 'status': 10, 'title': 'amazing (0.0 A/mm², 757.5 rpm)', 'type': 'electromagnetic_spmbrl_fscwseg', 'node_id': 'None', 'data': [{'section': 'operating_point', 'name': 'current_density', 'value': {'magnitude': 0, 'units': [{'name': 'ampere', 'exponent': 1}, {'name': 'millimeter', 'exponent': -2}]}}, {'section': 'operating_point', 'name': 'current_angle', 'value': {'magnitude': 255, 'units': [{'name': 'degree', 'exponent': 1}]}}, {'section': 'operating_point', 'name': 'simulated_speed', 'value': {'magnitude': 757.5, 'units': [{'name': 'revolutions_per_minute', 'exponent': 1}]}}, {'section': 'simulation', 'name': 'samples_per_electrical_period', 'value': {'magnitude': 180, 'units': [{'name': 'count', 'exponent': 1}, {'name': 'turn', 'exponent': -1}]}}, {'section': 'simulation', 'name': 'timestep_intervals', 'value': {'magnitude': 180, 'units': [{'name': 'count', 'exponent': 1}]}}, {'section': 'simulation', 'name': 'active_length', 'value': {'magnitude': 65, 'units': [{'name': 'millimeter', 'exponent': 1}]}}, {'section': 'stator', 'name': 'slot_liner_thikness', 'value': {'magnitude': 300, 'units': [{'name': 'micrometer', 'exponent': 1}]}}, {'section': 'stator', 'name': 'stator_bore', 'value': {'magnitude': 8.2, 'units': [{'name': 'centimeter', 'exponent': 1}]}}, {'section': 'stator', 'name': 'tooth_tip_depth', 'value': {'magnitude': 1.5, 'units': [{'name': 'millimeter', 'exponent': 1}]}}, {'section': 'stator', 'name': 'slot_opening', 'value': {'magnitude': 1.5, 'units': [{'name': 'millimeter', 'exponent': 1}]}}, {'section': 'stator', 'name': 'tooth_width', 'value': {'magnitude': 9.8, 'units': [{'name': 'millimeter', 'exponent': 1}]}}, {'section': 'stator', 'name': 'stator_outer_diameter', 'value': {'magnitude': 0.136, 'units': [{'name': 'meter', 'exponent': 1}]}}, {'section': 'stator', 'name': 'back_iron_thickness', 'value': {'magnitude': 5.5, 'units': [{'name': 'millimeter', 'exponent': 1}]}}, {'section': 'stator', 'name': 'stator_internal_radius', 'value': {'magnitude': 500, 'units': [{'name': 'micrometer', 'exponent': 1}]}}, {'section': 'stator', 'name': 'number_slots', 'value': {'magnitude': 12, 'units': [{'name': 'count', 'exponent': 1}]}}, {'section': 'stator', 'name': 'tooth_tip_angle', 'value': {'magnitude': 70, 'units': [{'name': 'degree', 'exponent': 1}]}}, {'section': 'rotor', 'name': 'rotor_od', 'value': {'magnitude': 7.999999999999999, 'units': [{'name': 'centimeter', 'exponent': 1}]}}, {'section': 'rotor', 'name': 'rotor_bore', 'value': {'magnitude': 40, 'units': [{'name': 'millimeter', 'exponent': 1}]}}, {'section': 'rotor', 'name': 'banding_thickness', 'value': {'magnitude': 0.5, 'units': [{'name': 'millimeter', 'exponent': 1}]}}, {'section': 'rotor', 'name': 'number_poles', 'value': {'magnitude': 10, 'units': [{'name': 'count', 'exponent': 1}]}}, {'section': 'rotor', 'name': 'magnet_thickness', 'value': {'magnitude': 4.5, 'units': [{'name': 'millimeter', 'exponent': 1}]}}, {'section': 'rotor', 'name': 'magnet_pole_arc', 'value': {'magnitude': 150, 'units': [{'name': 'degree', 'exponent': 1}]}}, {'section': 'rotor', 'name': 'magnet_inset', 'value': {'magnitude': 0.25, 'units': [{'name': 'millimeter', 'exponent': 1}]}}, {'section': 'winding', 'name': 'symmetry', 'value': {'magnitude': 2, 'units': [{'name': 'count', 'exponent': 1}]}}, {'section': 'winding', 'name': 'number_phases', 'value': {'magnitude': 3, 'units': [{'name': 'count', 'exponent': 1}]}}, {'section': 'winding', 'name': 'number_layers', 'value': {'magnitude': 2, 'units': [{'name': 'count', 'exponent': 1}]}}, {'section': 'winding', 'name': 'coil_span', 'value': {'magnitude': 1, 'units': [{'name': 'count', 'exponent': 1}]}}, {'section': 'winding', 'name': 'turns_per_coil', 'value': {'magnitude': 43, 'units': [{'name': 'count', 'exponent': 1}]}}, {'section': 'winding', 'name': 'empty_slots', 'value': {'magnitude': 0, 'units': [{'name': 'count', 'exponent': 1}]}}, {'section': 'winding', 'name': 'fill_factor', 'value': {'magnitude': 42, 'units': [{'name': 'percent', 'exponent': 1}]}}]}\n",
      "2024-01-25 11:35:04,563 - NoJobId - INFO - Martins-MacBook-Air.local - 3503141280.py->update_job_status() - Updating job status: https://api.build.tinarmengineering.com/jobs/65b2392d481c1394ee4e82df/status/10?node_id=None&apikey=668952058c490d0a296da0abb9660534\n",
      "{'id': '65b2392d481c1394ee4e82df', 'owner_org_id': '65a9291658b95253163001ab', 'owner_user_id': '659bf5a7b7135efed48311bd', 'creation_date': '2024-01-25T10:34:21Z', 'status': 10, 'title': 'amazing (2.5 A/mm², 757.5 rpm)', 'type': 'electromagnetic_spmbrl_fscwseg', 'node_id': 'None', 'data': [{'section': 'operating_point', 'name': 'current_density', 'value': {'magnitude': 2.5, 'units': [{'name': 'ampere', 'exponent': 1}, {'name': 'millimeter', 'exponent': -2}]}}, {'section': 'operating_point', 'name': 'current_angle', 'value': {'magnitude': 255, 'units': [{'name': 'degree', 'exponent': 1}]}}, {'section': 'operating_point', 'name': 'simulated_speed', 'value': {'magnitude': 757.5, 'units': [{'name': 'revolutions_per_minute', 'exponent': 1}]}}, {'section': 'simulation', 'name': 'samples_per_electrical_period', 'value': {'magnitude': 180, 'units': [{'name': 'count', 'exponent': 1}, {'name': 'turn', 'exponent': -1}]}}, {'section': 'simulation', 'name': 'timestep_intervals', 'value': {'magnitude': 180, 'units': [{'name': 'count', 'exponent': 1}]}}, {'section': 'simulation', 'name': 'active_length', 'value': {'magnitude': 65, 'units': [{'name': 'millimeter', 'exponent': 1}]}}, {'section': 'stator', 'name': 'slot_liner_thikness', 'value': {'magnitude': 300, 'units': [{'name': 'micrometer', 'exponent': 1}]}}, {'section': 'stator', 'name': 'stator_bore', 'value': {'magnitude': 8.2, 'units': [{'name': 'centimeter', 'exponent': 1}]}}, {'section': 'stator', 'name': 'tooth_tip_depth', 'value': {'magnitude': 1.5, 'units': [{'name': 'millimeter', 'exponent': 1}]}}, {'section': 'stator', 'name': 'slot_opening', 'value': {'magnitude': 1.5, 'units': [{'name': 'millimeter', 'exponent': 1}]}}, {'section': 'stator', 'name': 'tooth_width', 'value': {'magnitude': 9.8, 'units': [{'name': 'millimeter', 'exponent': 1}]}}, {'section': 'stator', 'name': 'stator_outer_diameter', 'value': {'magnitude': 0.136, 'units': [{'name': 'meter', 'exponent': 1}]}}, {'section': 'stator', 'name': 'back_iron_thickness', 'value': {'magnitude': 5.5, 'units': [{'name': 'millimeter', 'exponent': 1}]}}, {'section': 'stator', 'name': 'stator_internal_radius', 'value': {'magnitude': 500, 'units': [{'name': 'micrometer', 'exponent': 1}]}}, {'section': 'stator', 'name': 'number_slots', 'value': {'magnitude': 12, 'units': [{'name': 'count', 'exponent': 1}]}}, {'section': 'stator', 'name': 'tooth_tip_angle', 'value': {'magnitude': 70, 'units': [{'name': 'degree', 'exponent': 1}]}}, {'section': 'rotor', 'name': 'rotor_od', 'value': {'magnitude': 7.999999999999999, 'units': [{'name': 'centimeter', 'exponent': 1}]}}, {'section': 'rotor', 'name': 'rotor_bore', 'value': {'magnitude': 40, 'units': [{'name': 'millimeter', 'exponent': 1}]}}, {'section': 'rotor', 'name': 'banding_thickness', 'value': {'magnitude': 0.5, 'units': [{'name': 'millimeter', 'exponent': 1}]}}, {'section': 'rotor', 'name': 'number_poles', 'value': {'magnitude': 10, 'units': [{'name': 'count', 'exponent': 1}]}}, {'section': 'rotor', 'name': 'magnet_thickness', 'value': {'magnitude': 4.5, 'units': [{'name': 'millimeter', 'exponent': 1}]}}, {'section': 'rotor', 'name': 'magnet_pole_arc', 'value': {'magnitude': 150, 'units': [{'name': 'degree', 'exponent': 1}]}}, {'section': 'rotor', 'name': 'magnet_inset', 'value': {'magnitude': 0.25, 'units': [{'name': 'millimeter', 'exponent': 1}]}}, {'section': 'winding', 'name': 'symmetry', 'value': {'magnitude': 2, 'units': [{'name': 'count', 'exponent': 1}]}}, {'section': 'winding', 'name': 'number_phases', 'value': {'magnitude': 3, 'units': [{'name': 'count', 'exponent': 1}]}}, {'section': 'winding', 'name': 'number_layers', 'value': {'magnitude': 2, 'units': [{'name': 'count', 'exponent': 1}]}}, {'section': 'winding', 'name': 'coil_span', 'value': {'magnitude': 1, 'units': [{'name': 'count', 'exponent': 1}]}}, {'section': 'winding', 'name': 'turns_per_coil', 'value': {'magnitude': 43, 'units': [{'name': 'count', 'exponent': 1}]}}, {'section': 'winding', 'name': 'empty_slots', 'value': {'magnitude': 0, 'units': [{'name': 'count', 'exponent': 1}]}}, {'section': 'winding', 'name': 'fill_factor', 'value': {'magnitude': 42, 'units': [{'name': 'percent', 'exponent': 1}]}}]}\n",
      "2024-01-25 11:35:05,303 - NoJobId - INFO - Martins-MacBook-Air.local - 3503141280.py->update_job_status() - Updating job status: https://api.build.tinarmengineering.com/jobs/65b2392d481c1394ee4e82e0/status/10?node_id=None&apikey=668952058c490d0a296da0abb9660534\n",
      "{'id': '65b2392d481c1394ee4e82e0', 'owner_org_id': '65a9291658b95253163001ab', 'owner_user_id': '659bf5a7b7135efed48311bd', 'creation_date': '2024-01-25T10:34:21Z', 'status': 10, 'title': 'amazing (5.0 A/mm², 757.5 rpm)', 'type': 'electromagnetic_spmbrl_fscwseg', 'node_id': 'None', 'data': [{'section': 'operating_point', 'name': 'current_density', 'value': {'magnitude': 5, 'units': [{'name': 'ampere', 'exponent': 1}, {'name': 'millimeter', 'exponent': -2}]}}, {'section': 'operating_point', 'name': 'current_angle', 'value': {'magnitude': 255, 'units': [{'name': 'degree', 'exponent': 1}]}}, {'section': 'operating_point', 'name': 'simulated_speed', 'value': {'magnitude': 757.5, 'units': [{'name': 'revolutions_per_minute', 'exponent': 1}]}}, {'section': 'simulation', 'name': 'samples_per_electrical_period', 'value': {'magnitude': 180, 'units': [{'name': 'count', 'exponent': 1}, {'name': 'turn', 'exponent': -1}]}}, {'section': 'simulation', 'name': 'timestep_intervals', 'value': {'magnitude': 180, 'units': [{'name': 'count', 'exponent': 1}]}}, {'section': 'simulation', 'name': 'active_length', 'value': {'magnitude': 65, 'units': [{'name': 'millimeter', 'exponent': 1}]}}, {'section': 'stator', 'name': 'slot_liner_thikness', 'value': {'magnitude': 300, 'units': [{'name': 'micrometer', 'exponent': 1}]}}, {'section': 'stator', 'name': 'stator_bore', 'value': {'magnitude': 8.2, 'units': [{'name': 'centimeter', 'exponent': 1}]}}, {'section': 'stator', 'name': 'tooth_tip_depth', 'value': {'magnitude': 1.5, 'units': [{'name': 'millimeter', 'exponent': 1}]}}, {'section': 'stator', 'name': 'slot_opening', 'value': {'magnitude': 1.5, 'units': [{'name': 'millimeter', 'exponent': 1}]}}, {'section': 'stator', 'name': 'tooth_width', 'value': {'magnitude': 9.8, 'units': [{'name': 'millimeter', 'exponent': 1}]}}, {'section': 'stator', 'name': 'stator_outer_diameter', 'value': {'magnitude': 0.136, 'units': [{'name': 'meter', 'exponent': 1}]}}, {'section': 'stator', 'name': 'back_iron_thickness', 'value': {'magnitude': 5.5, 'units': [{'name': 'millimeter', 'exponent': 1}]}}, {'section': 'stator', 'name': 'stator_internal_radius', 'value': {'magnitude': 500, 'units': [{'name': 'micrometer', 'exponent': 1}]}}, {'section': 'stator', 'name': 'number_slots', 'value': {'magnitude': 12, 'units': [{'name': 'count', 'exponent': 1}]}}, {'section': 'stator', 'name': 'tooth_tip_angle', 'value': {'magnitude': 70, 'units': [{'name': 'degree', 'exponent': 1}]}}, {'section': 'rotor', 'name': 'rotor_od', 'value': {'magnitude': 7.999999999999999, 'units': [{'name': 'centimeter', 'exponent': 1}]}}, {'section': 'rotor', 'name': 'rotor_bore', 'value': {'magnitude': 40, 'units': [{'name': 'millimeter', 'exponent': 1}]}}, {'section': 'rotor', 'name': 'banding_thickness', 'value': {'magnitude': 0.5, 'units': [{'name': 'millimeter', 'exponent': 1}]}}, {'section': 'rotor', 'name': 'number_poles', 'value': {'magnitude': 10, 'units': [{'name': 'count', 'exponent': 1}]}}, {'section': 'rotor', 'name': 'magnet_thickness', 'value': {'magnitude': 4.5, 'units': [{'name': 'millimeter', 'exponent': 1}]}}, {'section': 'rotor', 'name': 'magnet_pole_arc', 'value': {'magnitude': 150, 'units': [{'name': 'degree', 'exponent': 1}]}}, {'section': 'rotor', 'name': 'magnet_inset', 'value': {'magnitude': 0.25, 'units': [{'name': 'millimeter', 'exponent': 1}]}}, {'section': 'winding', 'name': 'symmetry', 'value': {'magnitude': 2, 'units': [{'name': 'count', 'exponent': 1}]}}, {'section': 'winding', 'name': 'number_phases', 'value': {'magnitude': 3, 'units': [{'name': 'count', 'exponent': 1}]}}, {'section': 'winding', 'name': 'number_layers', 'value': {'magnitude': 2, 'units': [{'name': 'count', 'exponent': 1}]}}, {'section': 'winding', 'name': 'coil_span', 'value': {'magnitude': 1, 'units': [{'name': 'count', 'exponent': 1}]}}, {'section': 'winding', 'name': 'turns_per_coil', 'value': {'magnitude': 43, 'units': [{'name': 'count', 'exponent': 1}]}}, {'section': 'winding', 'name': 'empty_slots', 'value': {'magnitude': 0, 'units': [{'name': 'count', 'exponent': 1}]}}, {'section': 'winding', 'name': 'fill_factor', 'value': {'magnitude': 42, 'units': [{'name': 'percent', 'exponent': 1}]}}]}\n",
      "2024-01-25 11:35:06,064 - NoJobId - INFO - Martins-MacBook-Air.local - 3503141280.py->update_job_status() - Updating job status: https://api.build.tinarmengineering.com/jobs/65b2392d481c1394ee4e82e1/status/10?node_id=None&apikey=668952058c490d0a296da0abb9660534\n",
      "{'id': '65b2392d481c1394ee4e82e1', 'owner_org_id': '65a9291658b95253163001ab', 'owner_user_id': '659bf5a7b7135efed48311bd', 'creation_date': '2024-01-25T10:34:21Z', 'status': 10, 'title': 'amazing (7.5 A/mm², 757.5 rpm)', 'type': 'electromagnetic_spmbrl_fscwseg', 'node_id': 'None', 'data': [{'section': 'operating_point', 'name': 'current_density', 'value': {'magnitude': 7.5, 'units': [{'name': 'ampere', 'exponent': 1}, {'name': 'millimeter', 'exponent': -2}]}}, {'section': 'operating_point', 'name': 'current_angle', 'value': {'magnitude': 255, 'units': [{'name': 'degree', 'exponent': 1}]}}, {'section': 'operating_point', 'name': 'simulated_speed', 'value': {'magnitude': 757.5, 'units': [{'name': 'revolutions_per_minute', 'exponent': 1}]}}, {'section': 'simulation', 'name': 'samples_per_electrical_period', 'value': {'magnitude': 180, 'units': [{'name': 'count', 'exponent': 1}, {'name': 'turn', 'exponent': -1}]}}, {'section': 'simulation', 'name': 'timestep_intervals', 'value': {'magnitude': 180, 'units': [{'name': 'count', 'exponent': 1}]}}, {'section': 'simulation', 'name': 'active_length', 'value': {'magnitude': 65, 'units': [{'name': 'millimeter', 'exponent': 1}]}}, {'section': 'stator', 'name': 'slot_liner_thikness', 'value': {'magnitude': 300, 'units': [{'name': 'micrometer', 'exponent': 1}]}}, {'section': 'stator', 'name': 'stator_bore', 'value': {'magnitude': 8.2, 'units': [{'name': 'centimeter', 'exponent': 1}]}}, {'section': 'stator', 'name': 'tooth_tip_depth', 'value': {'magnitude': 1.5, 'units': [{'name': 'millimeter', 'exponent': 1}]}}, {'section': 'stator', 'name': 'slot_opening', 'value': {'magnitude': 1.5, 'units': [{'name': 'millimeter', 'exponent': 1}]}}, {'section': 'stator', 'name': 'tooth_width', 'value': {'magnitude': 9.8, 'units': [{'name': 'millimeter', 'exponent': 1}]}}, {'section': 'stator', 'name': 'stator_outer_diameter', 'value': {'magnitude': 0.136, 'units': [{'name': 'meter', 'exponent': 1}]}}, {'section': 'stator', 'name': 'back_iron_thickness', 'value': {'magnitude': 5.5, 'units': [{'name': 'millimeter', 'exponent': 1}]}}, {'section': 'stator', 'name': 'stator_internal_radius', 'value': {'magnitude': 500, 'units': [{'name': 'micrometer', 'exponent': 1}]}}, {'section': 'stator', 'name': 'number_slots', 'value': {'magnitude': 12, 'units': [{'name': 'count', 'exponent': 1}]}}, {'section': 'stator', 'name': 'tooth_tip_angle', 'value': {'magnitude': 70, 'units': [{'name': 'degree', 'exponent': 1}]}}, {'section': 'rotor', 'name': 'rotor_od', 'value': {'magnitude': 7.999999999999999, 'units': [{'name': 'centimeter', 'exponent': 1}]}}, {'section': 'rotor', 'name': 'rotor_bore', 'value': {'magnitude': 40, 'units': [{'name': 'millimeter', 'exponent': 1}]}}, {'section': 'rotor', 'name': 'banding_thickness', 'value': {'magnitude': 0.5, 'units': [{'name': 'millimeter', 'exponent': 1}]}}, {'section': 'rotor', 'name': 'number_poles', 'value': {'magnitude': 10, 'units': [{'name': 'count', 'exponent': 1}]}}, {'section': 'rotor', 'name': 'magnet_thickness', 'value': {'magnitude': 4.5, 'units': [{'name': 'millimeter', 'exponent': 1}]}}, {'section': 'rotor', 'name': 'magnet_pole_arc', 'value': {'magnitude': 150, 'units': [{'name': 'degree', 'exponent': 1}]}}, {'section': 'rotor', 'name': 'magnet_inset', 'value': {'magnitude': 0.25, 'units': [{'name': 'millimeter', 'exponent': 1}]}}, {'section': 'winding', 'name': 'symmetry', 'value': {'magnitude': 2, 'units': [{'name': 'count', 'exponent': 1}]}}, {'section': 'winding', 'name': 'number_phases', 'value': {'magnitude': 3, 'units': [{'name': 'count', 'exponent': 1}]}}, {'section': 'winding', 'name': 'number_layers', 'value': {'magnitude': 2, 'units': [{'name': 'count', 'exponent': 1}]}}, {'section': 'winding', 'name': 'coil_span', 'value': {'magnitude': 1, 'units': [{'name': 'count', 'exponent': 1}]}}, {'section': 'winding', 'name': 'turns_per_coil', 'value': {'magnitude': 43, 'units': [{'name': 'count', 'exponent': 1}]}}, {'section': 'winding', 'name': 'empty_slots', 'value': {'magnitude': 0, 'units': [{'name': 'count', 'exponent': 1}]}}, {'section': 'winding', 'name': 'fill_factor', 'value': {'magnitude': 42, 'units': [{'name': 'percent', 'exponent': 1}]}}]}\n",
      "2024-01-25 11:35:06,834 - NoJobId - INFO - Martins-MacBook-Air.local - 3503141280.py->update_job_status() - Updating job status: https://api.build.tinarmengineering.com/jobs/65b2392e481c1394ee4e82e2/status/10?node_id=None&apikey=668952058c490d0a296da0abb9660534\n",
      "{'id': '65b2392e481c1394ee4e82e2', 'owner_org_id': '65a9291658b95253163001ab', 'owner_user_id': '659bf5a7b7135efed48311bd', 'creation_date': '2024-01-25T10:34:22Z', 'status': 10, 'title': 'amazing (10.0 A/mm², 757.5 rpm)', 'type': 'electromagnetic_spmbrl_fscwseg', 'node_id': 'None', 'data': [{'section': 'operating_point', 'name': 'current_density', 'value': {'magnitude': 10, 'units': [{'name': 'ampere', 'exponent': 1}, {'name': 'millimeter', 'exponent': -2}]}}, {'section': 'operating_point', 'name': 'current_angle', 'value': {'magnitude': 255, 'units': [{'name': 'degree', 'exponent': 1}]}}, {'section': 'operating_point', 'name': 'simulated_speed', 'value': {'magnitude': 757.5, 'units': [{'name': 'revolutions_per_minute', 'exponent': 1}]}}, {'section': 'simulation', 'name': 'samples_per_electrical_period', 'value': {'magnitude': 180, 'units': [{'name': 'count', 'exponent': 1}, {'name': 'turn', 'exponent': -1}]}}, {'section': 'simulation', 'name': 'timestep_intervals', 'value': {'magnitude': 180, 'units': [{'name': 'count', 'exponent': 1}]}}, {'section': 'simulation', 'name': 'active_length', 'value': {'magnitude': 65, 'units': [{'name': 'millimeter', 'exponent': 1}]}}, {'section': 'stator', 'name': 'slot_liner_thikness', 'value': {'magnitude': 300, 'units': [{'name': 'micrometer', 'exponent': 1}]}}, {'section': 'stator', 'name': 'stator_bore', 'value': {'magnitude': 8.2, 'units': [{'name': 'centimeter', 'exponent': 1}]}}, {'section': 'stator', 'name': 'tooth_tip_depth', 'value': {'magnitude': 1.5, 'units': [{'name': 'millimeter', 'exponent': 1}]}}, {'section': 'stator', 'name': 'slot_opening', 'value': {'magnitude': 1.5, 'units': [{'name': 'millimeter', 'exponent': 1}]}}, {'section': 'stator', 'name': 'tooth_width', 'value': {'magnitude': 9.8, 'units': [{'name': 'millimeter', 'exponent': 1}]}}, {'section': 'stator', 'name': 'stator_outer_diameter', 'value': {'magnitude': 0.136, 'units': [{'name': 'meter', 'exponent': 1}]}}, {'section': 'stator', 'name': 'back_iron_thickness', 'value': {'magnitude': 5.5, 'units': [{'name': 'millimeter', 'exponent': 1}]}}, {'section': 'stator', 'name': 'stator_internal_radius', 'value': {'magnitude': 500, 'units': [{'name': 'micrometer', 'exponent': 1}]}}, {'section': 'stator', 'name': 'number_slots', 'value': {'magnitude': 12, 'units': [{'name': 'count', 'exponent': 1}]}}, {'section': 'stator', 'name': 'tooth_tip_angle', 'value': {'magnitude': 70, 'units': [{'name': 'degree', 'exponent': 1}]}}, {'section': 'rotor', 'name': 'rotor_od', 'value': {'magnitude': 7.999999999999999, 'units': [{'name': 'centimeter', 'exponent': 1}]}}, {'section': 'rotor', 'name': 'rotor_bore', 'value': {'magnitude': 40, 'units': [{'name': 'millimeter', 'exponent': 1}]}}, {'section': 'rotor', 'name': 'banding_thickness', 'value': {'magnitude': 0.5, 'units': [{'name': 'millimeter', 'exponent': 1}]}}, {'section': 'rotor', 'name': 'number_poles', 'value': {'magnitude': 10, 'units': [{'name': 'count', 'exponent': 1}]}}, {'section': 'rotor', 'name': 'magnet_thickness', 'value': {'magnitude': 4.5, 'units': [{'name': 'millimeter', 'exponent': 1}]}}, {'section': 'rotor', 'name': 'magnet_pole_arc', 'value': {'magnitude': 150, 'units': [{'name': 'degree', 'exponent': 1}]}}, {'section': 'rotor', 'name': 'magnet_inset', 'value': {'magnitude': 0.25, 'units': [{'name': 'millimeter', 'exponent': 1}]}}, {'section': 'winding', 'name': 'symmetry', 'value': {'magnitude': 2, 'units': [{'name': 'count', 'exponent': 1}]}}, {'section': 'winding', 'name': 'number_phases', 'value': {'magnitude': 3, 'units': [{'name': 'count', 'exponent': 1}]}}, {'section': 'winding', 'name': 'number_layers', 'value': {'magnitude': 2, 'units': [{'name': 'count', 'exponent': 1}]}}, {'section': 'winding', 'name': 'coil_span', 'value': {'magnitude': 1, 'units': [{'name': 'count', 'exponent': 1}]}}, {'section': 'winding', 'name': 'turns_per_coil', 'value': {'magnitude': 43, 'units': [{'name': 'count', 'exponent': 1}]}}, {'section': 'winding', 'name': 'empty_slots', 'value': {'magnitude': 0, 'units': [{'name': 'count', 'exponent': 1}]}}, {'section': 'winding', 'name': 'fill_factor', 'value': {'magnitude': 42, 'units': [{'name': 'percent', 'exponent': 1}]}}]}\n",
      "2024-01-25 11:35:07,601 - NoJobId - INFO - Martins-MacBook-Air.local - 3503141280.py->update_job_status() - Updating job status: https://api.build.tinarmengineering.com/jobs/65b2392e481c1394ee4e82e3/status/10?node_id=None&apikey=668952058c490d0a296da0abb9660534\n",
      "{'id': '65b2392e481c1394ee4e82e3', 'owner_org_id': '65a9291658b95253163001ab', 'owner_user_id': '659bf5a7b7135efed48311bd', 'creation_date': '2024-01-25T10:34:22Z', 'status': 10, 'title': 'amazing (0.0 A/mm², 1.505×10³ rpm)', 'type': 'electromagnetic_spmbrl_fscwseg', 'node_id': 'None', 'data': [{'section': 'operating_point', 'name': 'current_density', 'value': {'magnitude': 0, 'units': [{'name': 'ampere', 'exponent': 1}, {'name': 'millimeter', 'exponent': -2}]}}, {'section': 'operating_point', 'name': 'current_angle', 'value': {'magnitude': 255, 'units': [{'name': 'degree', 'exponent': 1}]}}, {'section': 'operating_point', 'name': 'simulated_speed', 'value': {'magnitude': 1505, 'units': [{'name': 'revolutions_per_minute', 'exponent': 1}]}}, {'section': 'simulation', 'name': 'samples_per_electrical_period', 'value': {'magnitude': 180, 'units': [{'name': 'count', 'exponent': 1}, {'name': 'turn', 'exponent': -1}]}}, {'section': 'simulation', 'name': 'timestep_intervals', 'value': {'magnitude': 180, 'units': [{'name': 'count', 'exponent': 1}]}}, {'section': 'simulation', 'name': 'active_length', 'value': {'magnitude': 65, 'units': [{'name': 'millimeter', 'exponent': 1}]}}, {'section': 'stator', 'name': 'slot_liner_thikness', 'value': {'magnitude': 300, 'units': [{'name': 'micrometer', 'exponent': 1}]}}, {'section': 'stator', 'name': 'stator_bore', 'value': {'magnitude': 8.2, 'units': [{'name': 'centimeter', 'exponent': 1}]}}, {'section': 'stator', 'name': 'tooth_tip_depth', 'value': {'magnitude': 1.5, 'units': [{'name': 'millimeter', 'exponent': 1}]}}, {'section': 'stator', 'name': 'slot_opening', 'value': {'magnitude': 1.5, 'units': [{'name': 'millimeter', 'exponent': 1}]}}, {'section': 'stator', 'name': 'tooth_width', 'value': {'magnitude': 9.8, 'units': [{'name': 'millimeter', 'exponent': 1}]}}, {'section': 'stator', 'name': 'stator_outer_diameter', 'value': {'magnitude': 0.136, 'units': [{'name': 'meter', 'exponent': 1}]}}, {'section': 'stator', 'name': 'back_iron_thickness', 'value': {'magnitude': 5.5, 'units': [{'name': 'millimeter', 'exponent': 1}]}}, {'section': 'stator', 'name': 'stator_internal_radius', 'value': {'magnitude': 500, 'units': [{'name': 'micrometer', 'exponent': 1}]}}, {'section': 'stator', 'name': 'number_slots', 'value': {'magnitude': 12, 'units': [{'name': 'count', 'exponent': 1}]}}, {'section': 'stator', 'name': 'tooth_tip_angle', 'value': {'magnitude': 70, 'units': [{'name': 'degree', 'exponent': 1}]}}, {'section': 'rotor', 'name': 'rotor_od', 'value': {'magnitude': 7.999999999999999, 'units': [{'name': 'centimeter', 'exponent': 1}]}}, {'section': 'rotor', 'name': 'rotor_bore', 'value': {'magnitude': 40, 'units': [{'name': 'millimeter', 'exponent': 1}]}}, {'section': 'rotor', 'name': 'banding_thickness', 'value': {'magnitude': 0.5, 'units': [{'name': 'millimeter', 'exponent': 1}]}}, {'section': 'rotor', 'name': 'number_poles', 'value': {'magnitude': 10, 'units': [{'name': 'count', 'exponent': 1}]}}, {'section': 'rotor', 'name': 'magnet_thickness', 'value': {'magnitude': 4.5, 'units': [{'name': 'millimeter', 'exponent': 1}]}}, {'section': 'rotor', 'name': 'magnet_pole_arc', 'value': {'magnitude': 150, 'units': [{'name': 'degree', 'exponent': 1}]}}, {'section': 'rotor', 'name': 'magnet_inset', 'value': {'magnitude': 0.25, 'units': [{'name': 'millimeter', 'exponent': 1}]}}, {'section': 'winding', 'name': 'symmetry', 'value': {'magnitude': 2, 'units': [{'name': 'count', 'exponent': 1}]}}, {'section': 'winding', 'name': 'number_phases', 'value': {'magnitude': 3, 'units': [{'name': 'count', 'exponent': 1}]}}, {'section': 'winding', 'name': 'number_layers', 'value': {'magnitude': 2, 'units': [{'name': 'count', 'exponent': 1}]}}, {'section': 'winding', 'name': 'coil_span', 'value': {'magnitude': 1, 'units': [{'name': 'count', 'exponent': 1}]}}, {'section': 'winding', 'name': 'turns_per_coil', 'value': {'magnitude': 43, 'units': [{'name': 'count', 'exponent': 1}]}}, {'section': 'winding', 'name': 'empty_slots', 'value': {'magnitude': 0, 'units': [{'name': 'count', 'exponent': 1}]}}, {'section': 'winding', 'name': 'fill_factor', 'value': {'magnitude': 42, 'units': [{'name': 'percent', 'exponent': 1}]}}]}\n",
      "2024-01-25 11:35:08,535 - NoJobId - INFO - Martins-MacBook-Air.local - 3503141280.py->update_job_status() - Updating job status: https://api.build.tinarmengineering.com/jobs/65b2392e481c1394ee4e82e4/status/10?node_id=None&apikey=668952058c490d0a296da0abb9660534\n",
      "{'id': '65b2392e481c1394ee4e82e4', 'owner_org_id': '65a9291658b95253163001ab', 'owner_user_id': '659bf5a7b7135efed48311bd', 'creation_date': '2024-01-25T10:34:22Z', 'status': 10, 'title': 'amazing (2.5 A/mm², 1.505×10³ rpm)', 'type': 'electromagnetic_spmbrl_fscwseg', 'node_id': 'None', 'data': [{'section': 'operating_point', 'name': 'current_density', 'value': {'magnitude': 2.5, 'units': [{'name': 'ampere', 'exponent': 1}, {'name': 'millimeter', 'exponent': -2}]}}, {'section': 'operating_point', 'name': 'current_angle', 'value': {'magnitude': 255, 'units': [{'name': 'degree', 'exponent': 1}]}}, {'section': 'operating_point', 'name': 'simulated_speed', 'value': {'magnitude': 1505, 'units': [{'name': 'revolutions_per_minute', 'exponent': 1}]}}, {'section': 'simulation', 'name': 'samples_per_electrical_period', 'value': {'magnitude': 180, 'units': [{'name': 'count', 'exponent': 1}, {'name': 'turn', 'exponent': -1}]}}, {'section': 'simulation', 'name': 'timestep_intervals', 'value': {'magnitude': 180, 'units': [{'name': 'count', 'exponent': 1}]}}, {'section': 'simulation', 'name': 'active_length', 'value': {'magnitude': 65, 'units': [{'name': 'millimeter', 'exponent': 1}]}}, {'section': 'stator', 'name': 'slot_liner_thikness', 'value': {'magnitude': 300, 'units': [{'name': 'micrometer', 'exponent': 1}]}}, {'section': 'stator', 'name': 'stator_bore', 'value': {'magnitude': 8.2, 'units': [{'name': 'centimeter', 'exponent': 1}]}}, {'section': 'stator', 'name': 'tooth_tip_depth', 'value': {'magnitude': 1.5, 'units': [{'name': 'millimeter', 'exponent': 1}]}}, {'section': 'stator', 'name': 'slot_opening', 'value': {'magnitude': 1.5, 'units': [{'name': 'millimeter', 'exponent': 1}]}}, {'section': 'stator', 'name': 'tooth_width', 'value': {'magnitude': 9.8, 'units': [{'name': 'millimeter', 'exponent': 1}]}}, {'section': 'stator', 'name': 'stator_outer_diameter', 'value': {'magnitude': 0.136, 'units': [{'name': 'meter', 'exponent': 1}]}}, {'section': 'stator', 'name': 'back_iron_thickness', 'value': {'magnitude': 5.5, 'units': [{'name': 'millimeter', 'exponent': 1}]}}, {'section': 'stator', 'name': 'stator_internal_radius', 'value': {'magnitude': 500, 'units': [{'name': 'micrometer', 'exponent': 1}]}}, {'section': 'stator', 'name': 'number_slots', 'value': {'magnitude': 12, 'units': [{'name': 'count', 'exponent': 1}]}}, {'section': 'stator', 'name': 'tooth_tip_angle', 'value': {'magnitude': 70, 'units': [{'name': 'degree', 'exponent': 1}]}}, {'section': 'rotor', 'name': 'rotor_od', 'value': {'magnitude': 7.999999999999999, 'units': [{'name': 'centimeter', 'exponent': 1}]}}, {'section': 'rotor', 'name': 'rotor_bore', 'value': {'magnitude': 40, 'units': [{'name': 'millimeter', 'exponent': 1}]}}, {'section': 'rotor', 'name': 'banding_thickness', 'value': {'magnitude': 0.5, 'units': [{'name': 'millimeter', 'exponent': 1}]}}, {'section': 'rotor', 'name': 'number_poles', 'value': {'magnitude': 10, 'units': [{'name': 'count', 'exponent': 1}]}}, {'section': 'rotor', 'name': 'magnet_thickness', 'value': {'magnitude': 4.5, 'units': [{'name': 'millimeter', 'exponent': 1}]}}, {'section': 'rotor', 'name': 'magnet_pole_arc', 'value': {'magnitude': 150, 'units': [{'name': 'degree', 'exponent': 1}]}}, {'section': 'rotor', 'name': 'magnet_inset', 'value': {'magnitude': 0.25, 'units': [{'name': 'millimeter', 'exponent': 1}]}}, {'section': 'winding', 'name': 'symmetry', 'value': {'magnitude': 2, 'units': [{'name': 'count', 'exponent': 1}]}}, {'section': 'winding', 'name': 'number_phases', 'value': {'magnitude': 3, 'units': [{'name': 'count', 'exponent': 1}]}}, {'section': 'winding', 'name': 'number_layers', 'value': {'magnitude': 2, 'units': [{'name': 'count', 'exponent': 1}]}}, {'section': 'winding', 'name': 'coil_span', 'value': {'magnitude': 1, 'units': [{'name': 'count', 'exponent': 1}]}}, {'section': 'winding', 'name': 'turns_per_coil', 'value': {'magnitude': 43, 'units': [{'name': 'count', 'exponent': 1}]}}, {'section': 'winding', 'name': 'empty_slots', 'value': {'magnitude': 0, 'units': [{'name': 'count', 'exponent': 1}]}}, {'section': 'winding', 'name': 'fill_factor', 'value': {'magnitude': 42, 'units': [{'name': 'percent', 'exponent': 1}]}}]}\n",
      "2024-01-25 11:35:09,312 - NoJobId - INFO - Martins-MacBook-Air.local - 3503141280.py->update_job_status() - Updating job status: https://api.build.tinarmengineering.com/jobs/65b2392f481c1394ee4e82e5/status/10?node_id=None&apikey=668952058c490d0a296da0abb9660534\n",
      "{'id': '65b2392f481c1394ee4e82e5', 'owner_org_id': '65a9291658b95253163001ab', 'owner_user_id': '659bf5a7b7135efed48311bd', 'creation_date': '2024-01-25T10:34:23Z', 'status': 10, 'title': 'amazing (5.0 A/mm², 1.505×10³ rpm)', 'type': 'electromagnetic_spmbrl_fscwseg', 'node_id': 'None', 'data': [{'section': 'operating_point', 'name': 'current_density', 'value': {'magnitude': 5, 'units': [{'name': 'ampere', 'exponent': 1}, {'name': 'millimeter', 'exponent': -2}]}}, {'section': 'operating_point', 'name': 'current_angle', 'value': {'magnitude': 255, 'units': [{'name': 'degree', 'exponent': 1}]}}, {'section': 'operating_point', 'name': 'simulated_speed', 'value': {'magnitude': 1505, 'units': [{'name': 'revolutions_per_minute', 'exponent': 1}]}}, {'section': 'simulation', 'name': 'samples_per_electrical_period', 'value': {'magnitude': 180, 'units': [{'name': 'count', 'exponent': 1}, {'name': 'turn', 'exponent': -1}]}}, {'section': 'simulation', 'name': 'timestep_intervals', 'value': {'magnitude': 180, 'units': [{'name': 'count', 'exponent': 1}]}}, {'section': 'simulation', 'name': 'active_length', 'value': {'magnitude': 65, 'units': [{'name': 'millimeter', 'exponent': 1}]}}, {'section': 'stator', 'name': 'slot_liner_thikness', 'value': {'magnitude': 300, 'units': [{'name': 'micrometer', 'exponent': 1}]}}, {'section': 'stator', 'name': 'stator_bore', 'value': {'magnitude': 8.2, 'units': [{'name': 'centimeter', 'exponent': 1}]}}, {'section': 'stator', 'name': 'tooth_tip_depth', 'value': {'magnitude': 1.5, 'units': [{'name': 'millimeter', 'exponent': 1}]}}, {'section': 'stator', 'name': 'slot_opening', 'value': {'magnitude': 1.5, 'units': [{'name': 'millimeter', 'exponent': 1}]}}, {'section': 'stator', 'name': 'tooth_width', 'value': {'magnitude': 9.8, 'units': [{'name': 'millimeter', 'exponent': 1}]}}, {'section': 'stator', 'name': 'stator_outer_diameter', 'value': {'magnitude': 0.136, 'units': [{'name': 'meter', 'exponent': 1}]}}, {'section': 'stator', 'name': 'back_iron_thickness', 'value': {'magnitude': 5.5, 'units': [{'name': 'millimeter', 'exponent': 1}]}}, {'section': 'stator', 'name': 'stator_internal_radius', 'value': {'magnitude': 500, 'units': [{'name': 'micrometer', 'exponent': 1}]}}, {'section': 'stator', 'name': 'number_slots', 'value': {'magnitude': 12, 'units': [{'name': 'count', 'exponent': 1}]}}, {'section': 'stator', 'name': 'tooth_tip_angle', 'value': {'magnitude': 70, 'units': [{'name': 'degree', 'exponent': 1}]}}, {'section': 'rotor', 'name': 'rotor_od', 'value': {'magnitude': 7.999999999999999, 'units': [{'name': 'centimeter', 'exponent': 1}]}}, {'section': 'rotor', 'name': 'rotor_bore', 'value': {'magnitude': 40, 'units': [{'name': 'millimeter', 'exponent': 1}]}}, {'section': 'rotor', 'name': 'banding_thickness', 'value': {'magnitude': 0.5, 'units': [{'name': 'millimeter', 'exponent': 1}]}}, {'section': 'rotor', 'name': 'number_poles', 'value': {'magnitude': 10, 'units': [{'name': 'count', 'exponent': 1}]}}, {'section': 'rotor', 'name': 'magnet_thickness', 'value': {'magnitude': 4.5, 'units': [{'name': 'millimeter', 'exponent': 1}]}}, {'section': 'rotor', 'name': 'magnet_pole_arc', 'value': {'magnitude': 150, 'units': [{'name': 'degree', 'exponent': 1}]}}, {'section': 'rotor', 'name': 'magnet_inset', 'value': {'magnitude': 0.25, 'units': [{'name': 'millimeter', 'exponent': 1}]}}, {'section': 'winding', 'name': 'symmetry', 'value': {'magnitude': 2, 'units': [{'name': 'count', 'exponent': 1}]}}, {'section': 'winding', 'name': 'number_phases', 'value': {'magnitude': 3, 'units': [{'name': 'count', 'exponent': 1}]}}, {'section': 'winding', 'name': 'number_layers', 'value': {'magnitude': 2, 'units': [{'name': 'count', 'exponent': 1}]}}, {'section': 'winding', 'name': 'coil_span', 'value': {'magnitude': 1, 'units': [{'name': 'count', 'exponent': 1}]}}, {'section': 'winding', 'name': 'turns_per_coil', 'value': {'magnitude': 43, 'units': [{'name': 'count', 'exponent': 1}]}}, {'section': 'winding', 'name': 'empty_slots', 'value': {'magnitude': 0, 'units': [{'name': 'count', 'exponent': 1}]}}, {'section': 'winding', 'name': 'fill_factor', 'value': {'magnitude': 42, 'units': [{'name': 'percent', 'exponent': 1}]}}]}\n",
      "2024-01-25 11:35:10,113 - NoJobId - INFO - Martins-MacBook-Air.local - 3503141280.py->update_job_status() - Updating job status: https://api.build.tinarmengineering.com/jobs/65b2392f481c1394ee4e82e6/status/10?node_id=None&apikey=668952058c490d0a296da0abb9660534\n",
      "{'id': '65b2392f481c1394ee4e82e6', 'owner_org_id': '65a9291658b95253163001ab', 'owner_user_id': '659bf5a7b7135efed48311bd', 'creation_date': '2024-01-25T10:34:23Z', 'status': 10, 'title': 'amazing (7.5 A/mm², 1.505×10³ rpm)', 'type': 'electromagnetic_spmbrl_fscwseg', 'node_id': 'None', 'data': [{'section': 'operating_point', 'name': 'current_density', 'value': {'magnitude': 7.5, 'units': [{'name': 'ampere', 'exponent': 1}, {'name': 'millimeter', 'exponent': -2}]}}, {'section': 'operating_point', 'name': 'current_angle', 'value': {'magnitude': 255, 'units': [{'name': 'degree', 'exponent': 1}]}}, {'section': 'operating_point', 'name': 'simulated_speed', 'value': {'magnitude': 1505, 'units': [{'name': 'revolutions_per_minute', 'exponent': 1}]}}, {'section': 'simulation', 'name': 'samples_per_electrical_period', 'value': {'magnitude': 180, 'units': [{'name': 'count', 'exponent': 1}, {'name': 'turn', 'exponent': -1}]}}, {'section': 'simulation', 'name': 'timestep_intervals', 'value': {'magnitude': 180, 'units': [{'name': 'count', 'exponent': 1}]}}, {'section': 'simulation', 'name': 'active_length', 'value': {'magnitude': 65, 'units': [{'name': 'millimeter', 'exponent': 1}]}}, {'section': 'stator', 'name': 'slot_liner_thikness', 'value': {'magnitude': 300, 'units': [{'name': 'micrometer', 'exponent': 1}]}}, {'section': 'stator', 'name': 'stator_bore', 'value': {'magnitude': 8.2, 'units': [{'name': 'centimeter', 'exponent': 1}]}}, {'section': 'stator', 'name': 'tooth_tip_depth', 'value': {'magnitude': 1.5, 'units': [{'name': 'millimeter', 'exponent': 1}]}}, {'section': 'stator', 'name': 'slot_opening', 'value': {'magnitude': 1.5, 'units': [{'name': 'millimeter', 'exponent': 1}]}}, {'section': 'stator', 'name': 'tooth_width', 'value': {'magnitude': 9.8, 'units': [{'name': 'millimeter', 'exponent': 1}]}}, {'section': 'stator', 'name': 'stator_outer_diameter', 'value': {'magnitude': 0.136, 'units': [{'name': 'meter', 'exponent': 1}]}}, {'section': 'stator', 'name': 'back_iron_thickness', 'value': {'magnitude': 5.5, 'units': [{'name': 'millimeter', 'exponent': 1}]}}, {'section': 'stator', 'name': 'stator_internal_radius', 'value': {'magnitude': 500, 'units': [{'name': 'micrometer', 'exponent': 1}]}}, {'section': 'stator', 'name': 'number_slots', 'value': {'magnitude': 12, 'units': [{'name': 'count', 'exponent': 1}]}}, {'section': 'stator', 'name': 'tooth_tip_angle', 'value': {'magnitude': 70, 'units': [{'name': 'degree', 'exponent': 1}]}}, {'section': 'rotor', 'name': 'rotor_od', 'value': {'magnitude': 7.999999999999999, 'units': [{'name': 'centimeter', 'exponent': 1}]}}, {'section': 'rotor', 'name': 'rotor_bore', 'value': {'magnitude': 40, 'units': [{'name': 'millimeter', 'exponent': 1}]}}, {'section': 'rotor', 'name': 'banding_thickness', 'value': {'magnitude': 0.5, 'units': [{'name': 'millimeter', 'exponent': 1}]}}, {'section': 'rotor', 'name': 'number_poles', 'value': {'magnitude': 10, 'units': [{'name': 'count', 'exponent': 1}]}}, {'section': 'rotor', 'name': 'magnet_thickness', 'value': {'magnitude': 4.5, 'units': [{'name': 'millimeter', 'exponent': 1}]}}, {'section': 'rotor', 'name': 'magnet_pole_arc', 'value': {'magnitude': 150, 'units': [{'name': 'degree', 'exponent': 1}]}}, {'section': 'rotor', 'name': 'magnet_inset', 'value': {'magnitude': 0.25, 'units': [{'name': 'millimeter', 'exponent': 1}]}}, {'section': 'winding', 'name': 'symmetry', 'value': {'magnitude': 2, 'units': [{'name': 'count', 'exponent': 1}]}}, {'section': 'winding', 'name': 'number_phases', 'value': {'magnitude': 3, 'units': [{'name': 'count', 'exponent': 1}]}}, {'section': 'winding', 'name': 'number_layers', 'value': {'magnitude': 2, 'units': [{'name': 'count', 'exponent': 1}]}}, {'section': 'winding', 'name': 'coil_span', 'value': {'magnitude': 1, 'units': [{'name': 'count', 'exponent': 1}]}}, {'section': 'winding', 'name': 'turns_per_coil', 'value': {'magnitude': 43, 'units': [{'name': 'count', 'exponent': 1}]}}, {'section': 'winding', 'name': 'empty_slots', 'value': {'magnitude': 0, 'units': [{'name': 'count', 'exponent': 1}]}}, {'section': 'winding', 'name': 'fill_factor', 'value': {'magnitude': 42, 'units': [{'name': 'percent', 'exponent': 1}]}}]}\n",
      "2024-01-25 11:35:10,892 - NoJobId - INFO - Martins-MacBook-Air.local - 3503141280.py->update_job_status() - Updating job status: https://api.build.tinarmengineering.com/jobs/65b2392f481c1394ee4e82e7/status/10?node_id=None&apikey=668952058c490d0a296da0abb9660534\n",
      "{'id': '65b2392f481c1394ee4e82e7', 'owner_org_id': '65a9291658b95253163001ab', 'owner_user_id': '659bf5a7b7135efed48311bd', 'creation_date': '2024-01-25T10:34:23Z', 'status': 10, 'title': 'amazing (10.0 A/mm², 1.505×10³ rpm)', 'type': 'electromagnetic_spmbrl_fscwseg', 'node_id': 'None', 'data': [{'section': 'operating_point', 'name': 'current_density', 'value': {'magnitude': 10, 'units': [{'name': 'ampere', 'exponent': 1}, {'name': 'millimeter', 'exponent': -2}]}}, {'section': 'operating_point', 'name': 'current_angle', 'value': {'magnitude': 255, 'units': [{'name': 'degree', 'exponent': 1}]}}, {'section': 'operating_point', 'name': 'simulated_speed', 'value': {'magnitude': 1505, 'units': [{'name': 'revolutions_per_minute', 'exponent': 1}]}}, {'section': 'simulation', 'name': 'samples_per_electrical_period', 'value': {'magnitude': 180, 'units': [{'name': 'count', 'exponent': 1}, {'name': 'turn', 'exponent': -1}]}}, {'section': 'simulation', 'name': 'timestep_intervals', 'value': {'magnitude': 180, 'units': [{'name': 'count', 'exponent': 1}]}}, {'section': 'simulation', 'name': 'active_length', 'value': {'magnitude': 65, 'units': [{'name': 'millimeter', 'exponent': 1}]}}, {'section': 'stator', 'name': 'slot_liner_thikness', 'value': {'magnitude': 300, 'units': [{'name': 'micrometer', 'exponent': 1}]}}, {'section': 'stator', 'name': 'stator_bore', 'value': {'magnitude': 8.2, 'units': [{'name': 'centimeter', 'exponent': 1}]}}, {'section': 'stator', 'name': 'tooth_tip_depth', 'value': {'magnitude': 1.5, 'units': [{'name': 'millimeter', 'exponent': 1}]}}, {'section': 'stator', 'name': 'slot_opening', 'value': {'magnitude': 1.5, 'units': [{'name': 'millimeter', 'exponent': 1}]}}, {'section': 'stator', 'name': 'tooth_width', 'value': {'magnitude': 9.8, 'units': [{'name': 'millimeter', 'exponent': 1}]}}, {'section': 'stator', 'name': 'stator_outer_diameter', 'value': {'magnitude': 0.136, 'units': [{'name': 'meter', 'exponent': 1}]}}, {'section': 'stator', 'name': 'back_iron_thickness', 'value': {'magnitude': 5.5, 'units': [{'name': 'millimeter', 'exponent': 1}]}}, {'section': 'stator', 'name': 'stator_internal_radius', 'value': {'magnitude': 500, 'units': [{'name': 'micrometer', 'exponent': 1}]}}, {'section': 'stator', 'name': 'number_slots', 'value': {'magnitude': 12, 'units': [{'name': 'count', 'exponent': 1}]}}, {'section': 'stator', 'name': 'tooth_tip_angle', 'value': {'magnitude': 70, 'units': [{'name': 'degree', 'exponent': 1}]}}, {'section': 'rotor', 'name': 'rotor_od', 'value': {'magnitude': 7.999999999999999, 'units': [{'name': 'centimeter', 'exponent': 1}]}}, {'section': 'rotor', 'name': 'rotor_bore', 'value': {'magnitude': 40, 'units': [{'name': 'millimeter', 'exponent': 1}]}}, {'section': 'rotor', 'name': 'banding_thickness', 'value': {'magnitude': 0.5, 'units': [{'name': 'millimeter', 'exponent': 1}]}}, {'section': 'rotor', 'name': 'number_poles', 'value': {'magnitude': 10, 'units': [{'name': 'count', 'exponent': 1}]}}, {'section': 'rotor', 'name': 'magnet_thickness', 'value': {'magnitude': 4.5, 'units': [{'name': 'millimeter', 'exponent': 1}]}}, {'section': 'rotor', 'name': 'magnet_pole_arc', 'value': {'magnitude': 150, 'units': [{'name': 'degree', 'exponent': 1}]}}, {'section': 'rotor', 'name': 'magnet_inset', 'value': {'magnitude': 0.25, 'units': [{'name': 'millimeter', 'exponent': 1}]}}, {'section': 'winding', 'name': 'symmetry', 'value': {'magnitude': 2, 'units': [{'name': 'count', 'exponent': 1}]}}, {'section': 'winding', 'name': 'number_phases', 'value': {'magnitude': 3, 'units': [{'name': 'count', 'exponent': 1}]}}, {'section': 'winding', 'name': 'number_layers', 'value': {'magnitude': 2, 'units': [{'name': 'count', 'exponent': 1}]}}, {'section': 'winding', 'name': 'coil_span', 'value': {'magnitude': 1, 'units': [{'name': 'count', 'exponent': 1}]}}, {'section': 'winding', 'name': 'turns_per_coil', 'value': {'magnitude': 43, 'units': [{'name': 'count', 'exponent': 1}]}}, {'section': 'winding', 'name': 'empty_slots', 'value': {'magnitude': 0, 'units': [{'name': 'count', 'exponent': 1}]}}, {'section': 'winding', 'name': 'fill_factor', 'value': {'magnitude': 42, 'units': [{'name': 'percent', 'exponent': 1}]}}]}\n",
      "2024-01-25 11:35:11,789 - NoJobId - INFO - Martins-MacBook-Air.local - 3503141280.py->update_job_status() - Updating job status: https://api.build.tinarmengineering.com/jobs/65b23930481c1394ee4e82e8/status/10?node_id=None&apikey=668952058c490d0a296da0abb9660534\n",
      "{'id': '65b23930481c1394ee4e82e8', 'owner_org_id': '65a9291658b95253163001ab', 'owner_user_id': '659bf5a7b7135efed48311bd', 'creation_date': '2024-01-25T10:34:24Z', 'status': 10, 'title': 'amazing (0.0 A/mm², 2.252×10³ rpm)', 'type': 'electromagnetic_spmbrl_fscwseg', 'node_id': 'None', 'data': [{'section': 'operating_point', 'name': 'current_density', 'value': {'magnitude': 0, 'units': [{'name': 'ampere', 'exponent': 1}, {'name': 'millimeter', 'exponent': -2}]}}, {'section': 'operating_point', 'name': 'current_angle', 'value': {'magnitude': 255, 'units': [{'name': 'degree', 'exponent': 1}]}}, {'section': 'operating_point', 'name': 'simulated_speed', 'value': {'magnitude': 2252.5, 'units': [{'name': 'revolutions_per_minute', 'exponent': 1}]}}, {'section': 'simulation', 'name': 'samples_per_electrical_period', 'value': {'magnitude': 180, 'units': [{'name': 'count', 'exponent': 1}, {'name': 'turn', 'exponent': -1}]}}, {'section': 'simulation', 'name': 'timestep_intervals', 'value': {'magnitude': 180, 'units': [{'name': 'count', 'exponent': 1}]}}, {'section': 'simulation', 'name': 'active_length', 'value': {'magnitude': 65, 'units': [{'name': 'millimeter', 'exponent': 1}]}}, {'section': 'stator', 'name': 'slot_liner_thikness', 'value': {'magnitude': 300, 'units': [{'name': 'micrometer', 'exponent': 1}]}}, {'section': 'stator', 'name': 'stator_bore', 'value': {'magnitude': 8.2, 'units': [{'name': 'centimeter', 'exponent': 1}]}}, {'section': 'stator', 'name': 'tooth_tip_depth', 'value': {'magnitude': 1.5, 'units': [{'name': 'millimeter', 'exponent': 1}]}}, {'section': 'stator', 'name': 'slot_opening', 'value': {'magnitude': 1.5, 'units': [{'name': 'millimeter', 'exponent': 1}]}}, {'section': 'stator', 'name': 'tooth_width', 'value': {'magnitude': 9.8, 'units': [{'name': 'millimeter', 'exponent': 1}]}}, {'section': 'stator', 'name': 'stator_outer_diameter', 'value': {'magnitude': 0.136, 'units': [{'name': 'meter', 'exponent': 1}]}}, {'section': 'stator', 'name': 'back_iron_thickness', 'value': {'magnitude': 5.5, 'units': [{'name': 'millimeter', 'exponent': 1}]}}, {'section': 'stator', 'name': 'stator_internal_radius', 'value': {'magnitude': 500, 'units': [{'name': 'micrometer', 'exponent': 1}]}}, {'section': 'stator', 'name': 'number_slots', 'value': {'magnitude': 12, 'units': [{'name': 'count', 'exponent': 1}]}}, {'section': 'stator', 'name': 'tooth_tip_angle', 'value': {'magnitude': 70, 'units': [{'name': 'degree', 'exponent': 1}]}}, {'section': 'rotor', 'name': 'rotor_od', 'value': {'magnitude': 7.999999999999999, 'units': [{'name': 'centimeter', 'exponent': 1}]}}, {'section': 'rotor', 'name': 'rotor_bore', 'value': {'magnitude': 40, 'units': [{'name': 'millimeter', 'exponent': 1}]}}, {'section': 'rotor', 'name': 'banding_thickness', 'value': {'magnitude': 0.5, 'units': [{'name': 'millimeter', 'exponent': 1}]}}, {'section': 'rotor', 'name': 'number_poles', 'value': {'magnitude': 10, 'units': [{'name': 'count', 'exponent': 1}]}}, {'section': 'rotor', 'name': 'magnet_thickness', 'value': {'magnitude': 4.5, 'units': [{'name': 'millimeter', 'exponent': 1}]}}, {'section': 'rotor', 'name': 'magnet_pole_arc', 'value': {'magnitude': 150, 'units': [{'name': 'degree', 'exponent': 1}]}}, {'section': 'rotor', 'name': 'magnet_inset', 'value': {'magnitude': 0.25, 'units': [{'name': 'millimeter', 'exponent': 1}]}}, {'section': 'winding', 'name': 'symmetry', 'value': {'magnitude': 2, 'units': [{'name': 'count', 'exponent': 1}]}}, {'section': 'winding', 'name': 'number_phases', 'value': {'magnitude': 3, 'units': [{'name': 'count', 'exponent': 1}]}}, {'section': 'winding', 'name': 'number_layers', 'value': {'magnitude': 2, 'units': [{'name': 'count', 'exponent': 1}]}}, {'section': 'winding', 'name': 'coil_span', 'value': {'magnitude': 1, 'units': [{'name': 'count', 'exponent': 1}]}}, {'section': 'winding', 'name': 'turns_per_coil', 'value': {'magnitude': 43, 'units': [{'name': 'count', 'exponent': 1}]}}, {'section': 'winding', 'name': 'empty_slots', 'value': {'magnitude': 0, 'units': [{'name': 'count', 'exponent': 1}]}}, {'section': 'winding', 'name': 'fill_factor', 'value': {'magnitude': 42, 'units': [{'name': 'percent', 'exponent': 1}]}}]}\n",
      "2024-01-25 11:35:12,590 - NoJobId - INFO - Martins-MacBook-Air.local - 3503141280.py->update_job_status() - Updating job status: https://api.build.tinarmengineering.com/jobs/65b23930481c1394ee4e82e9/status/10?node_id=None&apikey=668952058c490d0a296da0abb9660534\n",
      "{'id': '65b23930481c1394ee4e82e9', 'owner_org_id': '65a9291658b95253163001ab', 'owner_user_id': '659bf5a7b7135efed48311bd', 'creation_date': '2024-01-25T10:34:24Z', 'status': 10, 'title': 'amazing (2.5 A/mm², 2.252×10³ rpm)', 'type': 'electromagnetic_spmbrl_fscwseg', 'node_id': 'None', 'data': [{'section': 'operating_point', 'name': 'current_density', 'value': {'magnitude': 2.5, 'units': [{'name': 'ampere', 'exponent': 1}, {'name': 'millimeter', 'exponent': -2}]}}, {'section': 'operating_point', 'name': 'current_angle', 'value': {'magnitude': 255, 'units': [{'name': 'degree', 'exponent': 1}]}}, {'section': 'operating_point', 'name': 'simulated_speed', 'value': {'magnitude': 2252.5, 'units': [{'name': 'revolutions_per_minute', 'exponent': 1}]}}, {'section': 'simulation', 'name': 'samples_per_electrical_period', 'value': {'magnitude': 180, 'units': [{'name': 'count', 'exponent': 1}, {'name': 'turn', 'exponent': -1}]}}, {'section': 'simulation', 'name': 'timestep_intervals', 'value': {'magnitude': 180, 'units': [{'name': 'count', 'exponent': 1}]}}, {'section': 'simulation', 'name': 'active_length', 'value': {'magnitude': 65, 'units': [{'name': 'millimeter', 'exponent': 1}]}}, {'section': 'stator', 'name': 'slot_liner_thikness', 'value': {'magnitude': 300, 'units': [{'name': 'micrometer', 'exponent': 1}]}}, {'section': 'stator', 'name': 'stator_bore', 'value': {'magnitude': 8.2, 'units': [{'name': 'centimeter', 'exponent': 1}]}}, {'section': 'stator', 'name': 'tooth_tip_depth', 'value': {'magnitude': 1.5, 'units': [{'name': 'millimeter', 'exponent': 1}]}}, {'section': 'stator', 'name': 'slot_opening', 'value': {'magnitude': 1.5, 'units': [{'name': 'millimeter', 'exponent': 1}]}}, {'section': 'stator', 'name': 'tooth_width', 'value': {'magnitude': 9.8, 'units': [{'name': 'millimeter', 'exponent': 1}]}}, {'section': 'stator', 'name': 'stator_outer_diameter', 'value': {'magnitude': 0.136, 'units': [{'name': 'meter', 'exponent': 1}]}}, {'section': 'stator', 'name': 'back_iron_thickness', 'value': {'magnitude': 5.5, 'units': [{'name': 'millimeter', 'exponent': 1}]}}, {'section': 'stator', 'name': 'stator_internal_radius', 'value': {'magnitude': 500, 'units': [{'name': 'micrometer', 'exponent': 1}]}}, {'section': 'stator', 'name': 'number_slots', 'value': {'magnitude': 12, 'units': [{'name': 'count', 'exponent': 1}]}}, {'section': 'stator', 'name': 'tooth_tip_angle', 'value': {'magnitude': 70, 'units': [{'name': 'degree', 'exponent': 1}]}}, {'section': 'rotor', 'name': 'rotor_od', 'value': {'magnitude': 7.999999999999999, 'units': [{'name': 'centimeter', 'exponent': 1}]}}, {'section': 'rotor', 'name': 'rotor_bore', 'value': {'magnitude': 40, 'units': [{'name': 'millimeter', 'exponent': 1}]}}, {'section': 'rotor', 'name': 'banding_thickness', 'value': {'magnitude': 0.5, 'units': [{'name': 'millimeter', 'exponent': 1}]}}, {'section': 'rotor', 'name': 'number_poles', 'value': {'magnitude': 10, 'units': [{'name': 'count', 'exponent': 1}]}}, {'section': 'rotor', 'name': 'magnet_thickness', 'value': {'magnitude': 4.5, 'units': [{'name': 'millimeter', 'exponent': 1}]}}, {'section': 'rotor', 'name': 'magnet_pole_arc', 'value': {'magnitude': 150, 'units': [{'name': 'degree', 'exponent': 1}]}}, {'section': 'rotor', 'name': 'magnet_inset', 'value': {'magnitude': 0.25, 'units': [{'name': 'millimeter', 'exponent': 1}]}}, {'section': 'winding', 'name': 'symmetry', 'value': {'magnitude': 2, 'units': [{'name': 'count', 'exponent': 1}]}}, {'section': 'winding', 'name': 'number_phases', 'value': {'magnitude': 3, 'units': [{'name': 'count', 'exponent': 1}]}}, {'section': 'winding', 'name': 'number_layers', 'value': {'magnitude': 2, 'units': [{'name': 'count', 'exponent': 1}]}}, {'section': 'winding', 'name': 'coil_span', 'value': {'magnitude': 1, 'units': [{'name': 'count', 'exponent': 1}]}}, {'section': 'winding', 'name': 'turns_per_coil', 'value': {'magnitude': 43, 'units': [{'name': 'count', 'exponent': 1}]}}, {'section': 'winding', 'name': 'empty_slots', 'value': {'magnitude': 0, 'units': [{'name': 'count', 'exponent': 1}]}}, {'section': 'winding', 'name': 'fill_factor', 'value': {'magnitude': 42, 'units': [{'name': 'percent', 'exponent': 1}]}}]}\n",
      "2024-01-25 11:35:13,505 - NoJobId - INFO - Martins-MacBook-Air.local - 3503141280.py->update_job_status() - Updating job status: https://api.build.tinarmengineering.com/jobs/65b23931481c1394ee4e82ea/status/10?node_id=None&apikey=668952058c490d0a296da0abb9660534\n",
      "{'id': '65b23931481c1394ee4e82ea', 'owner_org_id': '65a9291658b95253163001ab', 'owner_user_id': '659bf5a7b7135efed48311bd', 'creation_date': '2024-01-25T10:34:25Z', 'status': 10, 'title': 'amazing (5.0 A/mm², 2.252×10³ rpm)', 'type': 'electromagnetic_spmbrl_fscwseg', 'node_id': 'None', 'data': [{'section': 'operating_point', 'name': 'current_density', 'value': {'magnitude': 5, 'units': [{'name': 'ampere', 'exponent': 1}, {'name': 'millimeter', 'exponent': -2}]}}, {'section': 'operating_point', 'name': 'current_angle', 'value': {'magnitude': 255, 'units': [{'name': 'degree', 'exponent': 1}]}}, {'section': 'operating_point', 'name': 'simulated_speed', 'value': {'magnitude': 2252.5, 'units': [{'name': 'revolutions_per_minute', 'exponent': 1}]}}, {'section': 'simulation', 'name': 'samples_per_electrical_period', 'value': {'magnitude': 180, 'units': [{'name': 'count', 'exponent': 1}, {'name': 'turn', 'exponent': -1}]}}, {'section': 'simulation', 'name': 'timestep_intervals', 'value': {'magnitude': 180, 'units': [{'name': 'count', 'exponent': 1}]}}, {'section': 'simulation', 'name': 'active_length', 'value': {'magnitude': 65, 'units': [{'name': 'millimeter', 'exponent': 1}]}}, {'section': 'stator', 'name': 'slot_liner_thikness', 'value': {'magnitude': 300, 'units': [{'name': 'micrometer', 'exponent': 1}]}}, {'section': 'stator', 'name': 'stator_bore', 'value': {'magnitude': 8.2, 'units': [{'name': 'centimeter', 'exponent': 1}]}}, {'section': 'stator', 'name': 'tooth_tip_depth', 'value': {'magnitude': 1.5, 'units': [{'name': 'millimeter', 'exponent': 1}]}}, {'section': 'stator', 'name': 'slot_opening', 'value': {'magnitude': 1.5, 'units': [{'name': 'millimeter', 'exponent': 1}]}}, {'section': 'stator', 'name': 'tooth_width', 'value': {'magnitude': 9.8, 'units': [{'name': 'millimeter', 'exponent': 1}]}}, {'section': 'stator', 'name': 'stator_outer_diameter', 'value': {'magnitude': 0.136, 'units': [{'name': 'meter', 'exponent': 1}]}}, {'section': 'stator', 'name': 'back_iron_thickness', 'value': {'magnitude': 5.5, 'units': [{'name': 'millimeter', 'exponent': 1}]}}, {'section': 'stator', 'name': 'stator_internal_radius', 'value': {'magnitude': 500, 'units': [{'name': 'micrometer', 'exponent': 1}]}}, {'section': 'stator', 'name': 'number_slots', 'value': {'magnitude': 12, 'units': [{'name': 'count', 'exponent': 1}]}}, {'section': 'stator', 'name': 'tooth_tip_angle', 'value': {'magnitude': 70, 'units': [{'name': 'degree', 'exponent': 1}]}}, {'section': 'rotor', 'name': 'rotor_od', 'value': {'magnitude': 7.999999999999999, 'units': [{'name': 'centimeter', 'exponent': 1}]}}, {'section': 'rotor', 'name': 'rotor_bore', 'value': {'magnitude': 40, 'units': [{'name': 'millimeter', 'exponent': 1}]}}, {'section': 'rotor', 'name': 'banding_thickness', 'value': {'magnitude': 0.5, 'units': [{'name': 'millimeter', 'exponent': 1}]}}, {'section': 'rotor', 'name': 'number_poles', 'value': {'magnitude': 10, 'units': [{'name': 'count', 'exponent': 1}]}}, {'section': 'rotor', 'name': 'magnet_thickness', 'value': {'magnitude': 4.5, 'units': [{'name': 'millimeter', 'exponent': 1}]}}, {'section': 'rotor', 'name': 'magnet_pole_arc', 'value': {'magnitude': 150, 'units': [{'name': 'degree', 'exponent': 1}]}}, {'section': 'rotor', 'name': 'magnet_inset', 'value': {'magnitude': 0.25, 'units': [{'name': 'millimeter', 'exponent': 1}]}}, {'section': 'winding', 'name': 'symmetry', 'value': {'magnitude': 2, 'units': [{'name': 'count', 'exponent': 1}]}}, {'section': 'winding', 'name': 'number_phases', 'value': {'magnitude': 3, 'units': [{'name': 'count', 'exponent': 1}]}}, {'section': 'winding', 'name': 'number_layers', 'value': {'magnitude': 2, 'units': [{'name': 'count', 'exponent': 1}]}}, {'section': 'winding', 'name': 'coil_span', 'value': {'magnitude': 1, 'units': [{'name': 'count', 'exponent': 1}]}}, {'section': 'winding', 'name': 'turns_per_coil', 'value': {'magnitude': 43, 'units': [{'name': 'count', 'exponent': 1}]}}, {'section': 'winding', 'name': 'empty_slots', 'value': {'magnitude': 0, 'units': [{'name': 'count', 'exponent': 1}]}}, {'section': 'winding', 'name': 'fill_factor', 'value': {'magnitude': 42, 'units': [{'name': 'percent', 'exponent': 1}]}}]}\n",
      "2024-01-25 11:35:14,269 - NoJobId - INFO - Martins-MacBook-Air.local - 3503141280.py->update_job_status() - Updating job status: https://api.build.tinarmengineering.com/jobs/65b23931481c1394ee4e82eb/status/10?node_id=None&apikey=668952058c490d0a296da0abb9660534\n",
      "{'id': '65b23931481c1394ee4e82eb', 'owner_org_id': '65a9291658b95253163001ab', 'owner_user_id': '659bf5a7b7135efed48311bd', 'creation_date': '2024-01-25T10:34:25Z', 'status': 10, 'title': 'amazing (7.5 A/mm², 2.252×10³ rpm)', 'type': 'electromagnetic_spmbrl_fscwseg', 'node_id': 'None', 'data': [{'section': 'operating_point', 'name': 'current_density', 'value': {'magnitude': 7.5, 'units': [{'name': 'ampere', 'exponent': 1}, {'name': 'millimeter', 'exponent': -2}]}}, {'section': 'operating_point', 'name': 'current_angle', 'value': {'magnitude': 255, 'units': [{'name': 'degree', 'exponent': 1}]}}, {'section': 'operating_point', 'name': 'simulated_speed', 'value': {'magnitude': 2252.5, 'units': [{'name': 'revolutions_per_minute', 'exponent': 1}]}}, {'section': 'simulation', 'name': 'samples_per_electrical_period', 'value': {'magnitude': 180, 'units': [{'name': 'count', 'exponent': 1}, {'name': 'turn', 'exponent': -1}]}}, {'section': 'simulation', 'name': 'timestep_intervals', 'value': {'magnitude': 180, 'units': [{'name': 'count', 'exponent': 1}]}}, {'section': 'simulation', 'name': 'active_length', 'value': {'magnitude': 65, 'units': [{'name': 'millimeter', 'exponent': 1}]}}, {'section': 'stator', 'name': 'slot_liner_thikness', 'value': {'magnitude': 300, 'units': [{'name': 'micrometer', 'exponent': 1}]}}, {'section': 'stator', 'name': 'stator_bore', 'value': {'magnitude': 8.2, 'units': [{'name': 'centimeter', 'exponent': 1}]}}, {'section': 'stator', 'name': 'tooth_tip_depth', 'value': {'magnitude': 1.5, 'units': [{'name': 'millimeter', 'exponent': 1}]}}, {'section': 'stator', 'name': 'slot_opening', 'value': {'magnitude': 1.5, 'units': [{'name': 'millimeter', 'exponent': 1}]}}, {'section': 'stator', 'name': 'tooth_width', 'value': {'magnitude': 9.8, 'units': [{'name': 'millimeter', 'exponent': 1}]}}, {'section': 'stator', 'name': 'stator_outer_diameter', 'value': {'magnitude': 0.136, 'units': [{'name': 'meter', 'exponent': 1}]}}, {'section': 'stator', 'name': 'back_iron_thickness', 'value': {'magnitude': 5.5, 'units': [{'name': 'millimeter', 'exponent': 1}]}}, {'section': 'stator', 'name': 'stator_internal_radius', 'value': {'magnitude': 500, 'units': [{'name': 'micrometer', 'exponent': 1}]}}, {'section': 'stator', 'name': 'number_slots', 'value': {'magnitude': 12, 'units': [{'name': 'count', 'exponent': 1}]}}, {'section': 'stator', 'name': 'tooth_tip_angle', 'value': {'magnitude': 70, 'units': [{'name': 'degree', 'exponent': 1}]}}, {'section': 'rotor', 'name': 'rotor_od', 'value': {'magnitude': 7.999999999999999, 'units': [{'name': 'centimeter', 'exponent': 1}]}}, {'section': 'rotor', 'name': 'rotor_bore', 'value': {'magnitude': 40, 'units': [{'name': 'millimeter', 'exponent': 1}]}}, {'section': 'rotor', 'name': 'banding_thickness', 'value': {'magnitude': 0.5, 'units': [{'name': 'millimeter', 'exponent': 1}]}}, {'section': 'rotor', 'name': 'number_poles', 'value': {'magnitude': 10, 'units': [{'name': 'count', 'exponent': 1}]}}, {'section': 'rotor', 'name': 'magnet_thickness', 'value': {'magnitude': 4.5, 'units': [{'name': 'millimeter', 'exponent': 1}]}}, {'section': 'rotor', 'name': 'magnet_pole_arc', 'value': {'magnitude': 150, 'units': [{'name': 'degree', 'exponent': 1}]}}, {'section': 'rotor', 'name': 'magnet_inset', 'value': {'magnitude': 0.25, 'units': [{'name': 'millimeter', 'exponent': 1}]}}, {'section': 'winding', 'name': 'symmetry', 'value': {'magnitude': 2, 'units': [{'name': 'count', 'exponent': 1}]}}, {'section': 'winding', 'name': 'number_phases', 'value': {'magnitude': 3, 'units': [{'name': 'count', 'exponent': 1}]}}, {'section': 'winding', 'name': 'number_layers', 'value': {'magnitude': 2, 'units': [{'name': 'count', 'exponent': 1}]}}, {'section': 'winding', 'name': 'coil_span', 'value': {'magnitude': 1, 'units': [{'name': 'count', 'exponent': 1}]}}, {'section': 'winding', 'name': 'turns_per_coil', 'value': {'magnitude': 43, 'units': [{'name': 'count', 'exponent': 1}]}}, {'section': 'winding', 'name': 'empty_slots', 'value': {'magnitude': 0, 'units': [{'name': 'count', 'exponent': 1}]}}, {'section': 'winding', 'name': 'fill_factor', 'value': {'magnitude': 42, 'units': [{'name': 'percent', 'exponent': 1}]}}]}\n",
      "2024-01-25 11:35:15,088 - NoJobId - INFO - Martins-MacBook-Air.local - 3503141280.py->update_job_status() - Updating job status: https://api.build.tinarmengineering.com/jobs/65b23931481c1394ee4e82ec/status/10?node_id=None&apikey=668952058c490d0a296da0abb9660534\n",
      "{'id': '65b23931481c1394ee4e82ec', 'owner_org_id': '65a9291658b95253163001ab', 'owner_user_id': '659bf5a7b7135efed48311bd', 'creation_date': '2024-01-25T10:34:25Z', 'status': 10, 'title': 'amazing (10.0 A/mm², 2.252×10³ rpm)', 'type': 'electromagnetic_spmbrl_fscwseg', 'node_id': 'None', 'data': [{'section': 'operating_point', 'name': 'current_density', 'value': {'magnitude': 10, 'units': [{'name': 'ampere', 'exponent': 1}, {'name': 'millimeter', 'exponent': -2}]}}, {'section': 'operating_point', 'name': 'current_angle', 'value': {'magnitude': 255, 'units': [{'name': 'degree', 'exponent': 1}]}}, {'section': 'operating_point', 'name': 'simulated_speed', 'value': {'magnitude': 2252.5, 'units': [{'name': 'revolutions_per_minute', 'exponent': 1}]}}, {'section': 'simulation', 'name': 'samples_per_electrical_period', 'value': {'magnitude': 180, 'units': [{'name': 'count', 'exponent': 1}, {'name': 'turn', 'exponent': -1}]}}, {'section': 'simulation', 'name': 'timestep_intervals', 'value': {'magnitude': 180, 'units': [{'name': 'count', 'exponent': 1}]}}, {'section': 'simulation', 'name': 'active_length', 'value': {'magnitude': 65, 'units': [{'name': 'millimeter', 'exponent': 1}]}}, {'section': 'stator', 'name': 'slot_liner_thikness', 'value': {'magnitude': 300, 'units': [{'name': 'micrometer', 'exponent': 1}]}}, {'section': 'stator', 'name': 'stator_bore', 'value': {'magnitude': 8.2, 'units': [{'name': 'centimeter', 'exponent': 1}]}}, {'section': 'stator', 'name': 'tooth_tip_depth', 'value': {'magnitude': 1.5, 'units': [{'name': 'millimeter', 'exponent': 1}]}}, {'section': 'stator', 'name': 'slot_opening', 'value': {'magnitude': 1.5, 'units': [{'name': 'millimeter', 'exponent': 1}]}}, {'section': 'stator', 'name': 'tooth_width', 'value': {'magnitude': 9.8, 'units': [{'name': 'millimeter', 'exponent': 1}]}}, {'section': 'stator', 'name': 'stator_outer_diameter', 'value': {'magnitude': 0.136, 'units': [{'name': 'meter', 'exponent': 1}]}}, {'section': 'stator', 'name': 'back_iron_thickness', 'value': {'magnitude': 5.5, 'units': [{'name': 'millimeter', 'exponent': 1}]}}, {'section': 'stator', 'name': 'stator_internal_radius', 'value': {'magnitude': 500, 'units': [{'name': 'micrometer', 'exponent': 1}]}}, {'section': 'stator', 'name': 'number_slots', 'value': {'magnitude': 12, 'units': [{'name': 'count', 'exponent': 1}]}}, {'section': 'stator', 'name': 'tooth_tip_angle', 'value': {'magnitude': 70, 'units': [{'name': 'degree', 'exponent': 1}]}}, {'section': 'rotor', 'name': 'rotor_od', 'value': {'magnitude': 7.999999999999999, 'units': [{'name': 'centimeter', 'exponent': 1}]}}, {'section': 'rotor', 'name': 'rotor_bore', 'value': {'magnitude': 40, 'units': [{'name': 'millimeter', 'exponent': 1}]}}, {'section': 'rotor', 'name': 'banding_thickness', 'value': {'magnitude': 0.5, 'units': [{'name': 'millimeter', 'exponent': 1}]}}, {'section': 'rotor', 'name': 'number_poles', 'value': {'magnitude': 10, 'units': [{'name': 'count', 'exponent': 1}]}}, {'section': 'rotor', 'name': 'magnet_thickness', 'value': {'magnitude': 4.5, 'units': [{'name': 'millimeter', 'exponent': 1}]}}, {'section': 'rotor', 'name': 'magnet_pole_arc', 'value': {'magnitude': 150, 'units': [{'name': 'degree', 'exponent': 1}]}}, {'section': 'rotor', 'name': 'magnet_inset', 'value': {'magnitude': 0.25, 'units': [{'name': 'millimeter', 'exponent': 1}]}}, {'section': 'winding', 'name': 'symmetry', 'value': {'magnitude': 2, 'units': [{'name': 'count', 'exponent': 1}]}}, {'section': 'winding', 'name': 'number_phases', 'value': {'magnitude': 3, 'units': [{'name': 'count', 'exponent': 1}]}}, {'section': 'winding', 'name': 'number_layers', 'value': {'magnitude': 2, 'units': [{'name': 'count', 'exponent': 1}]}}, {'section': 'winding', 'name': 'coil_span', 'value': {'magnitude': 1, 'units': [{'name': 'count', 'exponent': 1}]}}, {'section': 'winding', 'name': 'turns_per_coil', 'value': {'magnitude': 43, 'units': [{'name': 'count', 'exponent': 1}]}}, {'section': 'winding', 'name': 'empty_slots', 'value': {'magnitude': 0, 'units': [{'name': 'count', 'exponent': 1}]}}, {'section': 'winding', 'name': 'fill_factor', 'value': {'magnitude': 42, 'units': [{'name': 'percent', 'exponent': 1}]}}]}\n",
      "2024-01-25 11:35:15,956 - NoJobId - INFO - Martins-MacBook-Air.local - 3503141280.py->update_job_status() - Updating job status: https://api.build.tinarmengineering.com/jobs/65b23932481c1394ee4e82ed/status/10?node_id=None&apikey=668952058c490d0a296da0abb9660534\n",
      "{'id': '65b23932481c1394ee4e82ed', 'owner_org_id': '65a9291658b95253163001ab', 'owner_user_id': '659bf5a7b7135efed48311bd', 'creation_date': '2024-01-25T10:34:26Z', 'status': 10, 'title': 'amazing (0.0 A/mm², 3×10³ rpm)', 'type': 'electromagnetic_spmbrl_fscwseg', 'node_id': 'None', 'data': [{'section': 'operating_point', 'name': 'current_density', 'value': {'magnitude': 0, 'units': [{'name': 'ampere', 'exponent': 1}, {'name': 'millimeter', 'exponent': -2}]}}, {'section': 'operating_point', 'name': 'current_angle', 'value': {'magnitude': 255, 'units': [{'name': 'degree', 'exponent': 1}]}}, {'section': 'operating_point', 'name': 'simulated_speed', 'value': {'magnitude': 3000, 'units': [{'name': 'revolutions_per_minute', 'exponent': 1}]}}, {'section': 'simulation', 'name': 'samples_per_electrical_period', 'value': {'magnitude': 180, 'units': [{'name': 'count', 'exponent': 1}, {'name': 'turn', 'exponent': -1}]}}, {'section': 'simulation', 'name': 'timestep_intervals', 'value': {'magnitude': 180, 'units': [{'name': 'count', 'exponent': 1}]}}, {'section': 'simulation', 'name': 'active_length', 'value': {'magnitude': 65, 'units': [{'name': 'millimeter', 'exponent': 1}]}}, {'section': 'stator', 'name': 'slot_liner_thikness', 'value': {'magnitude': 300, 'units': [{'name': 'micrometer', 'exponent': 1}]}}, {'section': 'stator', 'name': 'stator_bore', 'value': {'magnitude': 8.2, 'units': [{'name': 'centimeter', 'exponent': 1}]}}, {'section': 'stator', 'name': 'tooth_tip_depth', 'value': {'magnitude': 1.5, 'units': [{'name': 'millimeter', 'exponent': 1}]}}, {'section': 'stator', 'name': 'slot_opening', 'value': {'magnitude': 1.5, 'units': [{'name': 'millimeter', 'exponent': 1}]}}, {'section': 'stator', 'name': 'tooth_width', 'value': {'magnitude': 9.8, 'units': [{'name': 'millimeter', 'exponent': 1}]}}, {'section': 'stator', 'name': 'stator_outer_diameter', 'value': {'magnitude': 0.136, 'units': [{'name': 'meter', 'exponent': 1}]}}, {'section': 'stator', 'name': 'back_iron_thickness', 'value': {'magnitude': 5.5, 'units': [{'name': 'millimeter', 'exponent': 1}]}}, {'section': 'stator', 'name': 'stator_internal_radius', 'value': {'magnitude': 500, 'units': [{'name': 'micrometer', 'exponent': 1}]}}, {'section': 'stator', 'name': 'number_slots', 'value': {'magnitude': 12, 'units': [{'name': 'count', 'exponent': 1}]}}, {'section': 'stator', 'name': 'tooth_tip_angle', 'value': {'magnitude': 70, 'units': [{'name': 'degree', 'exponent': 1}]}}, {'section': 'rotor', 'name': 'rotor_od', 'value': {'magnitude': 7.999999999999999, 'units': [{'name': 'centimeter', 'exponent': 1}]}}, {'section': 'rotor', 'name': 'rotor_bore', 'value': {'magnitude': 40, 'units': [{'name': 'millimeter', 'exponent': 1}]}}, {'section': 'rotor', 'name': 'banding_thickness', 'value': {'magnitude': 0.5, 'units': [{'name': 'millimeter', 'exponent': 1}]}}, {'section': 'rotor', 'name': 'number_poles', 'value': {'magnitude': 10, 'units': [{'name': 'count', 'exponent': 1}]}}, {'section': 'rotor', 'name': 'magnet_thickness', 'value': {'magnitude': 4.5, 'units': [{'name': 'millimeter', 'exponent': 1}]}}, {'section': 'rotor', 'name': 'magnet_pole_arc', 'value': {'magnitude': 150, 'units': [{'name': 'degree', 'exponent': 1}]}}, {'section': 'rotor', 'name': 'magnet_inset', 'value': {'magnitude': 0.25, 'units': [{'name': 'millimeter', 'exponent': 1}]}}, {'section': 'winding', 'name': 'symmetry', 'value': {'magnitude': 2, 'units': [{'name': 'count', 'exponent': 1}]}}, {'section': 'winding', 'name': 'number_phases', 'value': {'magnitude': 3, 'units': [{'name': 'count', 'exponent': 1}]}}, {'section': 'winding', 'name': 'number_layers', 'value': {'magnitude': 2, 'units': [{'name': 'count', 'exponent': 1}]}}, {'section': 'winding', 'name': 'coil_span', 'value': {'magnitude': 1, 'units': [{'name': 'count', 'exponent': 1}]}}, {'section': 'winding', 'name': 'turns_per_coil', 'value': {'magnitude': 43, 'units': [{'name': 'count', 'exponent': 1}]}}, {'section': 'winding', 'name': 'empty_slots', 'value': {'magnitude': 0, 'units': [{'name': 'count', 'exponent': 1}]}}, {'section': 'winding', 'name': 'fill_factor', 'value': {'magnitude': 42, 'units': [{'name': 'percent', 'exponent': 1}]}}]}\n",
      "2024-01-25 11:35:16,781 - NoJobId - INFO - Martins-MacBook-Air.local - 3503141280.py->update_job_status() - Updating job status: https://api.build.tinarmengineering.com/jobs/65b23932481c1394ee4e82ee/status/10?node_id=None&apikey=668952058c490d0a296da0abb9660534\n",
      "{'id': '65b23932481c1394ee4e82ee', 'owner_org_id': '65a9291658b95253163001ab', 'owner_user_id': '659bf5a7b7135efed48311bd', 'creation_date': '2024-01-25T10:34:26Z', 'status': 10, 'title': 'amazing (2.5 A/mm², 3×10³ rpm)', 'type': 'electromagnetic_spmbrl_fscwseg', 'node_id': 'None', 'data': [{'section': 'operating_point', 'name': 'current_density', 'value': {'magnitude': 2.5, 'units': [{'name': 'ampere', 'exponent': 1}, {'name': 'millimeter', 'exponent': -2}]}}, {'section': 'operating_point', 'name': 'current_angle', 'value': {'magnitude': 255, 'units': [{'name': 'degree', 'exponent': 1}]}}, {'section': 'operating_point', 'name': 'simulated_speed', 'value': {'magnitude': 3000, 'units': [{'name': 'revolutions_per_minute', 'exponent': 1}]}}, {'section': 'simulation', 'name': 'samples_per_electrical_period', 'value': {'magnitude': 180, 'units': [{'name': 'count', 'exponent': 1}, {'name': 'turn', 'exponent': -1}]}}, {'section': 'simulation', 'name': 'timestep_intervals', 'value': {'magnitude': 180, 'units': [{'name': 'count', 'exponent': 1}]}}, {'section': 'simulation', 'name': 'active_length', 'value': {'magnitude': 65, 'units': [{'name': 'millimeter', 'exponent': 1}]}}, {'section': 'stator', 'name': 'slot_liner_thikness', 'value': {'magnitude': 300, 'units': [{'name': 'micrometer', 'exponent': 1}]}}, {'section': 'stator', 'name': 'stator_bore', 'value': {'magnitude': 8.2, 'units': [{'name': 'centimeter', 'exponent': 1}]}}, {'section': 'stator', 'name': 'tooth_tip_depth', 'value': {'magnitude': 1.5, 'units': [{'name': 'millimeter', 'exponent': 1}]}}, {'section': 'stator', 'name': 'slot_opening', 'value': {'magnitude': 1.5, 'units': [{'name': 'millimeter', 'exponent': 1}]}}, {'section': 'stator', 'name': 'tooth_width', 'value': {'magnitude': 9.8, 'units': [{'name': 'millimeter', 'exponent': 1}]}}, {'section': 'stator', 'name': 'stator_outer_diameter', 'value': {'magnitude': 0.136, 'units': [{'name': 'meter', 'exponent': 1}]}}, {'section': 'stator', 'name': 'back_iron_thickness', 'value': {'magnitude': 5.5, 'units': [{'name': 'millimeter', 'exponent': 1}]}}, {'section': 'stator', 'name': 'stator_internal_radius', 'value': {'magnitude': 500, 'units': [{'name': 'micrometer', 'exponent': 1}]}}, {'section': 'stator', 'name': 'number_slots', 'value': {'magnitude': 12, 'units': [{'name': 'count', 'exponent': 1}]}}, {'section': 'stator', 'name': 'tooth_tip_angle', 'value': {'magnitude': 70, 'units': [{'name': 'degree', 'exponent': 1}]}}, {'section': 'rotor', 'name': 'rotor_od', 'value': {'magnitude': 7.999999999999999, 'units': [{'name': 'centimeter', 'exponent': 1}]}}, {'section': 'rotor', 'name': 'rotor_bore', 'value': {'magnitude': 40, 'units': [{'name': 'millimeter', 'exponent': 1}]}}, {'section': 'rotor', 'name': 'banding_thickness', 'value': {'magnitude': 0.5, 'units': [{'name': 'millimeter', 'exponent': 1}]}}, {'section': 'rotor', 'name': 'number_poles', 'value': {'magnitude': 10, 'units': [{'name': 'count', 'exponent': 1}]}}, {'section': 'rotor', 'name': 'magnet_thickness', 'value': {'magnitude': 4.5, 'units': [{'name': 'millimeter', 'exponent': 1}]}}, {'section': 'rotor', 'name': 'magnet_pole_arc', 'value': {'magnitude': 150, 'units': [{'name': 'degree', 'exponent': 1}]}}, {'section': 'rotor', 'name': 'magnet_inset', 'value': {'magnitude': 0.25, 'units': [{'name': 'millimeter', 'exponent': 1}]}}, {'section': 'winding', 'name': 'symmetry', 'value': {'magnitude': 2, 'units': [{'name': 'count', 'exponent': 1}]}}, {'section': 'winding', 'name': 'number_phases', 'value': {'magnitude': 3, 'units': [{'name': 'count', 'exponent': 1}]}}, {'section': 'winding', 'name': 'number_layers', 'value': {'magnitude': 2, 'units': [{'name': 'count', 'exponent': 1}]}}, {'section': 'winding', 'name': 'coil_span', 'value': {'magnitude': 1, 'units': [{'name': 'count', 'exponent': 1}]}}, {'section': 'winding', 'name': 'turns_per_coil', 'value': {'magnitude': 43, 'units': [{'name': 'count', 'exponent': 1}]}}, {'section': 'winding', 'name': 'empty_slots', 'value': {'magnitude': 0, 'units': [{'name': 'count', 'exponent': 1}]}}, {'section': 'winding', 'name': 'fill_factor', 'value': {'magnitude': 42, 'units': [{'name': 'percent', 'exponent': 1}]}}]}\n",
      "2024-01-25 11:35:17,554 - NoJobId - INFO - Martins-MacBook-Air.local - 3503141280.py->update_job_status() - Updating job status: https://api.build.tinarmengineering.com/jobs/65b23932481c1394ee4e82ef/status/10?node_id=None&apikey=668952058c490d0a296da0abb9660534\n",
      "{'id': '65b23932481c1394ee4e82ef', 'owner_org_id': '65a9291658b95253163001ab', 'owner_user_id': '659bf5a7b7135efed48311bd', 'creation_date': '2024-01-25T10:34:26Z', 'status': 10, 'title': 'amazing (5.0 A/mm², 3×10³ rpm)', 'type': 'electromagnetic_spmbrl_fscwseg', 'node_id': 'None', 'data': [{'section': 'operating_point', 'name': 'current_density', 'value': {'magnitude': 5, 'units': [{'name': 'ampere', 'exponent': 1}, {'name': 'millimeter', 'exponent': -2}]}}, {'section': 'operating_point', 'name': 'current_angle', 'value': {'magnitude': 255, 'units': [{'name': 'degree', 'exponent': 1}]}}, {'section': 'operating_point', 'name': 'simulated_speed', 'value': {'magnitude': 3000, 'units': [{'name': 'revolutions_per_minute', 'exponent': 1}]}}, {'section': 'simulation', 'name': 'samples_per_electrical_period', 'value': {'magnitude': 180, 'units': [{'name': 'count', 'exponent': 1}, {'name': 'turn', 'exponent': -1}]}}, {'section': 'simulation', 'name': 'timestep_intervals', 'value': {'magnitude': 180, 'units': [{'name': 'count', 'exponent': 1}]}}, {'section': 'simulation', 'name': 'active_length', 'value': {'magnitude': 65, 'units': [{'name': 'millimeter', 'exponent': 1}]}}, {'section': 'stator', 'name': 'slot_liner_thikness', 'value': {'magnitude': 300, 'units': [{'name': 'micrometer', 'exponent': 1}]}}, {'section': 'stator', 'name': 'stator_bore', 'value': {'magnitude': 8.2, 'units': [{'name': 'centimeter', 'exponent': 1}]}}, {'section': 'stator', 'name': 'tooth_tip_depth', 'value': {'magnitude': 1.5, 'units': [{'name': 'millimeter', 'exponent': 1}]}}, {'section': 'stator', 'name': 'slot_opening', 'value': {'magnitude': 1.5, 'units': [{'name': 'millimeter', 'exponent': 1}]}}, {'section': 'stator', 'name': 'tooth_width', 'value': {'magnitude': 9.8, 'units': [{'name': 'millimeter', 'exponent': 1}]}}, {'section': 'stator', 'name': 'stator_outer_diameter', 'value': {'magnitude': 0.136, 'units': [{'name': 'meter', 'exponent': 1}]}}, {'section': 'stator', 'name': 'back_iron_thickness', 'value': {'magnitude': 5.5, 'units': [{'name': 'millimeter', 'exponent': 1}]}}, {'section': 'stator', 'name': 'stator_internal_radius', 'value': {'magnitude': 500, 'units': [{'name': 'micrometer', 'exponent': 1}]}}, {'section': 'stator', 'name': 'number_slots', 'value': {'magnitude': 12, 'units': [{'name': 'count', 'exponent': 1}]}}, {'section': 'stator', 'name': 'tooth_tip_angle', 'value': {'magnitude': 70, 'units': [{'name': 'degree', 'exponent': 1}]}}, {'section': 'rotor', 'name': 'rotor_od', 'value': {'magnitude': 7.999999999999999, 'units': [{'name': 'centimeter', 'exponent': 1}]}}, {'section': 'rotor', 'name': 'rotor_bore', 'value': {'magnitude': 40, 'units': [{'name': 'millimeter', 'exponent': 1}]}}, {'section': 'rotor', 'name': 'banding_thickness', 'value': {'magnitude': 0.5, 'units': [{'name': 'millimeter', 'exponent': 1}]}}, {'section': 'rotor', 'name': 'number_poles', 'value': {'magnitude': 10, 'units': [{'name': 'count', 'exponent': 1}]}}, {'section': 'rotor', 'name': 'magnet_thickness', 'value': {'magnitude': 4.5, 'units': [{'name': 'millimeter', 'exponent': 1}]}}, {'section': 'rotor', 'name': 'magnet_pole_arc', 'value': {'magnitude': 150, 'units': [{'name': 'degree', 'exponent': 1}]}}, {'section': 'rotor', 'name': 'magnet_inset', 'value': {'magnitude': 0.25, 'units': [{'name': 'millimeter', 'exponent': 1}]}}, {'section': 'winding', 'name': 'symmetry', 'value': {'magnitude': 2, 'units': [{'name': 'count', 'exponent': 1}]}}, {'section': 'winding', 'name': 'number_phases', 'value': {'magnitude': 3, 'units': [{'name': 'count', 'exponent': 1}]}}, {'section': 'winding', 'name': 'number_layers', 'value': {'magnitude': 2, 'units': [{'name': 'count', 'exponent': 1}]}}, {'section': 'winding', 'name': 'coil_span', 'value': {'magnitude': 1, 'units': [{'name': 'count', 'exponent': 1}]}}, {'section': 'winding', 'name': 'turns_per_coil', 'value': {'magnitude': 43, 'units': [{'name': 'count', 'exponent': 1}]}}, {'section': 'winding', 'name': 'empty_slots', 'value': {'magnitude': 0, 'units': [{'name': 'count', 'exponent': 1}]}}, {'section': 'winding', 'name': 'fill_factor', 'value': {'magnitude': 42, 'units': [{'name': 'percent', 'exponent': 1}]}}]}\n",
      "2024-01-25 11:35:18,295 - NoJobId - INFO - Martins-MacBook-Air.local - 3503141280.py->update_job_status() - Updating job status: https://api.build.tinarmengineering.com/jobs/65b23933481c1394ee4e82f0/status/10?node_id=None&apikey=668952058c490d0a296da0abb9660534\n",
      "{'id': '65b23933481c1394ee4e82f0', 'owner_org_id': '65a9291658b95253163001ab', 'owner_user_id': '659bf5a7b7135efed48311bd', 'creation_date': '2024-01-25T10:34:27Z', 'status': 10, 'title': 'amazing (7.5 A/mm², 3×10³ rpm)', 'type': 'electromagnetic_spmbrl_fscwseg', 'node_id': 'None', 'data': [{'section': 'operating_point', 'name': 'current_density', 'value': {'magnitude': 7.5, 'units': [{'name': 'ampere', 'exponent': 1}, {'name': 'millimeter', 'exponent': -2}]}}, {'section': 'operating_point', 'name': 'current_angle', 'value': {'magnitude': 255, 'units': [{'name': 'degree', 'exponent': 1}]}}, {'section': 'operating_point', 'name': 'simulated_speed', 'value': {'magnitude': 3000, 'units': [{'name': 'revolutions_per_minute', 'exponent': 1}]}}, {'section': 'simulation', 'name': 'samples_per_electrical_period', 'value': {'magnitude': 180, 'units': [{'name': 'count', 'exponent': 1}, {'name': 'turn', 'exponent': -1}]}}, {'section': 'simulation', 'name': 'timestep_intervals', 'value': {'magnitude': 180, 'units': [{'name': 'count', 'exponent': 1}]}}, {'section': 'simulation', 'name': 'active_length', 'value': {'magnitude': 65, 'units': [{'name': 'millimeter', 'exponent': 1}]}}, {'section': 'stator', 'name': 'slot_liner_thikness', 'value': {'magnitude': 300, 'units': [{'name': 'micrometer', 'exponent': 1}]}}, {'section': 'stator', 'name': 'stator_bore', 'value': {'magnitude': 8.2, 'units': [{'name': 'centimeter', 'exponent': 1}]}}, {'section': 'stator', 'name': 'tooth_tip_depth', 'value': {'magnitude': 1.5, 'units': [{'name': 'millimeter', 'exponent': 1}]}}, {'section': 'stator', 'name': 'slot_opening', 'value': {'magnitude': 1.5, 'units': [{'name': 'millimeter', 'exponent': 1}]}}, {'section': 'stator', 'name': 'tooth_width', 'value': {'magnitude': 9.8, 'units': [{'name': 'millimeter', 'exponent': 1}]}}, {'section': 'stator', 'name': 'stator_outer_diameter', 'value': {'magnitude': 0.136, 'units': [{'name': 'meter', 'exponent': 1}]}}, {'section': 'stator', 'name': 'back_iron_thickness', 'value': {'magnitude': 5.5, 'units': [{'name': 'millimeter', 'exponent': 1}]}}, {'section': 'stator', 'name': 'stator_internal_radius', 'value': {'magnitude': 500, 'units': [{'name': 'micrometer', 'exponent': 1}]}}, {'section': 'stator', 'name': 'number_slots', 'value': {'magnitude': 12, 'units': [{'name': 'count', 'exponent': 1}]}}, {'section': 'stator', 'name': 'tooth_tip_angle', 'value': {'magnitude': 70, 'units': [{'name': 'degree', 'exponent': 1}]}}, {'section': 'rotor', 'name': 'rotor_od', 'value': {'magnitude': 7.999999999999999, 'units': [{'name': 'centimeter', 'exponent': 1}]}}, {'section': 'rotor', 'name': 'rotor_bore', 'value': {'magnitude': 40, 'units': [{'name': 'millimeter', 'exponent': 1}]}}, {'section': 'rotor', 'name': 'banding_thickness', 'value': {'magnitude': 0.5, 'units': [{'name': 'millimeter', 'exponent': 1}]}}, {'section': 'rotor', 'name': 'number_poles', 'value': {'magnitude': 10, 'units': [{'name': 'count', 'exponent': 1}]}}, {'section': 'rotor', 'name': 'magnet_thickness', 'value': {'magnitude': 4.5, 'units': [{'name': 'millimeter', 'exponent': 1}]}}, {'section': 'rotor', 'name': 'magnet_pole_arc', 'value': {'magnitude': 150, 'units': [{'name': 'degree', 'exponent': 1}]}}, {'section': 'rotor', 'name': 'magnet_inset', 'value': {'magnitude': 0.25, 'units': [{'name': 'millimeter', 'exponent': 1}]}}, {'section': 'winding', 'name': 'symmetry', 'value': {'magnitude': 2, 'units': [{'name': 'count', 'exponent': 1}]}}, {'section': 'winding', 'name': 'number_phases', 'value': {'magnitude': 3, 'units': [{'name': 'count', 'exponent': 1}]}}, {'section': 'winding', 'name': 'number_layers', 'value': {'magnitude': 2, 'units': [{'name': 'count', 'exponent': 1}]}}, {'section': 'winding', 'name': 'coil_span', 'value': {'magnitude': 1, 'units': [{'name': 'count', 'exponent': 1}]}}, {'section': 'winding', 'name': 'turns_per_coil', 'value': {'magnitude': 43, 'units': [{'name': 'count', 'exponent': 1}]}}, {'section': 'winding', 'name': 'empty_slots', 'value': {'magnitude': 0, 'units': [{'name': 'count', 'exponent': 1}]}}, {'section': 'winding', 'name': 'fill_factor', 'value': {'magnitude': 42, 'units': [{'name': 'percent', 'exponent': 1}]}}]}\n",
      "2024-01-25 11:35:19,050 - NoJobId - INFO - Martins-MacBook-Air.local - 3503141280.py->update_job_status() - Updating job status: https://api.build.tinarmengineering.com/jobs/65b23933481c1394ee4e82f1/status/10?node_id=None&apikey=668952058c490d0a296da0abb9660534\n",
      "{'id': '65b23933481c1394ee4e82f1', 'owner_org_id': '65a9291658b95253163001ab', 'owner_user_id': '659bf5a7b7135efed48311bd', 'creation_date': '2024-01-25T10:34:27Z', 'status': 10, 'title': 'amazing (10.0 A/mm², 3×10³ rpm)', 'type': 'electromagnetic_spmbrl_fscwseg', 'node_id': 'None', 'data': [{'section': 'operating_point', 'name': 'current_density', 'value': {'magnitude': 10, 'units': [{'name': 'ampere', 'exponent': 1}, {'name': 'millimeter', 'exponent': -2}]}}, {'section': 'operating_point', 'name': 'current_angle', 'value': {'magnitude': 255, 'units': [{'name': 'degree', 'exponent': 1}]}}, {'section': 'operating_point', 'name': 'simulated_speed', 'value': {'magnitude': 3000, 'units': [{'name': 'revolutions_per_minute', 'exponent': 1}]}}, {'section': 'simulation', 'name': 'samples_per_electrical_period', 'value': {'magnitude': 180, 'units': [{'name': 'count', 'exponent': 1}, {'name': 'turn', 'exponent': -1}]}}, {'section': 'simulation', 'name': 'timestep_intervals', 'value': {'magnitude': 180, 'units': [{'name': 'count', 'exponent': 1}]}}, {'section': 'simulation', 'name': 'active_length', 'value': {'magnitude': 65, 'units': [{'name': 'millimeter', 'exponent': 1}]}}, {'section': 'stator', 'name': 'slot_liner_thikness', 'value': {'magnitude': 300, 'units': [{'name': 'micrometer', 'exponent': 1}]}}, {'section': 'stator', 'name': 'stator_bore', 'value': {'magnitude': 8.2, 'units': [{'name': 'centimeter', 'exponent': 1}]}}, {'section': 'stator', 'name': 'tooth_tip_depth', 'value': {'magnitude': 1.5, 'units': [{'name': 'millimeter', 'exponent': 1}]}}, {'section': 'stator', 'name': 'slot_opening', 'value': {'magnitude': 1.5, 'units': [{'name': 'millimeter', 'exponent': 1}]}}, {'section': 'stator', 'name': 'tooth_width', 'value': {'magnitude': 9.8, 'units': [{'name': 'millimeter', 'exponent': 1}]}}, {'section': 'stator', 'name': 'stator_outer_diameter', 'value': {'magnitude': 0.136, 'units': [{'name': 'meter', 'exponent': 1}]}}, {'section': 'stator', 'name': 'back_iron_thickness', 'value': {'magnitude': 5.5, 'units': [{'name': 'millimeter', 'exponent': 1}]}}, {'section': 'stator', 'name': 'stator_internal_radius', 'value': {'magnitude': 500, 'units': [{'name': 'micrometer', 'exponent': 1}]}}, {'section': 'stator', 'name': 'number_slots', 'value': {'magnitude': 12, 'units': [{'name': 'count', 'exponent': 1}]}}, {'section': 'stator', 'name': 'tooth_tip_angle', 'value': {'magnitude': 70, 'units': [{'name': 'degree', 'exponent': 1}]}}, {'section': 'rotor', 'name': 'rotor_od', 'value': {'magnitude': 7.999999999999999, 'units': [{'name': 'centimeter', 'exponent': 1}]}}, {'section': 'rotor', 'name': 'rotor_bore', 'value': {'magnitude': 40, 'units': [{'name': 'millimeter', 'exponent': 1}]}}, {'section': 'rotor', 'name': 'banding_thickness', 'value': {'magnitude': 0.5, 'units': [{'name': 'millimeter', 'exponent': 1}]}}, {'section': 'rotor', 'name': 'number_poles', 'value': {'magnitude': 10, 'units': [{'name': 'count', 'exponent': 1}]}}, {'section': 'rotor', 'name': 'magnet_thickness', 'value': {'magnitude': 4.5, 'units': [{'name': 'millimeter', 'exponent': 1}]}}, {'section': 'rotor', 'name': 'magnet_pole_arc', 'value': {'magnitude': 150, 'units': [{'name': 'degree', 'exponent': 1}]}}, {'section': 'rotor', 'name': 'magnet_inset', 'value': {'magnitude': 0.25, 'units': [{'name': 'millimeter', 'exponent': 1}]}}, {'section': 'winding', 'name': 'symmetry', 'value': {'magnitude': 2, 'units': [{'name': 'count', 'exponent': 1}]}}, {'section': 'winding', 'name': 'number_phases', 'value': {'magnitude': 3, 'units': [{'name': 'count', 'exponent': 1}]}}, {'section': 'winding', 'name': 'number_layers', 'value': {'magnitude': 2, 'units': [{'name': 'count', 'exponent': 1}]}}, {'section': 'winding', 'name': 'coil_span', 'value': {'magnitude': 1, 'units': [{'name': 'count', 'exponent': 1}]}}, {'section': 'winding', 'name': 'turns_per_coil', 'value': {'magnitude': 43, 'units': [{'name': 'count', 'exponent': 1}]}}, {'section': 'winding', 'name': 'empty_slots', 'value': {'magnitude': 0, 'units': [{'name': 'count', 'exponent': 1}]}}, {'section': 'winding', 'name': 'fill_factor', 'value': {'magnitude': 42, 'units': [{'name': 'percent', 'exponent': 1}]}}]}\n"
     ]
    }
   ],
   "source": [
    "for j in jobs_result:\n",
    "    res = api.update_job_status(j['id'], JOB_STATUS['QueuedForMeshing'])\n",
    "    time.sleep(0.5)\n",
    "    print(res)"
   ]
  },
  {
   "cell_type": "code",
   "execution_count": null,
   "metadata": {},
   "outputs": [],
   "source": [
    "j1_result = [api.update_job_status(j['id'], JOB_STATUS['QueuedForMeshing'])\n",
    "\n",
    "\n",
    "while STATUS_JOB[api.get_job(j1.id)['status']] != 'Complete' or STATUS_JOB[api.get_job(j2.id)['status']] != 'Complete':\n",
    "    print(\"job 1 {0} \\t job 2 {1}\".format(STATUS_JOB[api.get_job(j1.id)['status']], STATUS_JOB[api.get_job(j2.id)['status']] ))\n",
    "    time.sleep(10)\n",
    "time.sleep(1)"
   ]
  },
  {
   "cell_type": "code",
   "execution_count": null,
   "metadata": {},
   "outputs": [],
   "source": [
    "j1_result = api.get_job(j1.id)\n",
    "for artifact in j1_result['artifacts']:\n",
    "    print(artifact['type'], artifact['url'], artifact['id'])"
   ]
  },
  {
   "cell_type": "code",
   "execution_count": null,
   "metadata": {},
   "outputs": [],
   "source": [
    "j1_result_data = [art for art in j1_result['artifacts'] if art['type']=='RESULT_DATA'][0]\n",
    "j1_df = pd.read_csv(j1_result_data['url'], header=[0, 1], index_col=[0, 1]).pint.quantify(level=-1)"
   ]
  },
  {
   "cell_type": "code",
   "execution_count": null,
   "metadata": {},
   "outputs": [],
   "source": [
    "fig = plt.figure()\n",
    "ax = fig.add_subplot(111)\n",
    "ax.plot(j1_df['angles'], j1_df['Back_EMF_0'], label='Back_EMF_0')\n",
    "ax.plot(j1_df['angles'], j1_df['Back_EMF_1'], label='Back_EMF_1')\n",
    "ax.plot(j1_df['angles'], j1_df['Back_EMF_2'], label='Back_EMF_2')"
   ]
  },
  {
   "cell_type": "code",
   "execution_count": null,
   "metadata": {},
   "outputs": [],
   "source": [
    "j2_result = api.get_job(j2.id)\n",
    "for artifact in j2_result['artifacts']:\n",
    "    print(artifact['type'], artifact['url'], artifact['id'])\n",
    "time.sleep(1)    "
   ]
  },
  {
   "cell_type": "code",
   "execution_count": null,
   "metadata": {},
   "outputs": [],
   "source": [
    "j2_result_data = [art for art in j2_result['artifacts'] if art['type']=='RESULT_DATA'][0]\n",
    "j2_df = pd.read_csv(j2_result_data['url'], header=[0, 1], index_col=[0, 1]).pint.quantify(level=-1)"
   ]
  },
  {
   "cell_type": "code",
   "execution_count": null,
   "metadata": {},
   "outputs": [],
   "source": [
    "fig = plt.figure()\n",
    "ax = fig.add_subplot(111)\n",
    "l1, = ax.plot(j1_df['angles'], j1_df['Back_EMF_0'], label='Back_EMF_0', linestyle='--')\n",
    "l2, = ax.plot(j1_df['angles'], j1_df['Back_EMF_1'], label='Back_EMF_1', linestyle='--',)\n",
    "l3, = ax.plot(j1_df['angles'], j1_df['Back_EMF_2'], label='Back_EMF_2', linestyle='--')\n",
    "ax.plot(j2_df['angles'], j2_df['Back_EMF_0'], label='nominal Back_EMF_0', color=l1.get_color())\n",
    "ax.plot(j2_df['angles'], j2_df['Back_EMF_1'], label='nominal Back_EMF_1', color=l2.get_color())\n",
    "ax.plot(j2_df['angles'], j2_df['Back_EMF_2'], label='nominal Back_EMF_2', color=l3.get_color())\n",
    "ax.legend()"
   ]
  },
  {
   "cell_type": "code",
   "execution_count": null,
   "metadata": {},
   "outputs": [],
   "source": [
    "\n",
    "fig = plt.figure(2)\n",
    "ax = fig.add_subplot(111)\n",
    "l1, = ax.plot(j1_df['angles'], j1_df['Scaled Torque'], label='open cct Scaled Torque')\n",
    "l2, = ax.plot(j2_df['angles'], j2_df['Scaled Torque'], label='nominal Scaled Torque')\n",
    "mean_torque = j2_df['Scaled Torque'].mean()\n",
    "ax.axhline( mean_torque, label=f'Scaled Torque {mean_torque:2.4~P}', linestyle='--')\n",
    "target_torque = 24.26 * q.N * q.m\n",
    "ax.axhline( target_torque, label=f'Target {target_torque:2.4~P}', color='k', linestyle='--')\n",
    "\n",
    "ax.legend()"
   ]
  },
  {
   "cell_type": "code",
   "execution_count": null,
   "metadata": {},
   "outputs": [],
   "source": [
    "m1_df = pd.read_csv(\"Machine_Back_emfs_Machine_1.csv\", skiprows=1, header=[0, 1], index_col=[0]).pint.quantify(level=-1)\n",
    "m1_df.head()\n"
   ]
  },
  {
   "cell_type": "code",
   "execution_count": null,
   "metadata": {},
   "outputs": [],
   "source": [
    "m1_df['Angles electrical'] = pint_pandas.PintArray(m1_df.index * m1.rotor['number_poles'] / 2, dtype=\"pint[degree]\")\n",
    "m1_df.dtypes"
   ]
  },
  {
   "cell_type": "code",
   "execution_count": null,
   "metadata": {},
   "outputs": [],
   "source": [
    "fig = plt.figure(3)\n",
    "ax = fig.add_subplot(111)\n",
    "l1, = ax.plot(j1_df['angles'], -j1_df['Back_EMF_0'], label='Back_EMF_0', linestyle='--')\n",
    "l2, = ax.plot(j1_df['angles'], -j1_df['Back_EMF_1'], label='Back_EMF_1', linestyle='--',)\n",
    "l3, = ax.plot(j1_df['angles'], -j1_df['Back_EMF_2'], label='Back_EMF_2', linestyle='--')\n",
    "ax.plot(m1_df['Angles electrical'].pint.to(\"radians\"), m1_df['Phase A'], label='Phase A', color=l1.get_color())\n",
    "ax.plot(m1_df['Angles electrical'].pint.to(\"radians\"), m1_df['Phase B'], label='Phase B', color=l2.get_color())\n",
    "ax.plot(m1_df['Angles electrical'].pint.to(\"radians\"), m1_df['Phase C'], label='Phase C', color=l3.get_color())\n"
   ]
  },
  {
   "cell_type": "code",
   "execution_count": null,
   "metadata": {},
   "outputs": [],
   "source": [
    "df_m1_phvol = pd.read_csv(\"m1_phase_voltage_nominal.csv\",  header=[0, 1])\n",
    "df_m1_phvol.head()"
   ]
  },
  {
   "cell_type": "code",
   "execution_count": null,
   "metadata": {},
   "outputs": [],
   "source": [
    "from numpy import pi\n",
    "fig = plt.figure()\n",
    "ax = fig.add_subplot(111)\n",
    "l1, =ax.plot(df_m1_phvol[\"Va\"][\"X\"]*pi*5/180, -df_m1_phvol[\"Va\"][\"Y\"],linestyle='--')\n",
    "l2, =ax.plot(df_m1_phvol[\"Vb\"][\"X\"]*pi*5/180, -df_m1_phvol[\"Vb\"][\"Y\"],linestyle='--')\n",
    "l3, =ax.plot(df_m1_phvol[\"Vc\"][\"X\"]*pi*5/180, -df_m1_phvol[\"Vc\"][\"Y\"],linestyle='--')\n",
    "ax.plot(j2_df['angles'], j2_df['Back_EMF_0'], label='nominal Back_EMF_0', color=l1.get_color())\n",
    "ax.plot(j2_df['angles'], j2_df['Back_EMF_1'], label='nominal Back_EMF_1', color=l2.get_color())\n",
    "ax.plot(j2_df['angles'], j2_df['Back_EMF_2'], label='nominal Back_EMF_2', color=l3.get_color())\n",
    "ax.legend()"
   ]
  },
  {
   "cell_type": "code",
   "execution_count": null,
   "metadata": {},
   "outputs": [],
   "source": [
    "df_m1_phvol[\"Va\"][\"X\"]*(pi*5/180)"
   ]
  },
  {
   "cell_type": "code",
   "execution_count": null,
   "metadata": {},
   "outputs": [],
   "source": [
    "df_m1_torque = pd.read_csv(\"M1AverageTorqueNominal.csv\", names=[\"Angles\", \"Torque\"], header=0)\n",
    "df_m1_torque.head()"
   ]
  },
  {
   "cell_type": "code",
   "execution_count": null,
   "metadata": {},
   "outputs": [],
   "source": [
    "fig = plt.figure(2)\n",
    "ax = fig.add_subplot(111)\n",
    "l1, = ax.plot(j1_df['angles'], j1_df['Scaled Torque'], label='open cct Scaled Torque')\n",
    "l2, = ax.plot(j2_df['angles'], j2_df['Scaled Torque'], label='nominal Scaled Torque')\n",
    "mean_torque = j2_df['Scaled Torque'].mean()\n",
    "ax.axhline( mean_torque, label=f'Scaled Torque {mean_torque:2.4~P}', linestyle='--')\n",
    "target_torque = 24.26 * q.N * q.m\n",
    "ax.axhline( target_torque, label=f'Target {target_torque:2.4~P}', color='k', linestyle='--')\n",
    "ax.plot(df_m1_torque[\"Angles\"]*pi*5/180, df_m1_torque[\"Torque\"], label='nominal Torque')\n",
    "ax.legend()"
   ]
  },
  {
   "cell_type": "code",
   "execution_count": null,
   "metadata": {},
   "outputs": [],
   "source": []
  }
 ],
 "metadata": {
  "kernelspec": {
   "display_name": "ltc_test_py311",
   "language": "python",
   "name": "python3"
  },
  "language_info": {
   "codemirror_mode": {
    "name": "ipython",
    "version": 3
   },
   "file_extension": ".py",
   "mimetype": "text/x-python",
   "name": "python",
   "nbconvert_exporter": "python",
   "pygments_lexer": "ipython3",
   "version": "3.12.0"
  }
 },
 "nbformat": 4,
 "nbformat_minor": 2
}

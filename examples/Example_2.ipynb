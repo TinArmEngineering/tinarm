{
 "cells": [
  {
   "cell_type": "code",
   "execution_count": 1,
   "metadata": {},
   "outputs": [
    {
     "name": "stdout",
     "output_type": "stream",
     "text": [
      "Collecting git+https://github.com/TinArmEngineering/tinarm.git@0.1.49 (from -r requirements.txt (line 1))\n",
      "  Cloning https://github.com/TinArmEngineering/tinarm.git (to revision 0.1.49) to /tmp/pip-req-build-bmj5byv0\n",
      "  Running command git clone --filter=blob:none --quiet https://github.com/TinArmEngineering/tinarm.git /tmp/pip-req-build-bmj5byv0\n",
      "  Running command git checkout -q a2fdc7ce19efad177874d9b06fdab31b85f00681\n",
      "  Resolved https://github.com/TinArmEngineering/tinarm.git to commit a2fdc7ce19efad177874d9b06fdab31b85f00681\n",
      "  Installing build dependencies ... \u001b[?25ldone\n",
      "\u001b[?25h  Getting requirements to build wheel ... \u001b[?25ldone\n",
      "\u001b[?25h  Preparing metadata (pyproject.toml) ... \u001b[?25ldone\n",
      "\u001b[?25hRequirement already satisfied: pint in /home/mjfwest/repositories/Lonely-Tool-Cult/.venv/lib/python3.10/site-packages (from -r requirements.txt (line 2)) (0.23)\n",
      "Requirement already satisfied: pandas in /home/mjfwest/repositories/Lonely-Tool-Cult/.venv/lib/python3.10/site-packages (from -r requirements.txt (line 3)) (2.1.4)\n",
      "Requirement already satisfied: pint-pandas in /home/mjfwest/repositories/Lonely-Tool-Cult/.venv/lib/python3.10/site-packages (from -r requirements.txt (line 4)) (0.5)\n",
      "Requirement already satisfied: matplotlib in /home/mjfwest/repositories/Lonely-Tool-Cult/.venv/lib/python3.10/site-packages (from -r requirements.txt (line 5)) (3.8.2)\n",
      "Requirement already satisfied: pyyaml in /home/mjfwest/repositories/Lonely-Tool-Cult/.venv/lib/python3.10/site-packages (from -r requirements.txt (line 6)) (6.0.1)\n",
      "Requirement already satisfied: pika in /home/mjfwest/repositories/Lonely-Tool-Cult/.venv/lib/python3.10/site-packages (from tinarm==0.1->-r requirements.txt (line 1)) (1.3.2)\n",
      "Requirement already satisfied: python-logging-rabbitmq in /home/mjfwest/repositories/Lonely-Tool-Cult/.venv/lib/python3.10/site-packages (from tinarm==0.1->-r requirements.txt (line 1)) (2.3.0)\n",
      "Requirement already satisfied: requests in /home/mjfwest/repositories/Lonely-Tool-Cult/.venv/lib/python3.10/site-packages (from tinarm==0.1->-r requirements.txt (line 1)) (2.31.0)\n",
      "Requirement already satisfied: typing-extensions in /home/mjfwest/repositories/Lonely-Tool-Cult/.venv/lib/python3.10/site-packages (from pint->-r requirements.txt (line 2)) (4.9.0)\n",
      "Requirement already satisfied: numpy<2,>=1.22.4 in /home/mjfwest/repositories/Lonely-Tool-Cult/.venv/lib/python3.10/site-packages (from pandas->-r requirements.txt (line 3)) (1.26.3)\n",
      "Requirement already satisfied: python-dateutil>=2.8.2 in /home/mjfwest/repositories/Lonely-Tool-Cult/.venv/lib/python3.10/site-packages (from pandas->-r requirements.txt (line 3)) (2.8.2)\n",
      "Requirement already satisfied: pytz>=2020.1 in /home/mjfwest/repositories/Lonely-Tool-Cult/.venv/lib/python3.10/site-packages (from pandas->-r requirements.txt (line 3)) (2023.3.post1)\n",
      "Requirement already satisfied: tzdata>=2022.1 in /home/mjfwest/repositories/Lonely-Tool-Cult/.venv/lib/python3.10/site-packages (from pandas->-r requirements.txt (line 3)) (2023.4)\n",
      "Requirement already satisfied: contourpy>=1.0.1 in /home/mjfwest/repositories/Lonely-Tool-Cult/.venv/lib/python3.10/site-packages (from matplotlib->-r requirements.txt (line 5)) (1.2.0)\n",
      "Requirement already satisfied: cycler>=0.10 in /home/mjfwest/repositories/Lonely-Tool-Cult/.venv/lib/python3.10/site-packages (from matplotlib->-r requirements.txt (line 5)) (0.12.1)\n",
      "Requirement already satisfied: fonttools>=4.22.0 in /home/mjfwest/repositories/Lonely-Tool-Cult/.venv/lib/python3.10/site-packages (from matplotlib->-r requirements.txt (line 5)) (4.47.2)\n",
      "Requirement already satisfied: kiwisolver>=1.3.1 in /home/mjfwest/repositories/Lonely-Tool-Cult/.venv/lib/python3.10/site-packages (from matplotlib->-r requirements.txt (line 5)) (1.4.5)\n",
      "Requirement already satisfied: packaging>=20.0 in /home/mjfwest/repositories/Lonely-Tool-Cult/.venv/lib/python3.10/site-packages (from matplotlib->-r requirements.txt (line 5)) (23.2)\n",
      "Requirement already satisfied: pillow>=8 in /home/mjfwest/repositories/Lonely-Tool-Cult/.venv/lib/python3.10/site-packages (from matplotlib->-r requirements.txt (line 5)) (10.2.0)\n",
      "Requirement already satisfied: pyparsing>=2.3.1 in /home/mjfwest/repositories/Lonely-Tool-Cult/.venv/lib/python3.10/site-packages (from matplotlib->-r requirements.txt (line 5)) (3.1.1)\n",
      "Requirement already satisfied: six>=1.5 in /home/mjfwest/repositories/Lonely-Tool-Cult/.venv/lib/python3.10/site-packages (from python-dateutil>=2.8.2->pandas->-r requirements.txt (line 3)) (1.16.0)\n",
      "Requirement already satisfied: charset-normalizer<4,>=2 in /home/mjfwest/repositories/Lonely-Tool-Cult/.venv/lib/python3.10/site-packages (from requests->tinarm==0.1->-r requirements.txt (line 1)) (3.3.2)\n",
      "Requirement already satisfied: idna<4,>=2.5 in /home/mjfwest/repositories/Lonely-Tool-Cult/.venv/lib/python3.10/site-packages (from requests->tinarm==0.1->-r requirements.txt (line 1)) (3.6)\n",
      "Requirement already satisfied: urllib3<3,>=1.21.1 in /home/mjfwest/repositories/Lonely-Tool-Cult/.venv/lib/python3.10/site-packages (from requests->tinarm==0.1->-r requirements.txt (line 1)) (2.1.0)\n",
      "Requirement already satisfied: certifi>=2017.4.17 in /home/mjfwest/repositories/Lonely-Tool-Cult/.venv/lib/python3.10/site-packages (from requests->tinarm==0.1->-r requirements.txt (line 1)) (2023.11.17)\n"
     ]
    }
   ],
   "source": [
    "!pip install -r requirements.txt"
   ]
  },
  {
   "cell_type": "code",
   "execution_count": 3,
   "metadata": {},
   "outputs": [],
   "source": [
    "import matplotlib.pyplot as plt\n",
    "import pint\n",
    "from tinarm import NameQuantityPair\n",
    "from tinarm import Quantity \n",
    "from tinarm.api import JOB_STATUS\n",
    "\n",
    "import tinarm\n",
    "import logging\n",
    "import time\n",
    "import requests\n",
    "import uuid\n",
    "import random\n",
    "import yaml\n",
    "import pandas as pd\n",
    "import pint_pandas\n"
   ]
  },
  {
   "cell_type": "code",
   "execution_count": 4,
   "metadata": {},
   "outputs": [],
   "source": [
    "\n",
    "LOGGING_LEVEL = logging.INFO\n",
    "STATUS_JOB = {value:key for key,value in JOB_STATUS.items()}"
   ]
  },
  {
   "cell_type": "code",
   "execution_count": 5,
   "metadata": {},
   "outputs": [
    {
     "name": "stdout",
     "output_type": "stream",
     "text": [
      "2024-02-01 14:37:29,078 - NoJobId - INFO - Kebnekaise - 1683099798.py-><module>() - tinarm version 0.1\n",
      "2024-02-01 14:37:29,079 - NoJobId - INFO - Kebnekaise - 1683099798.py-><module>() - pint_pandas version 0.5\n"
     ]
    }
   ],
   "source": [
    "\n",
    "### Configure Logging\n",
    "logger = logging.getLogger()\n",
    "logger.setLevel(LOGGING_LEVEL)\n",
    "logger.info(f\"tinarm version {tinarm.__version__}\")\n",
    "logger.info(f\"pint_pandas version {pint_pandas.__version__}\")\n",
    "\n",
    "q = pint_pandas.PintType.ureg\n",
    "q.setup_matplotlib()"
   ]
  },
  {
   "cell_type": "markdown",
   "metadata": {},
   "source": [
    "Log in to Tin Arm Engineering's machine solver, and under profile, retrieve your API key. \n",
    "Do not commit your API key to a repository, and consider it like a password.  A good way to keep it out of this code base is to use a configuation file, or environment variable. We will want other things cofigured too, so let's use a yaml file for convenience. \n",
    "\n",
    "create a `configurations.yaml` file in this directory with the content.\n",
    "```yaml\n",
    "api_key: 668952058c490d0a296da0abb966****\n",
    "root_url: http://server-go:4300\n",
    "```\n",
    "But of course replace the number with your api key\n",
    "\n",
    "You can then add that file to your `.gitignore` file by executing ```echo 'configurations.yaml' >> .gitignore```"
   ]
  },
  {
   "cell_type": "markdown",
   "metadata": {},
   "source": [
    "```\n",
    "!echo 'configurations.yaml' >> .gitignore\n",
    "```"
   ]
  },
  {
   "cell_type": "code",
   "execution_count": 6,
   "metadata": {},
   "outputs": [],
   "source": [
    "with open(\"configurations.yaml\", \"r\") as f:\n",
    "    config = yaml.safe_load(f)"
   ]
  },
  {
   "cell_type": "markdown",
   "metadata": {},
   "source": [
    "# Stator"
   ]
  },
  {
   "cell_type": "code",
   "execution_count": 7,
   "metadata": {},
   "outputs": [],
   "source": [
    "stator_parameters = {\n",
    "    \"slot_liner_thikness\": 300 * q.um,\n",
    "    \"stator_bore\": 8.20 * q.cm,\n",
    "    \"tooth_tip_depth\": 1.5 * q.mm,\n",
    "    \"slot_opening\": 1.5 * q.mm,\n",
    "    \"tooth_width\": 9.8 * q.mm,\n",
    "    \"stator_outer_diameter\": 0.136 * q.m,\n",
    "    \"back_iron_thickness\": 5.5 * q.mm,\n",
    "    \"stator_internal_radius\": 500 * q.um,\n",
    "    \"number_slots\": 12 * q.count,\n",
    "    \"tooth_tip_angle\": 70 * q.degrees\n",
    "    }\n",
    "\n",
    "air_gap_length = 1 * q.mm"
   ]
  },
  {
   "cell_type": "markdown",
   "metadata": {},
   "source": [
    "## Rotor\n",
    "Surface mounted Breadloaf magnets"
   ]
  },
  {
   "cell_type": "code",
   "execution_count": 8,
   "metadata": {},
   "outputs": [],
   "source": [
    "rotor_parameters = {\n",
    "    \"rotor_od\": stator_parameters[\"stator_bore\"] - 2 * air_gap_length,\n",
    "    \"rotor_bore\": 40 * q.mm,\n",
    "    \"banding_thickness\": 0.5 * q.mm,\n",
    "    \"number_poles\": 10 * q.count,\n",
    "    \"magnet_thickness\": 4.5 * q.millimeter,\n",
    "    \"magnet_pole_arc\": 150 * q.degrees,\n",
    "    \"magnet_inset\": 0.25 * q.millimeter\n",
    "    }"
   ]
  },
  {
   "cell_type": "markdown",
   "metadata": {},
   "source": [
    "## Simulation Parameters"
   ]
  },
  {
   "cell_type": "code",
   "execution_count": 9,
   "metadata": {},
   "outputs": [],
   "source": [
    "simulation_parameters = {\n",
    "       \"samples_per_electrical_period\": 180 * q.count/q.turn,\n",
    "        \"timestep_intervals\": 180 * q.count,\n",
    "        \"active_length\": 65 * q.mm}\n"
   ]
  },
  {
   "cell_type": "code",
   "execution_count": 10,
   "metadata": {},
   "outputs": [],
   "source": [
    "winding_parameters = {\n",
    "    \"symmetry\": 2 * q.count,\n",
    "    \"number_phases\": 3 * q.count,\n",
    "    \"number_layers\": 2 * q.count,\n",
    "    \"coil_span\": 1 * q.count,\n",
    "    \"turns_per_coil\": 43 * q.count,\n",
    "    \"empty_slots\": 0 * q.count,\n",
    "    \"fill_factor\": 42 * q.percent\n",
    "    }"
   ]
  },
  {
   "cell_type": "markdown",
   "metadata": {},
   "source": [
    "## Operating Point"
   ]
  },
  {
   "cell_type": "code",
   "execution_count": 11,
   "metadata": {},
   "outputs": [
    {
     "data": {
      "text/plain": [
       "(array([ 2.,  4.,  6.,  8., 10.,  2.,  4.,  6.,  8., 10.,  2.,  4.,  6.,\n",
       "         8., 10.,  2.,  4.,  6.,  8., 10.,  2.,  4.,  6.,  8., 10.]) <Unit('ampere / millimeter ** 2')>,\n",
       " array([250.  , 250.  , 250.  , 250.  , 250.  , 261.25, 261.25, 261.25,\n",
       "        261.25, 261.25, 272.5 , 272.5 , 272.5 , 272.5 , 272.5 , 283.75,\n",
       "        283.75, 283.75, 283.75, 283.75, 295.  , 295.  , 295.  , 295.  ,\n",
       "        295.  ]) <Unit('degree')>)"
      ]
     },
     "execution_count": 11,
     "metadata": {},
     "output_type": "execute_result"
    }
   ],
   "source": [
    "import numpy as np\n",
    "\n",
    "current_density_grid, angle_grid = np.meshgrid(np.linspace(2, 10, 5) * q.A/q.mm**2, np.linspace(250, 250+45, 5) * q.degrees)\n",
    "current_density_grid.reshape(-1), angle_grid.reshape(-1)"
   ]
  },
  {
   "cell_type": "code",
   "execution_count": 12,
   "metadata": {},
   "outputs": [],
   "source": [
    "operating_points = [{\n",
    "    'current_density': cd,\n",
    "    'current_angle': angle,\n",
    "    \"simulated_speed\": 2400 * q.rpm,\n",
    "    } for cd, angle in zip(current_density_grid.reshape(-1), angle_grid.reshape(-1))]\n",
    "\n"
   ]
  },
  {
   "cell_type": "code",
   "execution_count": 13,
   "metadata": {},
   "outputs": [],
   "source": [
    "class Machine(object):\n",
    "    def __init__(self, stator, rotor, winding):\n",
    "\n",
    "        self.stator = stator\n",
    "        self.rotor = rotor\n",
    "        self.winding = winding\n",
    "\n",
    "    def __repr__(self) -> str:\n",
    "        return f\"Machine({self.stator}, {self.rotor}, {self.winding})\"\n",
    "    \n",
    "    def to_api(self):\n",
    "        stator_api = [NameQuantityPair(\"stator\",\n",
    "                                        k,\n",
    "                                        Quantity(*self.stator[k].to_tuple())) for k in  self.stator]\n",
    "        rotor_api = [NameQuantityPair(\"rotor\",\n",
    "                                        k,\n",
    "                                        Quantity(*self.rotor[k].to_tuple())) for k in  self.rotor]\n",
    "        winding_api = [NameQuantityPair(\"winding\",\n",
    "                                        k,\n",
    "                                        Quantity(*self.winding[k].to_tuple())) for k in  self.winding]\n",
    "        data = []\n",
    "        data.extend(list(x.to_dict() for x in stator_api))\n",
    "        data.extend(list(x.to_dict() for x in rotor_api))\n",
    "        data.extend(list(x.to_dict() for x in winding_api))\n",
    "        return data\n",
    "        \n",
    "    \n",
    "class Job(object):\n",
    "    def __init__(self, machine: Machine, operating_point, simulation, title=None):\n",
    "        if title is None:\n",
    "            self.title = self.generate_title()\n",
    "        else:\n",
    "            self.title = title\n",
    "        self.type = \"electromagnetic_spmbrl_fscwseg\"\n",
    "        self.status = 0\n",
    "        self.machine = machine\n",
    "        self.operating_point = operating_point\n",
    "        self.simulation = simulation\n",
    "        \n",
    "    def __repr__(self) -> str:\n",
    "        return f\"Job({self.machine}, {self.operating_point}, {self.simulation})\"\n",
    "    \n",
    "    def generate_title(self):\n",
    "        \"gets a random title from the wordlists\"\n",
    "        random_offset = random.randint(500, 286797)\n",
    "        response = requests.get(\"https://github.com/taikuukaits/SimpleWordlists/raw/master/Wordlist-Adjectives-All.txt\",\n",
    "                                headers={'Range': 'bytes={1}-{0}'.format(random_offset, random_offset-500), 'accept-encoding': 'identity'})\n",
    "        adjective = random.choice(response.text.splitlines()[1:-1])\n",
    "        random_offset = random.randint(500, 871742)\n",
    "        response = requests.get(\"https://github.com/taikuukaits/SimpleWordlists/raw/master/Wordlist-Nouns-All.txt\",\n",
    "                                headers={'Range': 'bytes={1}-{0}'.format(random_offset, random_offset-500), 'accept-encoding': 'identity'})\n",
    "        noun = random.choice(response.text.splitlines()[1:-1])\n",
    "        title = f\"{adjective}-{noun}\"\n",
    "        return title \n",
    "\n",
    "    def to_api(self):\n",
    "        job =  {\"status\": 0,\n",
    "                \"title\": self.title,\n",
    "                \"type\": self.type,\n",
    "                \"tasks\": 11,\n",
    "                \"data\": []}\n",
    "        \n",
    "        operating_point_api = [NameQuantityPair(\"operating_point\",\n",
    "                                        k,\n",
    "                                        Quantity(*self.operating_point[k].to_tuple())) for k in  self.operating_point]\n",
    "        \n",
    "        simulation_api = [NameQuantityPair(\"simulation\",\n",
    "                                        k,\n",
    "                                        Quantity(*self.simulation[k].to_tuple())) for k in  self.simulation]\n",
    "        job[\"data\"].extend(list(x.to_dict() for x in operating_point_api))\n",
    "        job[\"data\"].extend(list(x.to_dict() for x in simulation_api))\n",
    "        job[\"data\"].extend(self.machine.to_api())\n",
    "        return job\n",
    "    \n",
    "    def run(self):\n",
    "        pass"
   ]
  },
  {
   "cell_type": "code",
   "execution_count": 14,
   "metadata": {},
   "outputs": [],
   "source": [
    "class Api:\n",
    "    \"\"\"\n",
    "    The TAE User API\n",
    "    \"\"\"\n",
    "\n",
    "    def __init__(self, root_url, api_key, org_id=None):\n",
    "        \"\"\"\n",
    "        Initialize the API\n",
    "        \"\"\"\n",
    "        self._root_url = root_url\n",
    "        self._api_key = api_key\n",
    "        self._org_id = org_id\n",
    "        self._node_id = None\n",
    "\n",
    "        logger.info(f\"root_url: {self._root_url}\")\n",
    "\n",
    "    def get_job(self, job_id):\n",
    "        \"\"\"\n",
    "        Get a job from the TAE API\n",
    "        \"\"\"\n",
    "        response = requests.get(\n",
    "            url=f\"{self._root_url}/jobs/{job_id}?apikey={self._api_key}\",\n",
    "        )\n",
    "        response.raise_for_status()\n",
    "        return response.json()\n",
    "    \n",
    "    def create_job(self, job):\n",
    "        \"\"\"\n",
    "        Create a job for the TAE API\n",
    "        \"\"\"\n",
    "        response = requests.post(\n",
    "            url=f\"{self._root_url}/jobs/?apikey={self._api_key}&org_id={self._org_id}\",\n",
    "            json=job.to_api()\n",
    "        )\n",
    "        response.raise_for_status()\n",
    "        if response.status_code == 200:\n",
    "            job.id = response.json()[\"id\"]\n",
    "        return response.json()\n",
    "    \n",
    "    def update_job_status(self, job_id, status):\n",
    "        \"\"\"\n",
    "        Update a job status\n",
    "        \"\"\"\n",
    "        url = f\"{self._root_url}/jobs/{job_id}/status/{status}?node_id={self._node_id}&apikey={self._api_key}\"\n",
    "        logger.info(f\"Updating job status: {url}\")\n",
    "\n",
    "        response = requests.put(url=url)\n",
    "        return response.json()\n",
    "    \n",
    "    "
   ]
  },
  {
   "cell_type": "code",
   "execution_count": 15,
   "metadata": {},
   "outputs": [
    {
     "name": "stdout",
     "output_type": "stream",
     "text": [
      "2024-02-01 14:37:39,082 - NoJobId - INFO - Kebnekaise - 3503141280.py->__init__() - root_url: https://api.build.tinarmengineering.com\n"
     ]
    }
   ],
   "source": [
    "api = Api(config[\"root_url\"], config[\"api_key\"], config[\"org_id\"])"
   ]
  },
  {
   "cell_type": "code",
   "execution_count": 16,
   "metadata": {},
   "outputs": [
    {
     "name": "stdout",
     "output_type": "stream",
     "text": [
      "jerking (2.0 A/mm², 250.0 deg)\n"
     ]
    }
   ],
   "source": [
    "print('jerking ({current_density:2.4~P}, {current_angle:2.4~P})'.format(**operating_points[0]))"
   ]
  },
  {
   "cell_type": "code",
   "execution_count": 18,
   "metadata": {},
   "outputs": [],
   "source": [
    "m1 = Machine(stator_parameters, rotor_parameters, winding_parameters)\n",
    "\n",
    "auto_title = Job(m1, operating_points[0], simulation_parameters).generate_title()"
   ]
  },
  {
   "cell_type": "code",
   "execution_count": 24,
   "metadata": {},
   "outputs": [
    {
     "data": {
      "text/plain": [
       "'santalaceous-conformist-2.0-A/mm²-250.0-deg'"
      ]
     },
     "execution_count": 24,
     "metadata": {},
     "output_type": "execute_result"
    }
   ],
   "source": [
    "'{title}-{current_density:2.4~P}-{current_angle:2.4~P}'.format(title=auto_title, **operating_points[0]).replace(\" \", \"-\")"
   ]
  },
  {
   "cell_type": "code",
   "execution_count": 25,
   "metadata": {},
   "outputs": [],
   "source": [
    "\n",
    "\n",
    "\n",
    "\n",
    "jobs = [Job(m1, op, simulation_parameters, title='{title}-{current_density:2.4~P}-{current_angle:2.4~P}'.format(title=auto_title, **op).replace(\" \", \"-\")) for op in operating_points]\n",
    "\n",
    "\n",
    "\n",
    "jobs_mapping = map(lambda x: api.create_job(x), jobs)"
   ]
  },
  {
   "cell_type": "code",
   "execution_count": 26,
   "metadata": {},
   "outputs": [],
   "source": [
    "#it is this line that actually creates the jobs\n",
    "jobs_result = list(jobs_mapping)\n"
   ]
  },
  {
   "cell_type": "code",
   "execution_count": 31,
   "metadata": {},
   "outputs": [
    {
     "data": {
      "text/plain": [
       "['Complete',\n",
       " 'Complete',\n",
       " 'Complete',\n",
       " 'Complete',\n",
       " 'Complete',\n",
       " 'PostProcess',\n",
       " 'Complete',\n",
       " 'Complete',\n",
       " 'Complete',\n",
       " 'Complete',\n",
       " 'Complete',\n",
       " 'Complete',\n",
       " 'Complete',\n",
       " 'Complete',\n",
       " 'Complete',\n",
       " 'Complete',\n",
       " 'Complete',\n",
       " 'Complete',\n",
       " 'Complete',\n",
       " 'Complete',\n",
       " 'Complete',\n",
       " 'Complete',\n",
       " 'Complete',\n",
       " 'Complete']"
      ]
     },
     "execution_count": 31,
     "metadata": {},
     "output_type": "execute_result"
    }
   ],
   "source": [
    "[STATUS_JOB[api.get_job(j['id'])['status']] for j in jobs_result if j['id'] !=\"65bb9fd93b76d9083bf872e6\"]"
   ]
  },
  {
   "cell_type": "code",
   "execution_count": 28,
   "metadata": {},
   "outputs": [
    {
     "name": "stdout",
     "output_type": "stream",
     "text": [
      "2024-02-01 14:46:45,763 - NoJobId - INFO - Kebnekaise - 3503141280.py->update_job_status() - Updating job status: https://api.build.tinarmengineering.com/jobs/65bb9fd93b76d9083bf872e6/status/10?node_id=None&apikey=668952058c490d0a296da0abb9660534\n",
      "mongo: no documents in result\n",
      "2024-02-01 14:46:46,080 - NoJobId - INFO - Kebnekaise - 3503141280.py->update_job_status() - Updating job status: https://api.build.tinarmengineering.com/jobs/65bb9fda3b76d9083bf872e7/status/10?node_id=None&apikey=668952058c490d0a296da0abb9660534\n",
      "{'id': '65bb9fda3b76d9083bf872e7', 'owner_org_id': '65a9291658b95253163001ab', 'owner_user_id': '659bf5a7b7135efed48311bd', 'creation_date': '2024-02-01T13:42:50Z', 'status': 10, 'title': 'santalaceous-conformist-4.0-A/mm²-250.0-deg', 'type': 'electromagnetic_spmbrl_fscwseg', 'node_id': 'None', 'data': [{'section': 'operating_point', 'name': 'current_density', 'value': {'magnitude': 4, 'units': [{'name': 'ampere', 'exponent': 1}, {'name': 'millimeter', 'exponent': -2}]}}, {'section': 'operating_point', 'name': 'current_angle', 'value': {'magnitude': 250, 'units': [{'name': 'degree', 'exponent': 1}]}}, {'section': 'operating_point', 'name': 'simulated_speed', 'value': {'magnitude': 2400, 'units': [{'name': 'revolutions_per_minute', 'exponent': 1}]}}, {'section': 'simulation', 'name': 'samples_per_electrical_period', 'value': {'magnitude': 180, 'units': [{'name': 'count', 'exponent': 1}, {'name': 'turn', 'exponent': -1}]}}, {'section': 'simulation', 'name': 'timestep_intervals', 'value': {'magnitude': 180, 'units': [{'name': 'count', 'exponent': 1}]}}, {'section': 'simulation', 'name': 'active_length', 'value': {'magnitude': 65, 'units': [{'name': 'millimeter', 'exponent': 1}]}}, {'section': 'stator', 'name': 'slot_liner_thikness', 'value': {'magnitude': 300, 'units': [{'name': 'micrometer', 'exponent': 1}]}}, {'section': 'stator', 'name': 'stator_bore', 'value': {'magnitude': 8.2, 'units': [{'name': 'centimeter', 'exponent': 1}]}}, {'section': 'stator', 'name': 'tooth_tip_depth', 'value': {'magnitude': 1.5, 'units': [{'name': 'millimeter', 'exponent': 1}]}}, {'section': 'stator', 'name': 'slot_opening', 'value': {'magnitude': 1.5, 'units': [{'name': 'millimeter', 'exponent': 1}]}}, {'section': 'stator', 'name': 'tooth_width', 'value': {'magnitude': 9.8, 'units': [{'name': 'millimeter', 'exponent': 1}]}}, {'section': 'stator', 'name': 'stator_outer_diameter', 'value': {'magnitude': 0.136, 'units': [{'name': 'meter', 'exponent': 1}]}}, {'section': 'stator', 'name': 'back_iron_thickness', 'value': {'magnitude': 5.5, 'units': [{'name': 'millimeter', 'exponent': 1}]}}, {'section': 'stator', 'name': 'stator_internal_radius', 'value': {'magnitude': 500, 'units': [{'name': 'micrometer', 'exponent': 1}]}}, {'section': 'stator', 'name': 'number_slots', 'value': {'magnitude': 12, 'units': [{'name': 'count', 'exponent': 1}]}}, {'section': 'stator', 'name': 'tooth_tip_angle', 'value': {'magnitude': 70, 'units': [{'name': 'degree', 'exponent': 1}]}}, {'section': 'rotor', 'name': 'rotor_od', 'value': {'magnitude': 7.999999999999999, 'units': [{'name': 'centimeter', 'exponent': 1}]}}, {'section': 'rotor', 'name': 'rotor_bore', 'value': {'magnitude': 40, 'units': [{'name': 'millimeter', 'exponent': 1}]}}, {'section': 'rotor', 'name': 'banding_thickness', 'value': {'magnitude': 0.5, 'units': [{'name': 'millimeter', 'exponent': 1}]}}, {'section': 'rotor', 'name': 'number_poles', 'value': {'magnitude': 10, 'units': [{'name': 'count', 'exponent': 1}]}}, {'section': 'rotor', 'name': 'magnet_thickness', 'value': {'magnitude': 4.5, 'units': [{'name': 'millimeter', 'exponent': 1}]}}, {'section': 'rotor', 'name': 'magnet_pole_arc', 'value': {'magnitude': 150, 'units': [{'name': 'degree', 'exponent': 1}]}}, {'section': 'rotor', 'name': 'magnet_inset', 'value': {'magnitude': 0.25, 'units': [{'name': 'millimeter', 'exponent': 1}]}}, {'section': 'winding', 'name': 'symmetry', 'value': {'magnitude': 2, 'units': [{'name': 'count', 'exponent': 1}]}}, {'section': 'winding', 'name': 'number_phases', 'value': {'magnitude': 3, 'units': [{'name': 'count', 'exponent': 1}]}}, {'section': 'winding', 'name': 'number_layers', 'value': {'magnitude': 2, 'units': [{'name': 'count', 'exponent': 1}]}}, {'section': 'winding', 'name': 'coil_span', 'value': {'magnitude': 1, 'units': [{'name': 'count', 'exponent': 1}]}}, {'section': 'winding', 'name': 'turns_per_coil', 'value': {'magnitude': 43, 'units': [{'name': 'count', 'exponent': 1}]}}, {'section': 'winding', 'name': 'empty_slots', 'value': {'magnitude': 0, 'units': [{'name': 'count', 'exponent': 1}]}}, {'section': 'winding', 'name': 'fill_factor', 'value': {'magnitude': 42, 'units': [{'name': 'percent', 'exponent': 1}]}}]}\n",
      "2024-02-01 14:46:46,397 - NoJobId - INFO - Kebnekaise - 3503141280.py->update_job_status() - Updating job status: https://api.build.tinarmengineering.com/jobs/65bb9fda3b76d9083bf872e8/status/10?node_id=None&apikey=668952058c490d0a296da0abb9660534\n",
      "{'id': '65bb9fda3b76d9083bf872e8', 'owner_org_id': '65a9291658b95253163001ab', 'owner_user_id': '659bf5a7b7135efed48311bd', 'creation_date': '2024-02-01T13:42:50Z', 'status': 10, 'title': 'santalaceous-conformist-6.0-A/mm²-250.0-deg', 'type': 'electromagnetic_spmbrl_fscwseg', 'node_id': 'None', 'data': [{'section': 'operating_point', 'name': 'current_density', 'value': {'magnitude': 6, 'units': [{'name': 'ampere', 'exponent': 1}, {'name': 'millimeter', 'exponent': -2}]}}, {'section': 'operating_point', 'name': 'current_angle', 'value': {'magnitude': 250, 'units': [{'name': 'degree', 'exponent': 1}]}}, {'section': 'operating_point', 'name': 'simulated_speed', 'value': {'magnitude': 2400, 'units': [{'name': 'revolutions_per_minute', 'exponent': 1}]}}, {'section': 'simulation', 'name': 'samples_per_electrical_period', 'value': {'magnitude': 180, 'units': [{'name': 'count', 'exponent': 1}, {'name': 'turn', 'exponent': -1}]}}, {'section': 'simulation', 'name': 'timestep_intervals', 'value': {'magnitude': 180, 'units': [{'name': 'count', 'exponent': 1}]}}, {'section': 'simulation', 'name': 'active_length', 'value': {'magnitude': 65, 'units': [{'name': 'millimeter', 'exponent': 1}]}}, {'section': 'stator', 'name': 'slot_liner_thikness', 'value': {'magnitude': 300, 'units': [{'name': 'micrometer', 'exponent': 1}]}}, {'section': 'stator', 'name': 'stator_bore', 'value': {'magnitude': 8.2, 'units': [{'name': 'centimeter', 'exponent': 1}]}}, {'section': 'stator', 'name': 'tooth_tip_depth', 'value': {'magnitude': 1.5, 'units': [{'name': 'millimeter', 'exponent': 1}]}}, {'section': 'stator', 'name': 'slot_opening', 'value': {'magnitude': 1.5, 'units': [{'name': 'millimeter', 'exponent': 1}]}}, {'section': 'stator', 'name': 'tooth_width', 'value': {'magnitude': 9.8, 'units': [{'name': 'millimeter', 'exponent': 1}]}}, {'section': 'stator', 'name': 'stator_outer_diameter', 'value': {'magnitude': 0.136, 'units': [{'name': 'meter', 'exponent': 1}]}}, {'section': 'stator', 'name': 'back_iron_thickness', 'value': {'magnitude': 5.5, 'units': [{'name': 'millimeter', 'exponent': 1}]}}, {'section': 'stator', 'name': 'stator_internal_radius', 'value': {'magnitude': 500, 'units': [{'name': 'micrometer', 'exponent': 1}]}}, {'section': 'stator', 'name': 'number_slots', 'value': {'magnitude': 12, 'units': [{'name': 'count', 'exponent': 1}]}}, {'section': 'stator', 'name': 'tooth_tip_angle', 'value': {'magnitude': 70, 'units': [{'name': 'degree', 'exponent': 1}]}}, {'section': 'rotor', 'name': 'rotor_od', 'value': {'magnitude': 7.999999999999999, 'units': [{'name': 'centimeter', 'exponent': 1}]}}, {'section': 'rotor', 'name': 'rotor_bore', 'value': {'magnitude': 40, 'units': [{'name': 'millimeter', 'exponent': 1}]}}, {'section': 'rotor', 'name': 'banding_thickness', 'value': {'magnitude': 0.5, 'units': [{'name': 'millimeter', 'exponent': 1}]}}, {'section': 'rotor', 'name': 'number_poles', 'value': {'magnitude': 10, 'units': [{'name': 'count', 'exponent': 1}]}}, {'section': 'rotor', 'name': 'magnet_thickness', 'value': {'magnitude': 4.5, 'units': [{'name': 'millimeter', 'exponent': 1}]}}, {'section': 'rotor', 'name': 'magnet_pole_arc', 'value': {'magnitude': 150, 'units': [{'name': 'degree', 'exponent': 1}]}}, {'section': 'rotor', 'name': 'magnet_inset', 'value': {'magnitude': 0.25, 'units': [{'name': 'millimeter', 'exponent': 1}]}}, {'section': 'winding', 'name': 'symmetry', 'value': {'magnitude': 2, 'units': [{'name': 'count', 'exponent': 1}]}}, {'section': 'winding', 'name': 'number_phases', 'value': {'magnitude': 3, 'units': [{'name': 'count', 'exponent': 1}]}}, {'section': 'winding', 'name': 'number_layers', 'value': {'magnitude': 2, 'units': [{'name': 'count', 'exponent': 1}]}}, {'section': 'winding', 'name': 'coil_span', 'value': {'magnitude': 1, 'units': [{'name': 'count', 'exponent': 1}]}}, {'section': 'winding', 'name': 'turns_per_coil', 'value': {'magnitude': 43, 'units': [{'name': 'count', 'exponent': 1}]}}, {'section': 'winding', 'name': 'empty_slots', 'value': {'magnitude': 0, 'units': [{'name': 'count', 'exponent': 1}]}}, {'section': 'winding', 'name': 'fill_factor', 'value': {'magnitude': 42, 'units': [{'name': 'percent', 'exponent': 1}]}}]}\n",
      "2024-02-01 14:46:46,721 - NoJobId - INFO - Kebnekaise - 3503141280.py->update_job_status() - Updating job status: https://api.build.tinarmengineering.com/jobs/65bb9fda3b76d9083bf872e9/status/10?node_id=None&apikey=668952058c490d0a296da0abb9660534\n",
      "{'id': '65bb9fda3b76d9083bf872e9', 'owner_org_id': '65a9291658b95253163001ab', 'owner_user_id': '659bf5a7b7135efed48311bd', 'creation_date': '2024-02-01T13:42:50Z', 'status': 10, 'title': 'santalaceous-conformist-8.0-A/mm²-250.0-deg', 'type': 'electromagnetic_spmbrl_fscwseg', 'node_id': 'None', 'data': [{'section': 'operating_point', 'name': 'current_density', 'value': {'magnitude': 8, 'units': [{'name': 'ampere', 'exponent': 1}, {'name': 'millimeter', 'exponent': -2}]}}, {'section': 'operating_point', 'name': 'current_angle', 'value': {'magnitude': 250, 'units': [{'name': 'degree', 'exponent': 1}]}}, {'section': 'operating_point', 'name': 'simulated_speed', 'value': {'magnitude': 2400, 'units': [{'name': 'revolutions_per_minute', 'exponent': 1}]}}, {'section': 'simulation', 'name': 'samples_per_electrical_period', 'value': {'magnitude': 180, 'units': [{'name': 'count', 'exponent': 1}, {'name': 'turn', 'exponent': -1}]}}, {'section': 'simulation', 'name': 'timestep_intervals', 'value': {'magnitude': 180, 'units': [{'name': 'count', 'exponent': 1}]}}, {'section': 'simulation', 'name': 'active_length', 'value': {'magnitude': 65, 'units': [{'name': 'millimeter', 'exponent': 1}]}}, {'section': 'stator', 'name': 'slot_liner_thikness', 'value': {'magnitude': 300, 'units': [{'name': 'micrometer', 'exponent': 1}]}}, {'section': 'stator', 'name': 'stator_bore', 'value': {'magnitude': 8.2, 'units': [{'name': 'centimeter', 'exponent': 1}]}}, {'section': 'stator', 'name': 'tooth_tip_depth', 'value': {'magnitude': 1.5, 'units': [{'name': 'millimeter', 'exponent': 1}]}}, {'section': 'stator', 'name': 'slot_opening', 'value': {'magnitude': 1.5, 'units': [{'name': 'millimeter', 'exponent': 1}]}}, {'section': 'stator', 'name': 'tooth_width', 'value': {'magnitude': 9.8, 'units': [{'name': 'millimeter', 'exponent': 1}]}}, {'section': 'stator', 'name': 'stator_outer_diameter', 'value': {'magnitude': 0.136, 'units': [{'name': 'meter', 'exponent': 1}]}}, {'section': 'stator', 'name': 'back_iron_thickness', 'value': {'magnitude': 5.5, 'units': [{'name': 'millimeter', 'exponent': 1}]}}, {'section': 'stator', 'name': 'stator_internal_radius', 'value': {'magnitude': 500, 'units': [{'name': 'micrometer', 'exponent': 1}]}}, {'section': 'stator', 'name': 'number_slots', 'value': {'magnitude': 12, 'units': [{'name': 'count', 'exponent': 1}]}}, {'section': 'stator', 'name': 'tooth_tip_angle', 'value': {'magnitude': 70, 'units': [{'name': 'degree', 'exponent': 1}]}}, {'section': 'rotor', 'name': 'rotor_od', 'value': {'magnitude': 7.999999999999999, 'units': [{'name': 'centimeter', 'exponent': 1}]}}, {'section': 'rotor', 'name': 'rotor_bore', 'value': {'magnitude': 40, 'units': [{'name': 'millimeter', 'exponent': 1}]}}, {'section': 'rotor', 'name': 'banding_thickness', 'value': {'magnitude': 0.5, 'units': [{'name': 'millimeter', 'exponent': 1}]}}, {'section': 'rotor', 'name': 'number_poles', 'value': {'magnitude': 10, 'units': [{'name': 'count', 'exponent': 1}]}}, {'section': 'rotor', 'name': 'magnet_thickness', 'value': {'magnitude': 4.5, 'units': [{'name': 'millimeter', 'exponent': 1}]}}, {'section': 'rotor', 'name': 'magnet_pole_arc', 'value': {'magnitude': 150, 'units': [{'name': 'degree', 'exponent': 1}]}}, {'section': 'rotor', 'name': 'magnet_inset', 'value': {'magnitude': 0.25, 'units': [{'name': 'millimeter', 'exponent': 1}]}}, {'section': 'winding', 'name': 'symmetry', 'value': {'magnitude': 2, 'units': [{'name': 'count', 'exponent': 1}]}}, {'section': 'winding', 'name': 'number_phases', 'value': {'magnitude': 3, 'units': [{'name': 'count', 'exponent': 1}]}}, {'section': 'winding', 'name': 'number_layers', 'value': {'magnitude': 2, 'units': [{'name': 'count', 'exponent': 1}]}}, {'section': 'winding', 'name': 'coil_span', 'value': {'magnitude': 1, 'units': [{'name': 'count', 'exponent': 1}]}}, {'section': 'winding', 'name': 'turns_per_coil', 'value': {'magnitude': 43, 'units': [{'name': 'count', 'exponent': 1}]}}, {'section': 'winding', 'name': 'empty_slots', 'value': {'magnitude': 0, 'units': [{'name': 'count', 'exponent': 1}]}}, {'section': 'winding', 'name': 'fill_factor', 'value': {'magnitude': 42, 'units': [{'name': 'percent', 'exponent': 1}]}}]}\n",
      "2024-02-01 14:46:47,605 - NoJobId - INFO - Kebnekaise - 3503141280.py->update_job_status() - Updating job status: https://api.build.tinarmengineering.com/jobs/65bb9fdb3b76d9083bf872ea/status/10?node_id=None&apikey=668952058c490d0a296da0abb9660534\n",
      "{'id': '65bb9fdb3b76d9083bf872ea', 'owner_org_id': '65a9291658b95253163001ab', 'owner_user_id': '659bf5a7b7135efed48311bd', 'creation_date': '2024-02-01T13:42:51Z', 'status': 10, 'title': 'santalaceous-conformist-10.0-A/mm²-250.0-deg', 'type': 'electromagnetic_spmbrl_fscwseg', 'node_id': 'None', 'data': [{'section': 'operating_point', 'name': 'current_density', 'value': {'magnitude': 10, 'units': [{'name': 'ampere', 'exponent': 1}, {'name': 'millimeter', 'exponent': -2}]}}, {'section': 'operating_point', 'name': 'current_angle', 'value': {'magnitude': 250, 'units': [{'name': 'degree', 'exponent': 1}]}}, {'section': 'operating_point', 'name': 'simulated_speed', 'value': {'magnitude': 2400, 'units': [{'name': 'revolutions_per_minute', 'exponent': 1}]}}, {'section': 'simulation', 'name': 'samples_per_electrical_period', 'value': {'magnitude': 180, 'units': [{'name': 'count', 'exponent': 1}, {'name': 'turn', 'exponent': -1}]}}, {'section': 'simulation', 'name': 'timestep_intervals', 'value': {'magnitude': 180, 'units': [{'name': 'count', 'exponent': 1}]}}, {'section': 'simulation', 'name': 'active_length', 'value': {'magnitude': 65, 'units': [{'name': 'millimeter', 'exponent': 1}]}}, {'section': 'stator', 'name': 'slot_liner_thikness', 'value': {'magnitude': 300, 'units': [{'name': 'micrometer', 'exponent': 1}]}}, {'section': 'stator', 'name': 'stator_bore', 'value': {'magnitude': 8.2, 'units': [{'name': 'centimeter', 'exponent': 1}]}}, {'section': 'stator', 'name': 'tooth_tip_depth', 'value': {'magnitude': 1.5, 'units': [{'name': 'millimeter', 'exponent': 1}]}}, {'section': 'stator', 'name': 'slot_opening', 'value': {'magnitude': 1.5, 'units': [{'name': 'millimeter', 'exponent': 1}]}}, {'section': 'stator', 'name': 'tooth_width', 'value': {'magnitude': 9.8, 'units': [{'name': 'millimeter', 'exponent': 1}]}}, {'section': 'stator', 'name': 'stator_outer_diameter', 'value': {'magnitude': 0.136, 'units': [{'name': 'meter', 'exponent': 1}]}}, {'section': 'stator', 'name': 'back_iron_thickness', 'value': {'magnitude': 5.5, 'units': [{'name': 'millimeter', 'exponent': 1}]}}, {'section': 'stator', 'name': 'stator_internal_radius', 'value': {'magnitude': 500, 'units': [{'name': 'micrometer', 'exponent': 1}]}}, {'section': 'stator', 'name': 'number_slots', 'value': {'magnitude': 12, 'units': [{'name': 'count', 'exponent': 1}]}}, {'section': 'stator', 'name': 'tooth_tip_angle', 'value': {'magnitude': 70, 'units': [{'name': 'degree', 'exponent': 1}]}}, {'section': 'rotor', 'name': 'rotor_od', 'value': {'magnitude': 7.999999999999999, 'units': [{'name': 'centimeter', 'exponent': 1}]}}, {'section': 'rotor', 'name': 'rotor_bore', 'value': {'magnitude': 40, 'units': [{'name': 'millimeter', 'exponent': 1}]}}, {'section': 'rotor', 'name': 'banding_thickness', 'value': {'magnitude': 0.5, 'units': [{'name': 'millimeter', 'exponent': 1}]}}, {'section': 'rotor', 'name': 'number_poles', 'value': {'magnitude': 10, 'units': [{'name': 'count', 'exponent': 1}]}}, {'section': 'rotor', 'name': 'magnet_thickness', 'value': {'magnitude': 4.5, 'units': [{'name': 'millimeter', 'exponent': 1}]}}, {'section': 'rotor', 'name': 'magnet_pole_arc', 'value': {'magnitude': 150, 'units': [{'name': 'degree', 'exponent': 1}]}}, {'section': 'rotor', 'name': 'magnet_inset', 'value': {'magnitude': 0.25, 'units': [{'name': 'millimeter', 'exponent': 1}]}}, {'section': 'winding', 'name': 'symmetry', 'value': {'magnitude': 2, 'units': [{'name': 'count', 'exponent': 1}]}}, {'section': 'winding', 'name': 'number_phases', 'value': {'magnitude': 3, 'units': [{'name': 'count', 'exponent': 1}]}}, {'section': 'winding', 'name': 'number_layers', 'value': {'magnitude': 2, 'units': [{'name': 'count', 'exponent': 1}]}}, {'section': 'winding', 'name': 'coil_span', 'value': {'magnitude': 1, 'units': [{'name': 'count', 'exponent': 1}]}}, {'section': 'winding', 'name': 'turns_per_coil', 'value': {'magnitude': 43, 'units': [{'name': 'count', 'exponent': 1}]}}, {'section': 'winding', 'name': 'empty_slots', 'value': {'magnitude': 0, 'units': [{'name': 'count', 'exponent': 1}]}}, {'section': 'winding', 'name': 'fill_factor', 'value': {'magnitude': 42, 'units': [{'name': 'percent', 'exponent': 1}]}}]}\n",
      "2024-02-01 14:46:48,421 - NoJobId - INFO - Kebnekaise - 3503141280.py->update_job_status() - Updating job status: https://api.build.tinarmengineering.com/jobs/65bb9fdb3b76d9083bf872eb/status/10?node_id=None&apikey=668952058c490d0a296da0abb9660534\n",
      "{'id': '65bb9fdb3b76d9083bf872eb', 'owner_org_id': '65a9291658b95253163001ab', 'owner_user_id': '659bf5a7b7135efed48311bd', 'creation_date': '2024-02-01T13:42:51Z', 'status': 10, 'title': 'santalaceous-conformist-2.0-A/mm²-261.2-deg', 'type': 'electromagnetic_spmbrl_fscwseg', 'node_id': 'None', 'data': [{'section': 'operating_point', 'name': 'current_density', 'value': {'magnitude': 2, 'units': [{'name': 'ampere', 'exponent': 1}, {'name': 'millimeter', 'exponent': -2}]}}, {'section': 'operating_point', 'name': 'current_angle', 'value': {'magnitude': 261.25, 'units': [{'name': 'degree', 'exponent': 1}]}}, {'section': 'operating_point', 'name': 'simulated_speed', 'value': {'magnitude': 2400, 'units': [{'name': 'revolutions_per_minute', 'exponent': 1}]}}, {'section': 'simulation', 'name': 'samples_per_electrical_period', 'value': {'magnitude': 180, 'units': [{'name': 'count', 'exponent': 1}, {'name': 'turn', 'exponent': -1}]}}, {'section': 'simulation', 'name': 'timestep_intervals', 'value': {'magnitude': 180, 'units': [{'name': 'count', 'exponent': 1}]}}, {'section': 'simulation', 'name': 'active_length', 'value': {'magnitude': 65, 'units': [{'name': 'millimeter', 'exponent': 1}]}}, {'section': 'stator', 'name': 'slot_liner_thikness', 'value': {'magnitude': 300, 'units': [{'name': 'micrometer', 'exponent': 1}]}}, {'section': 'stator', 'name': 'stator_bore', 'value': {'magnitude': 8.2, 'units': [{'name': 'centimeter', 'exponent': 1}]}}, {'section': 'stator', 'name': 'tooth_tip_depth', 'value': {'magnitude': 1.5, 'units': [{'name': 'millimeter', 'exponent': 1}]}}, {'section': 'stator', 'name': 'slot_opening', 'value': {'magnitude': 1.5, 'units': [{'name': 'millimeter', 'exponent': 1}]}}, {'section': 'stator', 'name': 'tooth_width', 'value': {'magnitude': 9.8, 'units': [{'name': 'millimeter', 'exponent': 1}]}}, {'section': 'stator', 'name': 'stator_outer_diameter', 'value': {'magnitude': 0.136, 'units': [{'name': 'meter', 'exponent': 1}]}}, {'section': 'stator', 'name': 'back_iron_thickness', 'value': {'magnitude': 5.5, 'units': [{'name': 'millimeter', 'exponent': 1}]}}, {'section': 'stator', 'name': 'stator_internal_radius', 'value': {'magnitude': 500, 'units': [{'name': 'micrometer', 'exponent': 1}]}}, {'section': 'stator', 'name': 'number_slots', 'value': {'magnitude': 12, 'units': [{'name': 'count', 'exponent': 1}]}}, {'section': 'stator', 'name': 'tooth_tip_angle', 'value': {'magnitude': 70, 'units': [{'name': 'degree', 'exponent': 1}]}}, {'section': 'rotor', 'name': 'rotor_od', 'value': {'magnitude': 7.999999999999999, 'units': [{'name': 'centimeter', 'exponent': 1}]}}, {'section': 'rotor', 'name': 'rotor_bore', 'value': {'magnitude': 40, 'units': [{'name': 'millimeter', 'exponent': 1}]}}, {'section': 'rotor', 'name': 'banding_thickness', 'value': {'magnitude': 0.5, 'units': [{'name': 'millimeter', 'exponent': 1}]}}, {'section': 'rotor', 'name': 'number_poles', 'value': {'magnitude': 10, 'units': [{'name': 'count', 'exponent': 1}]}}, {'section': 'rotor', 'name': 'magnet_thickness', 'value': {'magnitude': 4.5, 'units': [{'name': 'millimeter', 'exponent': 1}]}}, {'section': 'rotor', 'name': 'magnet_pole_arc', 'value': {'magnitude': 150, 'units': [{'name': 'degree', 'exponent': 1}]}}, {'section': 'rotor', 'name': 'magnet_inset', 'value': {'magnitude': 0.25, 'units': [{'name': 'millimeter', 'exponent': 1}]}}, {'section': 'winding', 'name': 'symmetry', 'value': {'magnitude': 2, 'units': [{'name': 'count', 'exponent': 1}]}}, {'section': 'winding', 'name': 'number_phases', 'value': {'magnitude': 3, 'units': [{'name': 'count', 'exponent': 1}]}}, {'section': 'winding', 'name': 'number_layers', 'value': {'magnitude': 2, 'units': [{'name': 'count', 'exponent': 1}]}}, {'section': 'winding', 'name': 'coil_span', 'value': {'magnitude': 1, 'units': [{'name': 'count', 'exponent': 1}]}}, {'section': 'winding', 'name': 'turns_per_coil', 'value': {'magnitude': 43, 'units': [{'name': 'count', 'exponent': 1}]}}, {'section': 'winding', 'name': 'empty_slots', 'value': {'magnitude': 0, 'units': [{'name': 'count', 'exponent': 1}]}}, {'section': 'winding', 'name': 'fill_factor', 'value': {'magnitude': 42, 'units': [{'name': 'percent', 'exponent': 1}]}}]}\n",
      "2024-02-01 14:46:48,765 - NoJobId - INFO - Kebnekaise - 3503141280.py->update_job_status() - Updating job status: https://api.build.tinarmengineering.com/jobs/65bb9fdc3b76d9083bf872ec/status/10?node_id=None&apikey=668952058c490d0a296da0abb9660534\n",
      "{'id': '65bb9fdc3b76d9083bf872ec', 'owner_org_id': '65a9291658b95253163001ab', 'owner_user_id': '659bf5a7b7135efed48311bd', 'creation_date': '2024-02-01T13:42:52Z', 'status': 10, 'title': 'santalaceous-conformist-4.0-A/mm²-261.2-deg', 'type': 'electromagnetic_spmbrl_fscwseg', 'node_id': 'None', 'data': [{'section': 'operating_point', 'name': 'current_density', 'value': {'magnitude': 4, 'units': [{'name': 'ampere', 'exponent': 1}, {'name': 'millimeter', 'exponent': -2}]}}, {'section': 'operating_point', 'name': 'current_angle', 'value': {'magnitude': 261.25, 'units': [{'name': 'degree', 'exponent': 1}]}}, {'section': 'operating_point', 'name': 'simulated_speed', 'value': {'magnitude': 2400, 'units': [{'name': 'revolutions_per_minute', 'exponent': 1}]}}, {'section': 'simulation', 'name': 'samples_per_electrical_period', 'value': {'magnitude': 180, 'units': [{'name': 'count', 'exponent': 1}, {'name': 'turn', 'exponent': -1}]}}, {'section': 'simulation', 'name': 'timestep_intervals', 'value': {'magnitude': 180, 'units': [{'name': 'count', 'exponent': 1}]}}, {'section': 'simulation', 'name': 'active_length', 'value': {'magnitude': 65, 'units': [{'name': 'millimeter', 'exponent': 1}]}}, {'section': 'stator', 'name': 'slot_liner_thikness', 'value': {'magnitude': 300, 'units': [{'name': 'micrometer', 'exponent': 1}]}}, {'section': 'stator', 'name': 'stator_bore', 'value': {'magnitude': 8.2, 'units': [{'name': 'centimeter', 'exponent': 1}]}}, {'section': 'stator', 'name': 'tooth_tip_depth', 'value': {'magnitude': 1.5, 'units': [{'name': 'millimeter', 'exponent': 1}]}}, {'section': 'stator', 'name': 'slot_opening', 'value': {'magnitude': 1.5, 'units': [{'name': 'millimeter', 'exponent': 1}]}}, {'section': 'stator', 'name': 'tooth_width', 'value': {'magnitude': 9.8, 'units': [{'name': 'millimeter', 'exponent': 1}]}}, {'section': 'stator', 'name': 'stator_outer_diameter', 'value': {'magnitude': 0.136, 'units': [{'name': 'meter', 'exponent': 1}]}}, {'section': 'stator', 'name': 'back_iron_thickness', 'value': {'magnitude': 5.5, 'units': [{'name': 'millimeter', 'exponent': 1}]}}, {'section': 'stator', 'name': 'stator_internal_radius', 'value': {'magnitude': 500, 'units': [{'name': 'micrometer', 'exponent': 1}]}}, {'section': 'stator', 'name': 'number_slots', 'value': {'magnitude': 12, 'units': [{'name': 'count', 'exponent': 1}]}}, {'section': 'stator', 'name': 'tooth_tip_angle', 'value': {'magnitude': 70, 'units': [{'name': 'degree', 'exponent': 1}]}}, {'section': 'rotor', 'name': 'rotor_od', 'value': {'magnitude': 7.999999999999999, 'units': [{'name': 'centimeter', 'exponent': 1}]}}, {'section': 'rotor', 'name': 'rotor_bore', 'value': {'magnitude': 40, 'units': [{'name': 'millimeter', 'exponent': 1}]}}, {'section': 'rotor', 'name': 'banding_thickness', 'value': {'magnitude': 0.5, 'units': [{'name': 'millimeter', 'exponent': 1}]}}, {'section': 'rotor', 'name': 'number_poles', 'value': {'magnitude': 10, 'units': [{'name': 'count', 'exponent': 1}]}}, {'section': 'rotor', 'name': 'magnet_thickness', 'value': {'magnitude': 4.5, 'units': [{'name': 'millimeter', 'exponent': 1}]}}, {'section': 'rotor', 'name': 'magnet_pole_arc', 'value': {'magnitude': 150, 'units': [{'name': 'degree', 'exponent': 1}]}}, {'section': 'rotor', 'name': 'magnet_inset', 'value': {'magnitude': 0.25, 'units': [{'name': 'millimeter', 'exponent': 1}]}}, {'section': 'winding', 'name': 'symmetry', 'value': {'magnitude': 2, 'units': [{'name': 'count', 'exponent': 1}]}}, {'section': 'winding', 'name': 'number_phases', 'value': {'magnitude': 3, 'units': [{'name': 'count', 'exponent': 1}]}}, {'section': 'winding', 'name': 'number_layers', 'value': {'magnitude': 2, 'units': [{'name': 'count', 'exponent': 1}]}}, {'section': 'winding', 'name': 'coil_span', 'value': {'magnitude': 1, 'units': [{'name': 'count', 'exponent': 1}]}}, {'section': 'winding', 'name': 'turns_per_coil', 'value': {'magnitude': 43, 'units': [{'name': 'count', 'exponent': 1}]}}, {'section': 'winding', 'name': 'empty_slots', 'value': {'magnitude': 0, 'units': [{'name': 'count', 'exponent': 1}]}}, {'section': 'winding', 'name': 'fill_factor', 'value': {'magnitude': 42, 'units': [{'name': 'percent', 'exponent': 1}]}}]}\n",
      "2024-02-01 14:46:49,225 - NoJobId - INFO - Kebnekaise - 3503141280.py->update_job_status() - Updating job status: https://api.build.tinarmengineering.com/jobs/65bb9fdc3b76d9083bf872ed/status/10?node_id=None&apikey=668952058c490d0a296da0abb9660534\n",
      "{'id': '65bb9fdc3b76d9083bf872ed', 'owner_org_id': '65a9291658b95253163001ab', 'owner_user_id': '659bf5a7b7135efed48311bd', 'creation_date': '2024-02-01T13:42:52Z', 'status': 10, 'title': 'santalaceous-conformist-6.0-A/mm²-261.2-deg', 'type': 'electromagnetic_spmbrl_fscwseg', 'node_id': 'None', 'data': [{'section': 'operating_point', 'name': 'current_density', 'value': {'magnitude': 6, 'units': [{'name': 'ampere', 'exponent': 1}, {'name': 'millimeter', 'exponent': -2}]}}, {'section': 'operating_point', 'name': 'current_angle', 'value': {'magnitude': 261.25, 'units': [{'name': 'degree', 'exponent': 1}]}}, {'section': 'operating_point', 'name': 'simulated_speed', 'value': {'magnitude': 2400, 'units': [{'name': 'revolutions_per_minute', 'exponent': 1}]}}, {'section': 'simulation', 'name': 'samples_per_electrical_period', 'value': {'magnitude': 180, 'units': [{'name': 'count', 'exponent': 1}, {'name': 'turn', 'exponent': -1}]}}, {'section': 'simulation', 'name': 'timestep_intervals', 'value': {'magnitude': 180, 'units': [{'name': 'count', 'exponent': 1}]}}, {'section': 'simulation', 'name': 'active_length', 'value': {'magnitude': 65, 'units': [{'name': 'millimeter', 'exponent': 1}]}}, {'section': 'stator', 'name': 'slot_liner_thikness', 'value': {'magnitude': 300, 'units': [{'name': 'micrometer', 'exponent': 1}]}}, {'section': 'stator', 'name': 'stator_bore', 'value': {'magnitude': 8.2, 'units': [{'name': 'centimeter', 'exponent': 1}]}}, {'section': 'stator', 'name': 'tooth_tip_depth', 'value': {'magnitude': 1.5, 'units': [{'name': 'millimeter', 'exponent': 1}]}}, {'section': 'stator', 'name': 'slot_opening', 'value': {'magnitude': 1.5, 'units': [{'name': 'millimeter', 'exponent': 1}]}}, {'section': 'stator', 'name': 'tooth_width', 'value': {'magnitude': 9.8, 'units': [{'name': 'millimeter', 'exponent': 1}]}}, {'section': 'stator', 'name': 'stator_outer_diameter', 'value': {'magnitude': 0.136, 'units': [{'name': 'meter', 'exponent': 1}]}}, {'section': 'stator', 'name': 'back_iron_thickness', 'value': {'magnitude': 5.5, 'units': [{'name': 'millimeter', 'exponent': 1}]}}, {'section': 'stator', 'name': 'stator_internal_radius', 'value': {'magnitude': 500, 'units': [{'name': 'micrometer', 'exponent': 1}]}}, {'section': 'stator', 'name': 'number_slots', 'value': {'magnitude': 12, 'units': [{'name': 'count', 'exponent': 1}]}}, {'section': 'stator', 'name': 'tooth_tip_angle', 'value': {'magnitude': 70, 'units': [{'name': 'degree', 'exponent': 1}]}}, {'section': 'rotor', 'name': 'rotor_od', 'value': {'magnitude': 7.999999999999999, 'units': [{'name': 'centimeter', 'exponent': 1}]}}, {'section': 'rotor', 'name': 'rotor_bore', 'value': {'magnitude': 40, 'units': [{'name': 'millimeter', 'exponent': 1}]}}, {'section': 'rotor', 'name': 'banding_thickness', 'value': {'magnitude': 0.5, 'units': [{'name': 'millimeter', 'exponent': 1}]}}, {'section': 'rotor', 'name': 'number_poles', 'value': {'magnitude': 10, 'units': [{'name': 'count', 'exponent': 1}]}}, {'section': 'rotor', 'name': 'magnet_thickness', 'value': {'magnitude': 4.5, 'units': [{'name': 'millimeter', 'exponent': 1}]}}, {'section': 'rotor', 'name': 'magnet_pole_arc', 'value': {'magnitude': 150, 'units': [{'name': 'degree', 'exponent': 1}]}}, {'section': 'rotor', 'name': 'magnet_inset', 'value': {'magnitude': 0.25, 'units': [{'name': 'millimeter', 'exponent': 1}]}}, {'section': 'winding', 'name': 'symmetry', 'value': {'magnitude': 2, 'units': [{'name': 'count', 'exponent': 1}]}}, {'section': 'winding', 'name': 'number_phases', 'value': {'magnitude': 3, 'units': [{'name': 'count', 'exponent': 1}]}}, {'section': 'winding', 'name': 'number_layers', 'value': {'magnitude': 2, 'units': [{'name': 'count', 'exponent': 1}]}}, {'section': 'winding', 'name': 'coil_span', 'value': {'magnitude': 1, 'units': [{'name': 'count', 'exponent': 1}]}}, {'section': 'winding', 'name': 'turns_per_coil', 'value': {'magnitude': 43, 'units': [{'name': 'count', 'exponent': 1}]}}, {'section': 'winding', 'name': 'empty_slots', 'value': {'magnitude': 0, 'units': [{'name': 'count', 'exponent': 1}]}}, {'section': 'winding', 'name': 'fill_factor', 'value': {'magnitude': 42, 'units': [{'name': 'percent', 'exponent': 1}]}}]}\n",
      "2024-02-01 14:46:49,597 - NoJobId - INFO - Kebnekaise - 3503141280.py->update_job_status() - Updating job status: https://api.build.tinarmengineering.com/jobs/65bb9fdc3b76d9083bf872ee/status/10?node_id=None&apikey=668952058c490d0a296da0abb9660534\n",
      "{'id': '65bb9fdc3b76d9083bf872ee', 'owner_org_id': '65a9291658b95253163001ab', 'owner_user_id': '659bf5a7b7135efed48311bd', 'creation_date': '2024-02-01T13:42:52Z', 'status': 10, 'title': 'santalaceous-conformist-8.0-A/mm²-261.2-deg', 'type': 'electromagnetic_spmbrl_fscwseg', 'node_id': 'None', 'data': [{'section': 'operating_point', 'name': 'current_density', 'value': {'magnitude': 8, 'units': [{'name': 'ampere', 'exponent': 1}, {'name': 'millimeter', 'exponent': -2}]}}, {'section': 'operating_point', 'name': 'current_angle', 'value': {'magnitude': 261.25, 'units': [{'name': 'degree', 'exponent': 1}]}}, {'section': 'operating_point', 'name': 'simulated_speed', 'value': {'magnitude': 2400, 'units': [{'name': 'revolutions_per_minute', 'exponent': 1}]}}, {'section': 'simulation', 'name': 'samples_per_electrical_period', 'value': {'magnitude': 180, 'units': [{'name': 'count', 'exponent': 1}, {'name': 'turn', 'exponent': -1}]}}, {'section': 'simulation', 'name': 'timestep_intervals', 'value': {'magnitude': 180, 'units': [{'name': 'count', 'exponent': 1}]}}, {'section': 'simulation', 'name': 'active_length', 'value': {'magnitude': 65, 'units': [{'name': 'millimeter', 'exponent': 1}]}}, {'section': 'stator', 'name': 'slot_liner_thikness', 'value': {'magnitude': 300, 'units': [{'name': 'micrometer', 'exponent': 1}]}}, {'section': 'stator', 'name': 'stator_bore', 'value': {'magnitude': 8.2, 'units': [{'name': 'centimeter', 'exponent': 1}]}}, {'section': 'stator', 'name': 'tooth_tip_depth', 'value': {'magnitude': 1.5, 'units': [{'name': 'millimeter', 'exponent': 1}]}}, {'section': 'stator', 'name': 'slot_opening', 'value': {'magnitude': 1.5, 'units': [{'name': 'millimeter', 'exponent': 1}]}}, {'section': 'stator', 'name': 'tooth_width', 'value': {'magnitude': 9.8, 'units': [{'name': 'millimeter', 'exponent': 1}]}}, {'section': 'stator', 'name': 'stator_outer_diameter', 'value': {'magnitude': 0.136, 'units': [{'name': 'meter', 'exponent': 1}]}}, {'section': 'stator', 'name': 'back_iron_thickness', 'value': {'magnitude': 5.5, 'units': [{'name': 'millimeter', 'exponent': 1}]}}, {'section': 'stator', 'name': 'stator_internal_radius', 'value': {'magnitude': 500, 'units': [{'name': 'micrometer', 'exponent': 1}]}}, {'section': 'stator', 'name': 'number_slots', 'value': {'magnitude': 12, 'units': [{'name': 'count', 'exponent': 1}]}}, {'section': 'stator', 'name': 'tooth_tip_angle', 'value': {'magnitude': 70, 'units': [{'name': 'degree', 'exponent': 1}]}}, {'section': 'rotor', 'name': 'rotor_od', 'value': {'magnitude': 7.999999999999999, 'units': [{'name': 'centimeter', 'exponent': 1}]}}, {'section': 'rotor', 'name': 'rotor_bore', 'value': {'magnitude': 40, 'units': [{'name': 'millimeter', 'exponent': 1}]}}, {'section': 'rotor', 'name': 'banding_thickness', 'value': {'magnitude': 0.5, 'units': [{'name': 'millimeter', 'exponent': 1}]}}, {'section': 'rotor', 'name': 'number_poles', 'value': {'magnitude': 10, 'units': [{'name': 'count', 'exponent': 1}]}}, {'section': 'rotor', 'name': 'magnet_thickness', 'value': {'magnitude': 4.5, 'units': [{'name': 'millimeter', 'exponent': 1}]}}, {'section': 'rotor', 'name': 'magnet_pole_arc', 'value': {'magnitude': 150, 'units': [{'name': 'degree', 'exponent': 1}]}}, {'section': 'rotor', 'name': 'magnet_inset', 'value': {'magnitude': 0.25, 'units': [{'name': 'millimeter', 'exponent': 1}]}}, {'section': 'winding', 'name': 'symmetry', 'value': {'magnitude': 2, 'units': [{'name': 'count', 'exponent': 1}]}}, {'section': 'winding', 'name': 'number_phases', 'value': {'magnitude': 3, 'units': [{'name': 'count', 'exponent': 1}]}}, {'section': 'winding', 'name': 'number_layers', 'value': {'magnitude': 2, 'units': [{'name': 'count', 'exponent': 1}]}}, {'section': 'winding', 'name': 'coil_span', 'value': {'magnitude': 1, 'units': [{'name': 'count', 'exponent': 1}]}}, {'section': 'winding', 'name': 'turns_per_coil', 'value': {'magnitude': 43, 'units': [{'name': 'count', 'exponent': 1}]}}, {'section': 'winding', 'name': 'empty_slots', 'value': {'magnitude': 0, 'units': [{'name': 'count', 'exponent': 1}]}}, {'section': 'winding', 'name': 'fill_factor', 'value': {'magnitude': 42, 'units': [{'name': 'percent', 'exponent': 1}]}}]}\n",
      "2024-02-01 14:46:49,921 - NoJobId - INFO - Kebnekaise - 3503141280.py->update_job_status() - Updating job status: https://api.build.tinarmengineering.com/jobs/65bb9fdd3b76d9083bf872ef/status/10?node_id=None&apikey=668952058c490d0a296da0abb9660534\n",
      "{'id': '65bb9fdd3b76d9083bf872ef', 'owner_org_id': '65a9291658b95253163001ab', 'owner_user_id': '659bf5a7b7135efed48311bd', 'creation_date': '2024-02-01T13:42:53Z', 'status': 10, 'title': 'santalaceous-conformist-10.0-A/mm²-261.2-deg', 'type': 'electromagnetic_spmbrl_fscwseg', 'node_id': 'None', 'data': [{'section': 'operating_point', 'name': 'current_density', 'value': {'magnitude': 10, 'units': [{'name': 'ampere', 'exponent': 1}, {'name': 'millimeter', 'exponent': -2}]}}, {'section': 'operating_point', 'name': 'current_angle', 'value': {'magnitude': 261.25, 'units': [{'name': 'degree', 'exponent': 1}]}}, {'section': 'operating_point', 'name': 'simulated_speed', 'value': {'magnitude': 2400, 'units': [{'name': 'revolutions_per_minute', 'exponent': 1}]}}, {'section': 'simulation', 'name': 'samples_per_electrical_period', 'value': {'magnitude': 180, 'units': [{'name': 'count', 'exponent': 1}, {'name': 'turn', 'exponent': -1}]}}, {'section': 'simulation', 'name': 'timestep_intervals', 'value': {'magnitude': 180, 'units': [{'name': 'count', 'exponent': 1}]}}, {'section': 'simulation', 'name': 'active_length', 'value': {'magnitude': 65, 'units': [{'name': 'millimeter', 'exponent': 1}]}}, {'section': 'stator', 'name': 'slot_liner_thikness', 'value': {'magnitude': 300, 'units': [{'name': 'micrometer', 'exponent': 1}]}}, {'section': 'stator', 'name': 'stator_bore', 'value': {'magnitude': 8.2, 'units': [{'name': 'centimeter', 'exponent': 1}]}}, {'section': 'stator', 'name': 'tooth_tip_depth', 'value': {'magnitude': 1.5, 'units': [{'name': 'millimeter', 'exponent': 1}]}}, {'section': 'stator', 'name': 'slot_opening', 'value': {'magnitude': 1.5, 'units': [{'name': 'millimeter', 'exponent': 1}]}}, {'section': 'stator', 'name': 'tooth_width', 'value': {'magnitude': 9.8, 'units': [{'name': 'millimeter', 'exponent': 1}]}}, {'section': 'stator', 'name': 'stator_outer_diameter', 'value': {'magnitude': 0.136, 'units': [{'name': 'meter', 'exponent': 1}]}}, {'section': 'stator', 'name': 'back_iron_thickness', 'value': {'magnitude': 5.5, 'units': [{'name': 'millimeter', 'exponent': 1}]}}, {'section': 'stator', 'name': 'stator_internal_radius', 'value': {'magnitude': 500, 'units': [{'name': 'micrometer', 'exponent': 1}]}}, {'section': 'stator', 'name': 'number_slots', 'value': {'magnitude': 12, 'units': [{'name': 'count', 'exponent': 1}]}}, {'section': 'stator', 'name': 'tooth_tip_angle', 'value': {'magnitude': 70, 'units': [{'name': 'degree', 'exponent': 1}]}}, {'section': 'rotor', 'name': 'rotor_od', 'value': {'magnitude': 7.999999999999999, 'units': [{'name': 'centimeter', 'exponent': 1}]}}, {'section': 'rotor', 'name': 'rotor_bore', 'value': {'magnitude': 40, 'units': [{'name': 'millimeter', 'exponent': 1}]}}, {'section': 'rotor', 'name': 'banding_thickness', 'value': {'magnitude': 0.5, 'units': [{'name': 'millimeter', 'exponent': 1}]}}, {'section': 'rotor', 'name': 'number_poles', 'value': {'magnitude': 10, 'units': [{'name': 'count', 'exponent': 1}]}}, {'section': 'rotor', 'name': 'magnet_thickness', 'value': {'magnitude': 4.5, 'units': [{'name': 'millimeter', 'exponent': 1}]}}, {'section': 'rotor', 'name': 'magnet_pole_arc', 'value': {'magnitude': 150, 'units': [{'name': 'degree', 'exponent': 1}]}}, {'section': 'rotor', 'name': 'magnet_inset', 'value': {'magnitude': 0.25, 'units': [{'name': 'millimeter', 'exponent': 1}]}}, {'section': 'winding', 'name': 'symmetry', 'value': {'magnitude': 2, 'units': [{'name': 'count', 'exponent': 1}]}}, {'section': 'winding', 'name': 'number_phases', 'value': {'magnitude': 3, 'units': [{'name': 'count', 'exponent': 1}]}}, {'section': 'winding', 'name': 'number_layers', 'value': {'magnitude': 2, 'units': [{'name': 'count', 'exponent': 1}]}}, {'section': 'winding', 'name': 'coil_span', 'value': {'magnitude': 1, 'units': [{'name': 'count', 'exponent': 1}]}}, {'section': 'winding', 'name': 'turns_per_coil', 'value': {'magnitude': 43, 'units': [{'name': 'count', 'exponent': 1}]}}, {'section': 'winding', 'name': 'empty_slots', 'value': {'magnitude': 0, 'units': [{'name': 'count', 'exponent': 1}]}}, {'section': 'winding', 'name': 'fill_factor', 'value': {'magnitude': 42, 'units': [{'name': 'percent', 'exponent': 1}]}}]}\n",
      "2024-02-01 14:46:50,316 - NoJobId - INFO - Kebnekaise - 3503141280.py->update_job_status() - Updating job status: https://api.build.tinarmengineering.com/jobs/65bb9fdd3b76d9083bf872f0/status/10?node_id=None&apikey=668952058c490d0a296da0abb9660534\n",
      "{'id': '65bb9fdd3b76d9083bf872f0', 'owner_org_id': '65a9291658b95253163001ab', 'owner_user_id': '659bf5a7b7135efed48311bd', 'creation_date': '2024-02-01T13:42:53Z', 'status': 10, 'title': 'santalaceous-conformist-2.0-A/mm²-272.5-deg', 'type': 'electromagnetic_spmbrl_fscwseg', 'node_id': 'None', 'data': [{'section': 'operating_point', 'name': 'current_density', 'value': {'magnitude': 2, 'units': [{'name': 'ampere', 'exponent': 1}, {'name': 'millimeter', 'exponent': -2}]}}, {'section': 'operating_point', 'name': 'current_angle', 'value': {'magnitude': 272.5, 'units': [{'name': 'degree', 'exponent': 1}]}}, {'section': 'operating_point', 'name': 'simulated_speed', 'value': {'magnitude': 2400, 'units': [{'name': 'revolutions_per_minute', 'exponent': 1}]}}, {'section': 'simulation', 'name': 'samples_per_electrical_period', 'value': {'magnitude': 180, 'units': [{'name': 'count', 'exponent': 1}, {'name': 'turn', 'exponent': -1}]}}, {'section': 'simulation', 'name': 'timestep_intervals', 'value': {'magnitude': 180, 'units': [{'name': 'count', 'exponent': 1}]}}, {'section': 'simulation', 'name': 'active_length', 'value': {'magnitude': 65, 'units': [{'name': 'millimeter', 'exponent': 1}]}}, {'section': 'stator', 'name': 'slot_liner_thikness', 'value': {'magnitude': 300, 'units': [{'name': 'micrometer', 'exponent': 1}]}}, {'section': 'stator', 'name': 'stator_bore', 'value': {'magnitude': 8.2, 'units': [{'name': 'centimeter', 'exponent': 1}]}}, {'section': 'stator', 'name': 'tooth_tip_depth', 'value': {'magnitude': 1.5, 'units': [{'name': 'millimeter', 'exponent': 1}]}}, {'section': 'stator', 'name': 'slot_opening', 'value': {'magnitude': 1.5, 'units': [{'name': 'millimeter', 'exponent': 1}]}}, {'section': 'stator', 'name': 'tooth_width', 'value': {'magnitude': 9.8, 'units': [{'name': 'millimeter', 'exponent': 1}]}}, {'section': 'stator', 'name': 'stator_outer_diameter', 'value': {'magnitude': 0.136, 'units': [{'name': 'meter', 'exponent': 1}]}}, {'section': 'stator', 'name': 'back_iron_thickness', 'value': {'magnitude': 5.5, 'units': [{'name': 'millimeter', 'exponent': 1}]}}, {'section': 'stator', 'name': 'stator_internal_radius', 'value': {'magnitude': 500, 'units': [{'name': 'micrometer', 'exponent': 1}]}}, {'section': 'stator', 'name': 'number_slots', 'value': {'magnitude': 12, 'units': [{'name': 'count', 'exponent': 1}]}}, {'section': 'stator', 'name': 'tooth_tip_angle', 'value': {'magnitude': 70, 'units': [{'name': 'degree', 'exponent': 1}]}}, {'section': 'rotor', 'name': 'rotor_od', 'value': {'magnitude': 7.999999999999999, 'units': [{'name': 'centimeter', 'exponent': 1}]}}, {'section': 'rotor', 'name': 'rotor_bore', 'value': {'magnitude': 40, 'units': [{'name': 'millimeter', 'exponent': 1}]}}, {'section': 'rotor', 'name': 'banding_thickness', 'value': {'magnitude': 0.5, 'units': [{'name': 'millimeter', 'exponent': 1}]}}, {'section': 'rotor', 'name': 'number_poles', 'value': {'magnitude': 10, 'units': [{'name': 'count', 'exponent': 1}]}}, {'section': 'rotor', 'name': 'magnet_thickness', 'value': {'magnitude': 4.5, 'units': [{'name': 'millimeter', 'exponent': 1}]}}, {'section': 'rotor', 'name': 'magnet_pole_arc', 'value': {'magnitude': 150, 'units': [{'name': 'degree', 'exponent': 1}]}}, {'section': 'rotor', 'name': 'magnet_inset', 'value': {'magnitude': 0.25, 'units': [{'name': 'millimeter', 'exponent': 1}]}}, {'section': 'winding', 'name': 'symmetry', 'value': {'magnitude': 2, 'units': [{'name': 'count', 'exponent': 1}]}}, {'section': 'winding', 'name': 'number_phases', 'value': {'magnitude': 3, 'units': [{'name': 'count', 'exponent': 1}]}}, {'section': 'winding', 'name': 'number_layers', 'value': {'magnitude': 2, 'units': [{'name': 'count', 'exponent': 1}]}}, {'section': 'winding', 'name': 'coil_span', 'value': {'magnitude': 1, 'units': [{'name': 'count', 'exponent': 1}]}}, {'section': 'winding', 'name': 'turns_per_coil', 'value': {'magnitude': 43, 'units': [{'name': 'count', 'exponent': 1}]}}, {'section': 'winding', 'name': 'empty_slots', 'value': {'magnitude': 0, 'units': [{'name': 'count', 'exponent': 1}]}}, {'section': 'winding', 'name': 'fill_factor', 'value': {'magnitude': 42, 'units': [{'name': 'percent', 'exponent': 1}]}}]}\n",
      "2024-02-01 14:46:50,649 - NoJobId - INFO - Kebnekaise - 3503141280.py->update_job_status() - Updating job status: https://api.build.tinarmengineering.com/jobs/65bb9fdd3b76d9083bf872f1/status/10?node_id=None&apikey=668952058c490d0a296da0abb9660534\n",
      "{'id': '65bb9fdd3b76d9083bf872f1', 'owner_org_id': '65a9291658b95253163001ab', 'owner_user_id': '659bf5a7b7135efed48311bd', 'creation_date': '2024-02-01T13:42:53Z', 'status': 10, 'title': 'santalaceous-conformist-4.0-A/mm²-272.5-deg', 'type': 'electromagnetic_spmbrl_fscwseg', 'node_id': 'None', 'data': [{'section': 'operating_point', 'name': 'current_density', 'value': {'magnitude': 4, 'units': [{'name': 'ampere', 'exponent': 1}, {'name': 'millimeter', 'exponent': -2}]}}, {'section': 'operating_point', 'name': 'current_angle', 'value': {'magnitude': 272.5, 'units': [{'name': 'degree', 'exponent': 1}]}}, {'section': 'operating_point', 'name': 'simulated_speed', 'value': {'magnitude': 2400, 'units': [{'name': 'revolutions_per_minute', 'exponent': 1}]}}, {'section': 'simulation', 'name': 'samples_per_electrical_period', 'value': {'magnitude': 180, 'units': [{'name': 'count', 'exponent': 1}, {'name': 'turn', 'exponent': -1}]}}, {'section': 'simulation', 'name': 'timestep_intervals', 'value': {'magnitude': 180, 'units': [{'name': 'count', 'exponent': 1}]}}, {'section': 'simulation', 'name': 'active_length', 'value': {'magnitude': 65, 'units': [{'name': 'millimeter', 'exponent': 1}]}}, {'section': 'stator', 'name': 'slot_liner_thikness', 'value': {'magnitude': 300, 'units': [{'name': 'micrometer', 'exponent': 1}]}}, {'section': 'stator', 'name': 'stator_bore', 'value': {'magnitude': 8.2, 'units': [{'name': 'centimeter', 'exponent': 1}]}}, {'section': 'stator', 'name': 'tooth_tip_depth', 'value': {'magnitude': 1.5, 'units': [{'name': 'millimeter', 'exponent': 1}]}}, {'section': 'stator', 'name': 'slot_opening', 'value': {'magnitude': 1.5, 'units': [{'name': 'millimeter', 'exponent': 1}]}}, {'section': 'stator', 'name': 'tooth_width', 'value': {'magnitude': 9.8, 'units': [{'name': 'millimeter', 'exponent': 1}]}}, {'section': 'stator', 'name': 'stator_outer_diameter', 'value': {'magnitude': 0.136, 'units': [{'name': 'meter', 'exponent': 1}]}}, {'section': 'stator', 'name': 'back_iron_thickness', 'value': {'magnitude': 5.5, 'units': [{'name': 'millimeter', 'exponent': 1}]}}, {'section': 'stator', 'name': 'stator_internal_radius', 'value': {'magnitude': 500, 'units': [{'name': 'micrometer', 'exponent': 1}]}}, {'section': 'stator', 'name': 'number_slots', 'value': {'magnitude': 12, 'units': [{'name': 'count', 'exponent': 1}]}}, {'section': 'stator', 'name': 'tooth_tip_angle', 'value': {'magnitude': 70, 'units': [{'name': 'degree', 'exponent': 1}]}}, {'section': 'rotor', 'name': 'rotor_od', 'value': {'magnitude': 7.999999999999999, 'units': [{'name': 'centimeter', 'exponent': 1}]}}, {'section': 'rotor', 'name': 'rotor_bore', 'value': {'magnitude': 40, 'units': [{'name': 'millimeter', 'exponent': 1}]}}, {'section': 'rotor', 'name': 'banding_thickness', 'value': {'magnitude': 0.5, 'units': [{'name': 'millimeter', 'exponent': 1}]}}, {'section': 'rotor', 'name': 'number_poles', 'value': {'magnitude': 10, 'units': [{'name': 'count', 'exponent': 1}]}}, {'section': 'rotor', 'name': 'magnet_thickness', 'value': {'magnitude': 4.5, 'units': [{'name': 'millimeter', 'exponent': 1}]}}, {'section': 'rotor', 'name': 'magnet_pole_arc', 'value': {'magnitude': 150, 'units': [{'name': 'degree', 'exponent': 1}]}}, {'section': 'rotor', 'name': 'magnet_inset', 'value': {'magnitude': 0.25, 'units': [{'name': 'millimeter', 'exponent': 1}]}}, {'section': 'winding', 'name': 'symmetry', 'value': {'magnitude': 2, 'units': [{'name': 'count', 'exponent': 1}]}}, {'section': 'winding', 'name': 'number_phases', 'value': {'magnitude': 3, 'units': [{'name': 'count', 'exponent': 1}]}}, {'section': 'winding', 'name': 'number_layers', 'value': {'magnitude': 2, 'units': [{'name': 'count', 'exponent': 1}]}}, {'section': 'winding', 'name': 'coil_span', 'value': {'magnitude': 1, 'units': [{'name': 'count', 'exponent': 1}]}}, {'section': 'winding', 'name': 'turns_per_coil', 'value': {'magnitude': 43, 'units': [{'name': 'count', 'exponent': 1}]}}, {'section': 'winding', 'name': 'empty_slots', 'value': {'magnitude': 0, 'units': [{'name': 'count', 'exponent': 1}]}}, {'section': 'winding', 'name': 'fill_factor', 'value': {'magnitude': 42, 'units': [{'name': 'percent', 'exponent': 1}]}}]}\n",
      "2024-02-01 14:46:50,964 - NoJobId - INFO - Kebnekaise - 3503141280.py->update_job_status() - Updating job status: https://api.build.tinarmengineering.com/jobs/65bb9fde3b76d9083bf872f2/status/10?node_id=None&apikey=668952058c490d0a296da0abb9660534\n",
      "{'id': '65bb9fde3b76d9083bf872f2', 'owner_org_id': '65a9291658b95253163001ab', 'owner_user_id': '659bf5a7b7135efed48311bd', 'creation_date': '2024-02-01T13:42:54Z', 'status': 10, 'title': 'santalaceous-conformist-6.0-A/mm²-272.5-deg', 'type': 'electromagnetic_spmbrl_fscwseg', 'node_id': 'None', 'data': [{'section': 'operating_point', 'name': 'current_density', 'value': {'magnitude': 6, 'units': [{'name': 'ampere', 'exponent': 1}, {'name': 'millimeter', 'exponent': -2}]}}, {'section': 'operating_point', 'name': 'current_angle', 'value': {'magnitude': 272.5, 'units': [{'name': 'degree', 'exponent': 1}]}}, {'section': 'operating_point', 'name': 'simulated_speed', 'value': {'magnitude': 2400, 'units': [{'name': 'revolutions_per_minute', 'exponent': 1}]}}, {'section': 'simulation', 'name': 'samples_per_electrical_period', 'value': {'magnitude': 180, 'units': [{'name': 'count', 'exponent': 1}, {'name': 'turn', 'exponent': -1}]}}, {'section': 'simulation', 'name': 'timestep_intervals', 'value': {'magnitude': 180, 'units': [{'name': 'count', 'exponent': 1}]}}, {'section': 'simulation', 'name': 'active_length', 'value': {'magnitude': 65, 'units': [{'name': 'millimeter', 'exponent': 1}]}}, {'section': 'stator', 'name': 'slot_liner_thikness', 'value': {'magnitude': 300, 'units': [{'name': 'micrometer', 'exponent': 1}]}}, {'section': 'stator', 'name': 'stator_bore', 'value': {'magnitude': 8.2, 'units': [{'name': 'centimeter', 'exponent': 1}]}}, {'section': 'stator', 'name': 'tooth_tip_depth', 'value': {'magnitude': 1.5, 'units': [{'name': 'millimeter', 'exponent': 1}]}}, {'section': 'stator', 'name': 'slot_opening', 'value': {'magnitude': 1.5, 'units': [{'name': 'millimeter', 'exponent': 1}]}}, {'section': 'stator', 'name': 'tooth_width', 'value': {'magnitude': 9.8, 'units': [{'name': 'millimeter', 'exponent': 1}]}}, {'section': 'stator', 'name': 'stator_outer_diameter', 'value': {'magnitude': 0.136, 'units': [{'name': 'meter', 'exponent': 1}]}}, {'section': 'stator', 'name': 'back_iron_thickness', 'value': {'magnitude': 5.5, 'units': [{'name': 'millimeter', 'exponent': 1}]}}, {'section': 'stator', 'name': 'stator_internal_radius', 'value': {'magnitude': 500, 'units': [{'name': 'micrometer', 'exponent': 1}]}}, {'section': 'stator', 'name': 'number_slots', 'value': {'magnitude': 12, 'units': [{'name': 'count', 'exponent': 1}]}}, {'section': 'stator', 'name': 'tooth_tip_angle', 'value': {'magnitude': 70, 'units': [{'name': 'degree', 'exponent': 1}]}}, {'section': 'rotor', 'name': 'rotor_od', 'value': {'magnitude': 7.999999999999999, 'units': [{'name': 'centimeter', 'exponent': 1}]}}, {'section': 'rotor', 'name': 'rotor_bore', 'value': {'magnitude': 40, 'units': [{'name': 'millimeter', 'exponent': 1}]}}, {'section': 'rotor', 'name': 'banding_thickness', 'value': {'magnitude': 0.5, 'units': [{'name': 'millimeter', 'exponent': 1}]}}, {'section': 'rotor', 'name': 'number_poles', 'value': {'magnitude': 10, 'units': [{'name': 'count', 'exponent': 1}]}}, {'section': 'rotor', 'name': 'magnet_thickness', 'value': {'magnitude': 4.5, 'units': [{'name': 'millimeter', 'exponent': 1}]}}, {'section': 'rotor', 'name': 'magnet_pole_arc', 'value': {'magnitude': 150, 'units': [{'name': 'degree', 'exponent': 1}]}}, {'section': 'rotor', 'name': 'magnet_inset', 'value': {'magnitude': 0.25, 'units': [{'name': 'millimeter', 'exponent': 1}]}}, {'section': 'winding', 'name': 'symmetry', 'value': {'magnitude': 2, 'units': [{'name': 'count', 'exponent': 1}]}}, {'section': 'winding', 'name': 'number_phases', 'value': {'magnitude': 3, 'units': [{'name': 'count', 'exponent': 1}]}}, {'section': 'winding', 'name': 'number_layers', 'value': {'magnitude': 2, 'units': [{'name': 'count', 'exponent': 1}]}}, {'section': 'winding', 'name': 'coil_span', 'value': {'magnitude': 1, 'units': [{'name': 'count', 'exponent': 1}]}}, {'section': 'winding', 'name': 'turns_per_coil', 'value': {'magnitude': 43, 'units': [{'name': 'count', 'exponent': 1}]}}, {'section': 'winding', 'name': 'empty_slots', 'value': {'magnitude': 0, 'units': [{'name': 'count', 'exponent': 1}]}}, {'section': 'winding', 'name': 'fill_factor', 'value': {'magnitude': 42, 'units': [{'name': 'percent', 'exponent': 1}]}}]}\n",
      "2024-02-01 14:46:51,288 - NoJobId - INFO - Kebnekaise - 3503141280.py->update_job_status() - Updating job status: https://api.build.tinarmengineering.com/jobs/65bb9fde3b76d9083bf872f3/status/10?node_id=None&apikey=668952058c490d0a296da0abb9660534\n",
      "{'id': '65bb9fde3b76d9083bf872f3', 'owner_org_id': '65a9291658b95253163001ab', 'owner_user_id': '659bf5a7b7135efed48311bd', 'creation_date': '2024-02-01T13:42:54Z', 'status': 10, 'title': 'santalaceous-conformist-8.0-A/mm²-272.5-deg', 'type': 'electromagnetic_spmbrl_fscwseg', 'node_id': 'None', 'data': [{'section': 'operating_point', 'name': 'current_density', 'value': {'magnitude': 8, 'units': [{'name': 'ampere', 'exponent': 1}, {'name': 'millimeter', 'exponent': -2}]}}, {'section': 'operating_point', 'name': 'current_angle', 'value': {'magnitude': 272.5, 'units': [{'name': 'degree', 'exponent': 1}]}}, {'section': 'operating_point', 'name': 'simulated_speed', 'value': {'magnitude': 2400, 'units': [{'name': 'revolutions_per_minute', 'exponent': 1}]}}, {'section': 'simulation', 'name': 'samples_per_electrical_period', 'value': {'magnitude': 180, 'units': [{'name': 'count', 'exponent': 1}, {'name': 'turn', 'exponent': -1}]}}, {'section': 'simulation', 'name': 'timestep_intervals', 'value': {'magnitude': 180, 'units': [{'name': 'count', 'exponent': 1}]}}, {'section': 'simulation', 'name': 'active_length', 'value': {'magnitude': 65, 'units': [{'name': 'millimeter', 'exponent': 1}]}}, {'section': 'stator', 'name': 'slot_liner_thikness', 'value': {'magnitude': 300, 'units': [{'name': 'micrometer', 'exponent': 1}]}}, {'section': 'stator', 'name': 'stator_bore', 'value': {'magnitude': 8.2, 'units': [{'name': 'centimeter', 'exponent': 1}]}}, {'section': 'stator', 'name': 'tooth_tip_depth', 'value': {'magnitude': 1.5, 'units': [{'name': 'millimeter', 'exponent': 1}]}}, {'section': 'stator', 'name': 'slot_opening', 'value': {'magnitude': 1.5, 'units': [{'name': 'millimeter', 'exponent': 1}]}}, {'section': 'stator', 'name': 'tooth_width', 'value': {'magnitude': 9.8, 'units': [{'name': 'millimeter', 'exponent': 1}]}}, {'section': 'stator', 'name': 'stator_outer_diameter', 'value': {'magnitude': 0.136, 'units': [{'name': 'meter', 'exponent': 1}]}}, {'section': 'stator', 'name': 'back_iron_thickness', 'value': {'magnitude': 5.5, 'units': [{'name': 'millimeter', 'exponent': 1}]}}, {'section': 'stator', 'name': 'stator_internal_radius', 'value': {'magnitude': 500, 'units': [{'name': 'micrometer', 'exponent': 1}]}}, {'section': 'stator', 'name': 'number_slots', 'value': {'magnitude': 12, 'units': [{'name': 'count', 'exponent': 1}]}}, {'section': 'stator', 'name': 'tooth_tip_angle', 'value': {'magnitude': 70, 'units': [{'name': 'degree', 'exponent': 1}]}}, {'section': 'rotor', 'name': 'rotor_od', 'value': {'magnitude': 7.999999999999999, 'units': [{'name': 'centimeter', 'exponent': 1}]}}, {'section': 'rotor', 'name': 'rotor_bore', 'value': {'magnitude': 40, 'units': [{'name': 'millimeter', 'exponent': 1}]}}, {'section': 'rotor', 'name': 'banding_thickness', 'value': {'magnitude': 0.5, 'units': [{'name': 'millimeter', 'exponent': 1}]}}, {'section': 'rotor', 'name': 'number_poles', 'value': {'magnitude': 10, 'units': [{'name': 'count', 'exponent': 1}]}}, {'section': 'rotor', 'name': 'magnet_thickness', 'value': {'magnitude': 4.5, 'units': [{'name': 'millimeter', 'exponent': 1}]}}, {'section': 'rotor', 'name': 'magnet_pole_arc', 'value': {'magnitude': 150, 'units': [{'name': 'degree', 'exponent': 1}]}}, {'section': 'rotor', 'name': 'magnet_inset', 'value': {'magnitude': 0.25, 'units': [{'name': 'millimeter', 'exponent': 1}]}}, {'section': 'winding', 'name': 'symmetry', 'value': {'magnitude': 2, 'units': [{'name': 'count', 'exponent': 1}]}}, {'section': 'winding', 'name': 'number_phases', 'value': {'magnitude': 3, 'units': [{'name': 'count', 'exponent': 1}]}}, {'section': 'winding', 'name': 'number_layers', 'value': {'magnitude': 2, 'units': [{'name': 'count', 'exponent': 1}]}}, {'section': 'winding', 'name': 'coil_span', 'value': {'magnitude': 1, 'units': [{'name': 'count', 'exponent': 1}]}}, {'section': 'winding', 'name': 'turns_per_coil', 'value': {'magnitude': 43, 'units': [{'name': 'count', 'exponent': 1}]}}, {'section': 'winding', 'name': 'empty_slots', 'value': {'magnitude': 0, 'units': [{'name': 'count', 'exponent': 1}]}}, {'section': 'winding', 'name': 'fill_factor', 'value': {'magnitude': 42, 'units': [{'name': 'percent', 'exponent': 1}]}}]}\n",
      "2024-02-01 14:46:51,629 - NoJobId - INFO - Kebnekaise - 3503141280.py->update_job_status() - Updating job status: https://api.build.tinarmengineering.com/jobs/65bb9fde3b76d9083bf872f4/status/10?node_id=None&apikey=668952058c490d0a296da0abb9660534\n",
      "{'id': '65bb9fde3b76d9083bf872f4', 'owner_org_id': '65a9291658b95253163001ab', 'owner_user_id': '659bf5a7b7135efed48311bd', 'creation_date': '2024-02-01T13:42:54Z', 'status': 10, 'title': 'santalaceous-conformist-10.0-A/mm²-272.5-deg', 'type': 'electromagnetic_spmbrl_fscwseg', 'node_id': 'None', 'data': [{'section': 'operating_point', 'name': 'current_density', 'value': {'magnitude': 10, 'units': [{'name': 'ampere', 'exponent': 1}, {'name': 'millimeter', 'exponent': -2}]}}, {'section': 'operating_point', 'name': 'current_angle', 'value': {'magnitude': 272.5, 'units': [{'name': 'degree', 'exponent': 1}]}}, {'section': 'operating_point', 'name': 'simulated_speed', 'value': {'magnitude': 2400, 'units': [{'name': 'revolutions_per_minute', 'exponent': 1}]}}, {'section': 'simulation', 'name': 'samples_per_electrical_period', 'value': {'magnitude': 180, 'units': [{'name': 'count', 'exponent': 1}, {'name': 'turn', 'exponent': -1}]}}, {'section': 'simulation', 'name': 'timestep_intervals', 'value': {'magnitude': 180, 'units': [{'name': 'count', 'exponent': 1}]}}, {'section': 'simulation', 'name': 'active_length', 'value': {'magnitude': 65, 'units': [{'name': 'millimeter', 'exponent': 1}]}}, {'section': 'stator', 'name': 'slot_liner_thikness', 'value': {'magnitude': 300, 'units': [{'name': 'micrometer', 'exponent': 1}]}}, {'section': 'stator', 'name': 'stator_bore', 'value': {'magnitude': 8.2, 'units': [{'name': 'centimeter', 'exponent': 1}]}}, {'section': 'stator', 'name': 'tooth_tip_depth', 'value': {'magnitude': 1.5, 'units': [{'name': 'millimeter', 'exponent': 1}]}}, {'section': 'stator', 'name': 'slot_opening', 'value': {'magnitude': 1.5, 'units': [{'name': 'millimeter', 'exponent': 1}]}}, {'section': 'stator', 'name': 'tooth_width', 'value': {'magnitude': 9.8, 'units': [{'name': 'millimeter', 'exponent': 1}]}}, {'section': 'stator', 'name': 'stator_outer_diameter', 'value': {'magnitude': 0.136, 'units': [{'name': 'meter', 'exponent': 1}]}}, {'section': 'stator', 'name': 'back_iron_thickness', 'value': {'magnitude': 5.5, 'units': [{'name': 'millimeter', 'exponent': 1}]}}, {'section': 'stator', 'name': 'stator_internal_radius', 'value': {'magnitude': 500, 'units': [{'name': 'micrometer', 'exponent': 1}]}}, {'section': 'stator', 'name': 'number_slots', 'value': {'magnitude': 12, 'units': [{'name': 'count', 'exponent': 1}]}}, {'section': 'stator', 'name': 'tooth_tip_angle', 'value': {'magnitude': 70, 'units': [{'name': 'degree', 'exponent': 1}]}}, {'section': 'rotor', 'name': 'rotor_od', 'value': {'magnitude': 7.999999999999999, 'units': [{'name': 'centimeter', 'exponent': 1}]}}, {'section': 'rotor', 'name': 'rotor_bore', 'value': {'magnitude': 40, 'units': [{'name': 'millimeter', 'exponent': 1}]}}, {'section': 'rotor', 'name': 'banding_thickness', 'value': {'magnitude': 0.5, 'units': [{'name': 'millimeter', 'exponent': 1}]}}, {'section': 'rotor', 'name': 'number_poles', 'value': {'magnitude': 10, 'units': [{'name': 'count', 'exponent': 1}]}}, {'section': 'rotor', 'name': 'magnet_thickness', 'value': {'magnitude': 4.5, 'units': [{'name': 'millimeter', 'exponent': 1}]}}, {'section': 'rotor', 'name': 'magnet_pole_arc', 'value': {'magnitude': 150, 'units': [{'name': 'degree', 'exponent': 1}]}}, {'section': 'rotor', 'name': 'magnet_inset', 'value': {'magnitude': 0.25, 'units': [{'name': 'millimeter', 'exponent': 1}]}}, {'section': 'winding', 'name': 'symmetry', 'value': {'magnitude': 2, 'units': [{'name': 'count', 'exponent': 1}]}}, {'section': 'winding', 'name': 'number_phases', 'value': {'magnitude': 3, 'units': [{'name': 'count', 'exponent': 1}]}}, {'section': 'winding', 'name': 'number_layers', 'value': {'magnitude': 2, 'units': [{'name': 'count', 'exponent': 1}]}}, {'section': 'winding', 'name': 'coil_span', 'value': {'magnitude': 1, 'units': [{'name': 'count', 'exponent': 1}]}}, {'section': 'winding', 'name': 'turns_per_coil', 'value': {'magnitude': 43, 'units': [{'name': 'count', 'exponent': 1}]}}, {'section': 'winding', 'name': 'empty_slots', 'value': {'magnitude': 0, 'units': [{'name': 'count', 'exponent': 1}]}}, {'section': 'winding', 'name': 'fill_factor', 'value': {'magnitude': 42, 'units': [{'name': 'percent', 'exponent': 1}]}}]}\n",
      "2024-02-01 14:46:51,976 - NoJobId - INFO - Kebnekaise - 3503141280.py->update_job_status() - Updating job status: https://api.build.tinarmengineering.com/jobs/65bb9fdf3b76d9083bf872f5/status/10?node_id=None&apikey=668952058c490d0a296da0abb9660534\n",
      "{'id': '65bb9fdf3b76d9083bf872f5', 'owner_org_id': '65a9291658b95253163001ab', 'owner_user_id': '659bf5a7b7135efed48311bd', 'creation_date': '2024-02-01T13:42:55Z', 'status': 10, 'title': 'santalaceous-conformist-2.0-A/mm²-283.8-deg', 'type': 'electromagnetic_spmbrl_fscwseg', 'node_id': 'None', 'data': [{'section': 'operating_point', 'name': 'current_density', 'value': {'magnitude': 2, 'units': [{'name': 'ampere', 'exponent': 1}, {'name': 'millimeter', 'exponent': -2}]}}, {'section': 'operating_point', 'name': 'current_angle', 'value': {'magnitude': 283.75, 'units': [{'name': 'degree', 'exponent': 1}]}}, {'section': 'operating_point', 'name': 'simulated_speed', 'value': {'magnitude': 2400, 'units': [{'name': 'revolutions_per_minute', 'exponent': 1}]}}, {'section': 'simulation', 'name': 'samples_per_electrical_period', 'value': {'magnitude': 180, 'units': [{'name': 'count', 'exponent': 1}, {'name': 'turn', 'exponent': -1}]}}, {'section': 'simulation', 'name': 'timestep_intervals', 'value': {'magnitude': 180, 'units': [{'name': 'count', 'exponent': 1}]}}, {'section': 'simulation', 'name': 'active_length', 'value': {'magnitude': 65, 'units': [{'name': 'millimeter', 'exponent': 1}]}}, {'section': 'stator', 'name': 'slot_liner_thikness', 'value': {'magnitude': 300, 'units': [{'name': 'micrometer', 'exponent': 1}]}}, {'section': 'stator', 'name': 'stator_bore', 'value': {'magnitude': 8.2, 'units': [{'name': 'centimeter', 'exponent': 1}]}}, {'section': 'stator', 'name': 'tooth_tip_depth', 'value': {'magnitude': 1.5, 'units': [{'name': 'millimeter', 'exponent': 1}]}}, {'section': 'stator', 'name': 'slot_opening', 'value': {'magnitude': 1.5, 'units': [{'name': 'millimeter', 'exponent': 1}]}}, {'section': 'stator', 'name': 'tooth_width', 'value': {'magnitude': 9.8, 'units': [{'name': 'millimeter', 'exponent': 1}]}}, {'section': 'stator', 'name': 'stator_outer_diameter', 'value': {'magnitude': 0.136, 'units': [{'name': 'meter', 'exponent': 1}]}}, {'section': 'stator', 'name': 'back_iron_thickness', 'value': {'magnitude': 5.5, 'units': [{'name': 'millimeter', 'exponent': 1}]}}, {'section': 'stator', 'name': 'stator_internal_radius', 'value': {'magnitude': 500, 'units': [{'name': 'micrometer', 'exponent': 1}]}}, {'section': 'stator', 'name': 'number_slots', 'value': {'magnitude': 12, 'units': [{'name': 'count', 'exponent': 1}]}}, {'section': 'stator', 'name': 'tooth_tip_angle', 'value': {'magnitude': 70, 'units': [{'name': 'degree', 'exponent': 1}]}}, {'section': 'rotor', 'name': 'rotor_od', 'value': {'magnitude': 7.999999999999999, 'units': [{'name': 'centimeter', 'exponent': 1}]}}, {'section': 'rotor', 'name': 'rotor_bore', 'value': {'magnitude': 40, 'units': [{'name': 'millimeter', 'exponent': 1}]}}, {'section': 'rotor', 'name': 'banding_thickness', 'value': {'magnitude': 0.5, 'units': [{'name': 'millimeter', 'exponent': 1}]}}, {'section': 'rotor', 'name': 'number_poles', 'value': {'magnitude': 10, 'units': [{'name': 'count', 'exponent': 1}]}}, {'section': 'rotor', 'name': 'magnet_thickness', 'value': {'magnitude': 4.5, 'units': [{'name': 'millimeter', 'exponent': 1}]}}, {'section': 'rotor', 'name': 'magnet_pole_arc', 'value': {'magnitude': 150, 'units': [{'name': 'degree', 'exponent': 1}]}}, {'section': 'rotor', 'name': 'magnet_inset', 'value': {'magnitude': 0.25, 'units': [{'name': 'millimeter', 'exponent': 1}]}}, {'section': 'winding', 'name': 'symmetry', 'value': {'magnitude': 2, 'units': [{'name': 'count', 'exponent': 1}]}}, {'section': 'winding', 'name': 'number_phases', 'value': {'magnitude': 3, 'units': [{'name': 'count', 'exponent': 1}]}}, {'section': 'winding', 'name': 'number_layers', 'value': {'magnitude': 2, 'units': [{'name': 'count', 'exponent': 1}]}}, {'section': 'winding', 'name': 'coil_span', 'value': {'magnitude': 1, 'units': [{'name': 'count', 'exponent': 1}]}}, {'section': 'winding', 'name': 'turns_per_coil', 'value': {'magnitude': 43, 'units': [{'name': 'count', 'exponent': 1}]}}, {'section': 'winding', 'name': 'empty_slots', 'value': {'magnitude': 0, 'units': [{'name': 'count', 'exponent': 1}]}}, {'section': 'winding', 'name': 'fill_factor', 'value': {'magnitude': 42, 'units': [{'name': 'percent', 'exponent': 1}]}}]}\n",
      "2024-02-01 14:46:52,340 - NoJobId - INFO - Kebnekaise - 3503141280.py->update_job_status() - Updating job status: https://api.build.tinarmengineering.com/jobs/65bb9fdf3b76d9083bf872f6/status/10?node_id=None&apikey=668952058c490d0a296da0abb9660534\n",
      "{'id': '65bb9fdf3b76d9083bf872f6', 'owner_org_id': '65a9291658b95253163001ab', 'owner_user_id': '659bf5a7b7135efed48311bd', 'creation_date': '2024-02-01T13:42:55Z', 'status': 10, 'title': 'santalaceous-conformist-4.0-A/mm²-283.8-deg', 'type': 'electromagnetic_spmbrl_fscwseg', 'node_id': 'None', 'data': [{'section': 'operating_point', 'name': 'current_density', 'value': {'magnitude': 4, 'units': [{'name': 'ampere', 'exponent': 1}, {'name': 'millimeter', 'exponent': -2}]}}, {'section': 'operating_point', 'name': 'current_angle', 'value': {'magnitude': 283.75, 'units': [{'name': 'degree', 'exponent': 1}]}}, {'section': 'operating_point', 'name': 'simulated_speed', 'value': {'magnitude': 2400, 'units': [{'name': 'revolutions_per_minute', 'exponent': 1}]}}, {'section': 'simulation', 'name': 'samples_per_electrical_period', 'value': {'magnitude': 180, 'units': [{'name': 'count', 'exponent': 1}, {'name': 'turn', 'exponent': -1}]}}, {'section': 'simulation', 'name': 'timestep_intervals', 'value': {'magnitude': 180, 'units': [{'name': 'count', 'exponent': 1}]}}, {'section': 'simulation', 'name': 'active_length', 'value': {'magnitude': 65, 'units': [{'name': 'millimeter', 'exponent': 1}]}}, {'section': 'stator', 'name': 'slot_liner_thikness', 'value': {'magnitude': 300, 'units': [{'name': 'micrometer', 'exponent': 1}]}}, {'section': 'stator', 'name': 'stator_bore', 'value': {'magnitude': 8.2, 'units': [{'name': 'centimeter', 'exponent': 1}]}}, {'section': 'stator', 'name': 'tooth_tip_depth', 'value': {'magnitude': 1.5, 'units': [{'name': 'millimeter', 'exponent': 1}]}}, {'section': 'stator', 'name': 'slot_opening', 'value': {'magnitude': 1.5, 'units': [{'name': 'millimeter', 'exponent': 1}]}}, {'section': 'stator', 'name': 'tooth_width', 'value': {'magnitude': 9.8, 'units': [{'name': 'millimeter', 'exponent': 1}]}}, {'section': 'stator', 'name': 'stator_outer_diameter', 'value': {'magnitude': 0.136, 'units': [{'name': 'meter', 'exponent': 1}]}}, {'section': 'stator', 'name': 'back_iron_thickness', 'value': {'magnitude': 5.5, 'units': [{'name': 'millimeter', 'exponent': 1}]}}, {'section': 'stator', 'name': 'stator_internal_radius', 'value': {'magnitude': 500, 'units': [{'name': 'micrometer', 'exponent': 1}]}}, {'section': 'stator', 'name': 'number_slots', 'value': {'magnitude': 12, 'units': [{'name': 'count', 'exponent': 1}]}}, {'section': 'stator', 'name': 'tooth_tip_angle', 'value': {'magnitude': 70, 'units': [{'name': 'degree', 'exponent': 1}]}}, {'section': 'rotor', 'name': 'rotor_od', 'value': {'magnitude': 7.999999999999999, 'units': [{'name': 'centimeter', 'exponent': 1}]}}, {'section': 'rotor', 'name': 'rotor_bore', 'value': {'magnitude': 40, 'units': [{'name': 'millimeter', 'exponent': 1}]}}, {'section': 'rotor', 'name': 'banding_thickness', 'value': {'magnitude': 0.5, 'units': [{'name': 'millimeter', 'exponent': 1}]}}, {'section': 'rotor', 'name': 'number_poles', 'value': {'magnitude': 10, 'units': [{'name': 'count', 'exponent': 1}]}}, {'section': 'rotor', 'name': 'magnet_thickness', 'value': {'magnitude': 4.5, 'units': [{'name': 'millimeter', 'exponent': 1}]}}, {'section': 'rotor', 'name': 'magnet_pole_arc', 'value': {'magnitude': 150, 'units': [{'name': 'degree', 'exponent': 1}]}}, {'section': 'rotor', 'name': 'magnet_inset', 'value': {'magnitude': 0.25, 'units': [{'name': 'millimeter', 'exponent': 1}]}}, {'section': 'winding', 'name': 'symmetry', 'value': {'magnitude': 2, 'units': [{'name': 'count', 'exponent': 1}]}}, {'section': 'winding', 'name': 'number_phases', 'value': {'magnitude': 3, 'units': [{'name': 'count', 'exponent': 1}]}}, {'section': 'winding', 'name': 'number_layers', 'value': {'magnitude': 2, 'units': [{'name': 'count', 'exponent': 1}]}}, {'section': 'winding', 'name': 'coil_span', 'value': {'magnitude': 1, 'units': [{'name': 'count', 'exponent': 1}]}}, {'section': 'winding', 'name': 'turns_per_coil', 'value': {'magnitude': 43, 'units': [{'name': 'count', 'exponent': 1}]}}, {'section': 'winding', 'name': 'empty_slots', 'value': {'magnitude': 0, 'units': [{'name': 'count', 'exponent': 1}]}}, {'section': 'winding', 'name': 'fill_factor', 'value': {'magnitude': 42, 'units': [{'name': 'percent', 'exponent': 1}]}}]}\n",
      "2024-02-01 14:46:52,688 - NoJobId - INFO - Kebnekaise - 3503141280.py->update_job_status() - Updating job status: https://api.build.tinarmengineering.com/jobs/65bb9fe03b76d9083bf872f7/status/10?node_id=None&apikey=668952058c490d0a296da0abb9660534\n",
      "{'id': '65bb9fe03b76d9083bf872f7', 'owner_org_id': '65a9291658b95253163001ab', 'owner_user_id': '659bf5a7b7135efed48311bd', 'creation_date': '2024-02-01T13:42:56Z', 'status': 10, 'title': 'santalaceous-conformist-6.0-A/mm²-283.8-deg', 'type': 'electromagnetic_spmbrl_fscwseg', 'node_id': 'None', 'data': [{'section': 'operating_point', 'name': 'current_density', 'value': {'magnitude': 6, 'units': [{'name': 'ampere', 'exponent': 1}, {'name': 'millimeter', 'exponent': -2}]}}, {'section': 'operating_point', 'name': 'current_angle', 'value': {'magnitude': 283.75, 'units': [{'name': 'degree', 'exponent': 1}]}}, {'section': 'operating_point', 'name': 'simulated_speed', 'value': {'magnitude': 2400, 'units': [{'name': 'revolutions_per_minute', 'exponent': 1}]}}, {'section': 'simulation', 'name': 'samples_per_electrical_period', 'value': {'magnitude': 180, 'units': [{'name': 'count', 'exponent': 1}, {'name': 'turn', 'exponent': -1}]}}, {'section': 'simulation', 'name': 'timestep_intervals', 'value': {'magnitude': 180, 'units': [{'name': 'count', 'exponent': 1}]}}, {'section': 'simulation', 'name': 'active_length', 'value': {'magnitude': 65, 'units': [{'name': 'millimeter', 'exponent': 1}]}}, {'section': 'stator', 'name': 'slot_liner_thikness', 'value': {'magnitude': 300, 'units': [{'name': 'micrometer', 'exponent': 1}]}}, {'section': 'stator', 'name': 'stator_bore', 'value': {'magnitude': 8.2, 'units': [{'name': 'centimeter', 'exponent': 1}]}}, {'section': 'stator', 'name': 'tooth_tip_depth', 'value': {'magnitude': 1.5, 'units': [{'name': 'millimeter', 'exponent': 1}]}}, {'section': 'stator', 'name': 'slot_opening', 'value': {'magnitude': 1.5, 'units': [{'name': 'millimeter', 'exponent': 1}]}}, {'section': 'stator', 'name': 'tooth_width', 'value': {'magnitude': 9.8, 'units': [{'name': 'millimeter', 'exponent': 1}]}}, {'section': 'stator', 'name': 'stator_outer_diameter', 'value': {'magnitude': 0.136, 'units': [{'name': 'meter', 'exponent': 1}]}}, {'section': 'stator', 'name': 'back_iron_thickness', 'value': {'magnitude': 5.5, 'units': [{'name': 'millimeter', 'exponent': 1}]}}, {'section': 'stator', 'name': 'stator_internal_radius', 'value': {'magnitude': 500, 'units': [{'name': 'micrometer', 'exponent': 1}]}}, {'section': 'stator', 'name': 'number_slots', 'value': {'magnitude': 12, 'units': [{'name': 'count', 'exponent': 1}]}}, {'section': 'stator', 'name': 'tooth_tip_angle', 'value': {'magnitude': 70, 'units': [{'name': 'degree', 'exponent': 1}]}}, {'section': 'rotor', 'name': 'rotor_od', 'value': {'magnitude': 7.999999999999999, 'units': [{'name': 'centimeter', 'exponent': 1}]}}, {'section': 'rotor', 'name': 'rotor_bore', 'value': {'magnitude': 40, 'units': [{'name': 'millimeter', 'exponent': 1}]}}, {'section': 'rotor', 'name': 'banding_thickness', 'value': {'magnitude': 0.5, 'units': [{'name': 'millimeter', 'exponent': 1}]}}, {'section': 'rotor', 'name': 'number_poles', 'value': {'magnitude': 10, 'units': [{'name': 'count', 'exponent': 1}]}}, {'section': 'rotor', 'name': 'magnet_thickness', 'value': {'magnitude': 4.5, 'units': [{'name': 'millimeter', 'exponent': 1}]}}, {'section': 'rotor', 'name': 'magnet_pole_arc', 'value': {'magnitude': 150, 'units': [{'name': 'degree', 'exponent': 1}]}}, {'section': 'rotor', 'name': 'magnet_inset', 'value': {'magnitude': 0.25, 'units': [{'name': 'millimeter', 'exponent': 1}]}}, {'section': 'winding', 'name': 'symmetry', 'value': {'magnitude': 2, 'units': [{'name': 'count', 'exponent': 1}]}}, {'section': 'winding', 'name': 'number_phases', 'value': {'magnitude': 3, 'units': [{'name': 'count', 'exponent': 1}]}}, {'section': 'winding', 'name': 'number_layers', 'value': {'magnitude': 2, 'units': [{'name': 'count', 'exponent': 1}]}}, {'section': 'winding', 'name': 'coil_span', 'value': {'magnitude': 1, 'units': [{'name': 'count', 'exponent': 1}]}}, {'section': 'winding', 'name': 'turns_per_coil', 'value': {'magnitude': 43, 'units': [{'name': 'count', 'exponent': 1}]}}, {'section': 'winding', 'name': 'empty_slots', 'value': {'magnitude': 0, 'units': [{'name': 'count', 'exponent': 1}]}}, {'section': 'winding', 'name': 'fill_factor', 'value': {'magnitude': 42, 'units': [{'name': 'percent', 'exponent': 1}]}}]}\n",
      "2024-02-01 14:46:53,225 - NoJobId - INFO - Kebnekaise - 3503141280.py->update_job_status() - Updating job status: https://api.build.tinarmengineering.com/jobs/65bb9fe03b76d9083bf872f8/status/10?node_id=None&apikey=668952058c490d0a296da0abb9660534\n",
      "{'id': '65bb9fe03b76d9083bf872f8', 'owner_org_id': '65a9291658b95253163001ab', 'owner_user_id': '659bf5a7b7135efed48311bd', 'creation_date': '2024-02-01T13:42:56Z', 'status': 10, 'title': 'santalaceous-conformist-8.0-A/mm²-283.8-deg', 'type': 'electromagnetic_spmbrl_fscwseg', 'node_id': 'None', 'data': [{'section': 'operating_point', 'name': 'current_density', 'value': {'magnitude': 8, 'units': [{'name': 'ampere', 'exponent': 1}, {'name': 'millimeter', 'exponent': -2}]}}, {'section': 'operating_point', 'name': 'current_angle', 'value': {'magnitude': 283.75, 'units': [{'name': 'degree', 'exponent': 1}]}}, {'section': 'operating_point', 'name': 'simulated_speed', 'value': {'magnitude': 2400, 'units': [{'name': 'revolutions_per_minute', 'exponent': 1}]}}, {'section': 'simulation', 'name': 'samples_per_electrical_period', 'value': {'magnitude': 180, 'units': [{'name': 'count', 'exponent': 1}, {'name': 'turn', 'exponent': -1}]}}, {'section': 'simulation', 'name': 'timestep_intervals', 'value': {'magnitude': 180, 'units': [{'name': 'count', 'exponent': 1}]}}, {'section': 'simulation', 'name': 'active_length', 'value': {'magnitude': 65, 'units': [{'name': 'millimeter', 'exponent': 1}]}}, {'section': 'stator', 'name': 'slot_liner_thikness', 'value': {'magnitude': 300, 'units': [{'name': 'micrometer', 'exponent': 1}]}}, {'section': 'stator', 'name': 'stator_bore', 'value': {'magnitude': 8.2, 'units': [{'name': 'centimeter', 'exponent': 1}]}}, {'section': 'stator', 'name': 'tooth_tip_depth', 'value': {'magnitude': 1.5, 'units': [{'name': 'millimeter', 'exponent': 1}]}}, {'section': 'stator', 'name': 'slot_opening', 'value': {'magnitude': 1.5, 'units': [{'name': 'millimeter', 'exponent': 1}]}}, {'section': 'stator', 'name': 'tooth_width', 'value': {'magnitude': 9.8, 'units': [{'name': 'millimeter', 'exponent': 1}]}}, {'section': 'stator', 'name': 'stator_outer_diameter', 'value': {'magnitude': 0.136, 'units': [{'name': 'meter', 'exponent': 1}]}}, {'section': 'stator', 'name': 'back_iron_thickness', 'value': {'magnitude': 5.5, 'units': [{'name': 'millimeter', 'exponent': 1}]}}, {'section': 'stator', 'name': 'stator_internal_radius', 'value': {'magnitude': 500, 'units': [{'name': 'micrometer', 'exponent': 1}]}}, {'section': 'stator', 'name': 'number_slots', 'value': {'magnitude': 12, 'units': [{'name': 'count', 'exponent': 1}]}}, {'section': 'stator', 'name': 'tooth_tip_angle', 'value': {'magnitude': 70, 'units': [{'name': 'degree', 'exponent': 1}]}}, {'section': 'rotor', 'name': 'rotor_od', 'value': {'magnitude': 7.999999999999999, 'units': [{'name': 'centimeter', 'exponent': 1}]}}, {'section': 'rotor', 'name': 'rotor_bore', 'value': {'magnitude': 40, 'units': [{'name': 'millimeter', 'exponent': 1}]}}, {'section': 'rotor', 'name': 'banding_thickness', 'value': {'magnitude': 0.5, 'units': [{'name': 'millimeter', 'exponent': 1}]}}, {'section': 'rotor', 'name': 'number_poles', 'value': {'magnitude': 10, 'units': [{'name': 'count', 'exponent': 1}]}}, {'section': 'rotor', 'name': 'magnet_thickness', 'value': {'magnitude': 4.5, 'units': [{'name': 'millimeter', 'exponent': 1}]}}, {'section': 'rotor', 'name': 'magnet_pole_arc', 'value': {'magnitude': 150, 'units': [{'name': 'degree', 'exponent': 1}]}}, {'section': 'rotor', 'name': 'magnet_inset', 'value': {'magnitude': 0.25, 'units': [{'name': 'millimeter', 'exponent': 1}]}}, {'section': 'winding', 'name': 'symmetry', 'value': {'magnitude': 2, 'units': [{'name': 'count', 'exponent': 1}]}}, {'section': 'winding', 'name': 'number_phases', 'value': {'magnitude': 3, 'units': [{'name': 'count', 'exponent': 1}]}}, {'section': 'winding', 'name': 'number_layers', 'value': {'magnitude': 2, 'units': [{'name': 'count', 'exponent': 1}]}}, {'section': 'winding', 'name': 'coil_span', 'value': {'magnitude': 1, 'units': [{'name': 'count', 'exponent': 1}]}}, {'section': 'winding', 'name': 'turns_per_coil', 'value': {'magnitude': 43, 'units': [{'name': 'count', 'exponent': 1}]}}, {'section': 'winding', 'name': 'empty_slots', 'value': {'magnitude': 0, 'units': [{'name': 'count', 'exponent': 1}]}}, {'section': 'winding', 'name': 'fill_factor', 'value': {'magnitude': 42, 'units': [{'name': 'percent', 'exponent': 1}]}}]}\n",
      "2024-02-01 14:46:53,588 - NoJobId - INFO - Kebnekaise - 3503141280.py->update_job_status() - Updating job status: https://api.build.tinarmengineering.com/jobs/65bb9fe03b76d9083bf872f9/status/10?node_id=None&apikey=668952058c490d0a296da0abb9660534\n",
      "{'id': '65bb9fe03b76d9083bf872f9', 'owner_org_id': '65a9291658b95253163001ab', 'owner_user_id': '659bf5a7b7135efed48311bd', 'creation_date': '2024-02-01T13:42:56Z', 'status': 10, 'title': 'santalaceous-conformist-10.0-A/mm²-283.8-deg', 'type': 'electromagnetic_spmbrl_fscwseg', 'node_id': 'None', 'data': [{'section': 'operating_point', 'name': 'current_density', 'value': {'magnitude': 10, 'units': [{'name': 'ampere', 'exponent': 1}, {'name': 'millimeter', 'exponent': -2}]}}, {'section': 'operating_point', 'name': 'current_angle', 'value': {'magnitude': 283.75, 'units': [{'name': 'degree', 'exponent': 1}]}}, {'section': 'operating_point', 'name': 'simulated_speed', 'value': {'magnitude': 2400, 'units': [{'name': 'revolutions_per_minute', 'exponent': 1}]}}, {'section': 'simulation', 'name': 'samples_per_electrical_period', 'value': {'magnitude': 180, 'units': [{'name': 'count', 'exponent': 1}, {'name': 'turn', 'exponent': -1}]}}, {'section': 'simulation', 'name': 'timestep_intervals', 'value': {'magnitude': 180, 'units': [{'name': 'count', 'exponent': 1}]}}, {'section': 'simulation', 'name': 'active_length', 'value': {'magnitude': 65, 'units': [{'name': 'millimeter', 'exponent': 1}]}}, {'section': 'stator', 'name': 'slot_liner_thikness', 'value': {'magnitude': 300, 'units': [{'name': 'micrometer', 'exponent': 1}]}}, {'section': 'stator', 'name': 'stator_bore', 'value': {'magnitude': 8.2, 'units': [{'name': 'centimeter', 'exponent': 1}]}}, {'section': 'stator', 'name': 'tooth_tip_depth', 'value': {'magnitude': 1.5, 'units': [{'name': 'millimeter', 'exponent': 1}]}}, {'section': 'stator', 'name': 'slot_opening', 'value': {'magnitude': 1.5, 'units': [{'name': 'millimeter', 'exponent': 1}]}}, {'section': 'stator', 'name': 'tooth_width', 'value': {'magnitude': 9.8, 'units': [{'name': 'millimeter', 'exponent': 1}]}}, {'section': 'stator', 'name': 'stator_outer_diameter', 'value': {'magnitude': 0.136, 'units': [{'name': 'meter', 'exponent': 1}]}}, {'section': 'stator', 'name': 'back_iron_thickness', 'value': {'magnitude': 5.5, 'units': [{'name': 'millimeter', 'exponent': 1}]}}, {'section': 'stator', 'name': 'stator_internal_radius', 'value': {'magnitude': 500, 'units': [{'name': 'micrometer', 'exponent': 1}]}}, {'section': 'stator', 'name': 'number_slots', 'value': {'magnitude': 12, 'units': [{'name': 'count', 'exponent': 1}]}}, {'section': 'stator', 'name': 'tooth_tip_angle', 'value': {'magnitude': 70, 'units': [{'name': 'degree', 'exponent': 1}]}}, {'section': 'rotor', 'name': 'rotor_od', 'value': {'magnitude': 7.999999999999999, 'units': [{'name': 'centimeter', 'exponent': 1}]}}, {'section': 'rotor', 'name': 'rotor_bore', 'value': {'magnitude': 40, 'units': [{'name': 'millimeter', 'exponent': 1}]}}, {'section': 'rotor', 'name': 'banding_thickness', 'value': {'magnitude': 0.5, 'units': [{'name': 'millimeter', 'exponent': 1}]}}, {'section': 'rotor', 'name': 'number_poles', 'value': {'magnitude': 10, 'units': [{'name': 'count', 'exponent': 1}]}}, {'section': 'rotor', 'name': 'magnet_thickness', 'value': {'magnitude': 4.5, 'units': [{'name': 'millimeter', 'exponent': 1}]}}, {'section': 'rotor', 'name': 'magnet_pole_arc', 'value': {'magnitude': 150, 'units': [{'name': 'degree', 'exponent': 1}]}}, {'section': 'rotor', 'name': 'magnet_inset', 'value': {'magnitude': 0.25, 'units': [{'name': 'millimeter', 'exponent': 1}]}}, {'section': 'winding', 'name': 'symmetry', 'value': {'magnitude': 2, 'units': [{'name': 'count', 'exponent': 1}]}}, {'section': 'winding', 'name': 'number_phases', 'value': {'magnitude': 3, 'units': [{'name': 'count', 'exponent': 1}]}}, {'section': 'winding', 'name': 'number_layers', 'value': {'magnitude': 2, 'units': [{'name': 'count', 'exponent': 1}]}}, {'section': 'winding', 'name': 'coil_span', 'value': {'magnitude': 1, 'units': [{'name': 'count', 'exponent': 1}]}}, {'section': 'winding', 'name': 'turns_per_coil', 'value': {'magnitude': 43, 'units': [{'name': 'count', 'exponent': 1}]}}, {'section': 'winding', 'name': 'empty_slots', 'value': {'magnitude': 0, 'units': [{'name': 'count', 'exponent': 1}]}}, {'section': 'winding', 'name': 'fill_factor', 'value': {'magnitude': 42, 'units': [{'name': 'percent', 'exponent': 1}]}}]}\n",
      "2024-02-01 14:46:54,045 - NoJobId - INFO - Kebnekaise - 3503141280.py->update_job_status() - Updating job status: https://api.build.tinarmengineering.com/jobs/65bb9fe13b76d9083bf872fa/status/10?node_id=None&apikey=668952058c490d0a296da0abb9660534\n",
      "{'id': '65bb9fe13b76d9083bf872fa', 'owner_org_id': '65a9291658b95253163001ab', 'owner_user_id': '659bf5a7b7135efed48311bd', 'creation_date': '2024-02-01T13:42:57Z', 'status': 10, 'title': 'santalaceous-conformist-2.0-A/mm²-295.0-deg', 'type': 'electromagnetic_spmbrl_fscwseg', 'node_id': 'None', 'data': [{'section': 'operating_point', 'name': 'current_density', 'value': {'magnitude': 2, 'units': [{'name': 'ampere', 'exponent': 1}, {'name': 'millimeter', 'exponent': -2}]}}, {'section': 'operating_point', 'name': 'current_angle', 'value': {'magnitude': 295, 'units': [{'name': 'degree', 'exponent': 1}]}}, {'section': 'operating_point', 'name': 'simulated_speed', 'value': {'magnitude': 2400, 'units': [{'name': 'revolutions_per_minute', 'exponent': 1}]}}, {'section': 'simulation', 'name': 'samples_per_electrical_period', 'value': {'magnitude': 180, 'units': [{'name': 'count', 'exponent': 1}, {'name': 'turn', 'exponent': -1}]}}, {'section': 'simulation', 'name': 'timestep_intervals', 'value': {'magnitude': 180, 'units': [{'name': 'count', 'exponent': 1}]}}, {'section': 'simulation', 'name': 'active_length', 'value': {'magnitude': 65, 'units': [{'name': 'millimeter', 'exponent': 1}]}}, {'section': 'stator', 'name': 'slot_liner_thikness', 'value': {'magnitude': 300, 'units': [{'name': 'micrometer', 'exponent': 1}]}}, {'section': 'stator', 'name': 'stator_bore', 'value': {'magnitude': 8.2, 'units': [{'name': 'centimeter', 'exponent': 1}]}}, {'section': 'stator', 'name': 'tooth_tip_depth', 'value': {'magnitude': 1.5, 'units': [{'name': 'millimeter', 'exponent': 1}]}}, {'section': 'stator', 'name': 'slot_opening', 'value': {'magnitude': 1.5, 'units': [{'name': 'millimeter', 'exponent': 1}]}}, {'section': 'stator', 'name': 'tooth_width', 'value': {'magnitude': 9.8, 'units': [{'name': 'millimeter', 'exponent': 1}]}}, {'section': 'stator', 'name': 'stator_outer_diameter', 'value': {'magnitude': 0.136, 'units': [{'name': 'meter', 'exponent': 1}]}}, {'section': 'stator', 'name': 'back_iron_thickness', 'value': {'magnitude': 5.5, 'units': [{'name': 'millimeter', 'exponent': 1}]}}, {'section': 'stator', 'name': 'stator_internal_radius', 'value': {'magnitude': 500, 'units': [{'name': 'micrometer', 'exponent': 1}]}}, {'section': 'stator', 'name': 'number_slots', 'value': {'magnitude': 12, 'units': [{'name': 'count', 'exponent': 1}]}}, {'section': 'stator', 'name': 'tooth_tip_angle', 'value': {'magnitude': 70, 'units': [{'name': 'degree', 'exponent': 1}]}}, {'section': 'rotor', 'name': 'rotor_od', 'value': {'magnitude': 7.999999999999999, 'units': [{'name': 'centimeter', 'exponent': 1}]}}, {'section': 'rotor', 'name': 'rotor_bore', 'value': {'magnitude': 40, 'units': [{'name': 'millimeter', 'exponent': 1}]}}, {'section': 'rotor', 'name': 'banding_thickness', 'value': {'magnitude': 0.5, 'units': [{'name': 'millimeter', 'exponent': 1}]}}, {'section': 'rotor', 'name': 'number_poles', 'value': {'magnitude': 10, 'units': [{'name': 'count', 'exponent': 1}]}}, {'section': 'rotor', 'name': 'magnet_thickness', 'value': {'magnitude': 4.5, 'units': [{'name': 'millimeter', 'exponent': 1}]}}, {'section': 'rotor', 'name': 'magnet_pole_arc', 'value': {'magnitude': 150, 'units': [{'name': 'degree', 'exponent': 1}]}}, {'section': 'rotor', 'name': 'magnet_inset', 'value': {'magnitude': 0.25, 'units': [{'name': 'millimeter', 'exponent': 1}]}}, {'section': 'winding', 'name': 'symmetry', 'value': {'magnitude': 2, 'units': [{'name': 'count', 'exponent': 1}]}}, {'section': 'winding', 'name': 'number_phases', 'value': {'magnitude': 3, 'units': [{'name': 'count', 'exponent': 1}]}}, {'section': 'winding', 'name': 'number_layers', 'value': {'magnitude': 2, 'units': [{'name': 'count', 'exponent': 1}]}}, {'section': 'winding', 'name': 'coil_span', 'value': {'magnitude': 1, 'units': [{'name': 'count', 'exponent': 1}]}}, {'section': 'winding', 'name': 'turns_per_coil', 'value': {'magnitude': 43, 'units': [{'name': 'count', 'exponent': 1}]}}, {'section': 'winding', 'name': 'empty_slots', 'value': {'magnitude': 0, 'units': [{'name': 'count', 'exponent': 1}]}}, {'section': 'winding', 'name': 'fill_factor', 'value': {'magnitude': 42, 'units': [{'name': 'percent', 'exponent': 1}]}}]}\n",
      "2024-02-01 14:46:54,417 - NoJobId - INFO - Kebnekaise - 3503141280.py->update_job_status() - Updating job status: https://api.build.tinarmengineering.com/jobs/65bb9fe13b76d9083bf872fb/status/10?node_id=None&apikey=668952058c490d0a296da0abb9660534\n",
      "{'id': '65bb9fe13b76d9083bf872fb', 'owner_org_id': '65a9291658b95253163001ab', 'owner_user_id': '659bf5a7b7135efed48311bd', 'creation_date': '2024-02-01T13:42:57Z', 'status': 10, 'title': 'santalaceous-conformist-4.0-A/mm²-295.0-deg', 'type': 'electromagnetic_spmbrl_fscwseg', 'node_id': 'None', 'data': [{'section': 'operating_point', 'name': 'current_density', 'value': {'magnitude': 4, 'units': [{'name': 'ampere', 'exponent': 1}, {'name': 'millimeter', 'exponent': -2}]}}, {'section': 'operating_point', 'name': 'current_angle', 'value': {'magnitude': 295, 'units': [{'name': 'degree', 'exponent': 1}]}}, {'section': 'operating_point', 'name': 'simulated_speed', 'value': {'magnitude': 2400, 'units': [{'name': 'revolutions_per_minute', 'exponent': 1}]}}, {'section': 'simulation', 'name': 'samples_per_electrical_period', 'value': {'magnitude': 180, 'units': [{'name': 'count', 'exponent': 1}, {'name': 'turn', 'exponent': -1}]}}, {'section': 'simulation', 'name': 'timestep_intervals', 'value': {'magnitude': 180, 'units': [{'name': 'count', 'exponent': 1}]}}, {'section': 'simulation', 'name': 'active_length', 'value': {'magnitude': 65, 'units': [{'name': 'millimeter', 'exponent': 1}]}}, {'section': 'stator', 'name': 'slot_liner_thikness', 'value': {'magnitude': 300, 'units': [{'name': 'micrometer', 'exponent': 1}]}}, {'section': 'stator', 'name': 'stator_bore', 'value': {'magnitude': 8.2, 'units': [{'name': 'centimeter', 'exponent': 1}]}}, {'section': 'stator', 'name': 'tooth_tip_depth', 'value': {'magnitude': 1.5, 'units': [{'name': 'millimeter', 'exponent': 1}]}}, {'section': 'stator', 'name': 'slot_opening', 'value': {'magnitude': 1.5, 'units': [{'name': 'millimeter', 'exponent': 1}]}}, {'section': 'stator', 'name': 'tooth_width', 'value': {'magnitude': 9.8, 'units': [{'name': 'millimeter', 'exponent': 1}]}}, {'section': 'stator', 'name': 'stator_outer_diameter', 'value': {'magnitude': 0.136, 'units': [{'name': 'meter', 'exponent': 1}]}}, {'section': 'stator', 'name': 'back_iron_thickness', 'value': {'magnitude': 5.5, 'units': [{'name': 'millimeter', 'exponent': 1}]}}, {'section': 'stator', 'name': 'stator_internal_radius', 'value': {'magnitude': 500, 'units': [{'name': 'micrometer', 'exponent': 1}]}}, {'section': 'stator', 'name': 'number_slots', 'value': {'magnitude': 12, 'units': [{'name': 'count', 'exponent': 1}]}}, {'section': 'stator', 'name': 'tooth_tip_angle', 'value': {'magnitude': 70, 'units': [{'name': 'degree', 'exponent': 1}]}}, {'section': 'rotor', 'name': 'rotor_od', 'value': {'magnitude': 7.999999999999999, 'units': [{'name': 'centimeter', 'exponent': 1}]}}, {'section': 'rotor', 'name': 'rotor_bore', 'value': {'magnitude': 40, 'units': [{'name': 'millimeter', 'exponent': 1}]}}, {'section': 'rotor', 'name': 'banding_thickness', 'value': {'magnitude': 0.5, 'units': [{'name': 'millimeter', 'exponent': 1}]}}, {'section': 'rotor', 'name': 'number_poles', 'value': {'magnitude': 10, 'units': [{'name': 'count', 'exponent': 1}]}}, {'section': 'rotor', 'name': 'magnet_thickness', 'value': {'magnitude': 4.5, 'units': [{'name': 'millimeter', 'exponent': 1}]}}, {'section': 'rotor', 'name': 'magnet_pole_arc', 'value': {'magnitude': 150, 'units': [{'name': 'degree', 'exponent': 1}]}}, {'section': 'rotor', 'name': 'magnet_inset', 'value': {'magnitude': 0.25, 'units': [{'name': 'millimeter', 'exponent': 1}]}}, {'section': 'winding', 'name': 'symmetry', 'value': {'magnitude': 2, 'units': [{'name': 'count', 'exponent': 1}]}}, {'section': 'winding', 'name': 'number_phases', 'value': {'magnitude': 3, 'units': [{'name': 'count', 'exponent': 1}]}}, {'section': 'winding', 'name': 'number_layers', 'value': {'magnitude': 2, 'units': [{'name': 'count', 'exponent': 1}]}}, {'section': 'winding', 'name': 'coil_span', 'value': {'magnitude': 1, 'units': [{'name': 'count', 'exponent': 1}]}}, {'section': 'winding', 'name': 'turns_per_coil', 'value': {'magnitude': 43, 'units': [{'name': 'count', 'exponent': 1}]}}, {'section': 'winding', 'name': 'empty_slots', 'value': {'magnitude': 0, 'units': [{'name': 'count', 'exponent': 1}]}}, {'section': 'winding', 'name': 'fill_factor', 'value': {'magnitude': 42, 'units': [{'name': 'percent', 'exponent': 1}]}}]}\n",
      "2024-02-01 14:46:54,764 - NoJobId - INFO - Kebnekaise - 3503141280.py->update_job_status() - Updating job status: https://api.build.tinarmengineering.com/jobs/65bb9fe13b76d9083bf872fc/status/10?node_id=None&apikey=668952058c490d0a296da0abb9660534\n",
      "{'id': '65bb9fe13b76d9083bf872fc', 'owner_org_id': '65a9291658b95253163001ab', 'owner_user_id': '659bf5a7b7135efed48311bd', 'creation_date': '2024-02-01T13:42:57Z', 'status': 10, 'title': 'santalaceous-conformist-6.0-A/mm²-295.0-deg', 'type': 'electromagnetic_spmbrl_fscwseg', 'node_id': 'None', 'data': [{'section': 'operating_point', 'name': 'current_density', 'value': {'magnitude': 6, 'units': [{'name': 'ampere', 'exponent': 1}, {'name': 'millimeter', 'exponent': -2}]}}, {'section': 'operating_point', 'name': 'current_angle', 'value': {'magnitude': 295, 'units': [{'name': 'degree', 'exponent': 1}]}}, {'section': 'operating_point', 'name': 'simulated_speed', 'value': {'magnitude': 2400, 'units': [{'name': 'revolutions_per_minute', 'exponent': 1}]}}, {'section': 'simulation', 'name': 'samples_per_electrical_period', 'value': {'magnitude': 180, 'units': [{'name': 'count', 'exponent': 1}, {'name': 'turn', 'exponent': -1}]}}, {'section': 'simulation', 'name': 'timestep_intervals', 'value': {'magnitude': 180, 'units': [{'name': 'count', 'exponent': 1}]}}, {'section': 'simulation', 'name': 'active_length', 'value': {'magnitude': 65, 'units': [{'name': 'millimeter', 'exponent': 1}]}}, {'section': 'stator', 'name': 'slot_liner_thikness', 'value': {'magnitude': 300, 'units': [{'name': 'micrometer', 'exponent': 1}]}}, {'section': 'stator', 'name': 'stator_bore', 'value': {'magnitude': 8.2, 'units': [{'name': 'centimeter', 'exponent': 1}]}}, {'section': 'stator', 'name': 'tooth_tip_depth', 'value': {'magnitude': 1.5, 'units': [{'name': 'millimeter', 'exponent': 1}]}}, {'section': 'stator', 'name': 'slot_opening', 'value': {'magnitude': 1.5, 'units': [{'name': 'millimeter', 'exponent': 1}]}}, {'section': 'stator', 'name': 'tooth_width', 'value': {'magnitude': 9.8, 'units': [{'name': 'millimeter', 'exponent': 1}]}}, {'section': 'stator', 'name': 'stator_outer_diameter', 'value': {'magnitude': 0.136, 'units': [{'name': 'meter', 'exponent': 1}]}}, {'section': 'stator', 'name': 'back_iron_thickness', 'value': {'magnitude': 5.5, 'units': [{'name': 'millimeter', 'exponent': 1}]}}, {'section': 'stator', 'name': 'stator_internal_radius', 'value': {'magnitude': 500, 'units': [{'name': 'micrometer', 'exponent': 1}]}}, {'section': 'stator', 'name': 'number_slots', 'value': {'magnitude': 12, 'units': [{'name': 'count', 'exponent': 1}]}}, {'section': 'stator', 'name': 'tooth_tip_angle', 'value': {'magnitude': 70, 'units': [{'name': 'degree', 'exponent': 1}]}}, {'section': 'rotor', 'name': 'rotor_od', 'value': {'magnitude': 7.999999999999999, 'units': [{'name': 'centimeter', 'exponent': 1}]}}, {'section': 'rotor', 'name': 'rotor_bore', 'value': {'magnitude': 40, 'units': [{'name': 'millimeter', 'exponent': 1}]}}, {'section': 'rotor', 'name': 'banding_thickness', 'value': {'magnitude': 0.5, 'units': [{'name': 'millimeter', 'exponent': 1}]}}, {'section': 'rotor', 'name': 'number_poles', 'value': {'magnitude': 10, 'units': [{'name': 'count', 'exponent': 1}]}}, {'section': 'rotor', 'name': 'magnet_thickness', 'value': {'magnitude': 4.5, 'units': [{'name': 'millimeter', 'exponent': 1}]}}, {'section': 'rotor', 'name': 'magnet_pole_arc', 'value': {'magnitude': 150, 'units': [{'name': 'degree', 'exponent': 1}]}}, {'section': 'rotor', 'name': 'magnet_inset', 'value': {'magnitude': 0.25, 'units': [{'name': 'millimeter', 'exponent': 1}]}}, {'section': 'winding', 'name': 'symmetry', 'value': {'magnitude': 2, 'units': [{'name': 'count', 'exponent': 1}]}}, {'section': 'winding', 'name': 'number_phases', 'value': {'magnitude': 3, 'units': [{'name': 'count', 'exponent': 1}]}}, {'section': 'winding', 'name': 'number_layers', 'value': {'magnitude': 2, 'units': [{'name': 'count', 'exponent': 1}]}}, {'section': 'winding', 'name': 'coil_span', 'value': {'magnitude': 1, 'units': [{'name': 'count', 'exponent': 1}]}}, {'section': 'winding', 'name': 'turns_per_coil', 'value': {'magnitude': 43, 'units': [{'name': 'count', 'exponent': 1}]}}, {'section': 'winding', 'name': 'empty_slots', 'value': {'magnitude': 0, 'units': [{'name': 'count', 'exponent': 1}]}}, {'section': 'winding', 'name': 'fill_factor', 'value': {'magnitude': 42, 'units': [{'name': 'percent', 'exponent': 1}]}}]}\n",
      "2024-02-01 14:46:55,114 - NoJobId - INFO - Kebnekaise - 3503141280.py->update_job_status() - Updating job status: https://api.build.tinarmengineering.com/jobs/65bb9fe23b76d9083bf872fd/status/10?node_id=None&apikey=668952058c490d0a296da0abb9660534\n",
      "{'id': '65bb9fe23b76d9083bf872fd', 'owner_org_id': '65a9291658b95253163001ab', 'owner_user_id': '659bf5a7b7135efed48311bd', 'creation_date': '2024-02-01T13:42:58Z', 'status': 10, 'title': 'santalaceous-conformist-8.0-A/mm²-295.0-deg', 'type': 'electromagnetic_spmbrl_fscwseg', 'node_id': 'None', 'data': [{'section': 'operating_point', 'name': 'current_density', 'value': {'magnitude': 8, 'units': [{'name': 'ampere', 'exponent': 1}, {'name': 'millimeter', 'exponent': -2}]}}, {'section': 'operating_point', 'name': 'current_angle', 'value': {'magnitude': 295, 'units': [{'name': 'degree', 'exponent': 1}]}}, {'section': 'operating_point', 'name': 'simulated_speed', 'value': {'magnitude': 2400, 'units': [{'name': 'revolutions_per_minute', 'exponent': 1}]}}, {'section': 'simulation', 'name': 'samples_per_electrical_period', 'value': {'magnitude': 180, 'units': [{'name': 'count', 'exponent': 1}, {'name': 'turn', 'exponent': -1}]}}, {'section': 'simulation', 'name': 'timestep_intervals', 'value': {'magnitude': 180, 'units': [{'name': 'count', 'exponent': 1}]}}, {'section': 'simulation', 'name': 'active_length', 'value': {'magnitude': 65, 'units': [{'name': 'millimeter', 'exponent': 1}]}}, {'section': 'stator', 'name': 'slot_liner_thikness', 'value': {'magnitude': 300, 'units': [{'name': 'micrometer', 'exponent': 1}]}}, {'section': 'stator', 'name': 'stator_bore', 'value': {'magnitude': 8.2, 'units': [{'name': 'centimeter', 'exponent': 1}]}}, {'section': 'stator', 'name': 'tooth_tip_depth', 'value': {'magnitude': 1.5, 'units': [{'name': 'millimeter', 'exponent': 1}]}}, {'section': 'stator', 'name': 'slot_opening', 'value': {'magnitude': 1.5, 'units': [{'name': 'millimeter', 'exponent': 1}]}}, {'section': 'stator', 'name': 'tooth_width', 'value': {'magnitude': 9.8, 'units': [{'name': 'millimeter', 'exponent': 1}]}}, {'section': 'stator', 'name': 'stator_outer_diameter', 'value': {'magnitude': 0.136, 'units': [{'name': 'meter', 'exponent': 1}]}}, {'section': 'stator', 'name': 'back_iron_thickness', 'value': {'magnitude': 5.5, 'units': [{'name': 'millimeter', 'exponent': 1}]}}, {'section': 'stator', 'name': 'stator_internal_radius', 'value': {'magnitude': 500, 'units': [{'name': 'micrometer', 'exponent': 1}]}}, {'section': 'stator', 'name': 'number_slots', 'value': {'magnitude': 12, 'units': [{'name': 'count', 'exponent': 1}]}}, {'section': 'stator', 'name': 'tooth_tip_angle', 'value': {'magnitude': 70, 'units': [{'name': 'degree', 'exponent': 1}]}}, {'section': 'rotor', 'name': 'rotor_od', 'value': {'magnitude': 7.999999999999999, 'units': [{'name': 'centimeter', 'exponent': 1}]}}, {'section': 'rotor', 'name': 'rotor_bore', 'value': {'magnitude': 40, 'units': [{'name': 'millimeter', 'exponent': 1}]}}, {'section': 'rotor', 'name': 'banding_thickness', 'value': {'magnitude': 0.5, 'units': [{'name': 'millimeter', 'exponent': 1}]}}, {'section': 'rotor', 'name': 'number_poles', 'value': {'magnitude': 10, 'units': [{'name': 'count', 'exponent': 1}]}}, {'section': 'rotor', 'name': 'magnet_thickness', 'value': {'magnitude': 4.5, 'units': [{'name': 'millimeter', 'exponent': 1}]}}, {'section': 'rotor', 'name': 'magnet_pole_arc', 'value': {'magnitude': 150, 'units': [{'name': 'degree', 'exponent': 1}]}}, {'section': 'rotor', 'name': 'magnet_inset', 'value': {'magnitude': 0.25, 'units': [{'name': 'millimeter', 'exponent': 1}]}}, {'section': 'winding', 'name': 'symmetry', 'value': {'magnitude': 2, 'units': [{'name': 'count', 'exponent': 1}]}}, {'section': 'winding', 'name': 'number_phases', 'value': {'magnitude': 3, 'units': [{'name': 'count', 'exponent': 1}]}}, {'section': 'winding', 'name': 'number_layers', 'value': {'magnitude': 2, 'units': [{'name': 'count', 'exponent': 1}]}}, {'section': 'winding', 'name': 'coil_span', 'value': {'magnitude': 1, 'units': [{'name': 'count', 'exponent': 1}]}}, {'section': 'winding', 'name': 'turns_per_coil', 'value': {'magnitude': 43, 'units': [{'name': 'count', 'exponent': 1}]}}, {'section': 'winding', 'name': 'empty_slots', 'value': {'magnitude': 0, 'units': [{'name': 'count', 'exponent': 1}]}}, {'section': 'winding', 'name': 'fill_factor', 'value': {'magnitude': 42, 'units': [{'name': 'percent', 'exponent': 1}]}}]}\n",
      "2024-02-01 14:46:55,452 - NoJobId - INFO - Kebnekaise - 3503141280.py->update_job_status() - Updating job status: https://api.build.tinarmengineering.com/jobs/65bb9fe23b76d9083bf872fe/status/10?node_id=None&apikey=668952058c490d0a296da0abb9660534\n",
      "{'id': '65bb9fe23b76d9083bf872fe', 'owner_org_id': '65a9291658b95253163001ab', 'owner_user_id': '659bf5a7b7135efed48311bd', 'creation_date': '2024-02-01T13:42:58Z', 'status': 10, 'title': 'santalaceous-conformist-10.0-A/mm²-295.0-deg', 'type': 'electromagnetic_spmbrl_fscwseg', 'node_id': 'None', 'data': [{'section': 'operating_point', 'name': 'current_density', 'value': {'magnitude': 10, 'units': [{'name': 'ampere', 'exponent': 1}, {'name': 'millimeter', 'exponent': -2}]}}, {'section': 'operating_point', 'name': 'current_angle', 'value': {'magnitude': 295, 'units': [{'name': 'degree', 'exponent': 1}]}}, {'section': 'operating_point', 'name': 'simulated_speed', 'value': {'magnitude': 2400, 'units': [{'name': 'revolutions_per_minute', 'exponent': 1}]}}, {'section': 'simulation', 'name': 'samples_per_electrical_period', 'value': {'magnitude': 180, 'units': [{'name': 'count', 'exponent': 1}, {'name': 'turn', 'exponent': -1}]}}, {'section': 'simulation', 'name': 'timestep_intervals', 'value': {'magnitude': 180, 'units': [{'name': 'count', 'exponent': 1}]}}, {'section': 'simulation', 'name': 'active_length', 'value': {'magnitude': 65, 'units': [{'name': 'millimeter', 'exponent': 1}]}}, {'section': 'stator', 'name': 'slot_liner_thikness', 'value': {'magnitude': 300, 'units': [{'name': 'micrometer', 'exponent': 1}]}}, {'section': 'stator', 'name': 'stator_bore', 'value': {'magnitude': 8.2, 'units': [{'name': 'centimeter', 'exponent': 1}]}}, {'section': 'stator', 'name': 'tooth_tip_depth', 'value': {'magnitude': 1.5, 'units': [{'name': 'millimeter', 'exponent': 1}]}}, {'section': 'stator', 'name': 'slot_opening', 'value': {'magnitude': 1.5, 'units': [{'name': 'millimeter', 'exponent': 1}]}}, {'section': 'stator', 'name': 'tooth_width', 'value': {'magnitude': 9.8, 'units': [{'name': 'millimeter', 'exponent': 1}]}}, {'section': 'stator', 'name': 'stator_outer_diameter', 'value': {'magnitude': 0.136, 'units': [{'name': 'meter', 'exponent': 1}]}}, {'section': 'stator', 'name': 'back_iron_thickness', 'value': {'magnitude': 5.5, 'units': [{'name': 'millimeter', 'exponent': 1}]}}, {'section': 'stator', 'name': 'stator_internal_radius', 'value': {'magnitude': 500, 'units': [{'name': 'micrometer', 'exponent': 1}]}}, {'section': 'stator', 'name': 'number_slots', 'value': {'magnitude': 12, 'units': [{'name': 'count', 'exponent': 1}]}}, {'section': 'stator', 'name': 'tooth_tip_angle', 'value': {'magnitude': 70, 'units': [{'name': 'degree', 'exponent': 1}]}}, {'section': 'rotor', 'name': 'rotor_od', 'value': {'magnitude': 7.999999999999999, 'units': [{'name': 'centimeter', 'exponent': 1}]}}, {'section': 'rotor', 'name': 'rotor_bore', 'value': {'magnitude': 40, 'units': [{'name': 'millimeter', 'exponent': 1}]}}, {'section': 'rotor', 'name': 'banding_thickness', 'value': {'magnitude': 0.5, 'units': [{'name': 'millimeter', 'exponent': 1}]}}, {'section': 'rotor', 'name': 'number_poles', 'value': {'magnitude': 10, 'units': [{'name': 'count', 'exponent': 1}]}}, {'section': 'rotor', 'name': 'magnet_thickness', 'value': {'magnitude': 4.5, 'units': [{'name': 'millimeter', 'exponent': 1}]}}, {'section': 'rotor', 'name': 'magnet_pole_arc', 'value': {'magnitude': 150, 'units': [{'name': 'degree', 'exponent': 1}]}}, {'section': 'rotor', 'name': 'magnet_inset', 'value': {'magnitude': 0.25, 'units': [{'name': 'millimeter', 'exponent': 1}]}}, {'section': 'winding', 'name': 'symmetry', 'value': {'magnitude': 2, 'units': [{'name': 'count', 'exponent': 1}]}}, {'section': 'winding', 'name': 'number_phases', 'value': {'magnitude': 3, 'units': [{'name': 'count', 'exponent': 1}]}}, {'section': 'winding', 'name': 'number_layers', 'value': {'magnitude': 2, 'units': [{'name': 'count', 'exponent': 1}]}}, {'section': 'winding', 'name': 'coil_span', 'value': {'magnitude': 1, 'units': [{'name': 'count', 'exponent': 1}]}}, {'section': 'winding', 'name': 'turns_per_coil', 'value': {'magnitude': 43, 'units': [{'name': 'count', 'exponent': 1}]}}, {'section': 'winding', 'name': 'empty_slots', 'value': {'magnitude': 0, 'units': [{'name': 'count', 'exponent': 1}]}}, {'section': 'winding', 'name': 'fill_factor', 'value': {'magnitude': 42, 'units': [{'name': 'percent', 'exponent': 1}]}}]}\n"
     ]
    }
   ],
   "source": [
    "for j in jobs_result:\n",
    "    res = api.update_job_status(j['id'], JOB_STATUS['QueuedForMeshing'])\n",
    "    time.sleep(0.05)\n",
    "    print(res)"
   ]
  },
  {
   "cell_type": "markdown",
   "metadata": {},
   "source": [
    "example of hashing the input"
   ]
  },
  {
   "cell_type": "code",
   "execution_count": 57,
   "metadata": {},
   "outputs": [
    {
     "data": {
      "text/plain": [
       "{'magnitude': 2,\n",
       " 'units': [{'name': 'ampere', 'exponent': 1},\n",
       "  {'name': 'millimeter', 'exponent': -2}]}"
      ]
     },
     "execution_count": 57,
     "metadata": {},
     "output_type": "execute_result"
    }
   ],
   "source": [
    "jobs_result[0]['data'][0]['value']"
   ]
  },
  {
   "cell_type": "code",
   "execution_count": 58,
   "metadata": {},
   "outputs": [],
   "source": [
    "def decode(enc):\n",
    "    return q.Quantity.from_tuple(\n",
    "        (enc[\"magnitude\"], ((e[\"name\"], e[\"exponent\"]) for e in enc[\"units\"]))\n",
    "    )"
   ]
  },
  {
   "cell_type": "code",
   "execution_count": 64,
   "metadata": {},
   "outputs": [
    {
     "data": {
      "text/plain": [
       "{'slot_liner_thikness': 300 <Unit('micrometer')>,\n",
       " 'stator_bore': 8.2 <Unit('centimeter')>,\n",
       " 'tooth_tip_depth': 1.5 <Unit('millimeter')>,\n",
       " 'slot_opening': 1.5 <Unit('millimeter')>,\n",
       " 'tooth_width': 9.8 <Unit('millimeter')>,\n",
       " 'stator_outer_diameter': 0.136 <Unit('meter')>,\n",
       " 'back_iron_thickness': 5.5 <Unit('millimeter')>,\n",
       " 'stator_internal_radius': 500 <Unit('micrometer')>,\n",
       " 'number_slots': 12 <Unit('count')>,\n",
       " 'tooth_tip_angle': 70 <Unit('degree')>}"
      ]
     },
     "execution_count": 64,
     "metadata": {},
     "output_type": "execute_result"
    }
   ],
   "source": [
    "stator_params = {x['name']:decode(x['value']) for x in jobs_result[0]['data'] if x['section']=='stator'}\n",
    "stator_params"
   ]
  },
  {
   "cell_type": "code",
   "execution_count": 90,
   "metadata": {},
   "outputs": [
    {
     "data": {
      "text/plain": [
       "{'slot_liner_thikness': 0.0003 <Unit('meter')>,\n",
       " 'stator_bore': 0.08199999999999999 <Unit('meter')>,\n",
       " 'tooth_tip_depth': 0.0015 <Unit('meter')>,\n",
       " 'slot_opening': 0.0015 <Unit('meter')>,\n",
       " 'tooth_width': 0.009800000000000001 <Unit('meter')>,\n",
       " 'stator_outer_diameter': 0.136 <Unit('meter')>,\n",
       " 'back_iron_thickness': 0.0055 <Unit('meter')>,\n",
       " 'stator_internal_radius': 0.0005 <Unit('meter')>,\n",
       " 'number_slots': 12 <Unit('count')>,\n",
       " 'tooth_tip_angle': 1.2217304763960306 <Unit('radian')>}"
      ]
     },
     "execution_count": 90,
     "metadata": {},
     "output_type": "execute_result"
    }
   ],
   "source": [
    "base_unit_stator_params = {k:v.to_base_units() for k,v in stator_params.items()}\n",
    "base_unit_stator_params\n"
   ]
  },
  {
   "cell_type": "code",
   "execution_count": 91,
   "metadata": {},
   "outputs": [],
   "source": [
    "int_per_unit_stator_params = base_unit_stator_params.copy()\n",
    "for key in int_per_unit_stator_params:\n",
    "    if int_per_unit_stator_params[key].dimensionality is base_unit_stator_params['stator_bore'].dimensionality:\n",
    "        int_per_unit_stator_params[key] = int((base_unit_stator_params[key]/base_unit_stator_params['stator_bore']).magnitude * 2**15) \n",
    "    elif int_per_unit_stator_params[key].dimensionality is base_unit_stator_params['tooth_tip_angle'].dimensionality:\n",
    "        int_per_unit_stator_params[key] = int((base_unit_stator_params[key]/np.pi).magnitude * 2**15)\n",
    "    else:\n",
    "        int_per_unit_stator_params[key] = int(base_unit_stator_params[key].magnitude)"
   ]
  },
  {
   "cell_type": "code",
   "execution_count": 92,
   "metadata": {},
   "outputs": [],
   "source": [
    "per_unit_stator_params = base_unit_stator_params.copy()\n",
    "for key in per_unit_stator_params:\n",
    "    if per_unit_stator_params[key].dimensionality is base_unit_stator_params['stator_bore'].dimensionality:\n",
    "        per_unit_stator_params[key] = (base_unit_stator_params[key]/base_unit_stator_params['stator_bore']).magnitude \n",
    "    elif per_unit_stator_params[key].dimensionality is base_unit_stator_params['tooth_tip_angle'].dimensionality:\n",
    "        per_unit_stator_params[key] = (base_unit_stator_params[key]/np.pi).magnitude \n",
    "    else:\n",
    "        per_unit_stator_params[key] = base_unit_stator_params[key].magnitude"
   ]
  },
  {
   "cell_type": "code",
   "execution_count": 94,
   "metadata": {},
   "outputs": [
    {
     "data": {
      "text/plain": [
       "{'slot_liner_thikness': 0.0003 <Unit('meter')>,\n",
       " 'stator_bore': 0.08199999999999999 <Unit('meter')>,\n",
       " 'tooth_tip_depth': 0.0015 <Unit('meter')>,\n",
       " 'slot_opening': 0.0015 <Unit('meter')>,\n",
       " 'tooth_width': 0.009800000000000001 <Unit('meter')>,\n",
       " 'stator_outer_diameter': 0.136 <Unit('meter')>,\n",
       " 'back_iron_thickness': 0.0055 <Unit('meter')>,\n",
       " 'stator_internal_radius': 0.0005 <Unit('meter')>,\n",
       " 'number_slots': 12 <Unit('count')>,\n",
       " 'tooth_tip_angle': 1.2217304763960306 <Unit('radian')>}"
      ]
     },
     "execution_count": 94,
     "metadata": {},
     "output_type": "execute_result"
    }
   ],
   "source": [
    "base_unit_stator_params"
   ]
  },
  {
   "cell_type": "code",
   "execution_count": 95,
   "metadata": {},
   "outputs": [
    {
     "data": {
      "text/plain": [
       "{'slot_liner_thikness': 0.003658536585365854,\n",
       " 'stator_bore': 1.0,\n",
       " 'tooth_tip_depth': 0.01829268292682927,\n",
       " 'slot_opening': 0.01829268292682927,\n",
       " 'tooth_width': 0.11951219512195126,\n",
       " 'stator_outer_diameter': 1.658536585365854,\n",
       " 'back_iron_thickness': 0.06707317073170732,\n",
       " 'stator_internal_radius': 0.006097560975609757,\n",
       " 'number_slots': 12,\n",
       " 'tooth_tip_angle': 0.3888888888888889}"
      ]
     },
     "execution_count": 95,
     "metadata": {},
     "output_type": "execute_result"
    }
   ],
   "source": [
    "per_unit_stator_params"
   ]
  },
  {
   "cell_type": "code",
   "execution_count": 80,
   "metadata": {},
   "outputs": [],
   "source": [
    "import hashlib"
   ]
  },
  {
   "cell_type": "code",
   "execution_count": 81,
   "metadata": {},
   "outputs": [
    {
     "data": {
      "text/plain": [
       "'4c173a35daf2dbe3c14386650e96fee1ff1bc6c000aef996c8ce63b7c5695f44'"
      ]
     },
     "execution_count": 81,
     "metadata": {},
     "output_type": "execute_result"
    }
   ],
   "source": [
    "hashlib.sha256(str(per_unit_stator_params).encode()).hexdigest()"
   ]
  },
  {
   "cell_type": "code",
   "execution_count": 82,
   "metadata": {},
   "outputs": [
    {
     "data": {
      "text/plain": [
       "'01201a23775175778b0216b93959a114879185b8dc7fb218a011777f9b5af7bc'"
      ]
     },
     "execution_count": 82,
     "metadata": {},
     "output_type": "execute_result"
    }
   ],
   "source": [
    "hashlib.sha256(str(base_unit_stator_params).encode()).hexdigest()"
   ]
  },
  {
   "cell_type": "code",
   "execution_count": 83,
   "metadata": {},
   "outputs": [
    {
     "data": {
      "text/plain": [
       "\"{'slot_liner_thikness': <Quantity(0.0003, 'meter')>, 'stator_bore': <Quantity(0.082, 'meter')>, 'tooth_tip_depth': <Quantity(0.0015, 'meter')>, 'slot_opening': <Quantity(0.0015, 'meter')>, 'tooth_width': <Quantity(0.0098, 'meter')>, 'stator_outer_diameter': <Quantity(0.136, 'meter')>, 'back_iron_thickness': <Quantity(0.0055, 'meter')>, 'stator_internal_radius': <Quantity(0.0005, 'meter')>, 'number_slots': <Quantity(12, 'count')>, 'tooth_tip_angle': <Quantity(1.22173048, 'radian')>}\""
      ]
     },
     "execution_count": 83,
     "metadata": {},
     "output_type": "execute_result"
    }
   ],
   "source": [
    "str(base_unit_stator_params)"
   ]
  },
  {
   "cell_type": "code",
   "execution_count": null,
   "metadata": {},
   "outputs": [],
   "source": []
  }
 ],
 "metadata": {
  "kernelspec": {
   "display_name": "ltc_test_py311",
   "language": "python",
   "name": "python3"
  },
  "language_info": {
   "codemirror_mode": {
    "name": "ipython",
    "version": 3
   },
   "file_extension": ".py",
   "mimetype": "text/x-python",
   "name": "python",
   "nbconvert_exporter": "python",
   "pygments_lexer": "ipython3",
   "version": "3.10.12"
  }
 },
 "nbformat": 4,
 "nbformat_minor": 2
}

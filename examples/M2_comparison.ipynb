{
 "cells": [
  {
   "cell_type": "code",
   "execution_count": 2,
   "metadata": {},
   "outputs": [
    {
     "name": "stdout",
     "output_type": "stream",
     "text": [
      "Requirement already satisfied: pint in /home/mjfwest/repositories/Lonely-Tool-Cult/.venv/lib/python3.10/site-packages (from -r requirements.txt (line 2)) (0.23)\n",
      "Requirement already satisfied: pandas in /home/mjfwest/repositories/Lonely-Tool-Cult/.venv/lib/python3.10/site-packages (from -r requirements.txt (line 3)) (2.1.4)\n",
      "Requirement already satisfied: pint-pandas in /home/mjfwest/repositories/Lonely-Tool-Cult/.venv/lib/python3.10/site-packages (from -r requirements.txt (line 4)) (0.5)\n",
      "Requirement already satisfied: matplotlib in /home/mjfwest/repositories/Lonely-Tool-Cult/.venv/lib/python3.10/site-packages (from -r requirements.txt (line 5)) (3.8.2)\n",
      "Requirement already satisfied: pyyaml in /home/mjfwest/repositories/Lonely-Tool-Cult/.venv/lib/python3.10/site-packages (from -r requirements.txt (line 6)) (6.0.1)\n",
      "Requirement already satisfied: scipy in /home/mjfwest/repositories/Lonely-Tool-Cult/.venv/lib/python3.10/site-packages (from -r requirements.txt (line 7)) (1.12.0)\n",
      "Requirement already satisfied: typing-extensions in /home/mjfwest/repositories/Lonely-Tool-Cult/.venv/lib/python3.10/site-packages (from pint->-r requirements.txt (line 2)) (4.9.0)\n",
      "Requirement already satisfied: numpy<2,>=1.22.4 in /home/mjfwest/repositories/Lonely-Tool-Cult/.venv/lib/python3.10/site-packages (from pandas->-r requirements.txt (line 3)) (1.26.3)\n",
      "Requirement already satisfied: python-dateutil>=2.8.2 in /home/mjfwest/repositories/Lonely-Tool-Cult/.venv/lib/python3.10/site-packages (from pandas->-r requirements.txt (line 3)) (2.8.2)\n",
      "Requirement already satisfied: pytz>=2020.1 in /home/mjfwest/repositories/Lonely-Tool-Cult/.venv/lib/python3.10/site-packages (from pandas->-r requirements.txt (line 3)) (2023.3.post1)\n",
      "Requirement already satisfied: tzdata>=2022.1 in /home/mjfwest/repositories/Lonely-Tool-Cult/.venv/lib/python3.10/site-packages (from pandas->-r requirements.txt (line 3)) (2023.4)\n",
      "Requirement already satisfied: contourpy>=1.0.1 in /home/mjfwest/repositories/Lonely-Tool-Cult/.venv/lib/python3.10/site-packages (from matplotlib->-r requirements.txt (line 5)) (1.2.0)\n",
      "Requirement already satisfied: cycler>=0.10 in /home/mjfwest/repositories/Lonely-Tool-Cult/.venv/lib/python3.10/site-packages (from matplotlib->-r requirements.txt (line 5)) (0.12.1)\n",
      "Requirement already satisfied: fonttools>=4.22.0 in /home/mjfwest/repositories/Lonely-Tool-Cult/.venv/lib/python3.10/site-packages (from matplotlib->-r requirements.txt (line 5)) (4.47.2)\n",
      "Requirement already satisfied: kiwisolver>=1.3.1 in /home/mjfwest/repositories/Lonely-Tool-Cult/.venv/lib/python3.10/site-packages (from matplotlib->-r requirements.txt (line 5)) (1.4.5)\n",
      "Requirement already satisfied: packaging>=20.0 in /home/mjfwest/repositories/Lonely-Tool-Cult/.venv/lib/python3.10/site-packages (from matplotlib->-r requirements.txt (line 5)) (23.2)\n",
      "Requirement already satisfied: pillow>=8 in /home/mjfwest/repositories/Lonely-Tool-Cult/.venv/lib/python3.10/site-packages (from matplotlib->-r requirements.txt (line 5)) (10.2.0)\n",
      "Requirement already satisfied: pyparsing>=2.3.1 in /home/mjfwest/repositories/Lonely-Tool-Cult/.venv/lib/python3.10/site-packages (from matplotlib->-r requirements.txt (line 5)) (3.1.1)\n",
      "Requirement already satisfied: six>=1.5 in /home/mjfwest/repositories/Lonely-Tool-Cult/.venv/lib/python3.10/site-packages (from python-dateutil>=2.8.2->pandas->-r requirements.txt (line 3)) (1.16.0)\n",
      "Note: you may need to restart the kernel to use updated packages.\n",
      "Obtaining file:///home/mjfwest/repositories/Lonely-Tool-Cult/tinarm\n",
      "  Installing build dependencies ... \u001b[?25ldone\n",
      "\u001b[?25h  Checking if build backend supports build_editable ... \u001b[?25ldone\n",
      "\u001b[?25h  Getting requirements to build editable ... \u001b[?25ldone\n",
      "\u001b[?25h  Installing backend dependencies ... \u001b[?25ldone\n",
      "\u001b[?25h  Preparing editable metadata (pyproject.toml) ... \u001b[?25ldone\n",
      "\u001b[?25hRequirement already satisfied: pika in /home/mjfwest/repositories/Lonely-Tool-Cult/.venv/lib/python3.10/site-packages (from tinarm==0.1) (1.3.2)\n",
      "Requirement already satisfied: python-logging-rabbitmq in /home/mjfwest/repositories/Lonely-Tool-Cult/.venv/lib/python3.10/site-packages (from tinarm==0.1) (2.3.0)\n",
      "Requirement already satisfied: requests in /home/mjfwest/repositories/Lonely-Tool-Cult/.venv/lib/python3.10/site-packages (from tinarm==0.1) (2.31.0)\n",
      "Requirement already satisfied: charset-normalizer<4,>=2 in /home/mjfwest/repositories/Lonely-Tool-Cult/.venv/lib/python3.10/site-packages (from requests->tinarm==0.1) (3.3.2)\n",
      "Requirement already satisfied: idna<4,>=2.5 in /home/mjfwest/repositories/Lonely-Tool-Cult/.venv/lib/python3.10/site-packages (from requests->tinarm==0.1) (3.6)\n",
      "Requirement already satisfied: urllib3<3,>=1.21.1 in /home/mjfwest/repositories/Lonely-Tool-Cult/.venv/lib/python3.10/site-packages (from requests->tinarm==0.1) (2.1.0)\n",
      "Requirement already satisfied: certifi>=2017.4.17 in /home/mjfwest/repositories/Lonely-Tool-Cult/.venv/lib/python3.10/site-packages (from requests->tinarm==0.1) (2023.11.17)\n",
      "Building wheels for collected packages: tinarm\n",
      "  Building editable for tinarm (pyproject.toml) ... \u001b[?25ldone\n",
      "\u001b[?25h  Created wheel for tinarm: filename=tinarm-0.1-0.editable-py3-none-any.whl size=3547 sha256=4bec8e424865bd935d69ef151c73539ec688dd992b9f39127d57b52f780e7f4c\n",
      "  Stored in directory: /tmp/pip-ephem-wheel-cache-h0145od4/wheels/c8/ba/3d/55d5319b8492cf184b68a52db71416b190659ad76ff43a98ab\n",
      "Successfully built tinarm\n",
      "Installing collected packages: tinarm\n",
      "  Attempting uninstall: tinarm\n",
      "    Found existing installation: tinarm 0.1\n",
      "    Uninstalling tinarm-0.1:\n",
      "      Successfully uninstalled tinarm-0.1\n",
      "Successfully installed tinarm-0.1\n",
      "Note: you may need to restart the kernel to use updated packages.\n"
     ]
    }
   ],
   "source": [
    "%pip install -r requirements.txt\n",
    "#%pip uninstall -y tinarm\n",
    "%pip install -e ../.\n"
   ]
  },
  {
   "cell_type": "code",
   "execution_count": 3,
   "metadata": {},
   "outputs": [],
   "source": [
    "import pandas as pd\n",
    "import pint_pandas\n",
    "import logging\n",
    "import tinarm\n",
    "import os\n",
    "import numpy as np\n",
    "import matplotlib.pyplot as plt\n",
    "from scipy.optimize import minimize"
   ]
  },
  {
   "cell_type": "code",
   "execution_count": 4,
   "metadata": {},
   "outputs": [
    {
     "name": "stdout",
     "output_type": "stream",
     "text": [
      "2024-03-19 19:02:31,307 - NoJobId - INFO - Kebnekaise - 194884122.py-><module>() - tinarm version 0.1\n",
      "2024-03-19 19:02:31,308 - NoJobId - INFO - Kebnekaise - 194884122.py-><module>() - pint_pandas version 0.5\n"
     ]
    }
   ],
   "source": [
    "### Configure Logging\n",
    "LOGGING_LEVEL = logging.INFO\n",
    "\n",
    "logger = logging.getLogger()\n",
    "logger.setLevel(LOGGING_LEVEL)\n",
    "logger.info(f\"tinarm version {tinarm.__version__}\")\n",
    "logger.info(f\"pint_pandas version {pint_pandas.__version__}\")\n",
    "\n",
    "q = pint_pandas.PintType.ureg\n",
    "q.setup_matplotlib()"
   ]
  },
  {
   "cell_type": "code",
   "execution_count": 5,
   "metadata": {},
   "outputs": [],
   "source": [
    "# Get the operating points for the machine machine='M1'\n",
    "# Each opperating point is a folder in the machine folder\n",
    "machine = 'M1'\n",
    "operating_points = [op_point for op_point in os.listdir(machine) if os.path.isdir(os.path.join(machine, op_point)) and not op_point.startswith('__pycache__')]"
   ]
  },
  {
   "cell_type": "code",
   "execution_count": 6,
   "metadata": {},
   "outputs": [
    {
     "data": {
      "text/plain": [
       "['NominalPowerMaxSpeed_13Nm_3600rpm',\n",
       " 'PeakTorqueBaseSpeed_36Nm_1380rpm',\n",
       " 'Nominal_24Nm_2060rpm']"
      ]
     },
     "execution_count": 6,
     "metadata": {},
     "output_type": "execute_result"
    }
   ],
   "source": [
    "operating_points\n"
   ]
  },
  {
   "cell_type": "code",
   "execution_count": 7,
   "metadata": {},
   "outputs": [
    {
     "name": "stdout",
     "output_type": "stream",
     "text": [
      "Processing NominalPowerMaxSpeed_13Nm_3600rpm\n",
      "\u001b[32m  BackEmf.csv found\u001b[0m\n",
      "\u001b[32m  CurrentAngle.csv found\u001b[0m\n",
      "\u001b[32m  IronLoss.csv found\u001b[0m\n",
      "\u001b[32m  MagnetLoss.csv found\u001b[0m\n",
      "\u001b[32m  PhaseVoltage.csv found\u001b[0m\n",
      "\u001b[32m  Torque.csv found\u001b[0m\n",
      "\u001b[31m  operating_point.py not found\u001b[0m\n",
      "Processing PeakTorqueBaseSpeed_36Nm_1380rpm\n",
      "\u001b[32m  BackEmf.csv found\u001b[0m\n",
      "\u001b[32m  CurrentAngle.csv found\u001b[0m\n",
      "\u001b[32m  IronLoss.csv found\u001b[0m\n",
      "\u001b[32m  MagnetLoss.csv found\u001b[0m\n",
      "\u001b[32m  PhaseVoltage.csv found\u001b[0m\n",
      "\u001b[32m  Torque.csv found\u001b[0m\n",
      "\u001b[31m  operating_point.py not found\u001b[0m\n",
      "Processing Nominal_24Nm_2060rpm\n",
      "\u001b[32m  BackEmf.csv found\u001b[0m\n",
      "\u001b[32m  CurrentAngle.csv found\u001b[0m\n",
      "\u001b[32m  IronLoss.csv found\u001b[0m\n",
      "\u001b[32m  MagnetLoss.csv found\u001b[0m\n",
      "\u001b[32m  PhaseVoltage.csv found\u001b[0m\n",
      "\u001b[32m  Torque.csv found\u001b[0m\n",
      "\u001b[32m  operating_point.py found\u001b[0m\n"
     ]
    }
   ],
   "source": [
    "# check that we have all the expected charts\n",
    "def check_charts(machine, operating_points):\n",
    "    expected_charts = ['BackEmf.csv', 'CurrentAngle.csv',\n",
    "                    'IronLoss.csv', 'MagnetLoss.csv',\n",
    "                    'PhaseVoltage.csv', 'Torque.csv']\n",
    "    for op_point in operating_points:\n",
    "        print(f\"Processing {op_point}\")\n",
    "        charts = [c for c in os.listdir(os.path.join(machine, op_point)) if c.endswith('.csv')]\n",
    "        charts.sort()\n",
    "\n",
    "        for chart in charts:\n",
    "            if chart in expected_charts:\n",
    "                # in green text\n",
    "                print(f\"\\033[32m  {chart} found\\033[0m\")\n",
    "            else:\n",
    "                # in red text\n",
    "                print(f\"\\033[31m  {chart} not found\\033[0m\")\n",
    "        if \"operating_point.py\" in os.listdir(os.path.join(machine, op_point)):\n",
    "            print(f\"\\033[32m  operating_point.py found\\033[0m\")\n",
    "        else:\n",
    "            print(f\"\\033[31m  operating_point.py not found\\033[0m\")\n",
    "    return charts\n",
    "\n",
    "charts = check_charts(machine, operating_points)\n",
    "\n"
   ]
  },
  {
   "cell_type": "code",
   "execution_count": 8,
   "metadata": {},
   "outputs": [],
   "source": [
    "from M1 import machine as m\n",
    "from M1.Nominal_24Nm_2060rpm import operating_point as nominal_op\n",
    "\n",
    "\n",
    "\n",
    "op_point = \"Nominal_24Nm_2060rpm\"\n",
    "chart = \"BackEmf.csv\"\n",
    "df = pd.read_csv(os.path.join(machine, op_point, chart), index_col=None, header=[0,1])\n",
    "\n",
    "num_phases = m.winding_parameters[\"number_phases\"].to_base_units().magnitude\n",
    "num_pole_pairs = (m.rotor_parameters[\"number_poles\"]//2).to_base_units().magnitude\n"
   ]
  },
  {
   "cell_type": "code",
   "execution_count": 9,
   "metadata": {},
   "outputs": [],
   "source": [
    "def overlay_emf(df, num_phases, num_pole_pairs):\n",
    "    assert num_phases == 3\n",
    "    theta_m = np.hstack((np.deg2rad(df['EMFa']['X'] ),\n",
    "            np.deg2rad((df['EMFb']['X']-(360/num_pole_pairs/num_phases))),\n",
    "            np.deg2rad((df['EMFc']['X']+(360/num_pole_pairs/num_phases)))))\n",
    "\n",
    "\n",
    "    v_emf = np.hstack((df['EMFa']['Y'],\n",
    "                df['EMFb']['Y'],\n",
    "                df['EMFc']['Y']))\n",
    "\n",
    "    not_nan  = np.logical_not(np.logical_and(np.isnan(theta_m), np.isnan(v_emf)))\n",
    "    theta_m = theta_m[not_nan]\n",
    "    v_emf = v_emf[not_nan]\n",
    "    sort_idx = np.argsort(theta_m)\n",
    "    return theta_m[sort_idx], v_emf[sort_idx]"
   ]
  },
  {
   "cell_type": "code",
   "execution_count": 10,
   "metadata": {},
   "outputs": [],
   "source": [
    "# set the initial guess, coef[0] is the phase offset, the rest are the cosine coefficients\n",
    "coefs = np.array([np.nan,  np.nan, np.nan, np.nan,\n",
    "       -9.96330324e-02, -1.11853145e+00, -2.27614394e-01,  2.32197231e-01,\n",
    "        2.34067377e-01,  5.18779813e-01,  5.52624693e-02, 0, 0 ])\n",
    "# make odd coefficients, from 1 to 2*len(coefs)-1\n",
    "n_idx = np.arange(1, 2*len(coefs)-1, 2)"
   ]
  },
  {
   "cell_type": "code",
   "execution_count": 11,
   "metadata": {},
   "outputs": [],
   "source": [
    "def predict(coefs, theta, num_pole_pairs=5):\n",
    "    n_idx = np.arange(1, 2*len(coefs)-1, 2)\n",
    "    pred = np.matmul(coefs[1:], np.cos(np.outer(n_idx, coefs[0] + theta * num_pole_pairs)))\n",
    "    return pred\n",
    "\n",
    "def loss(coefs, theta, v_emf):\n",
    "    pred = predict(coefs, theta)\n",
    "    return np.sum((v_emf - pred)**2)"
   ]
  },
  {
   "cell_type": "code",
   "execution_count": 12,
   "metadata": {},
   "outputs": [
    {
     "data": {
      "text/plain": [
       "array([ 6.28318531e-01,  1.93421425e+02, -7.73685700e+00, -1.54737140e+00,\n",
       "       -9.96330324e-02, -1.11853145e+00, -2.27614394e-01,  2.32197231e-01,\n",
       "        2.34067377e-01,  5.18779813e-01,  5.52624693e-02,  0.00000000e+00,\n",
       "        0.00000000e+00])"
      ]
     },
     "execution_count": 12,
     "metadata": {},
     "output_type": "execute_result"
    }
   ],
   "source": [
    "#optimise the coefficients\n",
    "theta_m, v_emf = overlay_emf(df, num_phases, num_pole_pairs)\n",
    "peak_voltage = np.max(v_emf)\n",
    "#set bounds that the coefficients must be positive\n",
    "bounds = [(None, None) for _ in range(len(coefs))]\n",
    "bounds[0] = (0, 2*np.pi/num_pole_pairs)\n",
    "bounds[1] = (peak_voltage, peak_voltage * 1.5) # fundamental\n",
    "bounds[2] = (-0.1 * peak_voltage , 0)\n",
    "bounds[3] = (-0.02 * peak_voltage , 0)\n",
    "\n",
    "coefs[0:4] =np.mean(bounds[0:4], axis=1)\n",
    "coefs"
   ]
  },
  {
   "cell_type": "code",
   "execution_count": 13,
   "metadata": {},
   "outputs": [
    {
     "name": "stdout",
     "output_type": "stream",
     "text": [
      "Optimization terminated successfully.\n",
      "         Current function value: 295.510873\n",
      "         Iterations: 4888\n",
      "         Function evaluations: 6634\n",
      "True\n"
     ]
    }
   ],
   "source": [
    "theta_m, v_emf = overlay_emf(df, num_phases, num_pole_pairs)\n",
    "res = minimize(loss, coefs,\n",
    "               args=(theta_m, v_emf),\n",
    "               method='Nelder-Mead', tol=1e-6,\n",
    "               bounds=bounds,\n",
    "               options={'disp': True, \"maxiter\":9000})\n",
    "print(res.success)\n",
    "\n",
    "pred = predict(res.x, theta_m)\n"
   ]
  },
  {
   "cell_type": "code",
   "execution_count": 14,
   "metadata": {},
   "outputs": [],
   "source": [
    "phase_emf_a = -res.x[0]/num_pole_pairs\n",
    "phase_emf_b = -res.x[0]/num_pole_pairs +(2*np.pi / num_pole_pairs / num_phases)\n",
    "phase_emf_c = -res.x[0]/num_pole_pairs +2*(2*np.pi / num_pole_pairs / num_phases)\n"
   ]
  },
  {
   "cell_type": "code",
   "execution_count": 15,
   "metadata": {},
   "outputs": [
    {
     "data": {
      "text/plain": [
       "array([270.01055664])"
      ]
     },
     "execution_count": 15,
     "metadata": {},
     "output_type": "execute_result"
    }
   ],
   "source": [
    "from phase_a_emf import phase_a_emf\n",
    "phase_a_emf(0)"
   ]
  },
  {
   "cell_type": "code",
   "execution_count": 16,
   "metadata": {},
   "outputs": [
    {
     "data": {
      "image/png": "[encoded data removed]",
      "text/plain": [
       "<Figure size 640x480 with 2 Axes>"
      ]
     },
     "metadata": {},
     "output_type": "display_data"
    }
   ],
   "source": [
    "fig, (ax_t, ax_w) = plt.subplots(2, 1, constrained_layout=True)\n",
    "la, = ax_t.plot(np.deg2rad(df['EMFa']['X']), df['EMFa']['Y'], '+', alpha=0.5)\n",
    "lb, = ax_t.plot(np.deg2rad(df['EMFb']['X']), df['EMFb']['Y'], '+', alpha=0.5)\n",
    "lc, = ax_t.plot(np.deg2rad(df['EMFc']['X']), df['EMFc']['Y'], '+', alpha=0.5)\n",
    "\n",
    "theta = np.linspace(0, 2*np.pi/num_pole_pairs, 1000)\n",
    "\n",
    "ax_t.plot(theta, predict(res.x, theta), color=la.get_color())\n",
    "ax_t.plot(theta, predict(res.x, theta-(2*np.pi/num_pole_pairs/num_phases)), color=lb.get_color())\n",
    "ax_t.plot(theta, predict(res.x, theta+(2*np.pi/num_pole_pairs/num_phases)), color=lc.get_color())\n",
    "\n",
    "ax_t.plot(phase_emf_a, res.x[1], 'o', color=la.get_color())\n",
    "ax_t.plot(phase_emf_b, res.x[1], 'o', color=lb.get_color())\n",
    "ax_t.plot(phase_emf_c, res.x[1], 'o', color=lc.get_color())\n",
    "ax_t.set_xlabel('Theta mechanical (rad)')\n",
    "\n",
    "ax_w.bar(n_idx, abs(res.x[1:]), color = ['r' if res.x[i] < 0 else 'b' for i in range(1, len(res.x))])\n",
    "ax_w.set_xlabel('Harmonic')\n",
    "ax_w.set_yscale('log')\n",
    "ax_w.set_xticks(n_idx)\n",
    "for i in range(1, len(res.x)):\n",
    "    ax_w.text(n_idx[i-1], abs(res.x[i])*0.5, f\"{res.x[i]:.2f}\", ha='center', va='top', bbox=dict(facecolor='white',\n",
    "                                                                                                alpha=0.5, edgecolor='gray'))"
   ]
  },
  {
   "cell_type": "code",
   "execution_count": 21,
   "metadata": {},
   "outputs": [],
   "source": [
    "import yaml\n",
    "from tinarm import Job\n",
    "from tinarm import Machine\n",
    "from tinarm.api import JOB_STATUS, STATUS_JOB\n",
    "from tinarm import Api\n",
    "import time"
   ]
  },
  {
   "cell_type": "code",
   "execution_count": 99,
   "metadata": {},
   "outputs": [],
   "source": [
    "simulation_parameters = {\n",
    "       \"samples_per_electrical_period\": 180 * q.count/q.turn,\n",
    "        \"timestep_intervals\": 180 * q.count,\n",
    "        \"active_length\": 65 * q.mm * 0.97 / 1.02}"
   ]
  },
  {
   "cell_type": "code",
   "execution_count": 100,
   "metadata": {},
   "outputs": [],
   "source": [
    "with open(\"configurations.yaml\", \"r\") as f:\n",
    "    config = yaml.safe_load(f)"
   ]
  },
  {
   "cell_type": "code",
   "execution_count": 101,
   "metadata": {},
   "outputs": [
    {
     "data": {
      "text/plain": [
       "{'current_density': 0.0 <Unit('ampere / millimeter ** 2')>,\n",
       " 'current_angle': 255 <Unit('degree')>,\n",
       " 'simulated_speed': 2060 <Unit('revolutions_per_minute')>}"
      ]
     },
     "execution_count": 101,
     "metadata": {},
     "output_type": "execute_result"
    }
   ],
   "source": [
    "open_cct = nominal_op.operating_point.copy()\n",
    "open_cct['current_density'] = 0.0 * q.A/q.mm**2\n",
    "open_cct"
   ]
  },
  {
   "cell_type": "code",
   "execution_count": 102,
   "metadata": {},
   "outputs": [
    {
     "name": "stdout",
     "output_type": "stream",
     "text": [
      "2024-03-19 20:04:55,221 - NoJobId - INFO - Kebnekaise - api.py->__init__() - root_url: https://api.build.tinarmengineering.com\n",
      "2024-03-19 20:04:55,575 - NoJobId - INFO - Kebnekaise - api.py->update_job_status() - Updating job status: https://api.build.tinarmengineering.com/jobs/65f9e1d6be49604857ecb601/status/10?node_id=None&apikey=3d2a3620de532ee4169069c8d87af9b2&percentage_complete=None\n",
      "0.4111 Open CCT status QueuedForMeshConversion\n",
      "10.84 Open CCT status Solving\n",
      "21.35 Open CCT status Solving\n",
      "31.83 Open CCT status Solving\n",
      "42.32 Open CCT status Solving\n",
      "52.81 Open CCT status Solving\n",
      "63.27 Open CCT status Solving\n",
      "73.7 Open CCT status Solving\n",
      "84.15 Open CCT status Solving\n",
      "94.61 Open CCT status Solving\n",
      "105.1 Open CCT status Solving\n",
      "115.6 Open CCT status Solving\n",
      "126.2 Open CCT status PostProcess\n",
      "136.7 Open CCT status PostProcess\n",
      "147.2 Open CCT status PostProcess\n",
      "158.6 Open CCT status Complete\n"
     ]
    }
   ],
   "source": [
    "api = Api(config[\"root_url\"], config[\"api_key\"], config[\"org_id\"])\n",
    "m1 = Machine(m.stator_parameters, m.rotor_parameters, m.winding_parameters)\n",
    "\n",
    "j1 = Job(m1, open_cct, simulation_parameters, title=\"Open CCT\")\n",
    "j1_result = api.create_job(j1)\n",
    "j1_result = api.update_job_status(j1.id, JOB_STATUS['QueuedForMeshing'])\n",
    "init_time = time.time()\n",
    "while STATUS_JOB[api.get_job(j1.id)['status']] != 'Complete':\n",
    "    print(\"{2:2.4} {1} status {0}\".format(STATUS_JOB[api.get_job(j1.id)['status']], j1.title, time.time()-init_time))\n",
    "    time.sleep(10)\n",
    "time.sleep(1)\n",
    "print(\"{2:2.4}s {1} status {0}\".format(STATUS_JOB[api.get_job(j1.id)['status']], j1.title, time.time()-init_time))"
   ]
  },
  {
   "cell_type": "code",
   "execution_count": 103,
   "metadata": {},
   "outputs": [
    {
     "data": {
      "text/html": [
       "<div>\n",
       "<style scoped>\n",
       "    .dataframe tbody tr th:only-of-type {\n",
       "        vertical-align: middle;\n",
       "    }\n",
       "\n",
       "    .dataframe tbody tr th {\n",
       "        vertical-align: top;\n",
       "    }\n",
       "\n",
       "    .dataframe thead th {\n",
       "        text-align: right;\n",
       "    }\n",
       "</style>\n",
       "<table border=\"1\" class=\"dataframe\">\n",
       "  <thead>\n",
       "    <tr style=\"text-align: right;\">\n",
       "      <th></th>\n",
       "      <th></th>\n",
       "      <th>Electromagnetic Field Energy</th>\n",
       "      <th>Fourier Loss Total</th>\n",
       "      <th>Fourier Loss 1</th>\n",
       "      <th>Fourier Loss 2</th>\n",
       "      <th>Air Gap Torque</th>\n",
       "      <th>Inertial Volume</th>\n",
       "      <th>Inertial Moment</th>\n",
       "      <th>angles</th>\n",
       "      <th>Scaled Torque</th>\n",
       "      <th>Back_EMF_0</th>\n",
       "      <th>Back_EMF_1</th>\n",
       "      <th>Back_EMF_2</th>\n",
       "    </tr>\n",
       "  </thead>\n",
       "  <tbody>\n",
       "    <tr>\n",
       "      <th>0</th>\n",
       "      <th>0.0</th>\n",
       "      <td>103.5422329245</td>\n",
       "      <td>0.0</td>\n",
       "      <td>0.0</td>\n",
       "      <td>0.0</td>\n",
       "      <td>-0.03611458062972</td>\n",
       "      <td>0.0</td>\n",
       "      <td>0.0</td>\n",
       "      <td>0.000000</td>\n",
       "      <td>-0.0044647535464781</td>\n",
       "      <td>-151.813440</td>\n",
       "      <td>43.105061</td>\n",
       "      <td>125.980788</td>\n",
       "    </tr>\n",
       "    <tr>\n",
       "      <th>1</th>\n",
       "      <th>0.0</th>\n",
       "      <td>103.5450818467</td>\n",
       "      <td>0.0</td>\n",
       "      <td>0.0</td>\n",
       "      <td>0.0</td>\n",
       "      <td>-0.04770421578207</td>\n",
       "      <td>0.0</td>\n",
       "      <td>0.0</td>\n",
       "      <td>0.034907</td>\n",
       "      <td>-0.0058975505981559</td>\n",
       "      <td>-153.542444</td>\n",
       "      <td>33.982500</td>\n",
       "      <td>131.343832</td>\n",
       "    </tr>\n",
       "    <tr>\n",
       "      <th>2</th>\n",
       "      <th>0.0</th>\n",
       "      <td>103.5496421553</td>\n",
       "      <td>0.0</td>\n",
       "      <td>0.0</td>\n",
       "      <td>0.0</td>\n",
       "      <td>-0.0971468544751</td>\n",
       "      <td>0.0</td>\n",
       "      <td>0.0</td>\n",
       "      <td>0.069813</td>\n",
       "      <td>-0.0120100179895197</td>\n",
       "      <td>-151.657936</td>\n",
       "      <td>26.627331</td>\n",
       "      <td>135.628384</td>\n",
       "    </tr>\n",
       "    <tr>\n",
       "      <th>3</th>\n",
       "      <th>0.0</th>\n",
       "      <td>103.5540751998</td>\n",
       "      <td>0.0</td>\n",
       "      <td>0.0</td>\n",
       "      <td>0.0</td>\n",
       "      <td>-0.03908272104054</td>\n",
       "      <td>0.0</td>\n",
       "      <td>0.0</td>\n",
       "      <td>0.104720</td>\n",
       "      <td>-0.0048316971796197</td>\n",
       "      <td>-150.968502</td>\n",
       "      <td>20.292909</td>\n",
       "      <td>139.367526</td>\n",
       "    </tr>\n",
       "    <tr>\n",
       "      <th>4</th>\n",
       "      <th>0.0</th>\n",
       "      <td>103.5616307744</td>\n",
       "      <td>0.0</td>\n",
       "      <td>0.0</td>\n",
       "      <td>0.0</td>\n",
       "      <td>0.0455152659509</td>\n",
       "      <td>0.0</td>\n",
       "      <td>0.0</td>\n",
       "      <td>0.139626</td>\n",
       "      <td>0.0056269363102044</td>\n",
       "      <td>-149.006753</td>\n",
       "      <td>14.842146</td>\n",
       "      <td>140.582579</td>\n",
       "    </tr>\n",
       "    <tr>\n",
       "      <th>...</th>\n",
       "      <th>...</th>\n",
       "      <td>...</td>\n",
       "      <td>...</td>\n",
       "      <td>...</td>\n",
       "      <td>...</td>\n",
       "      <td>...</td>\n",
       "      <td>...</td>\n",
       "      <td>...</td>\n",
       "      <td>...</td>\n",
       "      <td>...</td>\n",
       "      <td>...</td>\n",
       "      <td>...</td>\n",
       "      <td>...</td>\n",
       "    </tr>\n",
       "    <tr>\n",
       "      <th>175</th>\n",
       "      <th>0.0</th>\n",
       "      <td>103.5695515539</td>\n",
       "      <td>0.0</td>\n",
       "      <td>0.0</td>\n",
       "      <td>0.0</td>\n",
       "      <td>-0.1399725983098</td>\n",
       "      <td>0.0</td>\n",
       "      <td>0.0</td>\n",
       "      <td>6.108652</td>\n",
       "      <td>-0.0173044555361429</td>\n",
       "      <td>-155.202209</td>\n",
       "      <td>78.707994</td>\n",
       "      <td>103.441529</td>\n",
       "    </tr>\n",
       "    <tr>\n",
       "      <th>176</th>\n",
       "      <th>0.0</th>\n",
       "      <td>103.5586658326</td>\n",
       "      <td>0.0</td>\n",
       "      <td>0.0</td>\n",
       "      <td>0.0</td>\n",
       "      <td>-0.1084778958125</td>\n",
       "      <td>0.0</td>\n",
       "      <td>0.0</td>\n",
       "      <td>6.143559</td>\n",
       "      <td>-0.0134108457470159</td>\n",
       "      <td>-155.243688</td>\n",
       "      <td>73.599102</td>\n",
       "      <td>107.368814</td>\n",
       "    </tr>\n",
       "    <tr>\n",
       "      <th>177</th>\n",
       "      <th>0.0</th>\n",
       "      <td>103.5515684427</td>\n",
       "      <td>0.0</td>\n",
       "      <td>0.0</td>\n",
       "      <td>0.0</td>\n",
       "      <td>-0.02112257438847</td>\n",
       "      <td>0.0</td>\n",
       "      <td>0.0</td>\n",
       "      <td>6.178466</td>\n",
       "      <td>-0.0026113300297902</td>\n",
       "      <td>-154.902271</td>\n",
       "      <td>66.821781</td>\n",
       "      <td>111.280542</td>\n",
       "    </tr>\n",
       "    <tr>\n",
       "      <th>178</th>\n",
       "      <th>0.0</th>\n",
       "      <td>103.5478722081</td>\n",
       "      <td>0.0</td>\n",
       "      <td>0.0</td>\n",
       "      <td>0.0</td>\n",
       "      <td>0.03995419525021</td>\n",
       "      <td>0.0</td>\n",
       "      <td>0.0</td>\n",
       "      <td>6.213372</td>\n",
       "      <td>0.0049394353147563</td>\n",
       "      <td>-154.189433</td>\n",
       "      <td>58.621760</td>\n",
       "      <td>116.121027</td>\n",
       "    </tr>\n",
       "    <tr>\n",
       "      <th>179</th>\n",
       "      <th>0.0</th>\n",
       "      <td>103.5432543002</td>\n",
       "      <td>360.2067463104</td>\n",
       "      <td>163.1514786331</td>\n",
       "      <td>197.0552676774</td>\n",
       "      <td>0.01950084722542</td>\n",
       "      <td>0.0</td>\n",
       "      <td>0.0</td>\n",
       "      <td>6.248279</td>\n",
       "      <td>0.0024108400344367</td>\n",
       "      <td>-153.792288</td>\n",
       "      <td>50.986935</td>\n",
       "      <td>121.734213</td>\n",
       "    </tr>\n",
       "  </tbody>\n",
       "</table>\n",
       "<p>180 rows × 12 columns</p>\n",
       "</div>"
      ],
      "text/plain": [
       "         Electromagnetic Field Energy  Fourier Loss Total  Fourier Loss 1  \\\n",
       "0   0.0                103.5422329245                 0.0             0.0   \n",
       "1   0.0                103.5450818467                 0.0             0.0   \n",
       "2   0.0                103.5496421553                 0.0             0.0   \n",
       "3   0.0                103.5540751998                 0.0             0.0   \n",
       "4   0.0                103.5616307744                 0.0             0.0   \n",
       "...                               ...                 ...             ...   \n",
       "175 0.0                103.5695515539                 0.0             0.0   \n",
       "176 0.0                103.5586658326                 0.0             0.0   \n",
       "177 0.0                103.5515684427                 0.0             0.0   \n",
       "178 0.0                103.5478722081                 0.0             0.0   \n",
       "179 0.0                103.5432543002      360.2067463104  163.1514786331   \n",
       "\n",
       "         Fourier Loss 2     Air Gap Torque  Inertial Volume  Inertial Moment  \\\n",
       "0   0.0             0.0  -0.03611458062972              0.0              0.0   \n",
       "1   0.0             0.0  -0.04770421578207              0.0              0.0   \n",
       "2   0.0             0.0   -0.0971468544751              0.0              0.0   \n",
       "3   0.0             0.0  -0.03908272104054              0.0              0.0   \n",
       "4   0.0             0.0    0.0455152659509              0.0              0.0   \n",
       "...                 ...                ...              ...              ...   \n",
       "175 0.0             0.0   -0.1399725983098              0.0              0.0   \n",
       "176 0.0             0.0   -0.1084778958125              0.0              0.0   \n",
       "177 0.0             0.0  -0.02112257438847              0.0              0.0   \n",
       "178 0.0             0.0   0.03995419525021              0.0              0.0   \n",
       "179 0.0  197.0552676774   0.01950084722542              0.0              0.0   \n",
       "\n",
       "           angles        Scaled Torque  Back_EMF_0  Back_EMF_1  Back_EMF_2  \n",
       "0   0.0  0.000000  -0.0044647535464781 -151.813440   43.105061  125.980788  \n",
       "1   0.0  0.034907  -0.0058975505981559 -153.542444   33.982500  131.343832  \n",
       "2   0.0  0.069813  -0.0120100179895197 -151.657936   26.627331  135.628384  \n",
       "3   0.0  0.104720  -0.0048316971796197 -150.968502   20.292909  139.367526  \n",
       "4   0.0  0.139626   0.0056269363102044 -149.006753   14.842146  140.582579  \n",
       "...           ...                  ...         ...         ...         ...  \n",
       "175 0.0  6.108652  -0.0173044555361429 -155.202209   78.707994  103.441529  \n",
       "176 0.0  6.143559  -0.0134108457470159 -155.243688   73.599102  107.368814  \n",
       "177 0.0  6.178466  -0.0026113300297902 -154.902271   66.821781  111.280542  \n",
       "178 0.0  6.213372   0.0049394353147563 -154.189433   58.621760  116.121027  \n",
       "179 0.0  6.248279   0.0024108400344367 -153.792288   50.986935  121.734213  \n",
       "\n",
       "[180 rows x 12 columns]"
      ]
     },
     "execution_count": 103,
     "metadata": {},
     "output_type": "execute_result"
    }
   ],
   "source": [
    "j1_result = api.get_job(j1.id)\n",
    "j1_result_data = [art for art in j1_result['artifacts'] if art['type']=='RESULT_DATA'][0]\n",
    "j1_df = pd.read_csv(j1_result_data['url'], header=[0, 1], index_col=[0, 1]).pint.quantify(level=-1)\n",
    "j1_df"
   ]
  },
  {
   "cell_type": "code",
   "execution_count": 117,
   "metadata": {},
   "outputs": [
    {
     "name": "stdout",
     "output_type": "stream",
     "text": [
      "Error 292.43958948839077\n"
     ]
    },
    {
     "data": {
      "image/png": "[encoded data removed]",
      "text/plain": [
       "<Figure size 640x480 with 2 Axes>"
      ]
     },
     "metadata": {},
     "output_type": "display_data"
    }
   ],
   "source": [
    "theta_err = np.pi+0.0129\n",
    "\n",
    "fig, (ax_t, ax_w) = plt.subplots(2, 1, constrained_layout=True)\n",
    "la, = ax_t.plot(j1_df['angles'], j1_df['Back_EMF_0'], '--', alpha=0.5)\n",
    "lb, = ax_t.plot(j1_df['angles'], j1_df['Back_EMF_1'], '--', alpha=0.5)\n",
    "lc, = ax_t.plot(j1_df['angles'], j1_df['Back_EMF_2'], '--', alpha=0.5)\n",
    "ax_t.plot(j1_df['angles'], predict(res.x, j1_df['angles']/num_pole_pairs+theta_err), color=la.get_color())\n",
    "ax_t.plot(j1_df['angles'], predict(res.x, j1_df['angles']/num_pole_pairs-(2*np.pi/num_pole_pairs/num_phases)+theta_err), color=lb.get_color())\n",
    "ax_t.plot(j1_df['angles'], predict(res.x, j1_df['angles']/num_pole_pairs+(2*np.pi/num_pole_pairs/num_phases)+theta_err), color=lc.get_color())\n",
    "\n",
    "err = np.sum(np.abs(j1_df['Back_EMF_0'] - predict(res.x, j1_df['angles']/num_pole_pairs+theta_err)))\n",
    "print(f\"Error {err}\")\n",
    "\n",
    "# do an fft of the j1_df['Back_EMF_0'] and compare to the coefficients\n",
    "from scipy.fft import fft\n",
    "# Number of sample points\n",
    "N = len(j1_df['Back_EMF_0'])\n",
    "# sample spacing\n",
    "delta_theta = np.diff(j1_df['angles'])[0]\n",
    "\n",
    "yf = fft(j1_df['Back_EMF_0'].values, n=N)\n",
    "ax_w.bar(x=range(1,24,2), height=np.abs(yf[1:24:2])/(N/2), color='b')\n",
    "ax_w.bar(n_idx, abs(res.x[1:]), color = 'r', alpha=0.5)\n",
    "ax_w.set_yscale('log')\n",
    "for i in range(1, len(res.x)):\n",
    "    diff = abs(yf[i*2-1]/(N/2)) / abs(res.x[i])\n",
    "    ax_w.text(n_idx[i-1], abs(yf[i*2-1]/(N/2))*0.5, f\"{diff:2.0%}\", ha='center', va='top', bbox=dict(facecolor='white',\n",
    "                                                                                                alpha=0.5, edgecolor='gray'))"
   ]
  },
  {
   "cell_type": "code",
   "execution_count": 114,
   "metadata": {},
   "outputs": [
    {
     "data": {
      "text/html": [
       "<div>\n",
       "<style scoped>\n",
       "    .dataframe tbody tr th:only-of-type {\n",
       "        vertical-align: middle;\n",
       "    }\n",
       "\n",
       "    .dataframe tbody tr th {\n",
       "        vertical-align: top;\n",
       "    }\n",
       "\n",
       "    .dataframe thead tr th {\n",
       "        text-align: left;\n",
       "    }\n",
       "</style>\n",
       "<table border=\"1\" class=\"dataframe\">\n",
       "  <thead>\n",
       "    <tr>\n",
       "      <th></th>\n",
       "      <th colspan=\"2\" halign=\"left\">EMFa</th>\n",
       "      <th colspan=\"2\" halign=\"left\">EMFb</th>\n",
       "      <th colspan=\"2\" halign=\"left\">EMFc</th>\n",
       "      <th colspan=\"2\" halign=\"left\">EMFb2</th>\n",
       "      <th colspan=\"2\" halign=\"left\">Ib</th>\n",
       "    </tr>\n",
       "    <tr>\n",
       "      <th></th>\n",
       "      <th>X</th>\n",
       "      <th>Y</th>\n",
       "      <th>X</th>\n",
       "      <th>Y</th>\n",
       "      <th>X</th>\n",
       "      <th>Y</th>\n",
       "      <th>X</th>\n",
       "      <th>Y</th>\n",
       "      <th>X</th>\n",
       "      <th>Y</th>\n",
       "    </tr>\n",
       "  </thead>\n",
       "  <tbody>\n",
       "    <tr>\n",
       "      <th>0</th>\n",
       "      <td>2.551802</td>\n",
       "      <td>149.066872</td>\n",
       "      <td>2.333041</td>\n",
       "      <td>-15.634979</td>\n",
       "      <td>2.551802</td>\n",
       "      <td>-141.281893</td>\n",
       "      <td>2.358823</td>\n",
       "      <td>-16.036272</td>\n",
       "      <td>2.446874</td>\n",
       "      <td>-0.984369</td>\n",
       "    </tr>\n",
       "    <tr>\n",
       "      <th>1</th>\n",
       "      <td>3.452581</td>\n",
       "      <td>146.192901</td>\n",
       "      <td>3.043136</td>\n",
       "      <td>-7.469229</td>\n",
       "      <td>3.452581</td>\n",
       "      <td>-145.942387</td>\n",
       "      <td>3.072530</td>\n",
       "      <td>-9.178278</td>\n",
       "      <td>3.088776</td>\n",
       "      <td>0.054222</td>\n",
       "    </tr>\n",
       "    <tr>\n",
       "      <th>2</th>\n",
       "      <td>4.353360</td>\n",
       "      <td>141.377058</td>\n",
       "      <td>3.695648</td>\n",
       "      <td>1.087563</td>\n",
       "      <td>4.353360</td>\n",
       "      <td>-148.971708</td>\n",
       "      <td>3.607810</td>\n",
       "      <td>-1.276844</td>\n",
       "      <td>3.613129</td>\n",
       "      <td>1.184830</td>\n",
       "    </tr>\n",
       "    <tr>\n",
       "      <th>3</th>\n",
       "      <td>5.254139</td>\n",
       "      <td>135.629115</td>\n",
       "      <td>4.276150</td>\n",
       "      <td>9.321965</td>\n",
       "      <td>5.254139</td>\n",
       "      <td>-151.612654</td>\n",
       "      <td>4.190671</td>\n",
       "      <td>6.353062</td>\n",
       "      <td>4.181068</td>\n",
       "      <td>2.195513</td>\n",
       "    </tr>\n",
       "    <tr>\n",
       "      <th>4</th>\n",
       "      <td>6.097726</td>\n",
       "      <td>127.231596</td>\n",
       "      <td>4.852006</td>\n",
       "      <td>18.048740</td>\n",
       "      <td>6.154918</td>\n",
       "      <td>-153.321502</td>\n",
       "      <td>4.678370</td>\n",
       "      <td>12.887810</td>\n",
       "      <td>4.682967</td>\n",
       "      <td>3.281621</td>\n",
       "    </tr>\n",
       "    <tr>\n",
       "      <th>...</th>\n",
       "      <td>...</td>\n",
       "      <td>...</td>\n",
       "      <td>...</td>\n",
       "      <td>...</td>\n",
       "      <td>...</td>\n",
       "      <td>...</td>\n",
       "      <td>...</td>\n",
       "      <td>...</td>\n",
       "      <td>...</td>\n",
       "      <td>...</td>\n",
       "    </tr>\n",
       "    <tr>\n",
       "      <th>102</th>\n",
       "      <td>NaN</td>\n",
       "      <td>NaN</td>\n",
       "      <td>NaN</td>\n",
       "      <td>NaN</td>\n",
       "      <td>NaN</td>\n",
       "      <td>NaN</td>\n",
       "      <td>66.873734</td>\n",
       "      <td>-122.071517</td>\n",
       "      <td>70.656314</td>\n",
       "      <td>-8.341240</td>\n",
       "    </tr>\n",
       "    <tr>\n",
       "      <th>103</th>\n",
       "      <td>NaN</td>\n",
       "      <td>NaN</td>\n",
       "      <td>NaN</td>\n",
       "      <td>NaN</td>\n",
       "      <td>NaN</td>\n",
       "      <td>NaN</td>\n",
       "      <td>27.819041</td>\n",
       "      <td>146.239211</td>\n",
       "      <td>71.224253</td>\n",
       "      <td>-7.398438</td>\n",
       "    </tr>\n",
       "    <tr>\n",
       "      <th>104</th>\n",
       "      <td>NaN</td>\n",
       "      <td>NaN</td>\n",
       "      <td>NaN</td>\n",
       "      <td>NaN</td>\n",
       "      <td>NaN</td>\n",
       "      <td>NaN</td>\n",
       "      <td>30.627954</td>\n",
       "      <td>122.071517</td>\n",
       "      <td>71.726152</td>\n",
       "      <td>-6.365127</td>\n",
       "    </tr>\n",
       "    <tr>\n",
       "      <th>105</th>\n",
       "      <td>NaN</td>\n",
       "      <td>NaN</td>\n",
       "      <td>NaN</td>\n",
       "      <td>NaN</td>\n",
       "      <td>NaN</td>\n",
       "      <td>NaN</td>\n",
       "      <td>NaN</td>\n",
       "      <td>NaN</td>\n",
       "      <td>72.262722</td>\n",
       "      <td>-5.462866</td>\n",
       "    </tr>\n",
       "    <tr>\n",
       "      <th>106</th>\n",
       "      <td>NaN</td>\n",
       "      <td>NaN</td>\n",
       "      <td>NaN</td>\n",
       "      <td>NaN</td>\n",
       "      <td>NaN</td>\n",
       "      <td>NaN</td>\n",
       "      <td>NaN</td>\n",
       "      <td>NaN</td>\n",
       "      <td>72.782782</td>\n",
       "      <td>-4.410699</td>\n",
       "    </tr>\n",
       "  </tbody>\n",
       "</table>\n",
       "<p>107 rows × 10 columns</p>\n",
       "</div>"
      ],
      "text/plain": [
       "         EMFa                  EMFb                 EMFc              \\\n",
       "            X           Y         X          Y         X           Y   \n",
       "0    2.551802  149.066872  2.333041 -15.634979  2.551802 -141.281893   \n",
       "1    3.452581  146.192901  3.043136  -7.469229  3.452581 -145.942387   \n",
       "2    4.353360  141.377058  3.695648   1.087563  4.353360 -148.971708   \n",
       "3    5.254139  135.629115  4.276150   9.321965  5.254139 -151.612654   \n",
       "4    6.097726  127.231596  4.852006  18.048740  6.154918 -153.321502   \n",
       "..        ...         ...       ...        ...       ...         ...   \n",
       "102       NaN         NaN       NaN        NaN       NaN         NaN   \n",
       "103       NaN         NaN       NaN        NaN       NaN         NaN   \n",
       "104       NaN         NaN       NaN        NaN       NaN         NaN   \n",
       "105       NaN         NaN       NaN        NaN       NaN         NaN   \n",
       "106       NaN         NaN       NaN        NaN       NaN         NaN   \n",
       "\n",
       "         EMFb2                     Ib            \n",
       "             X           Y          X         Y  \n",
       "0     2.358823  -16.036272   2.446874 -0.984369  \n",
       "1     3.072530   -9.178278   3.088776  0.054222  \n",
       "2     3.607810   -1.276844   3.613129  1.184830  \n",
       "3     4.190671    6.353062   4.181068  2.195513  \n",
       "4     4.678370   12.887810   4.682967  3.281621  \n",
       "..         ...         ...        ...       ...  \n",
       "102  66.873734 -122.071517  70.656314 -8.341240  \n",
       "103  27.819041  146.239211  71.224253 -7.398438  \n",
       "104  30.627954  122.071517  71.726152 -6.365127  \n",
       "105        NaN         NaN  72.262722 -5.462866  \n",
       "106        NaN         NaN  72.782782 -4.410699  \n",
       "\n",
       "[107 rows x 10 columns]"
      ]
     },
     "execution_count": 114,
     "metadata": {},
     "output_type": "execute_result"
    }
   ],
   "source": [
    "current_df = pd.read_csv(os.path.join(machine, op_point, \"CurrentAngle.csv\"),\n",
    "                         index_col=None, header=[0,1])\n",
    "current_df"
   ]
  },
  {
   "cell_type": "code",
   "execution_count": 115,
   "metadata": {},
   "outputs": [
    {
     "name": "stdout",
     "output_type": "stream",
     "text": [
      "       message: Optimization terminated successfully.\n",
      "       success: True\n",
      "        status: 0\n",
      "           fun: 1.134872304365305\n",
      "             x: [ 1.831e+00  2.251e+01]\n",
      "           nit: 66\n",
      "          nfev: 125\n",
      " final_simplex: (array([[ 1.831e+00,  2.251e+01],\n",
      "                       [ 1.831e+00,  2.251e+01],\n",
      "                       [ 1.831e+00,  2.251e+01]]), array([ 1.135e+00,  1.135e+00,  1.135e+00]))\n",
      "0.36619754023966233\n"
     ]
    }
   ],
   "source": [
    "current_coef = np.array([1.5, 75]) #initial guess offset and amplitude\n",
    "bounds = [(None, None) for _ in range(len(current_coef))]\n",
    "\n",
    "\n",
    "\n",
    "def predict_current(coefs, theta, num_pole_pairs=5):\n",
    "    pred = coefs[1] * np.cos(coefs[0] - (theta * num_pole_pairs))\n",
    "    return pred\n",
    "\n",
    "def loss_current(coefs, theta, current):\n",
    "    current_b = predict_current(coefs, theta)\n",
    "    return np.sum((current - current_b)**2)\n",
    "\n",
    "res_current = minimize(loss_current, current_coef,\n",
    "                       args=(np.deg2rad(current_df['Ib']['X']),\n",
    "                             current_df['Ib']['Y']),\n",
    "                             method='Nelder-Mead',\n",
    "                             tol=1e-6,\n",
    "                             bounds=bounds,)\n",
    "print(res_current)\n",
    "\n",
    "ib_mag = res_current.x[1]\n",
    "phase_current_b = (res_current.x[0])/num_pole_pairs\n",
    "print(phase_current_b)"
   ]
  },
  {
   "cell_type": "code",
   "execution_count": 116,
   "metadata": {},
   "outputs": [
    {
     "ename": "NameError",
     "evalue": "name 'new_df' is not defined",
     "output_type": "error",
     "traceback": [
      "\u001b[0;31m---------------------------------------------------------------------------\u001b[0m",
      "\u001b[0;31mNameError\u001b[0m                                 Traceback (most recent call last)",
      "Cell \u001b[0;32mIn[116], line 9\u001b[0m\n\u001b[1;32m      7\u001b[0m ax_t\u001b[38;5;241m.\u001b[39mplot(phase_emf_b, res\u001b[38;5;241m.\u001b[39mx[\u001b[38;5;241m1\u001b[39m], \u001b[38;5;124m'\u001b[39m\u001b[38;5;124myo\u001b[39m\u001b[38;5;124m'\u001b[39m)\n\u001b[1;32m      8\u001b[0m ax_t\u001b[38;5;241m.\u001b[39mplot(phase_current_b, ib_mag, \u001b[38;5;124m'\u001b[39m\u001b[38;5;124mbo\u001b[39m\u001b[38;5;124m'\u001b[39m)\n\u001b[0;32m----> 9\u001b[0m ax_t\u001b[38;5;241m.\u001b[39mplot(\u001b[43mnew_df\u001b[49m[\u001b[38;5;124m'\u001b[39m\u001b[38;5;124mtheta\u001b[39m\u001b[38;5;124m'\u001b[39m], new_df[\u001b[38;5;124m'\u001b[39m\u001b[38;5;124memf b\u001b[39m\u001b[38;5;124m'\u001b[39m], \u001b[38;5;124m'\u001b[39m\u001b[38;5;124my-\u001b[39m\u001b[38;5;124m'\u001b[39m)\n\u001b[1;32m     10\u001b[0m ax_t\u001b[38;5;241m.\u001b[39mplot(new_df[\u001b[38;5;124m'\u001b[39m\u001b[38;5;124mtheta\u001b[39m\u001b[38;5;124m'\u001b[39m], predict_current(res_current\u001b[38;5;241m.\u001b[39mx, new_df[\u001b[38;5;124m'\u001b[39m\u001b[38;5;124mtheta\u001b[39m\u001b[38;5;124m'\u001b[39m]\u001b[38;5;241m.\u001b[39mpint\u001b[38;5;241m.\u001b[39mmagnitude), \u001b[38;5;124m'\u001b[39m\u001b[38;5;124mb-\u001b[39m\u001b[38;5;124m'\u001b[39m)\n",
      "\u001b[0;31mNameError\u001b[0m: name 'new_df' is not defined"
     ]
    },
    {
     "data": {
      "image/png": "[encoded data removed]",
      "text/plain": [
       "<Figure size 640x480 with 1 Axes>"
      ]
     },
     "metadata": {},
     "output_type": "display_data"
    }
   ],
   "source": [
    "fig, (ax_t) = plt.subplots(1, 1, constrained_layout=True)\n",
    "ax_t.plot(np.deg2rad(current_df['EMFb']['X']),\n",
    "          current_df['EMFb']['Y'], 'y.', alpha=0.5)\n",
    "ax_t.plot(np.deg2rad(current_df['Ib']['X']),\n",
    "          current_df['Ib']['Y'], 'b.', alpha=0.5)\n",
    "\n",
    "ax_t.plot(phase_emf_b, res.x[1], 'yo')\n",
    "ax_t.plot(phase_current_b, ib_mag, 'bo')\n",
    "ax_t.plot(new_df['theta'], new_df['emf b'], 'y-')\n",
    "ax_t.plot(new_df['theta'], predict_current(res_current.x, new_df['theta'].pint.magnitude), 'b-')"
   ]
  },
  {
   "cell_type": "code",
   "execution_count": null,
   "metadata": {},
   "outputs": [],
   "source": [
    "torque_df = pd.read_csv(os.path.join('M2', op_point, 'Torque.csv'),\n",
    "                         index_col=None, header=[0,1])\n",
    "torque_df"
   ]
  },
  {
   "cell_type": "code",
   "execution_count": null,
   "metadata": {},
   "outputs": [],
   "source": [
    "arg_idx = np.argsort(np.deg2rad(torque_df['Torque']['X'])%(np.pi/5/3))"
   ]
  },
  {
   "cell_type": "code",
   "execution_count": null,
   "metadata": {},
   "outputs": [],
   "source": [
    "fig, (ax_t) = plt.subplots(1, 1, constrained_layout=True)\n",
    "ax_t.plot(np.deg2rad(torque_df['Torque']['X'][arg_idx])%(np.pi/5/3),\n",
    "          torque_df['Torque']['Y'][arg_idx], 'g-x', alpha=0.5)"
   ]
  },
  {
   "cell_type": "code",
   "execution_count": null,
   "metadata": {},
   "outputs": [],
   "source": [
    "def torque_predict(coefs, theta, harm=[6, 12, 24, 30, 33, 36, 40, 43, 46], num_pole_pairs=5):\n",
    "    pred = coefs[0] + np.matmul(coefs[2:], np.cos(np.outer(harm, (coefs[1]+theta))))\n",
    "    return pred\n",
    "def torque_loss(coefs, theta, torque):\n",
    "    pred = torque_predict(coefs, theta)\n",
    "    return np.sum((torque - pred)**2)\n"
   ]
  },
  {
   "cell_type": "code",
   "execution_count": null,
   "metadata": {},
   "outputs": [],
   "source": [
    "torque_coefs = np.array([30, 0, 1,0,0, 0,0,0, 0,0,1])\n",
    "test = torque_predict(torque_coefs, np.deg2rad(torque_df['Torque']['X'][arg_idx])%(np.pi/5/3))\n",
    "plt.plot(np.deg2rad(torque_df['Torque']['X'][arg_idx])%(np.pi/5/3), test, 'r-')"
   ]
  },
  {
   "cell_type": "code",
   "execution_count": null,
   "metadata": {},
   "outputs": [],
   "source": [
    "\n",
    "torque_coefs = np.array([30, 0, 1, -1, 1, 0, 0])\n",
    "bounds = [(None, None) for _ in range(len(torque_coefs))]\n",
    "bounds[0] = (28, 32)\n",
    "res_torque = minimize(torque_loss, torque_coefs, args=(np.deg2rad(torque_df['Torque']['X'][arg_idx])%(np.pi/5/3),\n",
    "                             torque_df['Torque']['Y'][arg_idx]),\n",
    "                             method='Nelder-Mead',\n",
    "                             tol=1e-6,\n",
    "                             bounds=bounds,\n",
    "                             options={'disp': True, \"maxiter\":9000})\n",
    "print(res_torque)"
   ]
  },
  {
   "cell_type": "code",
   "execution_count": null,
   "metadata": {},
   "outputs": [],
   "source": [
    "test = torque_predict(res_torque.x, np.deg2rad(torque_df['Torque']['X'][arg_idx])%(np.pi/5/3))\n",
    "plt.plot(np.deg2rad(torque_df['Torque']['X'][arg_idx])%(np.pi/5/3), test, 'r-')\n",
    "plt.plot(np.deg2rad(torque_df['Torque']['X'][arg_idx])%(np.pi/5/3), torque_df['Torque']['Y'][arg_idx], 'g-x', alpha=0.5)"
   ]
  },
  {
   "cell_type": "code",
   "execution_count": null,
   "metadata": {},
   "outputs": [],
   "source": [
    "#do a fft on the torque\n",
    "from scipy.fft import fft\n",
    "torque_fft = fft(torque_df['Torque']['Y'].values, n=torque_df['Torque']['Y'].size, )\n",
    "fig, (ax_t) = plt.subplots(1, 1, constrained_layout=True)\n",
    "ax_t.plot(np.abs(torque_fft[0:int(torque_df['Torque']['Y'].size/2)]), 'g-x', alpha=0.5)\n",
    "ax_t.set_yscale('log')"
   ]
  },
  {
   "cell_type": "code",
   "execution_count": null,
   "metadata": {},
   "outputs": [],
   "source": [
    "#detect the peaks\n",
    "from scipy.signal import find_peaks\n",
    "peaks, _ = find_peaks(np.abs(torque_fft[0:int(torque_df['Torque']['Y'].size/2)]), height=0.1)\n",
    "peaks"
   ]
  },
  {
   "cell_type": "code",
   "execution_count": null,
   "metadata": {},
   "outputs": [],
   "source": [
    "#make a copy of the fft with only the peaks\n",
    "torque_fft_peaks = np.zeros_like(torque_fft)\n",
    "torque_fft_peaks[peaks] = torque_fft[peaks]"
   ]
  },
  {
   "cell_type": "code",
   "execution_count": null,
   "metadata": {},
   "outputs": [],
   "source": [
    "# produce a waveform from the ifft of the peaks and the phase\n",
    "\n",
    "from scipy.fft import ifft\n",
    "torque_waveform = ifft(torque_fft_peaks)\n",
    "plt.plot(abs(torque_waveform))"
   ]
  },
  {
   "cell_type": "code",
   "execution_count": null,
   "metadata": {},
   "outputs": [],
   "source": [
    "abs(ifft(torque_fft))"
   ]
  },
  {
   "cell_type": "code",
   "execution_count": null,
   "metadata": {},
   "outputs": [],
   "source": []
  }
 ],
 "metadata": {
  "kernelspec": {
   "display_name": "ltc_test_py311",
   "language": "python",
   "name": "python3"
  },
  "language_info": {
   "codemirror_mode": {
    "name": "ipython",
    "version": 3
   },
   "file_extension": ".py",
   "mimetype": "text/x-python",
   "name": "python",
   "nbconvert_exporter": "python",
   "pygments_lexer": "ipython3",
   "version": "3.10.12"
  }
 },
 "nbformat": 4,
 "nbformat_minor": 2
}

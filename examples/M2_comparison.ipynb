{
 "cells": [
  {
   "cell_type": "code",
   "execution_count": 1,
   "metadata": {},
   "outputs": [
    {
     "name": "stdout",
     "output_type": "stream",
     "text": [
      "Requirement already satisfied: pint in /Users/martinwest/anaconda3/envs/ltc_test_py311/lib/python3.11/site-packages (from -r requirements.txt (line 2)) (0.22)\n",
      "Requirement already satisfied: pandas in /Users/martinwest/anaconda3/envs/ltc_test_py311/lib/python3.11/site-packages (from -r requirements.txt (line 3)) (2.0.2)\n",
      "Requirement already satisfied: pint-pandas in /Users/martinwest/anaconda3/envs/ltc_test_py311/lib/python3.11/site-packages (from -r requirements.txt (line 4)) (0.5)\n",
      "Requirement already satisfied: matplotlib in /Users/martinwest/anaconda3/envs/ltc_test_py311/lib/python3.11/site-packages (from -r requirements.txt (line 5)) (3.7.1)\n",
      "Requirement already satisfied: pyyaml in /Users/martinwest/anaconda3/envs/ltc_test_py311/lib/python3.11/site-packages (from -r requirements.txt (line 6)) (6.0)\n",
      "Requirement already satisfied: scipy in /Users/martinwest/anaconda3/envs/ltc_test_py311/lib/python3.11/site-packages (from -r requirements.txt (line 7)) (1.10.1)\n",
      "Requirement already satisfied: typing-extensions in /Users/martinwest/anaconda3/envs/ltc_test_py311/lib/python3.11/site-packages (from pint->-r requirements.txt (line 2)) (4.6.3)\n",
      "Requirement already satisfied: python-dateutil>=2.8.2 in /Users/martinwest/anaconda3/envs/ltc_test_py311/lib/python3.11/site-packages (from pandas->-r requirements.txt (line 3)) (2.8.2)\n",
      "Requirement already satisfied: pytz>=2020.1 in /Users/martinwest/anaconda3/envs/ltc_test_py311/lib/python3.11/site-packages (from pandas->-r requirements.txt (line 3)) (2023.3)\n",
      "Requirement already satisfied: tzdata>=2022.1 in /Users/martinwest/anaconda3/envs/ltc_test_py311/lib/python3.11/site-packages (from pandas->-r requirements.txt (line 3)) (2023.3)\n",
      "Requirement already satisfied: numpy>=1.21.0 in /Users/martinwest/anaconda3/envs/ltc_test_py311/lib/python3.11/site-packages (from pandas->-r requirements.txt (line 3)) (1.24.4)\n",
      "Requirement already satisfied: contourpy>=1.0.1 in /Users/martinwest/anaconda3/envs/ltc_test_py311/lib/python3.11/site-packages (from matplotlib->-r requirements.txt (line 5)) (1.1.0)\n",
      "Requirement already satisfied: cycler>=0.10 in /Users/martinwest/anaconda3/envs/ltc_test_py311/lib/python3.11/site-packages (from matplotlib->-r requirements.txt (line 5)) (0.11.0)\n",
      "Requirement already satisfied: fonttools>=4.22.0 in /Users/martinwest/anaconda3/envs/ltc_test_py311/lib/python3.11/site-packages (from matplotlib->-r requirements.txt (line 5)) (4.40.0)\n",
      "Requirement already satisfied: kiwisolver>=1.0.1 in /Users/martinwest/anaconda3/envs/ltc_test_py311/lib/python3.11/site-packages (from matplotlib->-r requirements.txt (line 5)) (1.4.4)\n",
      "Requirement already satisfied: packaging>=20.0 in /Users/martinwest/anaconda3/envs/ltc_test_py311/lib/python3.11/site-packages (from matplotlib->-r requirements.txt (line 5)) (23.1)\n",
      "Requirement already satisfied: pillow>=6.2.0 in /Users/martinwest/anaconda3/envs/ltc_test_py311/lib/python3.11/site-packages (from matplotlib->-r requirements.txt (line 5)) (9.5.0)\n",
      "Requirement already satisfied: pyparsing>=2.3.1 in /Users/martinwest/anaconda3/envs/ltc_test_py311/lib/python3.11/site-packages (from matplotlib->-r requirements.txt (line 5)) (3.1.0)\n",
      "Requirement already satisfied: six>=1.5 in /Users/martinwest/anaconda3/envs/ltc_test_py311/lib/python3.11/site-packages (from python-dateutil>=2.8.2->pandas->-r requirements.txt (line 3)) (1.16.0)\n",
      "Note: you may need to restart the kernel to use updated packages.\n",
      "Obtaining file:///Users/martinwest/Repositories/Lonely-Tool-Cult/tinarm\n",
      "  Preparing metadata (setup.py) ... \u001b[?25ldone\n",
      "\u001b[?25hRequirement already satisfied: pika in /Users/martinwest/anaconda3/envs/ltc_test_py311/lib/python3.11/site-packages (from tinarm==0.1) (1.3.1)\n",
      "Requirement already satisfied: python_logging_rabbitmq in /Users/martinwest/anaconda3/envs/ltc_test_py311/lib/python3.11/site-packages (from tinarm==0.1) (2.3.0)\n",
      "Requirement already satisfied: requests in /Users/martinwest/anaconda3/envs/ltc_test_py311/lib/python3.11/site-packages (from tinarm==0.1) (2.31.0)\n",
      "Requirement already satisfied: charset-normalizer<4,>=2 in /Users/martinwest/anaconda3/envs/ltc_test_py311/lib/python3.11/site-packages (from requests->tinarm==0.1) (3.1.0)\n",
      "Requirement already satisfied: idna<4,>=2.5 in /Users/martinwest/anaconda3/envs/ltc_test_py311/lib/python3.11/site-packages (from requests->tinarm==0.1) (3.4)\n",
      "Requirement already satisfied: urllib3<3,>=1.21.1 in /Users/martinwest/anaconda3/envs/ltc_test_py311/lib/python3.11/site-packages (from requests->tinarm==0.1) (1.26.18)\n",
      "Requirement already satisfied: certifi>=2017.4.17 in /Users/martinwest/anaconda3/envs/ltc_test_py311/lib/python3.11/site-packages (from requests->tinarm==0.1) (2023.5.7)\n",
      "Installing collected packages: tinarm\n",
      "  Attempting uninstall: tinarm\n",
      "    Found existing installation: tinarm 0.1\n",
      "    Uninstalling tinarm-0.1:\n",
      "      Successfully uninstalled tinarm-0.1\n",
      "  Running setup.py develop for tinarm\n",
      "Successfully installed tinarm-0.1\n",
      "Note: you may need to restart the kernel to use updated packages.\n"
     ]
    }
   ],
   "source": [
    "%pip install -r requirements.txt\n",
    "#%pip uninstall -y tinarm\n",
    "%pip install -e ../.\n"
   ]
  },
  {
   "cell_type": "code",
   "execution_count": 2,
   "metadata": {},
   "outputs": [],
   "source": [
    "import pandas as pd\n",
    "import pint_pandas\n",
    "import logging\n",
    "import tinarm\n",
    "import os\n",
    "import numpy as np\n",
    "import matplotlib.pyplot as plt\n",
    "from scipy.optimize import minimize"
   ]
  },
  {
   "cell_type": "code",
   "execution_count": 3,
   "metadata": {},
   "outputs": [
    {
     "name": "stdout",
     "output_type": "stream",
     "text": [
      "2024-03-22 02:15:43,927 - NoJobId - INFO - Martins-MacBook-Air.local - 194884122.py-><module>() - tinarm version 0.1\n",
      "2024-03-22 02:15:43,928 - NoJobId - INFO - Martins-MacBook-Air.local - 194884122.py-><module>() - pint_pandas version 0.5\n"
     ]
    }
   ],
   "source": [
    "### Configure Logging\n",
    "LOGGING_LEVEL = logging.INFO\n",
    "\n",
    "logger = logging.getLogger()\n",
    "logger.setLevel(LOGGING_LEVEL)\n",
    "logger.info(f\"tinarm version {tinarm.__version__}\")\n",
    "logger.info(f\"pint_pandas version {pint_pandas.__version__}\")\n",
    "\n",
    "q = pint_pandas.PintType.ureg\n",
    "q.setup_matplotlib()"
   ]
  },
  {
   "cell_type": "code",
   "execution_count": 4,
   "metadata": {},
   "outputs": [],
   "source": [
    "# Get the operating points for the machine machine='M1'\n",
    "# Each opperating point is a folder in the machine folder\n",
    "machine = 'M1'\n",
    "operating_points = [op_point for op_point in os.listdir(machine) if os.path.isdir(os.path.join(machine, op_point)) and not op_point.startswith('__pycache__')]"
   ]
  },
  {
   "cell_type": "code",
   "execution_count": 5,
   "metadata": {},
   "outputs": [],
   "source": [
    "_units = {(\"EMFa\", \"X\"):q.degrees,\n",
    "         (\"EMFa\", \"Y\"):q.V,\n",
    "         (\"EMFb\", \"X\"):q.degrees,\n",
    "         (\"EMFb\", \"Y\"):q.V,\n",
    "         (\"EMFb2\", \"X\"):q.degrees,\n",
    "         (\"EMFb2\", \"Y\"):q.V,\n",
    "         (\"EMFc\", \"X\"):q.degrees,\n",
    "         (\"EMFc\", \"Y\"):q.V,\n",
    "         (\"Ia\", \"X\"):q.degrees,\n",
    "         (\"Ia\", \"Y\"):q.A,\n",
    "         (\"Ib\", \"X\"):q.degrees,\n",
    "         (\"Ib\", \"Y\"):q.A,\n",
    "         (\"Ic\", \"X\"):q.degrees,\n",
    "         (\"Ic\", \"Y\"):q.A, \n",
    "         (\"Torque\", \"X\"):q.degrees,\n",
    "         (\"Torque\", \"Y\"):q.N*q.m, \n",
    "         (\"Va\", \"X\"):q.degrees,\n",
    "         (\"Va\", \"Y\"):q.V,\n",
    "         (\"Vb\", \"X\"):q.degrees,\n",
    "         (\"Vb\", \"Y\"):q.V,\n",
    "         (\"Vc\", \"X\"):q.degrees,\n",
    "         (\"Vc\", \"Y\"):q.V}\n"
   ]
  },
  {
   "cell_type": "code",
   "execution_count": 6,
   "metadata": {},
   "outputs": [
    {
     "name": "stdout",
     "output_type": "stream",
     "text": [
      "Processing PeakTorqueBaseSpeed_36Nm_1380rpm\n",
      "\u001b[32m  BackEmf.csv found\u001b[0m\n",
      "\u001b[32m  CurrentAngle.csv found\u001b[0m\n",
      "\u001b[32m  IronLoss.csv found\u001b[0m\n",
      "\u001b[32m  MagnetLoss.csv found\u001b[0m\n",
      "\u001b[32m  PhaseVoltage.csv found\u001b[0m\n",
      "\u001b[32m  Torque.csv found\u001b[0m\n",
      "\u001b[31m  operating_point.py not found\u001b[0m\n",
      "Processing Nominal_24Nm_2060rpm\n",
      "\u001b[32m  BackEmf.csv found\u001b[0m\n",
      "\u001b[32m  CurrentAngle.csv found\u001b[0m\n",
      "\u001b[32m  IronLoss.csv found\u001b[0m\n",
      "\u001b[32m  MagnetLoss.csv found\u001b[0m\n",
      "\u001b[32m  PhaseVoltage.csv found\u001b[0m\n",
      "\u001b[32m  Torque.csv found\u001b[0m\n",
      "\u001b[32m  operating_point.py found\u001b[0m\n",
      "Processing NominalPowerMaxSpeed_13Nm_3600rpm\n",
      "\u001b[32m  BackEmf.csv found\u001b[0m\n",
      "\u001b[32m  CurrentAngle.csv found\u001b[0m\n",
      "\u001b[32m  IronLoss.csv found\u001b[0m\n",
      "\u001b[32m  MagnetLoss.csv found\u001b[0m\n",
      "\u001b[32m  PhaseVoltage.csv found\u001b[0m\n",
      "\u001b[32m  Torque.csv found\u001b[0m\n",
      "\u001b[32m  operating_point.py found\u001b[0m\n"
     ]
    }
   ],
   "source": [
    "# check that we have all the expected charts\n",
    "def check_charts(machine, operating_points):\n",
    "    expected_charts = ['BackEmf.csv', 'CurrentAngle.csv',\n",
    "                    'IronLoss.csv', 'MagnetLoss.csv',\n",
    "                    'PhaseVoltage.csv', 'Torque.csv']\n",
    "    for op_point in operating_points:\n",
    "        print(f\"Processing {op_point}\")\n",
    "        charts = [c for c in os.listdir(os.path.join(machine, op_point)) if c.endswith('.csv')]\n",
    "        charts.sort()\n",
    "\n",
    "        for chart in charts:\n",
    "            if chart in expected_charts:\n",
    "                # in green text\n",
    "                print(f\"\\033[32m  {chart} found\\033[0m\")\n",
    "            else:\n",
    "                # in red text\n",
    "                print(f\"\\033[31m  {chart} not found\\033[0m\")\n",
    "        if \"operating_point.py\" in os.listdir(os.path.join(machine, op_point)):\n",
    "            print(f\"\\033[32m  operating_point.py found\\033[0m\")\n",
    "        else:\n",
    "            print(f\"\\033[31m  operating_point.py not found\\033[0m\")\n",
    "    return charts\n",
    "\n",
    "charts = check_charts(machine, operating_points)\n",
    "\n"
   ]
  },
  {
   "cell_type": "code",
   "execution_count": 7,
   "metadata": {},
   "outputs": [],
   "source": [
    "from M1 import machine as m\n",
    "from M1.Nominal_24Nm_2060rpm import operating_point as nominal_op\n",
    "from M1.NominalPowerMaxSpeed_13Nm_3600rpm import operating_point as max_speed_op\n",
    "\n",
    "op_point = \"NominalPowerMaxSpeed_13Nm_3600rpm\"\n",
    "chart = \"BackEmf.csv\"\n",
    "\n",
    "\n",
    "num_phases = m.winding_parameters[\"number_phases\"].to_base_units().magnitude\n",
    "num_pole_pairs = (m.rotor_parameters[\"number_poles\"]//2).to_base_units().magnitude\n"
   ]
  },
  {
   "cell_type": "code",
   "execution_count": 8,
   "metadata": {},
   "outputs": [],
   "source": [
    "# apply the units \"pint[degrees]\" to the X columns and \"pint[V]\" to the Y columns\n",
    "df = pd.read_csv(os.path.join(machine, op_point, chart), index_col=None, header=[0,1])\n",
    "df.columns = pd.MultiIndex.from_tuples([(l1, l2, _units[(l1,l2)]) for l1,l2 in df.columns])\n",
    "df_emfs = df.pint.quantify(level=-1)"
   ]
  },
  {
   "cell_type": "code",
   "execution_count": 9,
   "metadata": {},
   "outputs": [
    {
     "data": {
      "text/plain": [
       "EMFa  X    pint[degree]\n",
       "      Y      pint[volt]\n",
       "EMFb  X    pint[degree]\n",
       "      Y      pint[volt]\n",
       "EMFc  X    pint[degree]\n",
       "      Y      pint[volt]\n",
       "dtype: object"
      ]
     },
     "execution_count": 9,
     "metadata": {},
     "output_type": "execute_result"
    }
   ],
   "source": [
    "df_emfs.dtypes"
   ]
  },
  {
   "cell_type": "code",
   "execution_count": 10,
   "metadata": {},
   "outputs": [],
   "source": [
    "def convert_to_electrical_degrees(ib_df, num_pole_pairs=5, new_name=\"Current\"):\n",
    "    ib_df['X'] = ib_df['X'].map(lambda x: x * num_pole_pairs) # convert to electrical degrees\n",
    "    ib_df.rename(columns={\"X\": \"Theta\", \"Y\": new_name}, inplace=True) # rename the columns\n",
    "    ib_df = ib_df.apply(lambda x: x.pint.to_base_units()) # convert to base units\n",
    "    return ib_df\n",
    "\n",
    "EMFa_df =  convert_to_electrical_degrees(df_emfs[\"EMFa\"].copy(),\n",
    "                                         num_pole_pairs=num_pole_pairs,\n",
    "                                         new_name=\"Voltage\")\n",
    "#drop nans and reset index\n",
    "EMFa_df.dropna(inplace=True)\n",
    "\n",
    "EMFb_df =  convert_to_electrical_degrees(df_emfs[\"EMFb\"].copy(),\n",
    "                                         num_pole_pairs=num_pole_pairs,\n",
    "                                         new_name=\"Voltage\")\n",
    "#drop nans and reset index\n",
    "EMFb_df.dropna(inplace=True)\n",
    "\n",
    "EMFc_df =  convert_to_electrical_degrees(df_emfs[\"EMFc\"].copy(),\n",
    "                                         num_pole_pairs=num_pole_pairs,\n",
    "                                         new_name=\"Voltage\")\n",
    "#drop nans and reset index\n",
    "EMFc_df.dropna(inplace=True)"
   ]
  },
  {
   "cell_type": "code",
   "execution_count": 11,
   "metadata": {},
   "outputs": [],
   "source": [
    "def overlay_emf(df, num_phases, num_pole_pairs):\n",
    "    assert num_phases == 3\n",
    "    theta_m = np.hstack((np.deg2rad(df['EMFa']['X'] ),\n",
    "            np.deg2rad((df['EMFb']['X']-(360/num_pole_pairs/num_phases))),\n",
    "            np.deg2rad((df['EMFc']['X']+(360/num_pole_pairs/num_phases)))))\n",
    "\n",
    "\n",
    "    v_emf = np.hstack((df['EMFa']['Y'],\n",
    "                df['EMFb']['Y'],\n",
    "                df['EMFc']['Y']))\n",
    "\n",
    "    not_nan  = np.logical_not(np.logical_and(np.isnan(theta_m), np.isnan(v_emf)))\n",
    "    theta_m = theta_m[not_nan] * num_pole_pairs\n",
    "    v_emf = v_emf[not_nan]\n",
    "    sort_idx = np.argsort(theta_m)\n",
    "    return theta_m[sort_idx], v_emf[sort_idx]"
   ]
  },
  {
   "cell_type": "code",
   "execution_count": 12,
   "metadata": {},
   "outputs": [],
   "source": [
    "# set the initial guess, coef[0] is the phase offset, the rest are the cosine coefficients\n",
    "coefs = np.array([np.nan,  np.nan, np.nan, np.nan,\n",
    "       -9.96330324e-02, -1.11853145e+00, 2.27614394e-01,  2.32197231e-01,\n",
    "        2.34067377e-01,  5.18779813e-01,  5.52624693e-02, 0, 0 ])\n",
    "# make odd coefficients, from 1 to 2*len(coefs)-1\n",
    "n_idx = np.arange(1, 2*len(coefs)-1, 2)"
   ]
  },
  {
   "cell_type": "code",
   "execution_count": 13,
   "metadata": {},
   "outputs": [],
   "source": [
    "def predict(coefs, theta):\n",
    "    \"\"\"\n",
    "    Predict the EMF given the coefficients and the electrical angle theta\n",
    "    \"\"\"\n",
    "    n_idx = np.arange(1, 2 * len(coefs)-1, 2)\n",
    "    pred = np.matmul(coefs[1:], np.cos(np.outer(n_idx, coefs[0] + theta)))\n",
    "    return pred\n",
    "\n",
    "def loss(coefs, theta, v_emf):\n",
    "    pred = predict(coefs, theta)\n",
    "    return np.sum((v_emf - pred)**2)"
   ]
  },
  {
   "cell_type": "code",
   "execution_count": 14,
   "metadata": {},
   "outputs": [
    {
     "data": {
      "text/plain": [
       "array([ 6.28318531e-01,  3.38499498e+02, -2.70799598e+01, -2.70799598e+00,\n",
       "       -9.96330324e-02, -1.11853145e+00,  2.27614394e-01,  2.32197231e-01,\n",
       "        2.34067377e-01,  5.18779813e-01,  5.52624693e-02,  0.00000000e+00,\n",
       "        0.00000000e+00])"
      ]
     },
     "execution_count": 14,
     "metadata": {},
     "output_type": "execute_result"
    }
   ],
   "source": [
    "#optimise the coefficients\n",
    "theta_m, v_emf = overlay_emf(df, num_phases, num_pole_pairs)\n",
    "peak_voltage = np.max(v_emf)\n",
    "#set bounds that the coefficients must be positive\n",
    "bounds = [(None, None) for _ in range(len(coefs))]\n",
    "bounds[0] = (0, 2*np.pi/num_pole_pairs)\n",
    "bounds[1] = (peak_voltage, peak_voltage * 1.5) # fundamental\n",
    "bounds[2] = (-0.2 * peak_voltage , 0) # 3rd harmonic\n",
    "bounds[3] = (-0.02 * peak_voltage , 0) # 5th harmonic\n",
    "bounds[4] = (None , None) # 7th harmonic\n",
    "bounds[5] = (None , None) # 9th harmonic\n",
    "bounds[6] = (None , None) # (0.01 * peak_voltage , 0.2 * peak_voltage) # 11th harmonic\n",
    "\n",
    "coefs[0:4] =np.mean(bounds[0:4], axis=1)\n",
    "coefs"
   ]
  },
  {
   "cell_type": "code",
   "execution_count": 15,
   "metadata": {},
   "outputs": [
    {
     "name": "stdout",
     "output_type": "stream",
     "text": [
      "Optimization terminated successfully.\n",
      "         Current function value: 602.757770\n",
      "         Iterations: 4323\n",
      "         Function evaluations: 5908\n",
      "True\n",
      "[ 2.17274092e-01  2.89932414e+02 -1.43344688e+01 -4.55514252e+00\n",
      " -5.04618632e-01 -4.98193418e-01  6.74392261e-01 -3.43212445e-01\n",
      "  2.98385714e-01 -4.25465348e-02  6.80754358e-01 -3.79409793e-02\n",
      " -1.70002744e-02]\n"
     ]
    }
   ],
   "source": [
    "theta_m, v_emf = overlay_emf(df, num_phases, num_pole_pairs)\n",
    "res = minimize(loss, coefs,\n",
    "               args=(theta_m, v_emf),\n",
    "               method='Nelder-Mead', tol=1e-6,\n",
    "               bounds=bounds,\n",
    "               options={'disp': True, \"maxiter\":9000})\n",
    "print(res.success)\n",
    "\n",
    "print(res.x)\n",
    "back_emf_fit = {\"phase_offset\": -res.x[0], \"coefs\": res.x[1:]}"
   ]
  },
  {
   "cell_type": "code",
   "execution_count": 16,
   "metadata": {},
   "outputs": [],
   "source": [
    "phase_emf_a = back_emf_fit[\"phase_offset\"]\n",
    "phase_emf_b = back_emf_fit[\"phase_offset\"] +(2*np.pi  / num_phases)\n",
    "phase_emf_c = back_emf_fit[\"phase_offset\"] +2*(2*np.pi  / num_phases)\n"
   ]
  },
  {
   "cell_type": "code",
   "execution_count": 17,
   "metadata": {},
   "outputs": [
    {
     "data": {
      "image/png": "[encoded data removed]",
      "text/plain": [
       "<Figure size 640x480 with 2 Axes>"
      ]
     },
     "metadata": {},
     "output_type": "display_data"
    }
   ],
   "source": [
    "fig, (ax_t, ax_w) = plt.subplots(2, 1, constrained_layout=True)\n",
    "la, = ax_t.plot(EMFa_df['Theta'], EMFa_df['Voltage'], '+', alpha=0.5)\n",
    "lb, = ax_t.plot(EMFb_df['Theta'], EMFb_df['Voltage'], '+', alpha=0.5)\n",
    "lc, = ax_t.plot(EMFc_df['Theta'], EMFc_df['Voltage'], '+', alpha=0.5)\n",
    "\n",
    "theta = np.linspace(0, 2*np.pi, 1000)\n",
    "\n",
    "ax_t.plot(theta, predict(res.x, theta), color=la.get_color())\n",
    "ax_t.plot(theta, predict(res.x, theta-(2*np.pi/num_phases)), color=lb.get_color())\n",
    "ax_t.plot(theta, predict(res.x, theta+(2*np.pi/num_phases)), color=lc.get_color())\n",
    "\n",
    "ax_t.plot(phase_emf_a, res.x[1], 'o', color=la.get_color())\n",
    "ax_t.plot(phase_emf_b, res.x[1], 'o', color=lb.get_color())\n",
    "ax_t.plot(phase_emf_c, res.x[1], 'o', color=lc.get_color())\n",
    "ax_t.set_xlabel('Theta mechanical (rad)')\n",
    "\n",
    "ax_w.bar(n_idx, abs(res.x[1:]), color = ['r' if res.x[i] < 0 else 'b' for i in range(1, len(res.x))])\n",
    "ax_w.set_xlabel('Harmonic')\n",
    "ax_w.set_yscale('log')\n",
    "ax_w.set_xticks(n_idx)\n",
    "for i in range(1, len(res.x)):\n",
    "    ax_w.text(n_idx[i-1], abs(res.x[i])*0.5, f\"{res.x[i]:.2f}\", ha='center', va='top', bbox=dict(facecolor='white',\n",
    "                                                                                                alpha=0.5, edgecolor='gray'))"
   ]
  },
  {
   "cell_type": "code",
   "execution_count": 18,
   "metadata": {},
   "outputs": [],
   "source": [
    "import yaml\n",
    "from tinarm import Job\n",
    "from tinarm import Machine\n",
    "from tinarm.api import JOB_STATUS, STATUS_JOB\n",
    "from tinarm import Api\n",
    "import time"
   ]
  },
  {
   "cell_type": "code",
   "execution_count": 19,
   "metadata": {},
   "outputs": [],
   "source": [
    "simulation_parameters = {\n",
    "       \"samples_per_electrical_period\": 180 * q.count/q.turn,\n",
    "        \"timestep_intervals\": 180 * q.count,\n",
    "        \"active_length\": 65 * q.mm * 0.95}"
   ]
  },
  {
   "cell_type": "code",
   "execution_count": 20,
   "metadata": {},
   "outputs": [],
   "source": [
    "with open(\"configurations.yaml\", \"r\") as f:\n",
    "    config = yaml.safe_load(f)"
   ]
  },
  {
   "cell_type": "code",
   "execution_count": 21,
   "metadata": {},
   "outputs": [
    {
     "data": {
      "text/plain": [
       "{'current_density': 0.0 <Unit('ampere / millimeter ** 2')>,\n",
       " 'current_angle': 255 <Unit('degree')>,\n",
       " 'simulated_speed': 3600 <Unit('revolutions_per_minute')>}"
      ]
     },
     "execution_count": 21,
     "metadata": {},
     "output_type": "execute_result"
    }
   ],
   "source": [
    "open_cct = max_speed_op.operating_point.copy()\n",
    "open_cct['current_density'] = 0.0 * q.A/q.mm**2\n",
    "open_cct"
   ]
  },
  {
   "cell_type": "code",
   "execution_count": 22,
   "metadata": {},
   "outputs": [
    {
     "name": "stdout",
     "output_type": "stream",
     "text": [
      "2024-03-22 02:15:46,669 - NoJobId - INFO - Martins-MacBook-Air.local - api.py->__init__() - root_url: https://api.build.tinarmengineering.com\n"
     ]
    },
    {
     "ename": "ConnectTimeout",
     "evalue": "HTTPSConnectionPool(host='api.build.tinarmengineering.com', port=443): Max retries exceeded with url: /jobs/?apikey=ae85149d1813f3e8add219d522ead63e&org_id=65fb0588b5567614346626ea (Caused by ConnectTimeoutError(<urllib3.connection.HTTPSConnection object at 0x14f266c90>, 'Connection to api.build.tinarmengineering.com timed out. (connect timeout=None)'))",
     "output_type": "error",
     "traceback": [
      "\u001b[0;31m---------------------------------------------------------------------------\u001b[0m",
      "\u001b[0;31mTimeoutError\u001b[0m                              Traceback (most recent call last)",
      "File \u001b[0;32m~/anaconda3/envs/ltc_test_py311/lib/python3.11/site-packages/urllib3/connection.py:174\u001b[0m, in \u001b[0;36mHTTPConnection._new_conn\u001b[0;34m(self)\u001b[0m\n\u001b[1;32m    173\u001b[0m \u001b[38;5;28;01mtry\u001b[39;00m:\n\u001b[0;32m--> 174\u001b[0m     conn \u001b[38;5;241m=\u001b[39m \u001b[43mconnection\u001b[49m\u001b[38;5;241;43m.\u001b[39;49m\u001b[43mcreate_connection\u001b[49m\u001b[43m(\u001b[49m\n\u001b[1;32m    175\u001b[0m \u001b[43m        \u001b[49m\u001b[43m(\u001b[49m\u001b[38;5;28;43mself\u001b[39;49m\u001b[38;5;241;43m.\u001b[39;49m\u001b[43m_dns_host\u001b[49m\u001b[43m,\u001b[49m\u001b[43m \u001b[49m\u001b[38;5;28;43mself\u001b[39;49m\u001b[38;5;241;43m.\u001b[39;49m\u001b[43mport\u001b[49m\u001b[43m)\u001b[49m\u001b[43m,\u001b[49m\u001b[43m \u001b[49m\u001b[38;5;28;43mself\u001b[39;49m\u001b[38;5;241;43m.\u001b[39;49m\u001b[43mtimeout\u001b[49m\u001b[43m,\u001b[49m\u001b[43m \u001b[49m\u001b[38;5;241;43m*\u001b[39;49m\u001b[38;5;241;43m*\u001b[39;49m\u001b[43mextra_kw\u001b[49m\n\u001b[1;32m    176\u001b[0m \u001b[43m    \u001b[49m\u001b[43m)\u001b[49m\n\u001b[1;32m    178\u001b[0m \u001b[38;5;28;01mexcept\u001b[39;00m SocketTimeout:\n",
      "File \u001b[0;32m~/anaconda3/envs/ltc_test_py311/lib/python3.11/site-packages/urllib3/util/connection.py:95\u001b[0m, in \u001b[0;36mcreate_connection\u001b[0;34m(address, timeout, source_address, socket_options)\u001b[0m\n\u001b[1;32m     94\u001b[0m \u001b[38;5;28;01mif\u001b[39;00m err \u001b[38;5;129;01mis\u001b[39;00m \u001b[38;5;129;01mnot\u001b[39;00m \u001b[38;5;28;01mNone\u001b[39;00m:\n\u001b[0;32m---> 95\u001b[0m     \u001b[38;5;28;01mraise\u001b[39;00m err\n\u001b[1;32m     97\u001b[0m \u001b[38;5;28;01mraise\u001b[39;00m socket\u001b[38;5;241m.\u001b[39merror(\u001b[38;5;124m\"\u001b[39m\u001b[38;5;124mgetaddrinfo returns an empty list\u001b[39m\u001b[38;5;124m\"\u001b[39m)\n",
      "File \u001b[0;32m~/anaconda3/envs/ltc_test_py311/lib/python3.11/site-packages/urllib3/util/connection.py:85\u001b[0m, in \u001b[0;36mcreate_connection\u001b[0;34m(address, timeout, source_address, socket_options)\u001b[0m\n\u001b[1;32m     84\u001b[0m     sock\u001b[38;5;241m.\u001b[39mbind(source_address)\n\u001b[0;32m---> 85\u001b[0m \u001b[43msock\u001b[49m\u001b[38;5;241;43m.\u001b[39;49m\u001b[43mconnect\u001b[49m\u001b[43m(\u001b[49m\u001b[43msa\u001b[49m\u001b[43m)\u001b[49m\n\u001b[1;32m     86\u001b[0m \u001b[38;5;28;01mreturn\u001b[39;00m sock\n",
      "\u001b[0;31mTimeoutError\u001b[0m: [Errno 60] Operation timed out",
      "\nDuring handling of the above exception, another exception occurred:\n",
      "\u001b[0;31mConnectTimeoutError\u001b[0m                       Traceback (most recent call last)",
      "File \u001b[0;32m~/anaconda3/envs/ltc_test_py311/lib/python3.11/site-packages/urllib3/connectionpool.py:715\u001b[0m, in \u001b[0;36mHTTPConnectionPool.urlopen\u001b[0;34m(self, method, url, body, headers, retries, redirect, assert_same_host, timeout, pool_timeout, release_conn, chunked, body_pos, **response_kw)\u001b[0m\n\u001b[1;32m    714\u001b[0m \u001b[38;5;66;03m# Make the request on the httplib connection object.\u001b[39;00m\n\u001b[0;32m--> 715\u001b[0m httplib_response \u001b[38;5;241m=\u001b[39m \u001b[38;5;28;43mself\u001b[39;49m\u001b[38;5;241;43m.\u001b[39;49m\u001b[43m_make_request\u001b[49m\u001b[43m(\u001b[49m\n\u001b[1;32m    716\u001b[0m \u001b[43m    \u001b[49m\u001b[43mconn\u001b[49m\u001b[43m,\u001b[49m\n\u001b[1;32m    717\u001b[0m \u001b[43m    \u001b[49m\u001b[43mmethod\u001b[49m\u001b[43m,\u001b[49m\n\u001b[1;32m    718\u001b[0m \u001b[43m    \u001b[49m\u001b[43murl\u001b[49m\u001b[43m,\u001b[49m\n\u001b[1;32m    719\u001b[0m \u001b[43m    \u001b[49m\u001b[43mtimeout\u001b[49m\u001b[38;5;241;43m=\u001b[39;49m\u001b[43mtimeout_obj\u001b[49m\u001b[43m,\u001b[49m\n\u001b[1;32m    720\u001b[0m \u001b[43m    \u001b[49m\u001b[43mbody\u001b[49m\u001b[38;5;241;43m=\u001b[39;49m\u001b[43mbody\u001b[49m\u001b[43m,\u001b[49m\n\u001b[1;32m    721\u001b[0m \u001b[43m    \u001b[49m\u001b[43mheaders\u001b[49m\u001b[38;5;241;43m=\u001b[39;49m\u001b[43mheaders\u001b[49m\u001b[43m,\u001b[49m\n\u001b[1;32m    722\u001b[0m \u001b[43m    \u001b[49m\u001b[43mchunked\u001b[49m\u001b[38;5;241;43m=\u001b[39;49m\u001b[43mchunked\u001b[49m\u001b[43m,\u001b[49m\n\u001b[1;32m    723\u001b[0m \u001b[43m\u001b[49m\u001b[43m)\u001b[49m\n\u001b[1;32m    725\u001b[0m \u001b[38;5;66;03m# If we're going to release the connection in ``finally:``, then\u001b[39;00m\n\u001b[1;32m    726\u001b[0m \u001b[38;5;66;03m# the response doesn't need to know about the connection. Otherwise\u001b[39;00m\n\u001b[1;32m    727\u001b[0m \u001b[38;5;66;03m# it will also try to release it and we'll have a double-release\u001b[39;00m\n\u001b[1;32m    728\u001b[0m \u001b[38;5;66;03m# mess.\u001b[39;00m\n",
      "File \u001b[0;32m~/anaconda3/envs/ltc_test_py311/lib/python3.11/site-packages/urllib3/connectionpool.py:404\u001b[0m, in \u001b[0;36mHTTPConnectionPool._make_request\u001b[0;34m(self, conn, method, url, timeout, chunked, **httplib_request_kw)\u001b[0m\n\u001b[1;32m    403\u001b[0m \u001b[38;5;28;01mtry\u001b[39;00m:\n\u001b[0;32m--> 404\u001b[0m     \u001b[38;5;28;43mself\u001b[39;49m\u001b[38;5;241;43m.\u001b[39;49m\u001b[43m_validate_conn\u001b[49m\u001b[43m(\u001b[49m\u001b[43mconn\u001b[49m\u001b[43m)\u001b[49m\n\u001b[1;32m    405\u001b[0m \u001b[38;5;28;01mexcept\u001b[39;00m (SocketTimeout, BaseSSLError) \u001b[38;5;28;01mas\u001b[39;00m e:\n\u001b[1;32m    406\u001b[0m     \u001b[38;5;66;03m# Py2 raises this as a BaseSSLError, Py3 raises it as socket timeout.\u001b[39;00m\n",
      "File \u001b[0;32m~/anaconda3/envs/ltc_test_py311/lib/python3.11/site-packages/urllib3/connectionpool.py:1058\u001b[0m, in \u001b[0;36mHTTPSConnectionPool._validate_conn\u001b[0;34m(self, conn)\u001b[0m\n\u001b[1;32m   1057\u001b[0m \u001b[38;5;28;01mif\u001b[39;00m \u001b[38;5;129;01mnot\u001b[39;00m \u001b[38;5;28mgetattr\u001b[39m(conn, \u001b[38;5;124m\"\u001b[39m\u001b[38;5;124msock\u001b[39m\u001b[38;5;124m\"\u001b[39m, \u001b[38;5;28;01mNone\u001b[39;00m):  \u001b[38;5;66;03m# AppEngine might not have  `.sock`\u001b[39;00m\n\u001b[0;32m-> 1058\u001b[0m     \u001b[43mconn\u001b[49m\u001b[38;5;241;43m.\u001b[39;49m\u001b[43mconnect\u001b[49m\u001b[43m(\u001b[49m\u001b[43m)\u001b[49m\n\u001b[1;32m   1060\u001b[0m \u001b[38;5;28;01mif\u001b[39;00m \u001b[38;5;129;01mnot\u001b[39;00m conn\u001b[38;5;241m.\u001b[39mis_verified:\n",
      "File \u001b[0;32m~/anaconda3/envs/ltc_test_py311/lib/python3.11/site-packages/urllib3/connection.py:363\u001b[0m, in \u001b[0;36mHTTPSConnection.connect\u001b[0;34m(self)\u001b[0m\n\u001b[1;32m    361\u001b[0m \u001b[38;5;28;01mdef\u001b[39;00m \u001b[38;5;21mconnect\u001b[39m(\u001b[38;5;28mself\u001b[39m):\n\u001b[1;32m    362\u001b[0m     \u001b[38;5;66;03m# Add certificate verification\u001b[39;00m\n\u001b[0;32m--> 363\u001b[0m     \u001b[38;5;28mself\u001b[39m\u001b[38;5;241m.\u001b[39msock \u001b[38;5;241m=\u001b[39m conn \u001b[38;5;241m=\u001b[39m \u001b[38;5;28;43mself\u001b[39;49m\u001b[38;5;241;43m.\u001b[39;49m\u001b[43m_new_conn\u001b[49m\u001b[43m(\u001b[49m\u001b[43m)\u001b[49m\n\u001b[1;32m    364\u001b[0m     hostname \u001b[38;5;241m=\u001b[39m \u001b[38;5;28mself\u001b[39m\u001b[38;5;241m.\u001b[39mhost\n",
      "File \u001b[0;32m~/anaconda3/envs/ltc_test_py311/lib/python3.11/site-packages/urllib3/connection.py:179\u001b[0m, in \u001b[0;36mHTTPConnection._new_conn\u001b[0;34m(self)\u001b[0m\n\u001b[1;32m    178\u001b[0m \u001b[38;5;28;01mexcept\u001b[39;00m SocketTimeout:\n\u001b[0;32m--> 179\u001b[0m     \u001b[38;5;28;01mraise\u001b[39;00m ConnectTimeoutError(\n\u001b[1;32m    180\u001b[0m         \u001b[38;5;28mself\u001b[39m,\n\u001b[1;32m    181\u001b[0m         \u001b[38;5;124m\"\u001b[39m\u001b[38;5;124mConnection to \u001b[39m\u001b[38;5;132;01m%s\u001b[39;00m\u001b[38;5;124m timed out. (connect timeout=\u001b[39m\u001b[38;5;132;01m%s\u001b[39;00m\u001b[38;5;124m)\u001b[39m\u001b[38;5;124m\"\u001b[39m\n\u001b[1;32m    182\u001b[0m         \u001b[38;5;241m%\u001b[39m (\u001b[38;5;28mself\u001b[39m\u001b[38;5;241m.\u001b[39mhost, \u001b[38;5;28mself\u001b[39m\u001b[38;5;241m.\u001b[39mtimeout),\n\u001b[1;32m    183\u001b[0m     )\n\u001b[1;32m    185\u001b[0m \u001b[38;5;28;01mexcept\u001b[39;00m SocketError \u001b[38;5;28;01mas\u001b[39;00m e:\n",
      "\u001b[0;31mConnectTimeoutError\u001b[0m: (<urllib3.connection.HTTPSConnection object at 0x14f266c90>, 'Connection to api.build.tinarmengineering.com timed out. (connect timeout=None)')",
      "\nDuring handling of the above exception, another exception occurred:\n",
      "\u001b[0;31mMaxRetryError\u001b[0m                             Traceback (most recent call last)",
      "File \u001b[0;32m~/anaconda3/envs/ltc_test_py311/lib/python3.11/site-packages/requests/adapters.py:486\u001b[0m, in \u001b[0;36mHTTPAdapter.send\u001b[0;34m(self, request, stream, timeout, verify, cert, proxies)\u001b[0m\n\u001b[1;32m    485\u001b[0m \u001b[38;5;28;01mtry\u001b[39;00m:\n\u001b[0;32m--> 486\u001b[0m     resp \u001b[38;5;241m=\u001b[39m \u001b[43mconn\u001b[49m\u001b[38;5;241;43m.\u001b[39;49m\u001b[43murlopen\u001b[49m\u001b[43m(\u001b[49m\n\u001b[1;32m    487\u001b[0m \u001b[43m        \u001b[49m\u001b[43mmethod\u001b[49m\u001b[38;5;241;43m=\u001b[39;49m\u001b[43mrequest\u001b[49m\u001b[38;5;241;43m.\u001b[39;49m\u001b[43mmethod\u001b[49m\u001b[43m,\u001b[49m\n\u001b[1;32m    488\u001b[0m \u001b[43m        \u001b[49m\u001b[43murl\u001b[49m\u001b[38;5;241;43m=\u001b[39;49m\u001b[43murl\u001b[49m\u001b[43m,\u001b[49m\n\u001b[1;32m    489\u001b[0m \u001b[43m        \u001b[49m\u001b[43mbody\u001b[49m\u001b[38;5;241;43m=\u001b[39;49m\u001b[43mrequest\u001b[49m\u001b[38;5;241;43m.\u001b[39;49m\u001b[43mbody\u001b[49m\u001b[43m,\u001b[49m\n\u001b[1;32m    490\u001b[0m \u001b[43m        \u001b[49m\u001b[43mheaders\u001b[49m\u001b[38;5;241;43m=\u001b[39;49m\u001b[43mrequest\u001b[49m\u001b[38;5;241;43m.\u001b[39;49m\u001b[43mheaders\u001b[49m\u001b[43m,\u001b[49m\n\u001b[1;32m    491\u001b[0m \u001b[43m        \u001b[49m\u001b[43mredirect\u001b[49m\u001b[38;5;241;43m=\u001b[39;49m\u001b[38;5;28;43;01mFalse\u001b[39;49;00m\u001b[43m,\u001b[49m\n\u001b[1;32m    492\u001b[0m \u001b[43m        \u001b[49m\u001b[43massert_same_host\u001b[49m\u001b[38;5;241;43m=\u001b[39;49m\u001b[38;5;28;43;01mFalse\u001b[39;49;00m\u001b[43m,\u001b[49m\n\u001b[1;32m    493\u001b[0m \u001b[43m        \u001b[49m\u001b[43mpreload_content\u001b[49m\u001b[38;5;241;43m=\u001b[39;49m\u001b[38;5;28;43;01mFalse\u001b[39;49;00m\u001b[43m,\u001b[49m\n\u001b[1;32m    494\u001b[0m \u001b[43m        \u001b[49m\u001b[43mdecode_content\u001b[49m\u001b[38;5;241;43m=\u001b[39;49m\u001b[38;5;28;43;01mFalse\u001b[39;49;00m\u001b[43m,\u001b[49m\n\u001b[1;32m    495\u001b[0m \u001b[43m        \u001b[49m\u001b[43mretries\u001b[49m\u001b[38;5;241;43m=\u001b[39;49m\u001b[38;5;28;43mself\u001b[39;49m\u001b[38;5;241;43m.\u001b[39;49m\u001b[43mmax_retries\u001b[49m\u001b[43m,\u001b[49m\n\u001b[1;32m    496\u001b[0m \u001b[43m        \u001b[49m\u001b[43mtimeout\u001b[49m\u001b[38;5;241;43m=\u001b[39;49m\u001b[43mtimeout\u001b[49m\u001b[43m,\u001b[49m\n\u001b[1;32m    497\u001b[0m \u001b[43m        \u001b[49m\u001b[43mchunked\u001b[49m\u001b[38;5;241;43m=\u001b[39;49m\u001b[43mchunked\u001b[49m\u001b[43m,\u001b[49m\n\u001b[1;32m    498\u001b[0m \u001b[43m    \u001b[49m\u001b[43m)\u001b[49m\n\u001b[1;32m    500\u001b[0m \u001b[38;5;28;01mexcept\u001b[39;00m (ProtocolError, \u001b[38;5;167;01mOSError\u001b[39;00m) \u001b[38;5;28;01mas\u001b[39;00m err:\n",
      "File \u001b[0;32m~/anaconda3/envs/ltc_test_py311/lib/python3.11/site-packages/urllib3/connectionpool.py:799\u001b[0m, in \u001b[0;36mHTTPConnectionPool.urlopen\u001b[0;34m(self, method, url, body, headers, retries, redirect, assert_same_host, timeout, pool_timeout, release_conn, chunked, body_pos, **response_kw)\u001b[0m\n\u001b[1;32m    797\u001b[0m     e \u001b[38;5;241m=\u001b[39m ProtocolError(\u001b[38;5;124m\"\u001b[39m\u001b[38;5;124mConnection aborted.\u001b[39m\u001b[38;5;124m\"\u001b[39m, e)\n\u001b[0;32m--> 799\u001b[0m retries \u001b[38;5;241m=\u001b[39m \u001b[43mretries\u001b[49m\u001b[38;5;241;43m.\u001b[39;49m\u001b[43mincrement\u001b[49m\u001b[43m(\u001b[49m\n\u001b[1;32m    800\u001b[0m \u001b[43m    \u001b[49m\u001b[43mmethod\u001b[49m\u001b[43m,\u001b[49m\u001b[43m \u001b[49m\u001b[43murl\u001b[49m\u001b[43m,\u001b[49m\u001b[43m \u001b[49m\u001b[43merror\u001b[49m\u001b[38;5;241;43m=\u001b[39;49m\u001b[43me\u001b[49m\u001b[43m,\u001b[49m\u001b[43m \u001b[49m\u001b[43m_pool\u001b[49m\u001b[38;5;241;43m=\u001b[39;49m\u001b[38;5;28;43mself\u001b[39;49m\u001b[43m,\u001b[49m\u001b[43m \u001b[49m\u001b[43m_stacktrace\u001b[49m\u001b[38;5;241;43m=\u001b[39;49m\u001b[43msys\u001b[49m\u001b[38;5;241;43m.\u001b[39;49m\u001b[43mexc_info\u001b[49m\u001b[43m(\u001b[49m\u001b[43m)\u001b[49m\u001b[43m[\u001b[49m\u001b[38;5;241;43m2\u001b[39;49m\u001b[43m]\u001b[49m\n\u001b[1;32m    801\u001b[0m \u001b[43m\u001b[49m\u001b[43m)\u001b[49m\n\u001b[1;32m    802\u001b[0m retries\u001b[38;5;241m.\u001b[39msleep()\n",
      "File \u001b[0;32m~/anaconda3/envs/ltc_test_py311/lib/python3.11/site-packages/urllib3/util/retry.py:592\u001b[0m, in \u001b[0;36mRetry.increment\u001b[0;34m(self, method, url, response, error, _pool, _stacktrace)\u001b[0m\n\u001b[1;32m    591\u001b[0m \u001b[38;5;28;01mif\u001b[39;00m new_retry\u001b[38;5;241m.\u001b[39mis_exhausted():\n\u001b[0;32m--> 592\u001b[0m     \u001b[38;5;28;01mraise\u001b[39;00m MaxRetryError(_pool, url, error \u001b[38;5;129;01mor\u001b[39;00m ResponseError(cause))\n\u001b[1;32m    594\u001b[0m log\u001b[38;5;241m.\u001b[39mdebug(\u001b[38;5;124m\"\u001b[39m\u001b[38;5;124mIncremented Retry for (url=\u001b[39m\u001b[38;5;124m'\u001b[39m\u001b[38;5;132;01m%s\u001b[39;00m\u001b[38;5;124m'\u001b[39m\u001b[38;5;124m): \u001b[39m\u001b[38;5;132;01m%r\u001b[39;00m\u001b[38;5;124m\"\u001b[39m, url, new_retry)\n",
      "\u001b[0;31mMaxRetryError\u001b[0m: HTTPSConnectionPool(host='api.build.tinarmengineering.com', port=443): Max retries exceeded with url: /jobs/?apikey=ae85149d1813f3e8add219d522ead63e&org_id=65fb0588b5567614346626ea (Caused by ConnectTimeoutError(<urllib3.connection.HTTPSConnection object at 0x14f266c90>, 'Connection to api.build.tinarmengineering.com timed out. (connect timeout=None)'))",
      "\nDuring handling of the above exception, another exception occurred:\n",
      "\u001b[0;31mConnectTimeout\u001b[0m                            Traceback (most recent call last)",
      "Cell \u001b[0;32mIn[22], line 5\u001b[0m\n\u001b[1;32m      2\u001b[0m m1 \u001b[38;5;241m=\u001b[39m Machine(m\u001b[38;5;241m.\u001b[39mstator_parameters, m\u001b[38;5;241m.\u001b[39mrotor_parameters, m\u001b[38;5;241m.\u001b[39mwinding_parameters)\n\u001b[1;32m      4\u001b[0m j1 \u001b[38;5;241m=\u001b[39m Job(m1, open_cct, simulation_parameters, title\u001b[38;5;241m=\u001b[39m\u001b[38;5;124m\"\u001b[39m\u001b[38;5;124mOpen CCT\u001b[39m\u001b[38;5;124m\"\u001b[39m)\n\u001b[0;32m----> 5\u001b[0m j1_result \u001b[38;5;241m=\u001b[39m \u001b[43mapi\u001b[49m\u001b[38;5;241;43m.\u001b[39;49m\u001b[43mcreate_job\u001b[49m\u001b[43m(\u001b[49m\u001b[43mj1\u001b[49m\u001b[43m)\u001b[49m\n\u001b[1;32m      6\u001b[0m j1_result \u001b[38;5;241m=\u001b[39m api\u001b[38;5;241m.\u001b[39mupdate_job_status(j1\u001b[38;5;241m.\u001b[39mid, JOB_STATUS[\u001b[38;5;124m'\u001b[39m\u001b[38;5;124mQueuedForMeshing\u001b[39m\u001b[38;5;124m'\u001b[39m])\n\u001b[1;32m      7\u001b[0m init_time \u001b[38;5;241m=\u001b[39m time\u001b[38;5;241m.\u001b[39mtime()\n",
      "File \u001b[0;32m~/Repositories/Lonely-Tool-Cult/tinarm/tinarm/api.py:146\u001b[0m, in \u001b[0;36mApi.create_job\u001b[0;34m(self, job)\u001b[0m\n\u001b[1;32m    142\u001b[0m \u001b[38;5;28;01mdef\u001b[39;00m \u001b[38;5;21mcreate_job\u001b[39m(\u001b[38;5;28mself\u001b[39m, job):\n\u001b[1;32m    143\u001b[0m \u001b[38;5;250m    \u001b[39m\u001b[38;5;124;03m\"\"\"\u001b[39;00m\n\u001b[1;32m    144\u001b[0m \u001b[38;5;124;03m    Create a job for the TAE API\u001b[39;00m\n\u001b[1;32m    145\u001b[0m \u001b[38;5;124;03m    \"\"\"\u001b[39;00m\n\u001b[0;32m--> 146\u001b[0m     response \u001b[38;5;241m=\u001b[39m \u001b[43mrequests\u001b[49m\u001b[38;5;241;43m.\u001b[39;49m\u001b[43mpost\u001b[49m\u001b[43m(\u001b[49m\n\u001b[1;32m    147\u001b[0m \u001b[43m        \u001b[49m\u001b[43murl\u001b[49m\u001b[38;5;241;43m=\u001b[39;49m\u001b[38;5;124;43mf\u001b[39;49m\u001b[38;5;124;43m\"\u001b[39;49m\u001b[38;5;132;43;01m{\u001b[39;49;00m\u001b[38;5;28;43mself\u001b[39;49m\u001b[38;5;241;43m.\u001b[39;49m\u001b[43m_root_url\u001b[49m\u001b[38;5;132;43;01m}\u001b[39;49;00m\u001b[38;5;124;43m/jobs/?apikey=\u001b[39;49m\u001b[38;5;132;43;01m{\u001b[39;49;00m\u001b[38;5;28;43mself\u001b[39;49m\u001b[38;5;241;43m.\u001b[39;49m\u001b[43m_api_key\u001b[49m\u001b[38;5;132;43;01m}\u001b[39;49;00m\u001b[38;5;124;43m&org_id=\u001b[39;49m\u001b[38;5;132;43;01m{\u001b[39;49;00m\u001b[38;5;28;43mself\u001b[39;49m\u001b[38;5;241;43m.\u001b[39;49m\u001b[43m_org_id\u001b[49m\u001b[38;5;132;43;01m}\u001b[39;49;00m\u001b[38;5;124;43m\"\u001b[39;49m\u001b[43m,\u001b[49m\n\u001b[1;32m    148\u001b[0m \u001b[43m        \u001b[49m\u001b[43mjson\u001b[49m\u001b[38;5;241;43m=\u001b[39;49m\u001b[43mjob\u001b[49m\u001b[38;5;241;43m.\u001b[39;49m\u001b[43mto_api\u001b[49m\u001b[43m(\u001b[49m\u001b[43m)\u001b[49m\u001b[43m,\u001b[49m\n\u001b[1;32m    149\u001b[0m \u001b[43m    \u001b[49m\u001b[43m)\u001b[49m\n\u001b[1;32m    150\u001b[0m     response\u001b[38;5;241m.\u001b[39mraise_for_status()\n\u001b[1;32m    151\u001b[0m     \u001b[38;5;28;01mif\u001b[39;00m response\u001b[38;5;241m.\u001b[39mstatus_code \u001b[38;5;241m==\u001b[39m \u001b[38;5;241m200\u001b[39m:\n",
      "File \u001b[0;32m~/anaconda3/envs/ltc_test_py311/lib/python3.11/site-packages/requests/api.py:115\u001b[0m, in \u001b[0;36mpost\u001b[0;34m(url, data, json, **kwargs)\u001b[0m\n\u001b[1;32m    103\u001b[0m \u001b[38;5;28;01mdef\u001b[39;00m \u001b[38;5;21mpost\u001b[39m(url, data\u001b[38;5;241m=\u001b[39m\u001b[38;5;28;01mNone\u001b[39;00m, json\u001b[38;5;241m=\u001b[39m\u001b[38;5;28;01mNone\u001b[39;00m, \u001b[38;5;241m*\u001b[39m\u001b[38;5;241m*\u001b[39mkwargs):\n\u001b[1;32m    104\u001b[0m \u001b[38;5;250m    \u001b[39m\u001b[38;5;124mr\u001b[39m\u001b[38;5;124;03m\"\"\"Sends a POST request.\u001b[39;00m\n\u001b[1;32m    105\u001b[0m \n\u001b[1;32m    106\u001b[0m \u001b[38;5;124;03m    :param url: URL for the new :class:`Request` object.\u001b[39;00m\n\u001b[0;32m   (...)\u001b[0m\n\u001b[1;32m    112\u001b[0m \u001b[38;5;124;03m    :rtype: requests.Response\u001b[39;00m\n\u001b[1;32m    113\u001b[0m \u001b[38;5;124;03m    \"\"\"\u001b[39;00m\n\u001b[0;32m--> 115\u001b[0m     \u001b[38;5;28;01mreturn\u001b[39;00m \u001b[43mrequest\u001b[49m\u001b[43m(\u001b[49m\u001b[38;5;124;43m\"\u001b[39;49m\u001b[38;5;124;43mpost\u001b[39;49m\u001b[38;5;124;43m\"\u001b[39;49m\u001b[43m,\u001b[49m\u001b[43m \u001b[49m\u001b[43murl\u001b[49m\u001b[43m,\u001b[49m\u001b[43m \u001b[49m\u001b[43mdata\u001b[49m\u001b[38;5;241;43m=\u001b[39;49m\u001b[43mdata\u001b[49m\u001b[43m,\u001b[49m\u001b[43m \u001b[49m\u001b[43mjson\u001b[49m\u001b[38;5;241;43m=\u001b[39;49m\u001b[43mjson\u001b[49m\u001b[43m,\u001b[49m\u001b[43m \u001b[49m\u001b[38;5;241;43m*\u001b[39;49m\u001b[38;5;241;43m*\u001b[39;49m\u001b[43mkwargs\u001b[49m\u001b[43m)\u001b[49m\n",
      "File \u001b[0;32m~/anaconda3/envs/ltc_test_py311/lib/python3.11/site-packages/requests/api.py:59\u001b[0m, in \u001b[0;36mrequest\u001b[0;34m(method, url, **kwargs)\u001b[0m\n\u001b[1;32m     55\u001b[0m \u001b[38;5;66;03m# By using the 'with' statement we are sure the session is closed, thus we\u001b[39;00m\n\u001b[1;32m     56\u001b[0m \u001b[38;5;66;03m# avoid leaving sockets open which can trigger a ResourceWarning in some\u001b[39;00m\n\u001b[1;32m     57\u001b[0m \u001b[38;5;66;03m# cases, and look like a memory leak in others.\u001b[39;00m\n\u001b[1;32m     58\u001b[0m \u001b[38;5;28;01mwith\u001b[39;00m sessions\u001b[38;5;241m.\u001b[39mSession() \u001b[38;5;28;01mas\u001b[39;00m session:\n\u001b[0;32m---> 59\u001b[0m     \u001b[38;5;28;01mreturn\u001b[39;00m \u001b[43msession\u001b[49m\u001b[38;5;241;43m.\u001b[39;49m\u001b[43mrequest\u001b[49m\u001b[43m(\u001b[49m\u001b[43mmethod\u001b[49m\u001b[38;5;241;43m=\u001b[39;49m\u001b[43mmethod\u001b[49m\u001b[43m,\u001b[49m\u001b[43m \u001b[49m\u001b[43murl\u001b[49m\u001b[38;5;241;43m=\u001b[39;49m\u001b[43murl\u001b[49m\u001b[43m,\u001b[49m\u001b[43m \u001b[49m\u001b[38;5;241;43m*\u001b[39;49m\u001b[38;5;241;43m*\u001b[39;49m\u001b[43mkwargs\u001b[49m\u001b[43m)\u001b[49m\n",
      "File \u001b[0;32m~/anaconda3/envs/ltc_test_py311/lib/python3.11/site-packages/requests/sessions.py:589\u001b[0m, in \u001b[0;36mSession.request\u001b[0;34m(self, method, url, params, data, headers, cookies, files, auth, timeout, allow_redirects, proxies, hooks, stream, verify, cert, json)\u001b[0m\n\u001b[1;32m    584\u001b[0m send_kwargs \u001b[38;5;241m=\u001b[39m {\n\u001b[1;32m    585\u001b[0m     \u001b[38;5;124m\"\u001b[39m\u001b[38;5;124mtimeout\u001b[39m\u001b[38;5;124m\"\u001b[39m: timeout,\n\u001b[1;32m    586\u001b[0m     \u001b[38;5;124m\"\u001b[39m\u001b[38;5;124mallow_redirects\u001b[39m\u001b[38;5;124m\"\u001b[39m: allow_redirects,\n\u001b[1;32m    587\u001b[0m }\n\u001b[1;32m    588\u001b[0m send_kwargs\u001b[38;5;241m.\u001b[39mupdate(settings)\n\u001b[0;32m--> 589\u001b[0m resp \u001b[38;5;241m=\u001b[39m \u001b[38;5;28;43mself\u001b[39;49m\u001b[38;5;241;43m.\u001b[39;49m\u001b[43msend\u001b[49m\u001b[43m(\u001b[49m\u001b[43mprep\u001b[49m\u001b[43m,\u001b[49m\u001b[43m \u001b[49m\u001b[38;5;241;43m*\u001b[39;49m\u001b[38;5;241;43m*\u001b[39;49m\u001b[43msend_kwargs\u001b[49m\u001b[43m)\u001b[49m\n\u001b[1;32m    591\u001b[0m \u001b[38;5;28;01mreturn\u001b[39;00m resp\n",
      "File \u001b[0;32m~/anaconda3/envs/ltc_test_py311/lib/python3.11/site-packages/requests/sessions.py:703\u001b[0m, in \u001b[0;36mSession.send\u001b[0;34m(self, request, **kwargs)\u001b[0m\n\u001b[1;32m    700\u001b[0m start \u001b[38;5;241m=\u001b[39m preferred_clock()\n\u001b[1;32m    702\u001b[0m \u001b[38;5;66;03m# Send the request\u001b[39;00m\n\u001b[0;32m--> 703\u001b[0m r \u001b[38;5;241m=\u001b[39m \u001b[43madapter\u001b[49m\u001b[38;5;241;43m.\u001b[39;49m\u001b[43msend\u001b[49m\u001b[43m(\u001b[49m\u001b[43mrequest\u001b[49m\u001b[43m,\u001b[49m\u001b[43m \u001b[49m\u001b[38;5;241;43m*\u001b[39;49m\u001b[38;5;241;43m*\u001b[39;49m\u001b[43mkwargs\u001b[49m\u001b[43m)\u001b[49m\n\u001b[1;32m    705\u001b[0m \u001b[38;5;66;03m# Total elapsed time of the request (approximately)\u001b[39;00m\n\u001b[1;32m    706\u001b[0m elapsed \u001b[38;5;241m=\u001b[39m preferred_clock() \u001b[38;5;241m-\u001b[39m start\n",
      "File \u001b[0;32m~/anaconda3/envs/ltc_test_py311/lib/python3.11/site-packages/requests/adapters.py:507\u001b[0m, in \u001b[0;36mHTTPAdapter.send\u001b[0;34m(self, request, stream, timeout, verify, cert, proxies)\u001b[0m\n\u001b[1;32m    504\u001b[0m \u001b[38;5;28;01mif\u001b[39;00m \u001b[38;5;28misinstance\u001b[39m(e\u001b[38;5;241m.\u001b[39mreason, ConnectTimeoutError):\n\u001b[1;32m    505\u001b[0m     \u001b[38;5;66;03m# TODO: Remove this in 3.0.0: see #2811\u001b[39;00m\n\u001b[1;32m    506\u001b[0m     \u001b[38;5;28;01mif\u001b[39;00m \u001b[38;5;129;01mnot\u001b[39;00m \u001b[38;5;28misinstance\u001b[39m(e\u001b[38;5;241m.\u001b[39mreason, NewConnectionError):\n\u001b[0;32m--> 507\u001b[0m         \u001b[38;5;28;01mraise\u001b[39;00m ConnectTimeout(e, request\u001b[38;5;241m=\u001b[39mrequest)\n\u001b[1;32m    509\u001b[0m \u001b[38;5;28;01mif\u001b[39;00m \u001b[38;5;28misinstance\u001b[39m(e\u001b[38;5;241m.\u001b[39mreason, ResponseError):\n\u001b[1;32m    510\u001b[0m     \u001b[38;5;28;01mraise\u001b[39;00m RetryError(e, request\u001b[38;5;241m=\u001b[39mrequest)\n",
      "\u001b[0;31mConnectTimeout\u001b[0m: HTTPSConnectionPool(host='api.build.tinarmengineering.com', port=443): Max retries exceeded with url: /jobs/?apikey=ae85149d1813f3e8add219d522ead63e&org_id=65fb0588b5567614346626ea (Caused by ConnectTimeoutError(<urllib3.connection.HTTPSConnection object at 0x14f266c90>, 'Connection to api.build.tinarmengineering.com timed out. (connect timeout=None)'))"
     ]
    }
   ],
   "source": [
    "api = Api(config[\"root_url\"], config[\"api_key\"], config[\"org_id\"])\n",
    "m1 = Machine(m.stator_parameters, m.rotor_parameters, m.winding_parameters)\n",
    "\n",
    "j1 = Job(m1, open_cct, simulation_parameters, title=\"Open CCT\")\n",
    "j1_result = api.create_job(j1)\n",
    "j1_result = api.update_job_status(j1.id, JOB_STATUS['QueuedForMeshing'])\n",
    "init_time = time.time()\n",
    "while STATUS_JOB[api.get_job(j1.id)['status']] != 'Complete':\n",
    "    print(\"{2:2.4} {1} status {0}\".format(STATUS_JOB[api.get_job(j1.id)['status']], j1.title, time.time()-init_time))\n",
    "    time.sleep(10)\n",
    "time.sleep(1)\n",
    "print(\"{2:2.4}s {1} status {0}\".format(STATUS_JOB[api.get_job(j1.id)['status']], j1.title, time.time()-init_time))"
   ]
  },
  {
   "cell_type": "code",
   "execution_count": null,
   "metadata": {},
   "outputs": [],
   "source": [
    "j1_result = api.get_job(j1.id)\n",
    "j1_result_data = [art for art in j1_result['artifacts'] if art['type']=='RESULT_DATA'][0]\n",
    "\n",
    "if j1_result_data['url'].startswith(\"http\"):\n",
    "    print(\"Result data available at\", j1_result_data['url'])\n",
    "    j1_df = pd.read_csv(j1_result_data['url'], header=[0, 1], index_col=[0, 1]).pint.quantify(level=-1)\n",
    "else:\n",
    "    print(\"Result data not available yet. Have you promoted the artifact?\")"
   ]
  },
  {
   "cell_type": "code",
   "execution_count": null,
   "metadata": {},
   "outputs": [],
   "source": [
    "#convert all the data in j1_df to base units\n",
    "j1_df = j1_df.pint.to_base_units()"
   ]
  },
  {
   "cell_type": "code",
   "execution_count": null,
   "metadata": {},
   "outputs": [],
   "source": [
    "theta_err = np.pi + np.deg2rad(4)\n",
    "angles = j1_df[\"angles\"].pint.magnitude\n",
    "\n",
    "fig, (ax_t, ax_w) = plt.subplots(2, 1, constrained_layout=True)\n",
    "la, = ax_t.plot(j1_df['angles'], j1_df['Phase_0'], label='Phase A')\n",
    "lb, = ax_t.plot(j1_df['angles'], j1_df['Phase_1'], label='Phase B')\n",
    "lc, = ax_t.plot(j1_df['angles'], j1_df['Phase_2'], label='Phase C')\n",
    "\n",
    "ax_t.plot(j1_df['angles'],\n",
    "          predict(res.x, angles+theta_err),\n",
    "          '--',\n",
    "          alpha=0.5,\n",
    "          color=la.get_color())\n",
    "ax_t.plot(j1_df['angles'],\n",
    "          predict(res.x, angles-(2*np.pi/num_phases)+theta_err),\n",
    "          '--', alpha=0.5,\n",
    "          color=lb.get_color())\n",
    "ax_t.plot(j1_df['angles'],\n",
    "          predict(res.x, angles+(2*np.pi/num_phases)+theta_err),\n",
    "          '--', alpha=0.5,\n",
    "          color=lc.get_color())\n",
    "          \n",
    "ax_t.set_xlabel('Theta electrical (rad)')\n",
    "ax_t.legend()\n",
    "err = np.sum(np.abs(j1_df['Phase_0'] - (q.V * predict(res.x, angles+theta_err))))\n",
    "print(f\"Error {err}\")\n",
    "\n",
    "# do an fft of the j1_df['Phase_0'] and compare to the coefficients\n",
    "from scipy.fft import fft\n",
    "# Number of sample points\n",
    "N = len(j1_df['Phase_0'])\n",
    "# sample spacing\n",
    "delta_theta = np.diff(j1_df['angles'])[0]\n",
    "\n",
    "yf = fft(j1_df['Phase_0'].values, n=N)\n",
    "ax_w.bar(x=range(1,24,2), height=np.abs(yf[1:24:2])/(N/2), color='b')\n",
    "ax_w.bar(n_idx, abs(res.x[1:]), color = 'r', alpha=0.5)\n",
    "ax_w.set_yscale('log')\n",
    "for i in range(1, len(res.x)):\n",
    "    diff = abs(yf[i*2-1]/(N/2)) / abs(res.x[i])\n",
    "    ax_w.text(n_idx[i-1], abs(yf[i*2-1]/(N/2))*0.5, f\"{diff:2.0%}\", ha='center', va='top', bbox=dict(facecolor='white',\n",
    "                                                                                                alpha=0.5, edgecolor='gray'))"
   ]
  },
  {
   "cell_type": "code",
   "execution_count": null,
   "metadata": {},
   "outputs": [],
   "source": [
    "current_df = pd.read_csv(os.path.join(machine, op_point, \"CurrentAngle.csv\"),\n",
    "                         index_col=None, header=[0,1])\n",
    "                      \n",
    "current_df.columns = pd.MultiIndex.from_tuples([(l1, l2, _units[(l1,l2)]) for l1,l2 in current_df.columns])\n",
    "current_df = current_df.pint.quantify(level=-1)\n",
    "ib_df = current_df['Ib']\n"
   ]
  },
  {
   "cell_type": "code",
   "execution_count": null,
   "metadata": {},
   "outputs": [],
   "source": [
    "ib_df = convert_to_electrical_degrees(current_df['Ib'].copy(), new_name=\"Current\")\n",
    "ib_df.dropna(inplace=True)\n",
    "emfb_df = convert_to_electrical_degrees(current_df['EMFb2'].copy(), new_name=\"EMF_B\")\n"
   ]
  },
  {
   "cell_type": "code",
   "execution_count": null,
   "metadata": {},
   "outputs": [],
   "source": [
    "emfb_df.dropna(inplace=True)"
   ]
  },
  {
   "cell_type": "code",
   "execution_count": null,
   "metadata": {},
   "outputs": [],
   "source": [
    "current_coef = np.array([1.5, 75]) #initial guess offset and amplitude\n",
    "bounds = [(None, None) for _ in range(len(current_coef))]\n",
    "\n",
    "def predict_current(coefs, theta):\n",
    "    \"\"\"Predict the current from the coefficients and the angle, \n",
    "    the coefficients are the phase offset and the amplitude of the cosine function\n",
    "    the angle is the electrical angle in radians\"\"\"\n",
    "    pred = coefs[1] * np.cos(coefs[0] - theta)\n",
    "    return pred\n",
    "\n",
    "def loss_current(coefs, theta, current):\n",
    "    current_b = predict_current(coefs, theta)\n",
    "    return np.sum((current - current_b)**2)\n",
    "\n",
    "res_current = minimize(loss_current, current_coef,\n",
    "                       args=(ib_df[\"Theta\"].pint.magnitude,\n",
    "                             ib_df[\"Current\"].pint.magnitude),\n",
    "                             method='Nelder-Mead',\n",
    "                             tol=1e-6,\n",
    "                             bounds=bounds,)\n",
    "print(res_current)\n",
    "\n",
    "ib_mag = res_current.x[1]\n",
    "phase_current_b = res_current.x[0]\n",
    "print(phase_current_b)"
   ]
  },
  {
   "cell_type": "code",
   "execution_count": null,
   "metadata": {},
   "outputs": [],
   "source": [
    "fig, (ax_t) = plt.subplots(1, 1, constrained_layout=True)\n",
    "\n",
    "l_emf_b, = ax_t.plot(current_df['EMFb2']['X'].pint.to_base_units().pint.magnitude * num_pole_pairs,\n",
    "                     current_df['EMFb2']['Y'],\n",
    "                     'x', alpha=0.5, color=lb.get_color())\n",
    "\n",
    "ax_right = ax_t.twinx()\n",
    "l_ib, =  ax_right.plot(current_df['Ib']['X'].pint.to_base_units().pint.magnitude * num_pole_pairs,\n",
    "                       current_df['Ib']['Y'], '+', alpha=0.5)\n",
    "\n",
    "ax_t.plot(j1_df['angles'].pint.to_base_units().pint.magnitude,\n",
    "          predict(res.x, j1_df['angles'].pint.magnitude-(2*np.pi/num_phases)),\n",
    "          '--',\n",
    "          color=lb.get_color())\n",
    "\n",
    "ax_right.plot(ib_df[\"Theta\"].pint.magnitude,\n",
    "          predict_current(res_current.x, ib_df[\"Theta\"].pint.magnitude),\n",
    "          color=l_ib.get_color())\n",
    "ax_right.set_ylabel('Current (A)')\n",
    "\n",
    "\n",
    "ax_right.plot(phase_current_b, ib_mag, 'o', color=l_ib.get_color())\n",
    "ax_t.plot(phase_emf_b , res.x[1], 'o', color=lb.get_color())\n",
    "\n",
    "ax_t.axvline(phase_emf_b , color=lb.get_color(), linestyle='--')\n",
    "ax_t.axvline(phase_current_b, color=l_ib.get_color(), linestyle='--')\n",
    "\n",
    "phase_difference = np.rad2deg((phase_current_b - phase_emf_b) )\n",
    "print(f\"Phase difference {phase_difference} degrees\")\n",
    "ax_t.text(phase_current_b, 0, f\"{phase_difference:.2f}°\", ha='center', va='top', bbox=dict(facecolor='white',\n",
    "                                                                                                alpha=0.5, edgecolor='gray'))   \n",
    "ax_t.set_xlabel('Theta electrical (rad)')\n",
    "#set markers in degrees on the top axis\n",
    "# add a x-axis spine on top\n",
    "ax_ttop = ax_t.secondary_xaxis('top')\n",
    "ax_ttop.set_xlabel('Theta electrical (rad)')\n",
    "tick_pos = [0, 60, 120, 180, 240, 300, 360]\n",
    "ax_ttop.set_xticks(np.deg2rad(tick_pos))\n",
    "ax_ttop.set_xticklabels(tick_pos)\n",
    "ax_ttop.set_xlabel('Theta electrical (deg)')"
   ]
  },
  {
   "cell_type": "code",
   "execution_count": null,
   "metadata": {},
   "outputs": [],
   "source": [
    "# Do the 2nd simulation\n",
    "\n",
    "j2 = Job(m1, max_speed_op.operating_point, simulation_parameters, title=\"nominal\")\n",
    "j2_result = api.create_job(j2)\n",
    "j2_result = api.update_job_status(j2.id, JOB_STATUS['QueuedForMeshing'])\n",
    "init_time = time.time()\n",
    "while STATUS_JOB[api.get_job(j2.id)['status']] != 'Complete':\n",
    "    print(\"{2:2.4} {1} status {0}\".format(STATUS_JOB[api.get_job(j2.id)['status']], j2.title, time.time()-init_time))\n",
    "    time.sleep(10)\n",
    "time.sleep(1)\n",
    "print(\"{2:2.4}s {1} status {0}\".format(STATUS_JOB[api.get_job(j2.id)['status']], j2.title, time.time()-init_time))\n"
   ]
  },
  {
   "cell_type": "code",
   "execution_count": null,
   "metadata": {},
   "outputs": [],
   "source": [
    "j2_result = api.get_job(j2.id)\n",
    "j2_result_data = [art for art in j2_result['artifacts'] if art['type']=='RESULT_DATA'][0]\n",
    "\n",
    "if j2_result_data['url'].startswith(\"http\"):\n",
    "    print(\"Result data available at\", j2_result_data['url'])\n",
    "    j2_df = pd.read_csv(j2_result_data['url'], header=[0, 1], index_col=[0, 1]).pint.quantify(level=-1)\n",
    "else:\n",
    "    print(\"Result data not available yet. Have you promoted the artifact?\")"
   ]
  },
  {
   "cell_type": "code",
   "execution_count": null,
   "metadata": {},
   "outputs": [],
   "source": [
    "fig, (ax_t) = plt.subplots(1, 1, constrained_layout=True)\n",
    "\n",
    "reference_current = predict_current(res_current.x, j2_df[\"angles\"].pint.magnitude).astype('pint[A]')\n",
    "\n",
    "ax_t.plot(j2_df['angles'], j2_df['Slot_2_Current'], label='Slot 2, A', color=la.get_color())\n",
    "ax_t.plot(j2_df['angles'], j2_df['Slot_3_Current'], label='Slot 3, b', color=lb.get_color())\n",
    "ax_t.plot(j2_df['angles'], j2_df['Slot_4_Current'], label='Slot 4, B', color=lb.get_color())\n",
    "ax_t.plot(j2_df['angles'], j2_df['Slot_7_Current'], label='Slot 7, C', color=lc.get_color())\n",
    "\n",
    "ax_t.plot(j2_df[\"angles\"],\n",
    "          reference_current,\n",
    "          color=lb.get_color(), linestyle='--', linewidth=3, alpha=0.5, label='Phase B')\n",
    "ax_t.set_ylabel('Current (A)')\n",
    "ax_t.legend()\n",
    "print(f\"Reference Peak Current {reference_current.max():2.5~P}\")\n",
    "print(f\"Simulated Peak Current {j2_df['Slot_4_Current'].max():2.5~P} \")\n",
    "print(f\"Relative Error {100*(reference_current.max()/j2_df['Slot_4_Current'].max())} %\")"
   ]
  },
  {
   "cell_type": "code",
   "execution_count": null,
   "metadata": {},
   "outputs": [],
   "source": [
    "torque_df = pd.read_csv(os.path.join(machine, op_point, 'Torque.csv'),\n",
    "                         index_col=None, header=[0,1])\n",
    "\n",
    "torque_df.columns = pd.MultiIndex.from_tuples([(l1, l2, _units[(l1,l2)]) for l1,l2 in torque_df.columns])\n",
    "torque_df = torque_df.pint.quantify(level=-1)\n",
    "\n",
    "torque_df =  convert_to_electrical_degrees(torque_df[\"Torque\"].copy(),\n",
    "                                         num_pole_pairs=num_pole_pairs,\n",
    "                                         new_name=\"Torque\")\n",
    "#drop nans and reset index\n",
    "torque_df.dropna(inplace=True)\n",
    "torque_df"
   ]
  },
  {
   "cell_type": "code",
   "execution_count": null,
   "metadata": {},
   "outputs": [],
   "source": [
    "\n",
    "fig, (ax_t) = plt.subplots(1, 1, constrained_layout=True)\n",
    "l_torque, = ax_t.plot(torque_df['Theta'], torque_df['Torque'], '-+', alpha=0.5, label='Reference Torque')\n",
    "l_sim_t, = ax_t.plot(j2_df['angles'], j2_df['Scaled Torque'], label='Simulated Torque') \n",
    "ax_t.set_xlabel('Theta electrical (rad)')\n",
    "ax_t.set_ylabel('Torque (N.m)')\n",
    "ax_t.legend()\n",
    "print(f\"Reference Average Torque {torque_df['Torque'].mean().to(q.N*q.m):2.5~P}\")\n",
    "print(f\"Simulated Average Torque {j2_df['Scaled Torque'].mean():2.5~P} \")\n",
    "print(f\"Relative Error {(torque_df['Torque'].mean() / j2_df['Scaled Torque'].mean()).to(q.percent):2.5~P}\")"
   ]
  },
  {
   "cell_type": "code",
   "execution_count": null,
   "metadata": {},
   "outputs": [],
   "source": [
    "voltage_df = pd.read_csv(os.path.join(machine, op_point, 'PhaseVoltage.csv'),\n",
    "                         index_col=None, header=[0,1])\n",
    "                         \n",
    "voltage_df.columns = pd.MultiIndex.from_tuples([(l1, l2, _units[(l1,l2)]) for l1,l2 in voltage_df.columns])\n",
    "voltage_df = voltage_df.pint.quantify(level=-1)\n",
    "\n",
    "va_df =  convert_to_electrical_degrees(voltage_df[\"Va\"].copy(),\n",
    "                                         num_pole_pairs=num_pole_pairs,\n",
    "                                         new_name=\"Phase A\")\n",
    "#drop nans and reset index\n",
    "va_df.dropna(inplace=True)\n",
    "\n",
    "vb_df =  convert_to_electrical_degrees(voltage_df[\"Vb\"].copy(),\n",
    "                                         num_pole_pairs=num_pole_pairs,\n",
    "                                         new_name=\"Phase B\")\n",
    "#drop nans and reset index\n",
    "vb_df.dropna(inplace=True)\n",
    "\n",
    "vc_df =  convert_to_electrical_degrees(voltage_df[\"Vc\"].copy(),\n",
    "                                         num_pole_pairs=num_pole_pairs,\n",
    "                                         new_name=\"Phase C\")\n",
    "#drop nans and reset index\n",
    "vc_df.dropna(inplace=True)"
   ]
  },
  {
   "cell_type": "code",
   "execution_count": null,
   "metadata": {},
   "outputs": [],
   "source": [
    "fig, (ax_t) = plt.subplots(1, 1, constrained_layout=True)\n",
    "\n",
    "ax_t.plot(va_df['Theta'], va_df['Phase A'], label='Phase A', color=la.get_color())\n",
    "ax_t.plot(vb_df['Theta'], vb_df['Phase B'], label='Phase B', color=lb.get_color())\n",
    "ax_t.plot(vc_df['Theta'], vc_df['Phase C'], label='Phase C', color=lc.get_color())\n",
    "\n",
    "ax_t.plot(j2_df['angles'], j2_df['Phase_0'], label='Phase A', color=la.get_color(), linestyle='--')\n",
    "ax_t.plot(j2_df['angles'], j2_df['Phase_1'], label='Phase B', color=lb.get_color(), linestyle='--')\n",
    "ax_t.plot(j2_df['angles'], j2_df['Phase_2'], label='Phase C', color=lc.get_color(), linestyle='--')"
   ]
  },
  {
   "cell_type": "code",
   "execution_count": null,
   "metadata": {},
   "outputs": [],
   "source": []
  }
 ],
 "metadata": {
  "kernelspec": {
   "display_name": "ltc_test_py311",
   "language": "python",
   "name": "python3"
  },
  "language_info": {
   "codemirror_mode": {
    "name": "ipython",
    "version": 3
   },
   "file_extension": ".py",
   "mimetype": "text/x-python",
   "name": "python",
   "nbconvert_exporter": "python",
   "pygments_lexer": "ipython3",
   "version": "3.10.12"
  }
 },
 "nbformat": 4,
 "nbformat_minor": 2
}

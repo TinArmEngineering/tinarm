{
 "cells": [
  {
   "cell_type": "code",
   "execution_count": null,
   "metadata": {},
   "outputs": [],
   "source": [
    "%pip install -r requirements.txt\n",
    "#%pip uninstall -y tinarm\n",
    "%pip install -e ../.\n"
   ]
  },
  {
   "cell_type": "code",
   "execution_count": null,
   "metadata": {},
   "outputs": [],
   "source": [
    "import pandas as pd\n",
    "import pint_pandas\n",
    "import logging\n",
    "import tinarm\n",
    "import os\n",
    "import numpy as np\n",
    "import matplotlib.pyplot as plt\n",
    "from scipy.optimize import minimize"
   ]
  },
  {
   "cell_type": "code",
   "execution_count": null,
   "metadata": {},
   "outputs": [],
   "source": [
    "### Configure Logging\n",
    "LOGGING_LEVEL = logging.INFO\n",
    "\n",
    "logger = logging.getLogger()\n",
    "logger.setLevel(LOGGING_LEVEL)\n",
    "logger.info(f\"tinarm version {tinarm.__version__}\")\n",
    "logger.info(f\"pint_pandas version {pint_pandas.__version__}\")\n",
    "\n",
    "q = pint_pandas.PintType.ureg\n",
    "q.setup_matplotlib()"
   ]
  },
  {
   "cell_type": "code",
   "execution_count": null,
   "metadata": {},
   "outputs": [],
   "source": [
    "# Get the operating points for the machine machine='M1'\n",
    "# Each opperating point is a folder in the machine folder\n",
    "machine = 'M1'\n",
    "operating_points = [op_point for op_point in os.listdir(machine) if os.path.isdir(os.path.join(machine, op_point)) and not op_point.startswith('__pycache__')]"
   ]
  },
  {
   "cell_type": "code",
   "execution_count": null,
   "metadata": {},
   "outputs": [],
   "source": [
    "_units = {(\"EMFa\", \"X\"):q.degrees,\n",
    "         (\"EMFa\", \"Y\"):q.V,\n",
    "         (\"EMFb\", \"X\"):q.degrees,\n",
    "         (\"EMFb\", \"Y\"):q.V,\n",
    "         (\"EMFb2\", \"X\"):q.degrees,\n",
    "         (\"EMFb2\", \"Y\"):q.V,\n",
    "         (\"EMFc\", \"X\"):q.degrees,\n",
    "         (\"EMFc\", \"Y\"):q.V,\n",
    "         (\"Ia\", \"X\"):q.degrees,\n",
    "         (\"Ia\", \"Y\"):q.A,\n",
    "         (\"Ib\", \"X\"):q.degrees,\n",
    "         (\"Ib\", \"Y\"):q.A,\n",
    "         (\"Ic\", \"X\"):q.degrees,\n",
    "         (\"Ic\", \"Y\"):q.A, \n",
    "         (\"Torque\", \"X\"):q.degrees,\n",
    "         (\"Torque\", \"Y\"):q.N*q.m, \n",
    "         (\"Va\", \"X\"):q.degrees,\n",
    "         (\"Va\", \"Y\"):q.V,\n",
    "         (\"Vb\", \"X\"):q.degrees,\n",
    "         (\"Vb\", \"Y\"):q.V,\n",
    "         (\"Vc\", \"X\"):q.degrees,\n",
    "         (\"Vc\", \"Y\"):q.V,\n",
    "         (\"Total\", \"X\"):q.degrees,\n",
    "         (\"Total\", \"Y\"):q.W,\n",
    "         (\"Tooth\", \"X\"):q.degrees,\n",
    "         (\"Tooth\", \"Y\"):q.W,\n",
    "         (\"Yoke\", \"X\"):q.degrees,\n",
    "         (\"Yoke\", \"Y\"):q.W,\n",
    "         (\"Rotor\", \"X\"):q.degrees,\n",
    "         (\"Rotor\", \"Y\"):q.W}\n"
   ]
  },
  {
   "cell_type": "code",
   "execution_count": null,
   "metadata": {},
   "outputs": [],
   "source": [
    "# check that we have all the expected charts\n",
    "def check_charts(machine, operating_points):\n",
    "    expected_charts = ['BackEmf.csv', 'CurrentAngle.csv',\n",
    "                    'IronLoss.csv', 'MagnetLoss.csv',\n",
    "                    'PhaseVoltage.csv', 'Torque.csv']\n",
    "    for op_point in operating_points:\n",
    "        print(f\"Processing {op_point}\")\n",
    "        charts = [c for c in os.listdir(os.path.join(machine, op_point)) if c.endswith('.csv')]\n",
    "        charts.sort()\n",
    "\n",
    "        for chart in charts:\n",
    "            if chart in expected_charts:\n",
    "                # in green text\n",
    "                print(f\"\\033[32m  {chart} found\\033[0m\")\n",
    "            else:\n",
    "                # in red text\n",
    "                print(f\"\\033[31m  {chart} not found\\033[0m\")\n",
    "        if \"operating_point.py\" in os.listdir(os.path.join(machine, op_point)):\n",
    "            print(f\"\\033[32m  operating_point.py found\\033[0m\")\n",
    "        else:\n",
    "            print(f\"\\033[31m  operating_point.py not found\\033[0m\")\n",
    "    return charts\n",
    "\n",
    "charts = check_charts(machine, operating_points)\n",
    "\n"
   ]
  },
  {
   "cell_type": "code",
   "execution_count": null,
   "metadata": {},
   "outputs": [],
   "source": [
    "from M1 import machine as m\n",
    "from M1.Nominal_24Nm_2060rpm import operating_point as nominal_op\n",
    "from M1.NominalPowerMaxSpeed_13Nm_3600rpm import operating_point as max_speed_op\n",
    "from M1.PeakTorqueBaseSpeed_36Nm_1380rpm import operating_point as max_torque_op\n",
    "\n",
    "\n",
    "selected_op_point = max_torque_op\n",
    "op_point = \"PeakTorqueBaseSpeed_36Nm_1380rpm\"\n",
    "chart = \"BackEmf.csv\"\n",
    "\n",
    "\n",
    "num_phases = m.winding_parameters[\"number_phases\"].to_base_units().magnitude\n",
    "num_pole_pairs = (m.rotor_parameters[\"number_poles\"]//2).to_base_units().magnitude\n"
   ]
  },
  {
   "cell_type": "code",
   "execution_count": null,
   "metadata": {},
   "outputs": [],
   "source": [
    "# apply the units \"pint[degrees]\" to the X columns and \"pint[V]\" to the Y columns\n",
    "df = pd.read_csv(os.path.join(machine, op_point, chart), index_col=None, header=[0,1])\n",
    "df.columns = pd.MultiIndex.from_tuples([(l1, l2, _units[(l1,l2)]) for l1,l2 in df.columns])\n",
    "df_emfs = df.pint.quantify(level=-1)"
   ]
  },
  {
   "cell_type": "code",
   "execution_count": null,
   "metadata": {},
   "outputs": [],
   "source": [
    "df_emfs.dtypes"
   ]
  },
  {
   "cell_type": "code",
   "execution_count": null,
   "metadata": {},
   "outputs": [],
   "source": [
    "def convert_to_electrical_degrees(ib_df, num_pole_pairs=5, new_name=\"Current\"):\n",
    "    ib_df['X'] = ib_df['X'].map(lambda x: x * num_pole_pairs) # convert to electrical degrees\n",
    "    ib_df.rename(columns={\"X\": \"Theta\", \"Y\": new_name}, inplace=True) # rename the columns\n",
    "    ib_df = ib_df.apply(lambda x: x.pint.to_base_units()) # convert to base units\n",
    "    return ib_df\n",
    "\n",
    "EMFa_df =  convert_to_electrical_degrees(df_emfs[\"EMFa\"].copy(),\n",
    "                                         num_pole_pairs=num_pole_pairs,\n",
    "                                         new_name=\"Voltage\")\n",
    "#drop nans and reset index\n",
    "EMFa_df.dropna(inplace=True)\n",
    "\n",
    "EMFb_df =  convert_to_electrical_degrees(df_emfs[\"EMFb\"].copy(),\n",
    "                                         num_pole_pairs=num_pole_pairs,\n",
    "                                         new_name=\"Voltage\")\n",
    "#drop nans and reset index\n",
    "EMFb_df.dropna(inplace=True)\n",
    "\n",
    "EMFc_df =  convert_to_electrical_degrees(df_emfs[\"EMFc\"].copy(),\n",
    "                                         num_pole_pairs=num_pole_pairs,\n",
    "                                         new_name=\"Voltage\")\n",
    "#drop nans and reset index\n",
    "EMFc_df.dropna(inplace=True)"
   ]
  },
  {
   "cell_type": "code",
   "execution_count": null,
   "metadata": {},
   "outputs": [],
   "source": [
    "def overlay_emf(df, num_phases, num_pole_pairs):\n",
    "    assert num_phases == 3\n",
    "    theta_m = np.hstack((np.deg2rad(df['EMFa']['X'] ),\n",
    "            np.deg2rad((df['EMFb']['X']-(360/num_pole_pairs/num_phases))),\n",
    "            np.deg2rad((df['EMFc']['X']+(360/num_pole_pairs/num_phases)))))\n",
    "\n",
    "\n",
    "    v_emf = np.hstack((df['EMFa']['Y'],\n",
    "                df['EMFb']['Y'],\n",
    "                df['EMFc']['Y']))\n",
    "\n",
    "    not_nan  = np.logical_not(np.logical_and(np.isnan(theta_m), np.isnan(v_emf)))\n",
    "    theta_m = theta_m[not_nan] * num_pole_pairs\n",
    "    v_emf = v_emf[not_nan]\n",
    "    sort_idx = np.argsort(theta_m)\n",
    "    return theta_m[sort_idx], v_emf[sort_idx]"
   ]
  },
  {
   "cell_type": "code",
   "execution_count": null,
   "metadata": {},
   "outputs": [],
   "source": [
    "# set the initial guess, coef[0] is the phase offset, the rest are the cosine coefficients\n",
    "coefs = np.array([np.nan,  np.nan, np.nan, np.nan,\n",
    "       -9.96330324e-02, -1.11853145e+00, 2.27614394e-01,  2.32197231e-01,\n",
    "        2.34067377e-01,  5.18779813e-01,  5.52624693e-02, 0, 0 ])\n",
    "# make odd coefficients, from 1 to 2*len(coefs)-1\n",
    "n_idx = np.arange(1, 2*len(coefs)-1, 2)"
   ]
  },
  {
   "cell_type": "code",
   "execution_count": null,
   "metadata": {},
   "outputs": [],
   "source": [
    "def predict(coefs, theta):\n",
    "    \"\"\"\n",
    "    Predict the EMF given the coefficients and the electrical angle theta\n",
    "    \"\"\"\n",
    "    n_idx = np.arange(1, 2 * len(coefs)-1, 2)\n",
    "    pred = np.matmul(coefs[1:], np.cos(np.outer(n_idx, coefs[0] + theta)))\n",
    "    return pred\n",
    "\n",
    "def loss(coefs, theta, v_emf):\n",
    "    pred = predict(coefs, theta)\n",
    "    return np.sum((v_emf - pred)**2)"
   ]
  },
  {
   "cell_type": "code",
   "execution_count": null,
   "metadata": {},
   "outputs": [],
   "source": [
    "#optimise the coefficients\n",
    "theta_m, v_emf = overlay_emf(df, num_phases, num_pole_pairs)\n",
    "peak_voltage = np.max(v_emf)\n",
    "#set bounds that the coefficients must be positive\n",
    "bounds = [(None, None) for _ in range(len(coefs))]\n",
    "bounds[0] = (0, 2*np.pi/num_pole_pairs)\n",
    "bounds[1] = (peak_voltage, peak_voltage * 1.5) # fundamental\n",
    "bounds[2] = (-0.2 * peak_voltage , 0) # 3rd harmonic\n",
    "bounds[3] = (-0.02 * peak_voltage , 0) # 5th harmonic\n",
    "bounds[4] = (None , None) # 7th harmonic\n",
    "bounds[5] = (None , None) # 9th harmonic\n",
    "bounds[6] = (None , None) # (0.01 * peak_voltage , 0.2 * peak_voltage) # 11th harmonic\n",
    "\n",
    "coefs[0:4] =np.mean(bounds[0:4], axis=1)\n",
    "coefs"
   ]
  },
  {
   "cell_type": "code",
   "execution_count": null,
   "metadata": {},
   "outputs": [],
   "source": [
    "theta_m, v_emf = overlay_emf(df, num_phases, num_pole_pairs)\n",
    "res = minimize(loss, coefs,\n",
    "               args=(theta_m, v_emf),\n",
    "               method='Nelder-Mead', tol=1e-6,\n",
    "               bounds=bounds,\n",
    "               options={'disp': True, \"maxiter\":9000})\n",
    "print(res.success)\n",
    "\n",
    "print(res.x)\n",
    "back_emf_fit = {\"phase_offset\": -res.x[0], \"coefs\": res.x[1:]}"
   ]
  },
  {
   "cell_type": "code",
   "execution_count": null,
   "metadata": {},
   "outputs": [],
   "source": [
    "phase_emf_a = back_emf_fit[\"phase_offset\"]\n",
    "phase_emf_b = back_emf_fit[\"phase_offset\"] +(2*np.pi  / num_phases)\n",
    "phase_emf_c = back_emf_fit[\"phase_offset\"] +2*(2*np.pi  / num_phases)\n"
   ]
  },
  {
   "cell_type": "markdown",
   "metadata": {},
   "source": [
    "## Back Emf \n",
    "As the back EMF refference data was sampled from a .png graph, the spacing of the data points is not even.\n",
    "To resample it to an even point sampling, or to a sampling that coresponds exactly to the simulated angluar steps, we could locally fit spline interpolants, or as we know the backemf contains only odd cosine harmonics, we can fit the phase, and the odd harmonics upto 23rd."
   ]
  },
  {
   "cell_type": "code",
   "execution_count": null,
   "metadata": {},
   "outputs": [],
   "source": [
    "fig, (ax_t, ax_w) = plt.subplots(2, 1, constrained_layout=True)\n",
    "la, = ax_t.plot(EMFa_df['Theta'], EMFa_df['Voltage'], '+', alpha=0.5)\n",
    "lb, = ax_t.plot(EMFb_df['Theta'], EMFb_df['Voltage'], '+', alpha=0.5)\n",
    "lc, = ax_t.plot(EMFc_df['Theta'], EMFc_df['Voltage'], '+', alpha=0.5)\n",
    "\n",
    "theta = np.linspace(0, 2*np.pi, 1000)\n",
    "\n",
    "ax_t.plot(theta, predict(res.x, theta), color=la.get_color())\n",
    "ax_t.plot(theta, predict(res.x, theta-(2*np.pi/num_phases)), color=lb.get_color())\n",
    "ax_t.plot(theta, predict(res.x, theta+(2*np.pi/num_phases)), color=lc.get_color())\n",
    "\n",
    "ax_t.plot(phase_emf_a, res.x[1], 'o', color=la.get_color())\n",
    "ax_t.plot(phase_emf_b, res.x[1], 'o', color=lb.get_color())\n",
    "ax_t.plot(phase_emf_c, res.x[1], 'o', color=lc.get_color())\n",
    "ax_t.set_xlabel('Theta mechanical (rad)')\n",
    "# set the y axis to be in volts using python pint integration\n",
    "ax_t.yaxis.set_units(q.V)\n",
    "\n",
    "ax_w.bar(n_idx, abs(res.x[1:]), color = ['r' if res.x[i] < 0 else 'b' for i in range(1, len(res.x))])\n",
    "ax_w.set_xlabel('Harmonic')\n",
    "ax_w.set_yscale('log')\n",
    "ax_w.set_xticks(n_idx)\n",
    "for i in range(1, len(res.x)):\n",
    "    ax_w.text(n_idx[i-1], abs(res.x[i])*0.5, f\"{res.x[i]:.2f}\", ha='center', va='top', bbox=dict(facecolor='white',\n",
    "                                                                                                alpha=0.5, edgecolor='gray'))"
   ]
  },
  {
   "cell_type": "code",
   "execution_count": null,
   "metadata": {},
   "outputs": [],
   "source": [
    "import yaml\n",
    "from tinarm import Job\n",
    "from tinarm import Machine\n",
    "from tinarm.api import JOB_STATUS, STATUS_JOB\n",
    "from tinarm import Api\n",
    "import time"
   ]
  },
  {
   "cell_type": "code",
   "execution_count": null,
   "metadata": {},
   "outputs": [],
   "source": [
    "simulation_parameters = {\n",
    "       \"samples_per_electrical_period\": 90 * q.count/q.turn,\n",
    "        \"timestep_intervals\": 90 * q.count,\n",
    "        \"active_length\": 65 * q.mm * 0.95}"
   ]
  },
  {
   "cell_type": "code",
   "execution_count": null,
   "metadata": {},
   "outputs": [],
   "source": [
    "with open(\"configurations.yaml\", \"r\") as f:\n",
    "    config = yaml.safe_load(f)"
   ]
  },
  {
   "cell_type": "code",
   "execution_count": null,
   "metadata": {},
   "outputs": [],
   "source": [
    "open_cct = selected_op_point.operating_point.copy()\n",
    "open_cct['q_axis_current_density'] = 0.0 * q.A/q.mm**2\n",
    "open_cct['d_axis_current_density'] = 0.0 * q.A/q.mm**2\n",
    "open_cct"
   ]
  },
  {
   "cell_type": "code",
   "execution_count": null,
   "metadata": {},
   "outputs": [],
   "source": [
    "api = Api(config[\"root_url\"], config[\"api_key\"], config[\"org_id\"])\n",
    "m1 = Machine(m.stator_parameters, m.rotor_parameters, m.winding_parameters)\n",
    "\n",
    "j1 = Job(m1, open_cct, simulation_parameters, title=f\"{machine} {op_point} Open CCT\")\n",
    "j1_result = api.create_job(j1)\n",
    "j1_result = api.update_job_status(j1.id, JOB_STATUS['QueuedForMeshing'])\n",
    "init_time = time.time()\n",
    "while STATUS_JOB[api.get_job(j1.id)['status']] != 'Complete':\n",
    "    print(\"{2:2.4} {1} status {0}\".format(STATUS_JOB[api.get_job(j1.id)['status']], j1.title, time.time()-init_time))\n",
    "    time.sleep(10)\n",
    "time.sleep(1)\n",
    "print(\"{2:2.4}s {1} status {0}\".format(STATUS_JOB[api.get_job(j1.id)['status']], j1.title, time.time()-init_time))"
   ]
  },
  {
   "cell_type": "code",
   "execution_count": null,
   "metadata": {},
   "outputs": [],
   "source": [
    "j1_result = api.get_job(j1.id)\n",
    "j1_result_data = [art for art in j1_result['artifacts'] if art['type']=='RESULT_DATA'][0]\n",
    "\n",
    "if j1_result_data['url'].startswith(\"http\"):\n",
    "    print(\"Result data available at\", j1_result_data['url'])\n",
    "    j1_df = pd.read_csv(j1_result_data['url'], header=[0, 1], index_col=[0, 1]).pint.quantify(level=-1)\n",
    "else:\n",
    "    print(\"Result data not available yet. Have you promoted the artifact?\")"
   ]
  },
  {
   "cell_type": "code",
   "execution_count": null,
   "metadata": {},
   "outputs": [],
   "source": [
    "#convert all the data in j1_df to base units\n",
    "j1_df = j1_df.pint.to_base_units()"
   ]
  },
  {
   "cell_type": "code",
   "execution_count": null,
   "metadata": {},
   "outputs": [],
   "source": [
    "theta_err = 0 #np.pi + np.deg2rad(4)\n",
    "\n",
    "angles = j1_df[\"angles\"].pint.magnitude\n",
    "\n",
    "fig, (ax_t, ax_w) = plt.subplots(2, 1, constrained_layout=True)\n",
    "la, = ax_t.plot(j1_df['angles'], j1_df['Phase_0'], label='Phase A')\n",
    "lb, = ax_t.plot(j1_df['angles'], j1_df['Phase_1'], label='Phase B')\n",
    "lc, = ax_t.plot(j1_df['angles'], j1_df['Phase_2'], label='Phase C')\n",
    "\n",
    "ax_t.plot(j1_df['angles'],\n",
    "          predict(res.x, angles+theta_err),\n",
    "          '--',\n",
    "          alpha=0.5,\n",
    "          color=la.get_color())\n",
    "ax_t.plot(j1_df['angles'],\n",
    "          predict(res.x, angles-(2*np.pi/num_phases)+theta_err),\n",
    "          '--', alpha=0.5,\n",
    "          color=lb.get_color())\n",
    "ax_t.plot(j1_df['angles'],\n",
    "          predict(res.x, angles+(2*np.pi/num_phases)+theta_err),\n",
    "          '--', alpha=0.5,\n",
    "          color=lc.get_color())\n",
    "          \n",
    "ax_t.set_xlabel('Theta electrical (rad)')\n",
    "ax_t.legend()\n",
    "err = np.sum(np.abs(j1_df['Phase_0'] - (q.V * predict(res.x, angles+theta_err))))\n",
    "print(f\"Error {err}\")\n",
    "\n",
    "# do an fft of the j1_df['Phase_0'] and compare to the coefficients\n",
    "from scipy.fft import fft\n",
    "# Number of sample points\n",
    "N = len(j1_df['Phase_0'])\n",
    "# sample spacing\n",
    "delta_theta = np.diff(j1_df['angles'])[0]\n",
    "\n",
    "yf = fft(j1_df['Phase_0'].values, n=N)\n",
    "ax_w.bar(x=range(1,24,2), height=np.abs(yf[1:24:2])/(N/2), color='b')\n",
    "ax_w.bar(n_idx, abs(res.x[1:]), color = 'r', alpha=0.5)\n",
    "ax_w.set_yscale('log')\n",
    "for i in range(1, len(res.x)):\n",
    "    diff = abs(yf[i*2-1]/(N/2)) / abs(res.x[i])\n",
    "    ax_w.text(n_idx[i-1], abs(yf[i*2-1]/(N/2))*0.5, f\"{diff:2.0%}\", ha='center', va='top', bbox=dict(facecolor='white',\n",
    "     \n",
    "                                                                                           alpha=0.5, edgecolor='gray'))"
   ]
  },
  {
   "cell_type": "code",
   "execution_count": null,
   "metadata": {},
   "outputs": [],
   "source": [
    "current_df = pd.read_csv(os.path.join(machine, op_point, \"CurrentAngle.csv\"),\n",
    "                         index_col=None, header=[0,1])\n",
    "                      \n",
    "current_df.columns = pd.MultiIndex.from_tuples([(l1, l2, _units[(l1,l2)]) for l1,l2 in current_df.columns])\n",
    "current_df = current_df.pint.quantify(level=-1)\n",
    "ib_df = current_df['Ib']\n"
   ]
  },
  {
   "cell_type": "code",
   "execution_count": null,
   "metadata": {},
   "outputs": [],
   "source": [
    "ib_df = convert_to_electrical_degrees(current_df['Ib'].copy(), new_name=\"Current\")\n",
    "ib_df.dropna(inplace=True)\n",
    "emfb_df = convert_to_electrical_degrees(current_df['EMFb'].copy(), new_name=\"EMF_B\")\n"
   ]
  },
  {
   "cell_type": "code",
   "execution_count": null,
   "metadata": {},
   "outputs": [],
   "source": [
    "emfb_df.dropna(inplace=True)"
   ]
  },
  {
   "cell_type": "code",
   "execution_count": null,
   "metadata": {},
   "outputs": [],
   "source": [
    "current_coef = np.array([1.5, 75]) #initial guess offset and amplitude\n",
    "bounds = [(None, None) for _ in range(len(current_coef))]\n",
    "\n",
    "def predict_current(coefs, theta):\n",
    "    \"\"\"Predict the current from the coefficients and the angle, \n",
    "    the coefficients are the phase offset and the amplitude of the cosine function\n",
    "    the angle is the electrical angle in radians\"\"\"\n",
    "    pred = coefs[1] * np.cos(coefs[0] - theta)\n",
    "    return pred\n",
    "\n",
    "def loss_current(coefs, theta, current):\n",
    "    current_b = predict_current(coefs, theta)\n",
    "    return np.sum((current - current_b)**2)\n",
    "\n",
    "res_current = minimize(loss_current, current_coef,\n",
    "                       args=(ib_df[\"Theta\"].pint.magnitude,\n",
    "                             ib_df[\"Current\"].pint.magnitude),\n",
    "                             method='Nelder-Mead',\n",
    "                             tol=1e-6,\n",
    "                             bounds=bounds,)\n",
    "print(res_current)\n",
    "\n",
    "ib_mag = res_current.x[1]\n",
    "phase_current_b = res_current.x[0]\n",
    "print(phase_current_b)"
   ]
  },
  {
   "cell_type": "code",
   "execution_count": null,
   "metadata": {},
   "outputs": [],
   "source": [
    "fig, (ax_t) = plt.subplots(1, 1, constrained_layout=True)\n",
    "\n",
    "l_emf_b, = ax_t.plot(current_df['EMFb']['X'].pint.to_base_units().pint.magnitude * num_pole_pairs,\n",
    "                     current_df['EMFb']['Y'],\n",
    "                     'x', alpha=0.5, color=lb.get_color())\n",
    "\n",
    "ax_right = ax_t.twinx()\n",
    "l_ib, =  ax_right.plot(current_df['Ib']['X'].pint.to_base_units().pint.magnitude * num_pole_pairs,\n",
    "                       current_df['Ib']['Y'], '+', alpha=0.5)\n",
    "\n",
    "ax_t.plot(j1_df['angles'].pint.to_base_units().pint.magnitude,\n",
    "          predict(res.x, j1_df['angles'].pint.magnitude-(2*np.pi/num_phases)),\n",
    "          '--',\n",
    "          color=lb.get_color())\n",
    "\n",
    "ax_right.plot(ib_df[\"Theta\"].pint.magnitude,\n",
    "          predict_current(res_current.x, ib_df[\"Theta\"].pint.magnitude),\n",
    "          color=l_ib.get_color())\n",
    "ax_right.set_ylabel('Current (A)')\n",
    "\n",
    "\n",
    "ax_right.plot(phase_current_b, ib_mag, 'o', color=l_ib.get_color())\n",
    "ax_t.plot(phase_emf_b , res.x[1], 'o', color=lb.get_color())\n",
    "\n",
    "ax_t.axvline(phase_emf_b , color=lb.get_color(), linestyle='--')\n",
    "ax_t.axvline(phase_current_b, color=l_ib.get_color(), linestyle='--')\n",
    "\n",
    "phase_difference = np.rad2deg((phase_current_b - phase_emf_b) )\n",
    "print(f\"Phase difference {phase_difference} degrees\")\n",
    "ax_t.text(phase_current_b, 0, f\"{phase_difference:.2f}°\", ha='center', va='top', bbox=dict(facecolor='white',\n",
    "                                                                                                alpha=0.5, edgecolor='gray'))   \n",
    "ax_t.set_xlabel('Theta electrical (rad)')\n",
    "#set markers in degrees on the top axis\n",
    "# add a x-axis spine on top\n",
    "ax_ttop = ax_t.secondary_xaxis('top')\n",
    "ax_ttop.set_xlabel('Theta electrical (rad)')\n",
    "tick_pos = [0, 60, 120, 180, 240, 300, 360]\n",
    "ax_ttop.set_xticks(np.deg2rad(tick_pos))\n",
    "ax_ttop.set_xticklabels(tick_pos)\n",
    "ax_ttop.set_xlabel('Theta electrical (deg)')"
   ]
  },
  {
   "cell_type": "code",
   "execution_count": null,
   "metadata": {},
   "outputs": [],
   "source": [
    "# Do the 2nd simulation\n",
    "simulation_parameters = {\n",
    "       \"samples_per_electrical_period\": 180 * q.count/q.turn,\n",
    "        \"timestep_intervals\": 270 * q.count,\n",
    "        \"active_length\": 65 * q.mm * 0.95}\n",
    "\n",
    "j2 = Job(m1, selected_op_point.operating_point, simulation_parameters, title=f\"{machine} {op_point} on load\")\n",
    "j2_result = api.create_job(j2)\n",
    "j2_result = api.update_job_status(j2.id, JOB_STATUS['QueuedForMeshing'])\n",
    "init_time = time.time()\n",
    "while STATUS_JOB[api.get_job(j2.id)['status']] != 'Complete':\n",
    "    print(\"{2:2.4} {1} status {0}\".format(STATUS_JOB[api.get_job(j2.id)['status']], j2.title, time.time()-init_time))\n",
    "    time.sleep(10)\n",
    "time.sleep(1)\n",
    "print(\"{2:2.4}s {1} status {0}\".format(STATUS_JOB[api.get_job(j2.id)['status']], j2.title, time.time()-init_time))\n"
   ]
  },
  {
   "cell_type": "code",
   "execution_count": null,
   "metadata": {},
   "outputs": [],
   "source": [
    "j2_result = api.get_job(j2.id)\n",
    "j2_result_data = [art for art in j2_result['artifacts'] if art['type']=='RESULT_DATA'][0]\n",
    "\n",
    "if j2_result_data['url'].startswith(\"http\"):\n",
    "    print(\"Result data available at\", j2_result_data['url'])\n",
    "    j2_df = pd.read_csv(j2_result_data['url'], header=[0, 1], index_col=[0, 1]).pint.quantify(level=-1)\n",
    "else:\n",
    "    print(\"Result data not available yet. Have you promoted the artifact?\")"
   ]
  },
  {
   "cell_type": "code",
   "execution_count": null,
   "metadata": {},
   "outputs": [],
   "source": []
  },
  {
   "cell_type": "code",
   "execution_count": null,
   "metadata": {},
   "outputs": [],
   "source": [
    "fig, (ax_t) = plt.subplots(1, 1, constrained_layout=True)\n",
    "\n",
    "reference_current = predict_current(res_current.x, j2_df[\"angles\"].pint.magnitude).astype('pint[A]')\n",
    "\n",
    "ax_t.plot(j2_df['angles'], j2_df['Slot_2_Current'], label='Slot 2, A', color=la.get_color())\n",
    "ax_t.plot(j2_df['angles'], j2_df['Slot_4_Current'], label='Slot 4, B', color=lb.get_color())\n",
    "ax_t.plot(j2_df['angles'], j2_df['Slot_7_Current'], label='Slot 7, C', color=lc.get_color())\n",
    "\n",
    "ax_t.plot(j2_df[\"angles\"],\n",
    "          reference_current,\n",
    "          color=lb.get_color(), linestyle='--', linewidth=3, alpha=0.5, label='Phase B')\n",
    "ax_t.set_ylabel('Current (A)')\n",
    "ax_t.legend()\n",
    "print(f\"Reference Peak Current {reference_current.max():2.5~P}\")\n",
    "print(f\"Simulated Peak Current {j2_df['Slot_4_Current'].max():2.5~P} \")\n",
    "print(f\"Relative Error {(reference_current.max()/j2_df['Slot_4_Current'].max()):2.5%}\")\n",
    "# print the phase difference between reference and slot_4\n",
    "# find the peak of the reference current\n",
    "ref_peak_idx = np.argmax(reference_current)\n",
    "ref_peak_angle = j2_df[\"angles\"].pint.magnitude[ref_peak_idx]\n",
    "\n",
    "sim_peak_idx = np.argmax(j2_df['Slot_4_Current'].pint.magnitude)\n",
    "sim_peak_angle = j2_df[\"angles\"].pint.magnitude[sim_peak_idx]\n",
    "\n",
    "phase_diff = (sim_peak_angle - ref_peak_angle) % (2*np.pi)\n",
    "\n",
    "ax_t.plot(ref_peak_angle, reference_current.max(), 'o', color=l_ib.get_color())\n",
    "ax_t.plot(sim_peak_angle, j2_df['Slot_4_Current'].max(), 'o', color=l_ib.get_color())\n",
    "\n",
    "ax_t.axvline(ref_peak_angle.values , color=lb.get_color(), linestyle='--')\n",
    "ax_t.axvline(sim_peak_angle.values , color=lb.get_color(), linestyle='--')\n",
    "print(f\"Phase difference {np.rad2deg(phase_diff.values[0])} degrees\")\n"
   ]
  },
  {
   "cell_type": "code",
   "execution_count": null,
   "metadata": {},
   "outputs": [],
   "source": [
    "torque_df = pd.read_csv(os.path.join(machine, op_point, 'Torque.csv'),\n",
    "                         index_col=None, header=[0,1])\n",
    "\n",
    "torque_df.columns = pd.MultiIndex.from_tuples([(l1, l2, _units[(l1,l2)]) for l1,l2 in torque_df.columns])\n",
    "torque_df = torque_df.pint.quantify(level=-1)\n",
    "\n",
    "torque_df =  convert_to_electrical_degrees(torque_df[\"Torque\"].copy(),\n",
    "                                         num_pole_pairs=num_pole_pairs,\n",
    "                                         new_name=\"Torque\")\n",
    "#drop nans and reset index\n",
    "torque_df.dropna(inplace=True)\n",
    "torque_df"
   ]
  },
  {
   "cell_type": "code",
   "execution_count": null,
   "metadata": {},
   "outputs": [],
   "source": [
    "\n",
    "fig, (ax_t) = plt.subplots(1, 1, constrained_layout=True)\n",
    "l_torque, = ax_t.plot(torque_df['Theta'], torque_df['Torque'], '-+', alpha=0.5, label='Reference Torque')\n",
    "l_sim_t, = ax_t.plot(j2_df['angles'], j2_df['Scaled Torque'], label='Simulated Torque') \n",
    "ax_t.set_xlabel('Theta electrical (rad)')\n",
    "ax_t.set_ylabel('Torque (N.m)')\n",
    "ax_t.legend()\n",
    "print(f\"Reference Average Torque {torque_df['Torque'].mean().to(q.N*q.m):2.5~P}\")\n",
    "print(f\"Simulated Average Torque {j2_df['Scaled Torque'].mean():2.5~P} \")\n",
    "print(f\"Relative Error {(torque_df['Torque'].mean() / j2_df['Scaled Torque'].mean()).to(q.percent):2.5~P}\")"
   ]
  },
  {
   "cell_type": "code",
   "execution_count": null,
   "metadata": {},
   "outputs": [],
   "source": [
    "voltage_df = pd.read_csv(os.path.join(machine, op_point, 'PhaseVoltage.csv'),\n",
    "                         index_col=None, header=[0,1])\n",
    "                         \n",
    "voltage_df.columns = pd.MultiIndex.from_tuples([(l1, l2, _units[(l1,l2)]) for l1,l2 in voltage_df.columns])\n",
    "voltage_df = voltage_df.pint.quantify(level=-1)\n",
    "\n",
    "va_df =  convert_to_electrical_degrees(voltage_df[\"Va\"].copy(),\n",
    "                                         num_pole_pairs=num_pole_pairs,\n",
    "                                         new_name=\"Phase A\")\n",
    "#drop nans and reset index\n",
    "va_df.dropna(inplace=True)\n",
    "\n",
    "vb_df =  convert_to_electrical_degrees(voltage_df[\"Vb\"].copy(),\n",
    "                                         num_pole_pairs=num_pole_pairs,\n",
    "                                         new_name=\"Phase B\")\n",
    "#drop nans and reset index\n",
    "vb_df.dropna(inplace=True)\n",
    "\n",
    "vc_df =  convert_to_electrical_degrees(voltage_df[\"Vc\"].copy(),\n",
    "                                         num_pole_pairs=num_pole_pairs,\n",
    "                                         new_name=\"Phase C\")\n",
    "#drop nans and reset index\n",
    "vc_df.dropna(inplace=True)"
   ]
  },
  {
   "cell_type": "code",
   "execution_count": null,
   "metadata": {},
   "outputs": [],
   "source": [
    "fig, (ax_t) = plt.subplots(1, 1, constrained_layout=True)\n",
    "\n",
    "ax_t.plot(va_df['Theta'], va_df['Phase A'], label='Phase A', color=la.get_color())\n",
    "ax_t.plot(vb_df['Theta'], vb_df['Phase B'], label='Phase B', color=lb.get_color())\n",
    "ax_t.plot(vc_df['Theta'], vc_df['Phase C'], label='Phase C', color=lc.get_color())\n",
    "\n",
    "ax_t.plot(j2_df['angles'], j2_df['Phase_0'], label='Phase A', color=la.get_color(), linestyle='--')\n",
    "ax_t.plot(j2_df['angles'], j2_df['Phase_1'], label='Phase B', color=lb.get_color(), linestyle='--')\n",
    "ax_t.plot(j2_df['angles'], j2_df['Phase_2'], label='Phase C', color=lc.get_color(), linestyle='--')"
   ]
  },
  {
   "cell_type": "code",
   "execution_count": null,
   "metadata": {},
   "outputs": [],
   "source": [
    "\n",
    "ironloss_df\n"
   ]
  },
  {
   "cell_type": "code",
   "execution_count": null,
   "metadata": {},
   "outputs": [],
   "source": [
    "ironloss_df = pd.read_csv(os.path.join(machine, op_point, 'IronLoss.csv'),\n",
    "                         index_col=None, header=[0,1])\n",
    "\n",
    "ironloss_df.columns = pd.MultiIndex.from_tuples([(l1, l2, _units[(l1,l2)]) for l1,l2 in ironloss_df.columns])\n",
    "ironloss_df = ironloss_df.pint.quantify(level=-1)\n",
    "\n",
    "ironloss_df =  convert_to_electrical_degrees(ironloss_df[\"Total\"].copy(),\n",
    "                                         num_pole_pairs=num_pole_pairs,\n",
    "                                         new_name=\"TotalFeLoss\")\n",
    "#drop nans and reset index\n",
    "ironloss_df.dropna(inplace=True)\n",
    "ironloss_df"
   ]
  },
  {
   "cell_type": "code",
   "execution_count": null,
   "metadata": {},
   "outputs": [],
   "source": [
    "fig, (ax_t) = plt.subplots(1, 1, constrained_layout=True)\n",
    "ax_t.plot(j2_df[\"angles\"],j2_df[\"Fourier Loss Total\"] * 65*q.mm * 2)\n",
    "ax_t.plot(ironloss_df['Theta'], ironloss_df['TotalFeLoss'], '-+', alpha=0.5, label='Reference Iron Loss')\n",
    "ax_t.yaxis.set_units(q.W)"
   ]
  },
  {
   "cell_type": "code",
   "execution_count": null,
   "metadata": {},
   "outputs": [],
   "source": []
  }
 ],
 "metadata": {
  "kernelspec": {
   "display_name": "ltc_test_py311",
   "language": "python",
   "name": "python3"
  },
  "language_info": {
   "codemirror_mode": {
    "name": "ipython",
    "version": 3
   },
   "file_extension": ".py",
   "mimetype": "text/x-python",
   "name": "python",
   "nbconvert_exporter": "python",
   "pygments_lexer": "ipython3",
   "version": "3.11.3"
  }
 },
 "nbformat": 4,
 "nbformat_minor": 2
}
